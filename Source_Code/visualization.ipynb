{
 "metadata": {
  "language_info": {
   "codemirror_mode": {
    "name": "ipython",
    "version": 3
   },
   "file_extension": ".py",
   "mimetype": "text/x-python",
   "name": "python",
   "nbconvert_exporter": "python",
   "pygments_lexer": "ipython3",
   "version": "3.8.5-final"
  },
  "orig_nbformat": 2,
  "kernelspec": {
   "name": "python36964bitbb266a4b60a840e796710ca9f145cf8c",
   "display_name": "Python 3.6.9 64-bit",
   "language": "python"
  }
 },
 "nbformat": 4,
 "nbformat_minor": 2,
 "cells": [
  {
   "cell_type": "code",
   "execution_count": 31,
   "metadata": {},
   "outputs": [
    {
     "output_type": "display_data",
     "data": {
      "text/html": "\n    <div class=\"bk-root\">\n        <a href=\"https://bokeh.org\" target=\"_blank\" class=\"bk-logo bk-logo-small bk-logo-notebook\"></a>\n        <span id=\"1002\">Loading BokehJS ...</span>\n    </div>"
     },
     "metadata": {}
    },
    {
     "output_type": "display_data",
     "data": {
      "application/javascript": "\n(function(root) {\n  function now() {\n    return new Date();\n  }\n\n  var force = true;\n\n  if (typeof root._bokeh_onload_callbacks === \"undefined\" || force === true) {\n    root._bokeh_onload_callbacks = [];\n    root._bokeh_is_loading = undefined;\n  }\n\n  var JS_MIME_TYPE = 'application/javascript';\n  var HTML_MIME_TYPE = 'text/html';\n  var EXEC_MIME_TYPE = 'application/vnd.bokehjs_exec.v0+json';\n  var CLASS_NAME = 'output_bokeh rendered_html';\n\n  /**\n   * Render data to the DOM node\n   */\n  function render(props, node) {\n    var script = document.createElement(\"script\");\n    node.appendChild(script);\n  }\n\n  /**\n   * Handle when an output is cleared or removed\n   */\n  function handleClearOutput(event, handle) {\n    var cell = handle.cell;\n\n    var id = cell.output_area._bokeh_element_id;\n    var server_id = cell.output_area._bokeh_server_id;\n    // Clean up Bokeh references\n    if (id != null && id in Bokeh.index) {\n      Bokeh.index[id].model.document.clear();\n      delete Bokeh.index[id];\n    }\n\n    if (server_id !== undefined) {\n      // Clean up Bokeh references\n      var cmd = \"from bokeh.io.state import curstate; print(curstate().uuid_to_server['\" + server_id + \"'].get_sessions()[0].document.roots[0]._id)\";\n      cell.notebook.kernel.execute(cmd, {\n        iopub: {\n          output: function(msg) {\n            var id = msg.content.text.trim();\n            if (id in Bokeh.index) {\n              Bokeh.index[id].model.document.clear();\n              delete Bokeh.index[id];\n            }\n          }\n        }\n      });\n      // Destroy server and session\n      var cmd = \"import bokeh.io.notebook as ion; ion.destroy_server('\" + server_id + \"')\";\n      cell.notebook.kernel.execute(cmd);\n    }\n  }\n\n  /**\n   * Handle when a new output is added\n   */\n  function handleAddOutput(event, handle) {\n    var output_area = handle.output_area;\n    var output = handle.output;\n\n    // limit handleAddOutput to display_data with EXEC_MIME_TYPE content only\n    if ((output.output_type != \"display_data\") || (!output.data.hasOwnProperty(EXEC_MIME_TYPE))) {\n      return\n    }\n\n    var toinsert = output_area.element.find(\".\" + CLASS_NAME.split(' ')[0]);\n\n    if (output.metadata[EXEC_MIME_TYPE][\"id\"] !== undefined) {\n      toinsert[toinsert.length - 1].firstChild.textContent = output.data[JS_MIME_TYPE];\n      // store reference to embed id on output_area\n      output_area._bokeh_element_id = output.metadata[EXEC_MIME_TYPE][\"id\"];\n    }\n    if (output.metadata[EXEC_MIME_TYPE][\"server_id\"] !== undefined) {\n      var bk_div = document.createElement(\"div\");\n      bk_div.innerHTML = output.data[HTML_MIME_TYPE];\n      var script_attrs = bk_div.children[0].attributes;\n      for (var i = 0; i < script_attrs.length; i++) {\n        toinsert[toinsert.length - 1].firstChild.setAttribute(script_attrs[i].name, script_attrs[i].value);\n        toinsert[toinsert.length - 1].firstChild.textContent = bk_div.children[0].textContent\n      }\n      // store reference to server id on output_area\n      output_area._bokeh_server_id = output.metadata[EXEC_MIME_TYPE][\"server_id\"];\n    }\n  }\n\n  function register_renderer(events, OutputArea) {\n\n    function append_mime(data, metadata, element) {\n      // create a DOM node to render to\n      var toinsert = this.create_output_subarea(\n        metadata,\n        CLASS_NAME,\n        EXEC_MIME_TYPE\n      );\n      this.keyboard_manager.register_events(toinsert);\n      // Render to node\n      var props = {data: data, metadata: metadata[EXEC_MIME_TYPE]};\n      render(props, toinsert[toinsert.length - 1]);\n      element.append(toinsert);\n      return toinsert\n    }\n\n    /* Handle when an output is cleared or removed */\n    events.on('clear_output.CodeCell', handleClearOutput);\n    events.on('delete.Cell', handleClearOutput);\n\n    /* Handle when a new output is added */\n    events.on('output_added.OutputArea', handleAddOutput);\n\n    /**\n     * Register the mime type and append_mime function with output_area\n     */\n    OutputArea.prototype.register_mime_type(EXEC_MIME_TYPE, append_mime, {\n      /* Is output safe? */\n      safe: true,\n      /* Index of renderer in `output_area.display_order` */\n      index: 0\n    });\n  }\n\n  // register the mime type if in Jupyter Notebook environment and previously unregistered\n  if (root.Jupyter !== undefined) {\n    var events = require('base/js/events');\n    var OutputArea = require('notebook/js/outputarea').OutputArea;\n\n    if (OutputArea.prototype.mime_types().indexOf(EXEC_MIME_TYPE) == -1) {\n      register_renderer(events, OutputArea);\n    }\n  }\n\n  \n  if (typeof (root._bokeh_timeout) === \"undefined\" || force === true) {\n    root._bokeh_timeout = Date.now() + 5000;\n    root._bokeh_failed_load = false;\n  }\n\n  var NB_LOAD_WARNING = {'data': {'text/html':\n     \"<div style='background-color: #fdd'>\\n\"+\n     \"<p>\\n\"+\n     \"BokehJS does not appear to have successfully loaded. If loading BokehJS from CDN, this \\n\"+\n     \"may be due to a slow or bad network connection. Possible fixes:\\n\"+\n     \"</p>\\n\"+\n     \"<ul>\\n\"+\n     \"<li>re-rerun `output_notebook()` to attempt to load from CDN again, or</li>\\n\"+\n     \"<li>use INLINE resources instead, as so:</li>\\n\"+\n     \"</ul>\\n\"+\n     \"<code>\\n\"+\n     \"from bokeh.resources import INLINE\\n\"+\n     \"output_notebook(resources=INLINE)\\n\"+\n     \"</code>\\n\"+\n     \"</div>\"}};\n\n  function display_loaded() {\n    var el = document.getElementById(\"1002\");\n    if (el != null) {\n      el.textContent = \"BokehJS is loading...\";\n    }\n    if (root.Bokeh !== undefined) {\n      if (el != null) {\n        el.textContent = \"BokehJS \" + root.Bokeh.version + \" successfully loaded.\";\n      }\n    } else if (Date.now() < root._bokeh_timeout) {\n      setTimeout(display_loaded, 100)\n    }\n  }\n\n\n  function run_callbacks() {\n    try {\n      root._bokeh_onload_callbacks.forEach(function(callback) {\n        if (callback != null)\n          callback();\n      });\n    } finally {\n      delete root._bokeh_onload_callbacks\n    }\n    console.debug(\"Bokeh: all callbacks have finished\");\n  }\n\n  function load_libs(css_urls, js_urls, callback) {\n    if (css_urls == null) css_urls = [];\n    if (js_urls == null) js_urls = [];\n\n    root._bokeh_onload_callbacks.push(callback);\n    if (root._bokeh_is_loading > 0) {\n      console.debug(\"Bokeh: BokehJS is being loaded, scheduling callback at\", now());\n      return null;\n    }\n    if (js_urls == null || js_urls.length === 0) {\n      run_callbacks();\n      return null;\n    }\n    console.debug(\"Bokeh: BokehJS not loaded, scheduling load and callback at\", now());\n    root._bokeh_is_loading = css_urls.length + js_urls.length;\n\n    function on_load() {\n      root._bokeh_is_loading--;\n      if (root._bokeh_is_loading === 0) {\n        console.debug(\"Bokeh: all BokehJS libraries/stylesheets loaded\");\n        run_callbacks()\n      }\n    }\n\n    function on_error() {\n      console.error(\"failed to load \" + url);\n    }\n\n    for (var i = 0; i < css_urls.length; i++) {\n      var url = css_urls[i];\n      const element = document.createElement(\"link\");\n      element.onload = on_load;\n      element.onerror = on_error;\n      element.rel = \"stylesheet\";\n      element.type = \"text/css\";\n      element.href = url;\n      console.debug(\"Bokeh: injecting link tag for BokehJS stylesheet: \", url);\n      document.body.appendChild(element);\n    }\n\n    const hashes = {\"https://cdn.bokeh.org/bokeh/release/bokeh-2.2.3.min.js\": \"T2yuo9Oe71Cz/I4X9Ac5+gpEa5a8PpJCDlqKYO0CfAuEszu1JrXLl8YugMqYe3sM\", \"https://cdn.bokeh.org/bokeh/release/bokeh-widgets-2.2.3.min.js\": \"98GDGJ0kOMCUMUePhksaQ/GYgB3+NH9h996V88sh3aOiUNX3N+fLXAtry6xctSZ6\", \"https://cdn.bokeh.org/bokeh/release/bokeh-tables-2.2.3.min.js\": \"89bArO+nlbP3sgakeHjCo1JYxYR5wufVgA3IbUvDY+K7w4zyxJqssu7wVnfeKCq8\"};\n\n    for (var i = 0; i < js_urls.length; i++) {\n      var url = js_urls[i];\n      var element = document.createElement('script');\n      element.onload = on_load;\n      element.onerror = on_error;\n      element.async = false;\n      element.src = url;\n      if (url in hashes) {\n        element.crossOrigin = \"anonymous\";\n        element.integrity = \"sha384-\" + hashes[url];\n      }\n      console.debug(\"Bokeh: injecting script tag for BokehJS library: \", url);\n      document.head.appendChild(element);\n    }\n  };\n\n  function inject_raw_css(css) {\n    const element = document.createElement(\"style\");\n    element.appendChild(document.createTextNode(css));\n    document.body.appendChild(element);\n  }\n\n  \n  var js_urls = [\"https://cdn.bokeh.org/bokeh/release/bokeh-2.2.3.min.js\", \"https://cdn.bokeh.org/bokeh/release/bokeh-widgets-2.2.3.min.js\", \"https://cdn.bokeh.org/bokeh/release/bokeh-tables-2.2.3.min.js\"];\n  var css_urls = [];\n  \n\n  var inline_js = [\n    function(Bokeh) {\n      Bokeh.set_log_level(\"info\");\n    },\n    function(Bokeh) {\n    \n    \n    }\n  ];\n\n  function run_inline_js() {\n    \n    if (root.Bokeh !== undefined || force === true) {\n      \n    for (var i = 0; i < inline_js.length; i++) {\n      inline_js[i].call(root, root.Bokeh);\n    }\n    if (force === true) {\n        display_loaded();\n      }} else if (Date.now() < root._bokeh_timeout) {\n      setTimeout(run_inline_js, 100);\n    } else if (!root._bokeh_failed_load) {\n      console.log(\"Bokeh: BokehJS failed to load within specified timeout.\");\n      root._bokeh_failed_load = true;\n    } else if (force !== true) {\n      var cell = $(document.getElementById(\"1002\")).parents('.cell').data().cell;\n      cell.output_area.append_execute_result(NB_LOAD_WARNING)\n    }\n\n  }\n\n  if (root._bokeh_is_loading === 0) {\n    console.debug(\"Bokeh: BokehJS loaded, going straight to plotting\");\n    run_inline_js();\n  } else {\n    load_libs(css_urls, js_urls, function() {\n      console.debug(\"Bokeh: BokehJS plotting callback run at\", now());\n      run_inline_js();\n    });\n  }\n}(window));",
      "application/vnd.bokehjs_load.v0+json": "\n(function(root) {\n  function now() {\n    return new Date();\n  }\n\n  var force = true;\n\n  if (typeof root._bokeh_onload_callbacks === \"undefined\" || force === true) {\n    root._bokeh_onload_callbacks = [];\n    root._bokeh_is_loading = undefined;\n  }\n\n  \n\n  \n  if (typeof (root._bokeh_timeout) === \"undefined\" || force === true) {\n    root._bokeh_timeout = Date.now() + 5000;\n    root._bokeh_failed_load = false;\n  }\n\n  var NB_LOAD_WARNING = {'data': {'text/html':\n     \"<div style='background-color: #fdd'>\\n\"+\n     \"<p>\\n\"+\n     \"BokehJS does not appear to have successfully loaded. If loading BokehJS from CDN, this \\n\"+\n     \"may be due to a slow or bad network connection. Possible fixes:\\n\"+\n     \"</p>\\n\"+\n     \"<ul>\\n\"+\n     \"<li>re-rerun `output_notebook()` to attempt to load from CDN again, or</li>\\n\"+\n     \"<li>use INLINE resources instead, as so:</li>\\n\"+\n     \"</ul>\\n\"+\n     \"<code>\\n\"+\n     \"from bokeh.resources import INLINE\\n\"+\n     \"output_notebook(resources=INLINE)\\n\"+\n     \"</code>\\n\"+\n     \"</div>\"}};\n\n  function display_loaded() {\n    var el = document.getElementById(\"1002\");\n    if (el != null) {\n      el.textContent = \"BokehJS is loading...\";\n    }\n    if (root.Bokeh !== undefined) {\n      if (el != null) {\n        el.textContent = \"BokehJS \" + root.Bokeh.version + \" successfully loaded.\";\n      }\n    } else if (Date.now() < root._bokeh_timeout) {\n      setTimeout(display_loaded, 100)\n    }\n  }\n\n\n  function run_callbacks() {\n    try {\n      root._bokeh_onload_callbacks.forEach(function(callback) {\n        if (callback != null)\n          callback();\n      });\n    } finally {\n      delete root._bokeh_onload_callbacks\n    }\n    console.debug(\"Bokeh: all callbacks have finished\");\n  }\n\n  function load_libs(css_urls, js_urls, callback) {\n    if (css_urls == null) css_urls = [];\n    if (js_urls == null) js_urls = [];\n\n    root._bokeh_onload_callbacks.push(callback);\n    if (root._bokeh_is_loading > 0) {\n      console.debug(\"Bokeh: BokehJS is being loaded, scheduling callback at\", now());\n      return null;\n    }\n    if (js_urls == null || js_urls.length === 0) {\n      run_callbacks();\n      return null;\n    }\n    console.debug(\"Bokeh: BokehJS not loaded, scheduling load and callback at\", now());\n    root._bokeh_is_loading = css_urls.length + js_urls.length;\n\n    function on_load() {\n      root._bokeh_is_loading--;\n      if (root._bokeh_is_loading === 0) {\n        console.debug(\"Bokeh: all BokehJS libraries/stylesheets loaded\");\n        run_callbacks()\n      }\n    }\n\n    function on_error() {\n      console.error(\"failed to load \" + url);\n    }\n\n    for (var i = 0; i < css_urls.length; i++) {\n      var url = css_urls[i];\n      const element = document.createElement(\"link\");\n      element.onload = on_load;\n      element.onerror = on_error;\n      element.rel = \"stylesheet\";\n      element.type = \"text/css\";\n      element.href = url;\n      console.debug(\"Bokeh: injecting link tag for BokehJS stylesheet: \", url);\n      document.body.appendChild(element);\n    }\n\n    const hashes = {\"https://cdn.bokeh.org/bokeh/release/bokeh-2.2.3.min.js\": \"T2yuo9Oe71Cz/I4X9Ac5+gpEa5a8PpJCDlqKYO0CfAuEszu1JrXLl8YugMqYe3sM\", \"https://cdn.bokeh.org/bokeh/release/bokeh-widgets-2.2.3.min.js\": \"98GDGJ0kOMCUMUePhksaQ/GYgB3+NH9h996V88sh3aOiUNX3N+fLXAtry6xctSZ6\", \"https://cdn.bokeh.org/bokeh/release/bokeh-tables-2.2.3.min.js\": \"89bArO+nlbP3sgakeHjCo1JYxYR5wufVgA3IbUvDY+K7w4zyxJqssu7wVnfeKCq8\"};\n\n    for (var i = 0; i < js_urls.length; i++) {\n      var url = js_urls[i];\n      var element = document.createElement('script');\n      element.onload = on_load;\n      element.onerror = on_error;\n      element.async = false;\n      element.src = url;\n      if (url in hashes) {\n        element.crossOrigin = \"anonymous\";\n        element.integrity = \"sha384-\" + hashes[url];\n      }\n      console.debug(\"Bokeh: injecting script tag for BokehJS library: \", url);\n      document.head.appendChild(element);\n    }\n  };\n\n  function inject_raw_css(css) {\n    const element = document.createElement(\"style\");\n    element.appendChild(document.createTextNode(css));\n    document.body.appendChild(element);\n  }\n\n  \n  var js_urls = [\"https://cdn.bokeh.org/bokeh/release/bokeh-2.2.3.min.js\", \"https://cdn.bokeh.org/bokeh/release/bokeh-widgets-2.2.3.min.js\", \"https://cdn.bokeh.org/bokeh/release/bokeh-tables-2.2.3.min.js\"];\n  var css_urls = [];\n  \n\n  var inline_js = [\n    function(Bokeh) {\n      Bokeh.set_log_level(\"info\");\n    },\n    function(Bokeh) {\n    \n    \n    }\n  ];\n\n  function run_inline_js() {\n    \n    if (root.Bokeh !== undefined || force === true) {\n      \n    for (var i = 0; i < inline_js.length; i++) {\n      inline_js[i].call(root, root.Bokeh);\n    }\n    if (force === true) {\n        display_loaded();\n      }} else if (Date.now() < root._bokeh_timeout) {\n      setTimeout(run_inline_js, 100);\n    } else if (!root._bokeh_failed_load) {\n      console.log(\"Bokeh: BokehJS failed to load within specified timeout.\");\n      root._bokeh_failed_load = true;\n    } else if (force !== true) {\n      var cell = $(document.getElementById(\"1002\")).parents('.cell').data().cell;\n      cell.output_area.append_execute_result(NB_LOAD_WARNING)\n    }\n\n  }\n\n  if (root._bokeh_is_loading === 0) {\n    console.debug(\"Bokeh: BokehJS loaded, going straight to plotting\");\n    run_inline_js();\n  } else {\n    load_libs(css_urls, js_urls, function() {\n      console.debug(\"Bokeh: BokehJS plotting callback run at\", now());\n      run_inline_js();\n    });\n  }\n}(window));"
     },
     "metadata": {}
    }
   ],
   "source": [
    "import pandas as pd\n",
    "import numpy as np\n",
    "import matplotlib.pyplot as plt\n",
    "import seaborn as sns\n",
    "import plotly.express as px\n",
    "\n",
    "from bokeh.io import output_notebook, show\n",
    "from bokeh.plotting import figure\n",
    "\n",
    "output_notebook()"
   ]
  },
  {
   "cell_type": "code",
   "execution_count": 3,
   "metadata": {},
   "outputs": [
    {
     "output_type": "execute_result",
     "data": {
      "text/plain": [
       "   Unnamed: 0     dateRep  day  month  year  cases  deaths  \\\n",
       "0       26507  2020-12-04    4     12  2020  13922     358   \n",
       "1       26508  2020-12-03    3     12  2020  13621     362   \n",
       "\n",
       "  countriesAndTerritories geoId countryterritoryCode  popData2019  \\\n",
       "0                    Iran    IR                  IRN   82913893.0   \n",
       "1                    Iran    IR                  IRN   82913893.0   \n",
       "\n",
       "  continentExp         CNC  \n",
       "0         Asia  243.143812  \n",
       "1         Asia  226.352898  "
      ],
      "text/html": "<div>\n<style scoped>\n    .dataframe tbody tr th:only-of-type {\n        vertical-align: middle;\n    }\n\n    .dataframe tbody tr th {\n        vertical-align: top;\n    }\n\n    .dataframe thead th {\n        text-align: right;\n    }\n</style>\n<table border=\"1\" class=\"dataframe\">\n  <thead>\n    <tr style=\"text-align: right;\">\n      <th></th>\n      <th>Unnamed: 0</th>\n      <th>dateRep</th>\n      <th>day</th>\n      <th>month</th>\n      <th>year</th>\n      <th>cases</th>\n      <th>deaths</th>\n      <th>countriesAndTerritories</th>\n      <th>geoId</th>\n      <th>countryterritoryCode</th>\n      <th>popData2019</th>\n      <th>continentExp</th>\n      <th>CNC</th>\n    </tr>\n  </thead>\n  <tbody>\n    <tr>\n      <th>0</th>\n      <td>26507</td>\n      <td>2020-12-04</td>\n      <td>4</td>\n      <td>12</td>\n      <td>2020</td>\n      <td>13922</td>\n      <td>358</td>\n      <td>Iran</td>\n      <td>IR</td>\n      <td>IRN</td>\n      <td>82913893.0</td>\n      <td>Asia</td>\n      <td>243.143812</td>\n    </tr>\n    <tr>\n      <th>1</th>\n      <td>26508</td>\n      <td>2020-12-03</td>\n      <td>3</td>\n      <td>12</td>\n      <td>2020</td>\n      <td>13621</td>\n      <td>362</td>\n      <td>Iran</td>\n      <td>IR</td>\n      <td>IRN</td>\n      <td>82913893.0</td>\n      <td>Asia</td>\n      <td>226.352898</td>\n    </tr>\n  </tbody>\n</table>\n</div>"
     },
     "metadata": {},
     "execution_count": 3
    }
   ],
   "source": [
    "df = pd.read_excel('COVID-19-geographic-disbtribution-worldwide.xlsx')\n",
    "df_ir = pd.read_csv('Iran_COVID.csv')\n",
    "df_ir.head(2)"
   ]
  },
  {
   "source": [
    "# Interactivity\n",
    "# 1) matplotlib imgae, 2d, most popular"
   ],
   "cell_type": "markdown",
   "metadata": {}
  },
  {
   "cell_type": "code",
   "execution_count": 8,
   "metadata": {},
   "outputs": [
    {
     "output_type": "stream",
     "name": "stdout",
     "text": [
      "<class 'pandas.core.frame.DataFrame'>\nRangeIndex: 340 entries, 0 to 339\nData columns (total 13 columns):\n #   Column                   Non-Null Count  Dtype         \n---  ------                   --------------  -----         \n 0   Unnamed: 0               340 non-null    int64         \n 1   dateRep                  340 non-null    datetime64[ns]\n 2   day                      340 non-null    int64         \n 3   month                    340 non-null    int64         \n 4   year                     340 non-null    int64         \n 5   cases                    340 non-null    int64         \n 6   deaths                   340 non-null    int64         \n 7   countriesAndTerritories  340 non-null    object        \n 8   geoId                    340 non-null    object        \n 9   countryterritoryCode     340 non-null    object        \n 10  popData2019              340 non-null    float64       \n 11  continentExp             340 non-null    object        \n 12  CNC                      327 non-null    float64       \ndtypes: datetime64[ns](1), float64(2), int64(6), object(4)\nmemory usage: 34.7+ KB\n"
     ]
    }
   ],
   "source": [
    "df_ir.info()\n",
    "df_ir.dateRep = pd.to_datetime(df_ir.dateRep)\n",
    "df.dateRep = pd.to_datetime(df.dateRep)\n"
   ]
  },
  {
   "cell_type": "code",
   "execution_count": 11,
   "metadata": {},
   "outputs": [
    {
     "output_type": "execute_result",
     "data": {
      "text/plain": [
       "[<matplotlib.lines.Line2D at 0x7f31b6481a60>]"
      ]
     },
     "metadata": {},
     "execution_count": 11
    },
    {
     "output_type": "display_data",
     "data": {
      "text/plain": "<Figure size 432x288 with 1 Axes>",
      "image/svg+xml": "<?xml version=\"1.0\" encoding=\"utf-8\" standalone=\"no\"?>\n<!DOCTYPE svg PUBLIC \"-//W3C//DTD SVG 1.1//EN\"\n  \"http://www.w3.org/Graphics/SVG/1.1/DTD/svg11.dtd\">\n<!-- Created with matplotlib (https://matplotlib.org/) -->\n<svg height=\"251.748129pt\" version=\"1.1\" viewBox=\"0 0 381.65 251.748129\" width=\"381.65pt\" xmlns=\"http://www.w3.org/2000/svg\" xmlns:xlink=\"http://www.w3.org/1999/xlink\">\n <metadata>\n  <rdf:RDF xmlns:cc=\"http://creativecommons.org/ns#\" xmlns:dc=\"http://purl.org/dc/elements/1.1/\" xmlns:rdf=\"http://www.w3.org/1999/02/22-rdf-syntax-ns#\">\n   <cc:Work>\n    <dc:type rdf:resource=\"http://purl.org/dc/dcmitype/StillImage\"/>\n    <dc:date>2020-12-26T12:05:33.794014</dc:date>\n    <dc:format>image/svg+xml</dc:format>\n    <dc:creator>\n     <cc:Agent>\n      <dc:title>Matplotlib v3.3.2, https://matplotlib.org/</dc:title>\n     </cc:Agent>\n    </dc:creator>\n   </cc:Work>\n  </rdf:RDF>\n </metadata>\n <defs>\n  <style type=\"text/css\">*{stroke-linecap:butt;stroke-linejoin:round;}</style>\n </defs>\n <g id=\"figure_1\">\n  <g id=\"patch_1\">\n   <path d=\"M -0 251.748129 \nL 381.65 251.748129 \nL 381.65 0 \nL -0 0 \nz\n\" style=\"fill:none;\"/>\n  </g>\n  <g id=\"axes_1\">\n   <g id=\"patch_2\">\n    <path d=\"M 39.65 227.870004 \nL 374.45 227.870004 \nL 374.45 10.430004 \nL 39.65 10.430004 \nz\n\" style=\"fill:#ffffff;\"/>\n   </g>\n   <g id=\"matplotlib.axis_1\">\n    <g id=\"xtick_1\">\n     <g id=\"line2d_1\">\n      <defs>\n       <path d=\"M 0 0 \nL 0 3.5 \n\" id=\"m0a15e701e3\" style=\"stroke:#000000;stroke-width:0.8;\"/>\n      </defs>\n      <g>\n       <use style=\"stroke:#000000;stroke-width:0.8;\" x=\"55.76601\" xlink:href=\"#m0a15e701e3\" y=\"227.870004\"/>\n      </g>\n     </g>\n     <g id=\"text_1\">\n      <!-- 2020-01 -->\n      <g transform=\"translate(34.874603 242.468442)scale(0.1 -0.1)\">\n       <defs>\n        <path d=\"M 19.1875 8.296875 \nL 53.609375 8.296875 \nL 53.609375 0 \nL 7.328125 0 \nL 7.328125 8.296875 \nQ 12.9375 14.109375 22.625 23.890625 \nQ 32.328125 33.6875 34.8125 36.53125 \nQ 39.546875 41.84375 41.421875 45.53125 \nQ 43.3125 49.21875 43.3125 52.78125 \nQ 43.3125 58.59375 39.234375 62.25 \nQ 35.15625 65.921875 28.609375 65.921875 \nQ 23.96875 65.921875 18.8125 64.3125 \nQ 13.671875 62.703125 7.8125 59.421875 \nL 7.8125 69.390625 \nQ 13.765625 71.78125 18.9375 73 \nQ 24.125 74.21875 28.421875 74.21875 \nQ 39.75 74.21875 46.484375 68.546875 \nQ 53.21875 62.890625 53.21875 53.421875 \nQ 53.21875 48.921875 51.53125 44.890625 \nQ 49.859375 40.875 45.40625 35.40625 \nQ 44.1875 33.984375 37.640625 27.21875 \nQ 31.109375 20.453125 19.1875 8.296875 \nz\n\" id=\"DejaVuSans-50\"/>\n        <path d=\"M 31.78125 66.40625 \nQ 24.171875 66.40625 20.328125 58.90625 \nQ 16.5 51.421875 16.5 36.375 \nQ 16.5 21.390625 20.328125 13.890625 \nQ 24.171875 6.390625 31.78125 6.390625 \nQ 39.453125 6.390625 43.28125 13.890625 \nQ 47.125 21.390625 47.125 36.375 \nQ 47.125 51.421875 43.28125 58.90625 \nQ 39.453125 66.40625 31.78125 66.40625 \nz\nM 31.78125 74.21875 \nQ 44.046875 74.21875 50.515625 64.515625 \nQ 56.984375 54.828125 56.984375 36.375 \nQ 56.984375 17.96875 50.515625 8.265625 \nQ 44.046875 -1.421875 31.78125 -1.421875 \nQ 19.53125 -1.421875 13.0625 8.265625 \nQ 6.59375 17.96875 6.59375 36.375 \nQ 6.59375 54.828125 13.0625 64.515625 \nQ 19.53125 74.21875 31.78125 74.21875 \nz\n\" id=\"DejaVuSans-48\"/>\n        <path d=\"M 4.890625 31.390625 \nL 31.203125 31.390625 \nL 31.203125 23.390625 \nL 4.890625 23.390625 \nz\n\" id=\"DejaVuSans-45\"/>\n        <path d=\"M 12.40625 8.296875 \nL 28.515625 8.296875 \nL 28.515625 63.921875 \nL 10.984375 60.40625 \nL 10.984375 69.390625 \nL 28.421875 72.90625 \nL 38.28125 72.90625 \nL 38.28125 8.296875 \nL 54.390625 8.296875 \nL 54.390625 0 \nL 12.40625 0 \nz\n\" id=\"DejaVuSans-49\"/>\n       </defs>\n       <use xlink:href=\"#DejaVuSans-50\"/>\n       <use x=\"63.623047\" xlink:href=\"#DejaVuSans-48\"/>\n       <use x=\"127.246094\" xlink:href=\"#DejaVuSans-50\"/>\n       <use x=\"190.869141\" xlink:href=\"#DejaVuSans-48\"/>\n       <use x=\"254.492188\" xlink:href=\"#DejaVuSans-45\"/>\n       <use x=\"290.576172\" xlink:href=\"#DejaVuSans-48\"/>\n       <use x=\"354.199219\" xlink:href=\"#DejaVuSans-49\"/>\n      </g>\n     </g>\n    </g>\n    <g id=\"xtick_2\">\n     <g id=\"line2d_2\">\n      <g>\n       <use style=\"stroke:#000000;stroke-width:0.8;\" x=\"109.63568\" xlink:href=\"#m0a15e701e3\" y=\"227.870004\"/>\n      </g>\n     </g>\n     <g id=\"text_2\">\n      <!-- 2020-03 -->\n      <g transform=\"translate(88.744274 242.468442)scale(0.1 -0.1)\">\n       <defs>\n        <path d=\"M 40.578125 39.3125 \nQ 47.65625 37.796875 51.625 33 \nQ 55.609375 28.21875 55.609375 21.1875 \nQ 55.609375 10.40625 48.1875 4.484375 \nQ 40.765625 -1.421875 27.09375 -1.421875 \nQ 22.515625 -1.421875 17.65625 -0.515625 \nQ 12.796875 0.390625 7.625 2.203125 \nL 7.625 11.71875 \nQ 11.71875 9.328125 16.59375 8.109375 \nQ 21.484375 6.890625 26.8125 6.890625 \nQ 36.078125 6.890625 40.9375 10.546875 \nQ 45.796875 14.203125 45.796875 21.1875 \nQ 45.796875 27.640625 41.28125 31.265625 \nQ 36.765625 34.90625 28.71875 34.90625 \nL 20.21875 34.90625 \nL 20.21875 43.015625 \nL 29.109375 43.015625 \nQ 36.375 43.015625 40.234375 45.921875 \nQ 44.09375 48.828125 44.09375 54.296875 \nQ 44.09375 59.90625 40.109375 62.90625 \nQ 36.140625 65.921875 28.71875 65.921875 \nQ 24.65625 65.921875 20.015625 65.03125 \nQ 15.375 64.15625 9.8125 62.3125 \nL 9.8125 71.09375 \nQ 15.4375 72.65625 20.34375 73.4375 \nQ 25.25 74.21875 29.59375 74.21875 \nQ 40.828125 74.21875 47.359375 69.109375 \nQ 53.90625 64.015625 53.90625 55.328125 \nQ 53.90625 49.265625 50.4375 45.09375 \nQ 46.96875 40.921875 40.578125 39.3125 \nz\n\" id=\"DejaVuSans-51\"/>\n       </defs>\n       <use xlink:href=\"#DejaVuSans-50\"/>\n       <use x=\"63.623047\" xlink:href=\"#DejaVuSans-48\"/>\n       <use x=\"127.246094\" xlink:href=\"#DejaVuSans-50\"/>\n       <use x=\"190.869141\" xlink:href=\"#DejaVuSans-48\"/>\n       <use x=\"254.492188\" xlink:href=\"#DejaVuSans-45\"/>\n       <use x=\"290.576172\" xlink:href=\"#DejaVuSans-48\"/>\n       <use x=\"354.199219\" xlink:href=\"#DejaVuSans-51\"/>\n      </g>\n     </g>\n    </g>\n    <g id=\"xtick_3\">\n     <g id=\"line2d_3\">\n      <g>\n       <use style=\"stroke:#000000;stroke-width:0.8;\" x=\"164.403178\" xlink:href=\"#m0a15e701e3\" y=\"227.870004\"/>\n      </g>\n     </g>\n     <g id=\"text_3\">\n      <!-- 2020-05 -->\n      <g transform=\"translate(143.511772 242.468442)scale(0.1 -0.1)\">\n       <defs>\n        <path d=\"M 10.796875 72.90625 \nL 49.515625 72.90625 \nL 49.515625 64.59375 \nL 19.828125 64.59375 \nL 19.828125 46.734375 \nQ 21.96875 47.46875 24.109375 47.828125 \nQ 26.265625 48.1875 28.421875 48.1875 \nQ 40.625 48.1875 47.75 41.5 \nQ 54.890625 34.8125 54.890625 23.390625 \nQ 54.890625 11.625 47.5625 5.09375 \nQ 40.234375 -1.421875 26.90625 -1.421875 \nQ 22.3125 -1.421875 17.546875 -0.640625 \nQ 12.796875 0.140625 7.71875 1.703125 \nL 7.71875 11.625 \nQ 12.109375 9.234375 16.796875 8.0625 \nQ 21.484375 6.890625 26.703125 6.890625 \nQ 35.15625 6.890625 40.078125 11.328125 \nQ 45.015625 15.765625 45.015625 23.390625 \nQ 45.015625 31 40.078125 35.4375 \nQ 35.15625 39.890625 26.703125 39.890625 \nQ 22.75 39.890625 18.8125 39.015625 \nQ 14.890625 38.140625 10.796875 36.28125 \nz\n\" id=\"DejaVuSans-53\"/>\n       </defs>\n       <use xlink:href=\"#DejaVuSans-50\"/>\n       <use x=\"63.623047\" xlink:href=\"#DejaVuSans-48\"/>\n       <use x=\"127.246094\" xlink:href=\"#DejaVuSans-50\"/>\n       <use x=\"190.869141\" xlink:href=\"#DejaVuSans-48\"/>\n       <use x=\"254.492188\" xlink:href=\"#DejaVuSans-45\"/>\n       <use x=\"290.576172\" xlink:href=\"#DejaVuSans-48\"/>\n       <use x=\"354.199219\" xlink:href=\"#DejaVuSans-53\"/>\n      </g>\n     </g>\n    </g>\n    <g id=\"xtick_4\">\n     <g id=\"line2d_4\">\n      <g>\n       <use style=\"stroke:#000000;stroke-width:0.8;\" x=\"219.170676\" xlink:href=\"#m0a15e701e3\" y=\"227.870004\"/>\n      </g>\n     </g>\n     <g id=\"text_4\">\n      <!-- 2020-07 -->\n      <g transform=\"translate(198.27927 242.468442)scale(0.1 -0.1)\">\n       <defs>\n        <path d=\"M 8.203125 72.90625 \nL 55.078125 72.90625 \nL 55.078125 68.703125 \nL 28.609375 0 \nL 18.3125 0 \nL 43.21875 64.59375 \nL 8.203125 64.59375 \nz\n\" id=\"DejaVuSans-55\"/>\n       </defs>\n       <use xlink:href=\"#DejaVuSans-50\"/>\n       <use x=\"63.623047\" xlink:href=\"#DejaVuSans-48\"/>\n       <use x=\"127.246094\" xlink:href=\"#DejaVuSans-50\"/>\n       <use x=\"190.869141\" xlink:href=\"#DejaVuSans-48\"/>\n       <use x=\"254.492188\" xlink:href=\"#DejaVuSans-45\"/>\n       <use x=\"290.576172\" xlink:href=\"#DejaVuSans-48\"/>\n       <use x=\"354.199219\" xlink:href=\"#DejaVuSans-55\"/>\n      </g>\n     </g>\n    </g>\n    <g id=\"xtick_5\">\n     <g id=\"line2d_5\">\n      <g>\n       <use style=\"stroke:#000000;stroke-width:0.8;\" x=\"274.836002\" xlink:href=\"#m0a15e701e3\" y=\"227.870004\"/>\n      </g>\n     </g>\n     <g id=\"text_5\">\n      <!-- 2020-09 -->\n      <g transform=\"translate(253.944595 242.468442)scale(0.1 -0.1)\">\n       <defs>\n        <path d=\"M 10.984375 1.515625 \nL 10.984375 10.5 \nQ 14.703125 8.734375 18.5 7.8125 \nQ 22.3125 6.890625 25.984375 6.890625 \nQ 35.75 6.890625 40.890625 13.453125 \nQ 46.046875 20.015625 46.78125 33.40625 \nQ 43.953125 29.203125 39.59375 26.953125 \nQ 35.25 24.703125 29.984375 24.703125 \nQ 19.046875 24.703125 12.671875 31.3125 \nQ 6.296875 37.9375 6.296875 49.421875 \nQ 6.296875 60.640625 12.9375 67.421875 \nQ 19.578125 74.21875 30.609375 74.21875 \nQ 43.265625 74.21875 49.921875 64.515625 \nQ 56.59375 54.828125 56.59375 36.375 \nQ 56.59375 19.140625 48.40625 8.859375 \nQ 40.234375 -1.421875 26.421875 -1.421875 \nQ 22.703125 -1.421875 18.890625 -0.6875 \nQ 15.09375 0.046875 10.984375 1.515625 \nz\nM 30.609375 32.421875 \nQ 37.25 32.421875 41.125 36.953125 \nQ 45.015625 41.5 45.015625 49.421875 \nQ 45.015625 57.28125 41.125 61.84375 \nQ 37.25 66.40625 30.609375 66.40625 \nQ 23.96875 66.40625 20.09375 61.84375 \nQ 16.21875 57.28125 16.21875 49.421875 \nQ 16.21875 41.5 20.09375 36.953125 \nQ 23.96875 32.421875 30.609375 32.421875 \nz\n\" id=\"DejaVuSans-57\"/>\n       </defs>\n       <use xlink:href=\"#DejaVuSans-50\"/>\n       <use x=\"63.623047\" xlink:href=\"#DejaVuSans-48\"/>\n       <use x=\"127.246094\" xlink:href=\"#DejaVuSans-50\"/>\n       <use x=\"190.869141\" xlink:href=\"#DejaVuSans-48\"/>\n       <use x=\"254.492188\" xlink:href=\"#DejaVuSans-45\"/>\n       <use x=\"290.576172\" xlink:href=\"#DejaVuSans-48\"/>\n       <use x=\"354.199219\" xlink:href=\"#DejaVuSans-57\"/>\n      </g>\n     </g>\n    </g>\n    <g id=\"xtick_6\">\n     <g id=\"line2d_6\">\n      <g>\n       <use style=\"stroke:#000000;stroke-width:0.8;\" x=\"329.6035\" xlink:href=\"#m0a15e701e3\" y=\"227.870004\"/>\n      </g>\n     </g>\n     <g id=\"text_6\">\n      <!-- 2020-11 -->\n      <g transform=\"translate(308.712093 242.468442)scale(0.1 -0.1)\">\n       <use xlink:href=\"#DejaVuSans-50\"/>\n       <use x=\"63.623047\" xlink:href=\"#DejaVuSans-48\"/>\n       <use x=\"127.246094\" xlink:href=\"#DejaVuSans-50\"/>\n       <use x=\"190.869141\" xlink:href=\"#DejaVuSans-48\"/>\n       <use x=\"254.492188\" xlink:href=\"#DejaVuSans-45\"/>\n       <use x=\"290.576172\" xlink:href=\"#DejaVuSans-49\"/>\n       <use x=\"354.199219\" xlink:href=\"#DejaVuSans-49\"/>\n      </g>\n     </g>\n    </g>\n   </g>\n   <g id=\"matplotlib.axis_2\">\n    <g id=\"ytick_1\">\n     <g id=\"line2d_7\">\n      <defs>\n       <path d=\"M 0 0 \nL -3.5 0 \n\" id=\"m20db10002f\" style=\"stroke:#000000;stroke-width:0.8;\"/>\n      </defs>\n      <g>\n       <use style=\"stroke:#000000;stroke-width:0.8;\" x=\"39.65\" xlink:href=\"#m20db10002f\" y=\"217.986368\"/>\n      </g>\n     </g>\n     <g id=\"text_7\">\n      <!-- 0 -->\n      <g transform=\"translate(26.2875 221.785586)scale(0.1 -0.1)\">\n       <use xlink:href=\"#DejaVuSans-48\"/>\n      </g>\n     </g>\n    </g>\n    <g id=\"ytick_2\">\n     <g id=\"line2d_8\">\n      <g>\n       <use style=\"stroke:#000000;stroke-width:0.8;\" x=\"39.65\" xlink:href=\"#m20db10002f\" y=\"176.588938\"/>\n      </g>\n     </g>\n     <g id=\"text_8\">\n      <!-- 200 -->\n      <g transform=\"translate(13.5625 180.388157)scale(0.1 -0.1)\">\n       <use xlink:href=\"#DejaVuSans-50\"/>\n       <use x=\"63.623047\" xlink:href=\"#DejaVuSans-48\"/>\n       <use x=\"127.246094\" xlink:href=\"#DejaVuSans-48\"/>\n      </g>\n     </g>\n    </g>\n    <g id=\"ytick_3\">\n     <g id=\"line2d_9\">\n      <g>\n       <use style=\"stroke:#000000;stroke-width:0.8;\" x=\"39.65\" xlink:href=\"#m20db10002f\" y=\"135.191508\"/>\n      </g>\n     </g>\n     <g id=\"text_9\">\n      <!-- 400 -->\n      <g transform=\"translate(13.5625 138.990727)scale(0.1 -0.1)\">\n       <defs>\n        <path d=\"M 37.796875 64.3125 \nL 12.890625 25.390625 \nL 37.796875 25.390625 \nz\nM 35.203125 72.90625 \nL 47.609375 72.90625 \nL 47.609375 25.390625 \nL 58.015625 25.390625 \nL 58.015625 17.1875 \nL 47.609375 17.1875 \nL 47.609375 0 \nL 37.796875 0 \nL 37.796875 17.1875 \nL 4.890625 17.1875 \nL 4.890625 26.703125 \nz\n\" id=\"DejaVuSans-52\"/>\n       </defs>\n       <use xlink:href=\"#DejaVuSans-52\"/>\n       <use x=\"63.623047\" xlink:href=\"#DejaVuSans-48\"/>\n       <use x=\"127.246094\" xlink:href=\"#DejaVuSans-48\"/>\n      </g>\n     </g>\n    </g>\n    <g id=\"ytick_4\">\n     <g id=\"line2d_10\">\n      <g>\n       <use style=\"stroke:#000000;stroke-width:0.8;\" x=\"39.65\" xlink:href=\"#m20db10002f\" y=\"93.794078\"/>\n      </g>\n     </g>\n     <g id=\"text_10\">\n      <!-- 600 -->\n      <g transform=\"translate(13.5625 97.593297)scale(0.1 -0.1)\">\n       <defs>\n        <path d=\"M 33.015625 40.375 \nQ 26.375 40.375 22.484375 35.828125 \nQ 18.609375 31.296875 18.609375 23.390625 \nQ 18.609375 15.53125 22.484375 10.953125 \nQ 26.375 6.390625 33.015625 6.390625 \nQ 39.65625 6.390625 43.53125 10.953125 \nQ 47.40625 15.53125 47.40625 23.390625 \nQ 47.40625 31.296875 43.53125 35.828125 \nQ 39.65625 40.375 33.015625 40.375 \nz\nM 52.59375 71.296875 \nL 52.59375 62.3125 \nQ 48.875 64.0625 45.09375 64.984375 \nQ 41.3125 65.921875 37.59375 65.921875 \nQ 27.828125 65.921875 22.671875 59.328125 \nQ 17.53125 52.734375 16.796875 39.40625 \nQ 19.671875 43.65625 24.015625 45.921875 \nQ 28.375 48.1875 33.59375 48.1875 \nQ 44.578125 48.1875 50.953125 41.515625 \nQ 57.328125 34.859375 57.328125 23.390625 \nQ 57.328125 12.15625 50.6875 5.359375 \nQ 44.046875 -1.421875 33.015625 -1.421875 \nQ 20.359375 -1.421875 13.671875 8.265625 \nQ 6.984375 17.96875 6.984375 36.375 \nQ 6.984375 53.65625 15.1875 63.9375 \nQ 23.390625 74.21875 37.203125 74.21875 \nQ 40.921875 74.21875 44.703125 73.484375 \nQ 48.484375 72.75 52.59375 71.296875 \nz\n\" id=\"DejaVuSans-54\"/>\n       </defs>\n       <use xlink:href=\"#DejaVuSans-54\"/>\n       <use x=\"63.623047\" xlink:href=\"#DejaVuSans-48\"/>\n       <use x=\"127.246094\" xlink:href=\"#DejaVuSans-48\"/>\n      </g>\n     </g>\n    </g>\n    <g id=\"ytick_5\">\n     <g id=\"line2d_11\">\n      <g>\n       <use style=\"stroke:#000000;stroke-width:0.8;\" x=\"39.65\" xlink:href=\"#m20db10002f\" y=\"52.396649\"/>\n      </g>\n     </g>\n     <g id=\"text_11\">\n      <!-- 800 -->\n      <g transform=\"translate(13.5625 56.195867)scale(0.1 -0.1)\">\n       <defs>\n        <path d=\"M 31.78125 34.625 \nQ 24.75 34.625 20.71875 30.859375 \nQ 16.703125 27.09375 16.703125 20.515625 \nQ 16.703125 13.921875 20.71875 10.15625 \nQ 24.75 6.390625 31.78125 6.390625 \nQ 38.8125 6.390625 42.859375 10.171875 \nQ 46.921875 13.96875 46.921875 20.515625 \nQ 46.921875 27.09375 42.890625 30.859375 \nQ 38.875 34.625 31.78125 34.625 \nz\nM 21.921875 38.8125 \nQ 15.578125 40.375 12.03125 44.71875 \nQ 8.5 49.078125 8.5 55.328125 \nQ 8.5 64.0625 14.71875 69.140625 \nQ 20.953125 74.21875 31.78125 74.21875 \nQ 42.671875 74.21875 48.875 69.140625 \nQ 55.078125 64.0625 55.078125 55.328125 \nQ 55.078125 49.078125 51.53125 44.71875 \nQ 48 40.375 41.703125 38.8125 \nQ 48.828125 37.15625 52.796875 32.3125 \nQ 56.78125 27.484375 56.78125 20.515625 \nQ 56.78125 9.90625 50.3125 4.234375 \nQ 43.84375 -1.421875 31.78125 -1.421875 \nQ 19.734375 -1.421875 13.25 4.234375 \nQ 6.78125 9.90625 6.78125 20.515625 \nQ 6.78125 27.484375 10.78125 32.3125 \nQ 14.796875 37.15625 21.921875 38.8125 \nz\nM 18.3125 54.390625 \nQ 18.3125 48.734375 21.84375 45.5625 \nQ 25.390625 42.390625 31.78125 42.390625 \nQ 38.140625 42.390625 41.71875 45.5625 \nQ 45.3125 48.734375 45.3125 54.390625 \nQ 45.3125 60.0625 41.71875 63.234375 \nQ 38.140625 66.40625 31.78125 66.40625 \nQ 25.390625 66.40625 21.84375 63.234375 \nQ 18.3125 60.0625 18.3125 54.390625 \nz\n\" id=\"DejaVuSans-56\"/>\n       </defs>\n       <use xlink:href=\"#DejaVuSans-56\"/>\n       <use x=\"63.623047\" xlink:href=\"#DejaVuSans-48\"/>\n       <use x=\"127.246094\" xlink:href=\"#DejaVuSans-48\"/>\n      </g>\n     </g>\n    </g>\n    <g id=\"ytick_6\">\n     <g id=\"line2d_12\">\n      <g>\n       <use style=\"stroke:#000000;stroke-width:0.8;\" x=\"39.65\" xlink:href=\"#m20db10002f\" y=\"10.999219\"/>\n      </g>\n     </g>\n     <g id=\"text_12\">\n      <!-- 1000 -->\n      <g transform=\"translate(7.2 14.798437)scale(0.1 -0.1)\">\n       <use xlink:href=\"#DejaVuSans-49\"/>\n       <use x=\"63.623047\" xlink:href=\"#DejaVuSans-48\"/>\n       <use x=\"127.246094\" xlink:href=\"#DejaVuSans-48\"/>\n       <use x=\"190.869141\" xlink:href=\"#DejaVuSans-48\"/>\n      </g>\n     </g>\n    </g>\n   </g>\n   <g id=\"line2d_13\">\n    <path clip-path=\"url(#p4db96e4e56)\" d=\"M 359.231818 143.884968 \nL 358.33399 143.05702 \nL 357.436163 138.917277 \nL 356.538335 141.194135 \nL 355.640507 137.468367 \nL 354.742679 137.054392 \nL 353.844851 133.949585 \nL 352.947023 118.218562 \nL 352.049195 20.934602 \nL 351.151368 217.986368 \nL 350.25354 124.221189 \nL 349.355712 119.667472 \nL 348.457884 128.774907 \nL 347.560056 20.31364 \nL 346.662228 217.986368 \nL 345.764401 118.632536 \nL 344.866573 118.218562 \nL 343.968745 117.390613 \nL 343.070917 122.979266 \nL 342.173089 124.428176 \nL 341.275261 122.565292 \nL 340.377434 123.393241 \nL 339.479606 122.358305 \nL 338.581778 124.221189 \nL 337.68395 123.186253 \nL 336.786122 122.979266 \nL 335.888294 130.430804 \nL 334.990467 130.223817 \nL 334.092639 133.949585 \nL 333.194811 131.258752 \nL 332.296983 130.637791 \nL 331.399155 126.912022 \nL 330.501327 128.153945 \nL 329.6035 138.089328 \nL 328.705672 142.436058 \nL 327.807844 135.398495 \nL 326.910016 132.086701 \nL 326.012188 146.368814 \nL 325.11436 148.231699 \nL 324.216533 156.718172 \nL 323.318705 148.645673 \nL 322.420877 148.645673 \nL 321.523049 155.062274 \nL 320.625221 153.406377 \nL 319.727393 151.336506 \nL 318.829566 148.231699 \nL 317.931738 165.825606 \nL 317.03391 165.618619 \nL 316.136082 163.134773 \nL 315.238254 164.997658 \nL 314.340426 160.236953 \nL 313.442599 165.411632 \nL 312.544771 161.685863 \nL 311.646943 166.032593 \nL 310.749115 177.623874 \nL 309.851287 174.519066 \nL 308.953459 170.379323 \nL 308.055632 168.516439 \nL 307.157804 171.000285 \nL 306.259976 169.344388 \nL 305.362148 174.312079 \nL 304.46432 180.935668 \nL 303.566492 179.279771 \nL 302.668665 174.312079 \nL 301.770837 180.107719 \nL 300.873009 175.140028 \nL 299.975181 178.658809 \nL 299.077353 177.623874 \nL 298.179525 182.384578 \nL 297.281698 175.140028 \nL 296.38387 181.763617 \nL 295.486042 179.900732 \nL 294.588214 181.142655 \nL 293.690386 181.349642 \nL 292.792558 180.107719 \nL 291.89473 183.626501 \nL 290.996903 188.180218 \nL 290.099075 181.55663 \nL 289.201247 180.935668 \nL 288.303419 189.008167 \nL 287.405591 185.696372 \nL 286.507763 191.492013 \nL 285.609936 193.975858 \nL 284.712108 194.182846 \nL 283.81428 191.285026 \nL 282.916452 191.699 \nL 282.018624 190.664064 \nL 281.120796 193.768871 \nL 280.222969 189.215154 \nL 279.325141 195.217781 \nL 278.427313 193.561884 \nL 277.529485 191.285026 \nL 276.631657 192.112974 \nL 275.733829 197.080666 \nL 274.836002 195.424768 \nL 273.938174 196.666691 \nL 273.040346 195.217781 \nL 272.142518 194.803807 \nL 271.24469 169.137401 \nL 270.346862 192.112974 \nL 269.449035 190.457077 \nL 268.551207 217.986368 \nL 267.653379 188.80118 \nL 265.857723 194.803807 \nL 264.959895 157.54612 \nL 264.062068 217.986368 \nL 263.16424 183.212527 \nL 262.266412 183.833488 \nL 261.368584 187.559257 \nL 260.470756 184.661437 \nL 259.572928 183.00554 \nL 258.675101 181.970604 \nL 257.777273 179.072784 \nL 256.879445 179.900732 \nL 255.981617 178.865797 \nL 255.083789 184.247462 \nL 254.185961 190.664064 \nL 253.288134 152.578429 \nL 252.390306 215.088548 \nL 251.492478 179.693745 \nL 250.59465 174.105092 \nL 249.696822 173.484131 \nL 248.798994 174.933041 \nL 247.901167 173.277144 \nL 247.003339 177.209899 \nL 246.105511 171.207272 \nL 245.207683 177.416887 \nL 244.309855 169.344388 \nL 243.412027 174.105092 \nL 242.5142 173.277144 \nL 241.616372 177.623874 \nL 240.718544 173.484131 \nL 239.820716 172.242208 \nL 238.922888 172.656182 \nL 238.02506 170.586311 \nL 237.127233 173.070156 \nL 236.229405 174.726054 \nL 235.331577 179.072784 \nL 234.433749 180.107719 \nL 233.535921 177.002912 \nL 232.638093 176.795925 \nL 231.740265 180.935668 \nL 230.842438 175.967976 \nL 229.94461 177.830861 \nL 229.046782 179.072784 \nL 228.148954 188.594193 \nL 227.251126 172.242208 \nL 226.353298 186.317334 \nL 225.455471 176.588938 \nL 224.557643 184.868424 \nL 223.659815 184.247462 \nL 222.761987 187.35227 \nL 221.864159 186.110347 \nL 220.966331 187.35227 \nL 220.068504 188.80118 \nL 219.170676 187.559257 \nL 218.272848 184.45445 \nL 217.37502 188.180218 \nL 216.477192 169.551375 \nL 215.579364 217.986368 \nL 214.681537 190.25009 \nL 213.783709 190.457077 \nL 212.885881 192.940923 \nL 211.988053 193.354897 \nL 211.090225 193.975858 \nL 210.192397 194.182846 \nL 209.29457 193.14791 \nL 208.396742 199.978486 \nL 207.498914 193.14791 \nL 206.601086 194.182846 \nL 205.703258 194.59682 \nL 204.80543 195.838743 \nL 203.907603 203.29028 \nL 203.009775 202.462332 \nL 201.214119 201.220409 \nL 200.316291 202.669319 \nL 199.418463 203.497267 \nL 198.520636 203.083293 \nL 197.622808 202.462332 \nL 196.72498 204.946177 \nL 195.827152 205.774126 \nL 194.929324 203.497267 \nL 194.031496 204.73919 \nL 193.133669 201.220409 \nL 192.235841 204.946177 \nL 191.338013 206.1881 \nL 190.440185 207.63701 \nL 189.542357 204.946177 \nL 188.644529 206.395087 \nL 187.746702 206.1881 \nL 186.848874 210.948805 \nL 185.951046 205.981113 \nL 185.053218 205.774126 \nL 184.15539 207.430023 \nL 183.257562 204.325216 \nL 181.461907 205.153164 \nL 180.564079 203.704254 \nL 178.768423 210.741818 \nL 177.870595 208.050985 \nL 176.972767 203.29028 \nL 176.07494 207.63701 \nL 175.177112 208.050985 \nL 174.279284 208.671946 \nL 173.381456 207.430023 \nL 172.483628 208.050985 \nL 171.5858 206.602075 \nL 170.687973 203.911242 \nL 169.790145 201.84137 \nL 168.892317 204.946177 \nL 167.994489 202.669319 \nL 167.096661 208.257972 \nL 166.198833 204.532203 \nL 165.301006 204.946177 \nL 163.50535 201.427396 \nL 162.607522 203.29028 \nL 161.709694 198.115601 \nL 160.811866 205.567139 \nL 159.016211 198.736563 \nL 158.118383 199.357524 \nL 157.220555 198.529576 \nL 156.322727 199.771499 \nL 155.424899 199.150537 \nL 154.527072 199.978486 \nL 153.629244 202.876306 \nL 152.731416 199.564511 \nL 151.833588 198.94355 \nL 150.93576 198.529576 \nL 150.037932 197.701627 \nL 149.140105 195.010794 \nL 148.242277 193.768871 \nL 147.344449 192.112974 \nL 146.446621 192.733936 \nL 145.548793 193.768871 \nL 144.650965 192.940923 \nL 143.753138 190.457077 \nL 142.85531 189.836115 \nL 141.957482 186.731308 \nL 141.059654 157.54612 \nL 140.161826 217.986368 \nL 139.263998 192.319961 \nL 138.366171 189.422141 \nL 137.468343 188.80118 \nL 136.570515 193.768871 \nL 135.672687 192.526948 \nL 134.774859 189.215154 \nL 133.877031 188.180218 \nL 132.979204 185.489385 \nL 132.081376 188.387205 \nL 131.183548 192.733936 \nL 130.28572 191.699 \nL 129.387892 191.285026 \nL 128.490064 192.526948 \nL 127.592237 187.145283 \nL 126.694409 187.145283 \nL 125.796581 187.559257 \nL 124.898753 190.043103 \nL 124.000925 191.285026 \nL 122.20527 197.908614 \nL 121.307442 200.39246 \nL 120.409614 202.462332 \nL 119.511786 204.946177 \nL 118.613958 206.809062 \nL 117.71613 209.08592 \nL 116.818302 207.843997 \nL 115.920475 213.639638 \nL 115.022647 214.467586 \nL 114.124819 214.88156 \nL 113.226991 214.88156 \nL 112.329163 215.709509 \nL 111.431335 215.502522 \nL 110.533508 215.709509 \nL 109.63568 216.123483 \nL 107.840024 216.537458 \nL 106.942196 217.158419 \nL 106.044368 217.365406 \nL 105.146541 217.158419 \nL 104.248713 217.365406 \nL 103.350885 217.779381 \nL 102.453057 217.572393 \nL 101.555229 217.986368 \nL 100.657401 217.572393 \nL 99.759574 217.986368 \nL 54.868182 217.986368 \nL 54.868182 217.986368 \n\" style=\"fill:none;stroke:#1f77b4;stroke-linecap:square;stroke-width:1.5;\"/>\n   </g>\n   <g id=\"patch_3\">\n    <path d=\"M 39.65 227.870004 \nL 39.65 10.430004 \n\" style=\"fill:none;stroke:#000000;stroke-linecap:square;stroke-linejoin:miter;stroke-width:0.8;\"/>\n   </g>\n   <g id=\"patch_4\">\n    <path d=\"M 374.45 227.870004 \nL 374.45 10.430004 \n\" style=\"fill:none;stroke:#000000;stroke-linecap:square;stroke-linejoin:miter;stroke-width:0.8;\"/>\n   </g>\n   <g id=\"patch_5\">\n    <path d=\"M 39.65 227.870004 \nL 374.45 227.870004 \n\" style=\"fill:none;stroke:#000000;stroke-linecap:square;stroke-linejoin:miter;stroke-width:0.8;\"/>\n   </g>\n   <g id=\"patch_6\">\n    <path d=\"M 39.65 10.430004 \nL 374.45 10.430004 \n\" style=\"fill:none;stroke:#000000;stroke-linecap:square;stroke-linejoin:miter;stroke-width:0.8;\"/>\n   </g>\n  </g>\n </g>\n <defs>\n  <clipPath id=\"p4db96e4e56\">\n   <rect height=\"217.44\" width=\"334.8\" x=\"39.65\" y=\"10.430004\"/>\n  </clipPath>\n </defs>\n</svg>\n",
      "image/png": "[encoded data removed]"
     },
     "metadata": {
      "needs_background": "light"
     }
    }
   ],
   "source": [
    "plt.plot(df_ir.dateRep, df_ir.deaths)"
   ]
  },
  {
   "source": [
    "# Seaborn: more high level than matplotlib\n"
   ],
   "cell_type": "markdown",
   "metadata": {}
  },
  {
   "cell_type": "code",
   "execution_count": 13,
   "metadata": {},
   "outputs": [
    {
     "output_type": "execute_result",
     "data": {
      "text/plain": [
       "<AxesSubplot:>"
      ]
     },
     "metadata": {},
     "execution_count": 13
    },
    {
     "output_type": "display_data",
     "data": {
      "text/plain": "<Figure size 432x288 with 2 Axes>",
      "image/svg+xml": "<?xml version=\"1.0\" encoding=\"utf-8\" standalone=\"no\"?>\n<!DOCTYPE svg PUBLIC \"-//W3C//DTD SVG 1.1//EN\"\n  \"http://www.w3.org/Graphics/SVG/1.1/DTD/svg11.dtd\">\n<!-- Created with matplotlib (https://matplotlib.org/) -->\n<svg height=\"310.781406pt\" version=\"1.1\" viewBox=\"0 0 422.6395 310.781406\" width=\"422.6395pt\" xmlns=\"http://www.w3.org/2000/svg\" xmlns:xlink=\"http://www.w3.org/1999/xlink\">\n <metadata>\n  <rdf:RDF xmlns:cc=\"http://creativecommons.org/ns#\" xmlns:dc=\"http://purl.org/dc/elements/1.1/\" xmlns:rdf=\"http://www.w3.org/1999/02/22-rdf-syntax-ns#\">\n   <cc:Work>\n    <dc:type rdf:resource=\"http://purl.org/dc/dcmitype/StillImage\"/>\n    <dc:date>2020-12-26T12:07:07.949680</dc:date>\n    <dc:format>image/svg+xml</dc:format>\n    <dc:creator>\n     <cc:Agent>\n      <dc:title>Matplotlib v3.3.2, https://matplotlib.org/</dc:title>\n     </cc:Agent>\n    </dc:creator>\n   </cc:Work>\n  </rdf:RDF>\n </metadata>\n <defs>\n  <style type=\"text/css\">*{stroke-linecap:butt;stroke-linejoin:round;}</style>\n </defs>\n <g id=\"figure_1\">\n  <g id=\"patch_1\">\n   <path d=\"M -0 310.781406 \nL 422.6395 310.781406 \nL 422.6395 0 \nL -0 0 \nz\n\" style=\"fill:none;\"/>\n  </g>\n  <g id=\"axes_1\">\n   <g id=\"patch_2\">\n    <path d=\"M 82.342188 228.439219 \nL 350.182188 228.439219 \nL 350.182188 10.999219 \nL 82.342188 10.999219 \nz\n\" style=\"fill:#ffffff;\"/>\n   </g>\n   <g id=\"QuadMesh_1\">\n    <path clip-path=\"url(#pc6232f037c)\" d=\"M 82.342188 10.999219 \nL 115.822188 10.999219 \nL 115.822188 38.179219 \nL 82.342188 38.179219 \nL 82.342188 10.999219 \n\" style=\"fill:#faebdd;\"/>\n    <path clip-path=\"url(#pc6232f037c)\" d=\"M 115.822188 10.999219 \nL 149.302188 10.999219 \nL 149.302188 38.179219 \nL 115.822188 38.179219 \nL 115.822188 10.999219 \n\" style=\"fill:#bd1655;\"/>\n    <path clip-path=\"url(#pc6232f037c)\" d=\"M 149.302188 10.999219 \nL 182.782188 10.999219 \nL 182.782188 38.179219 \nL 149.302188 38.179219 \nL 149.302188 10.999219 \n\" style=\"fill:#03051a;\"/>\n    <path clip-path=\"url(#pc6232f037c)\" d=\"M 182.782188 10.999219 \nL 216.262188 10.999219 \nL 216.262188 38.179219 \nL 182.782188 38.179219 \nL 182.782188 10.999219 \n\" style=\"fill:#b51657;\"/>\n    <path clip-path=\"url(#pc6232f037c)\" d=\"M 216.262188 10.999219 \nL 249.742188 10.999219 \nL 249.742188 38.179219 \nL 216.262188 38.179219 \nL 216.262188 10.999219 \n\" style=\"fill:#34193d;\"/>\n    <path clip-path=\"url(#pc6232f037c)\" d=\"M 249.742188 10.999219 \nL 283.222188 10.999219 \nL 283.222188 38.179219 \nL 249.742188 38.179219 \nL 249.742188 10.999219 \n\" style=\"fill:#241432;\"/>\n    <path clip-path=\"url(#pc6232f037c)\" d=\"M 283.222188 10.999219 \nL 316.702188 10.999219 \nL 316.702188 38.179219 \nL 283.222188 38.179219 \nL 283.222188 10.999219 \n\" style=\"fill:none;\"/>\n    <path clip-path=\"url(#pc6232f037c)\" d=\"M 316.702188 10.999219 \nL 350.182188 10.999219 \nL 350.182188 38.179219 \nL 316.702188 38.179219 \nL 316.702188 10.999219 \n\" style=\"fill:#271534;\"/>\n    <path clip-path=\"url(#pc6232f037c)\" d=\"M 82.342188 38.179219 \nL 115.822188 38.179219 \nL 115.822188 65.359219 \nL 82.342188 65.359219 \nL 82.342188 38.179219 \n\" style=\"fill:#bd1655;\"/>\n    <path clip-path=\"url(#pc6232f037c)\" d=\"M 115.822188 38.179219 \nL 149.302188 38.179219 \nL 149.302188 65.359219 \nL 115.822188 65.359219 \nL 115.822188 38.179219 \n\" style=\"fill:#faebdd;\"/>\n    <path clip-path=\"url(#pc6232f037c)\" d=\"M 149.302188 38.179219 \nL 182.782188 38.179219 \nL 182.782188 65.359219 \nL 149.302188 65.359219 \nL 149.302188 38.179219 \n\" style=\"fill:#c41753;\"/>\n    <path clip-path=\"url(#pc6232f037c)\" d=\"M 182.782188 38.179219 \nL 216.262188 38.179219 \nL 216.262188 65.359219 \nL 182.782188 65.359219 \nL 182.782188 38.179219 \n\" style=\"fill:#b51657;\"/>\n    <path clip-path=\"url(#pc6232f037c)\" d=\"M 216.262188 38.179219 \nL 249.742188 38.179219 \nL 249.742188 65.359219 \nL 216.262188 65.359219 \nL 216.262188 38.179219 \n\" style=\"fill:#d11f4c;\"/>\n    <path clip-path=\"url(#pc6232f037c)\" d=\"M 249.742188 38.179219 \nL 283.222188 38.179219 \nL 283.222188 65.359219 \nL 249.742188 65.359219 \nL 249.742188 38.179219 \n\" style=\"fill:#d3214b;\"/>\n    <path clip-path=\"url(#pc6232f037c)\" d=\"M 283.222188 38.179219 \nL 316.702188 38.179219 \nL 316.702188 65.359219 \nL 283.222188 65.359219 \nL 283.222188 38.179219 \n\" style=\"fill:none;\"/>\n    <path clip-path=\"url(#pc6232f037c)\" d=\"M 316.702188 38.179219 \nL 350.182188 38.179219 \nL 350.182188 65.359219 \nL 316.702188 65.359219 \nL 316.702188 38.179219 \n\" style=\"fill:#ca1a50;\"/>\n    <path clip-path=\"url(#pc6232f037c)\" d=\"M 82.342188 65.359219 \nL 115.822188 65.359219 \nL 115.822188 92.539219 \nL 82.342188 92.539219 \nL 82.342188 65.359219 \n\" style=\"fill:#03051a;\"/>\n    <path clip-path=\"url(#pc6232f037c)\" d=\"M 115.822188 65.359219 \nL 149.302188 65.359219 \nL 149.302188 92.539219 \nL 115.822188 92.539219 \nL 115.822188 65.359219 \n\" style=\"fill:#c41753;\"/>\n    <path clip-path=\"url(#pc6232f037c)\" d=\"M 149.302188 65.359219 \nL 182.782188 65.359219 \nL 182.782188 92.539219 \nL 149.302188 92.539219 \nL 149.302188 65.359219 \n\" style=\"fill:#faebdd;\"/>\n    <path clip-path=\"url(#pc6232f037c)\" d=\"M 182.782188 65.359219 \nL 216.262188 65.359219 \nL 216.262188 92.539219 \nL 182.782188 92.539219 \nL 182.782188 65.359219 \n\" style=\"fill:#b41658;\"/>\n    <path clip-path=\"url(#pc6232f037c)\" d=\"M 216.262188 65.359219 \nL 249.742188 65.359219 \nL 249.742188 92.539219 \nL 216.262188 92.539219 \nL 216.262188 65.359219 \n\" style=\"fill:#f6ae87;\"/>\n    <path clip-path=\"url(#pc6232f037c)\" d=\"M 249.742188 65.359219 \nL 283.222188 65.359219 \nL 283.222188 92.539219 \nL 249.742188 92.539219 \nL 249.742188 65.359219 \n\" style=\"fill:#f6be9b;\"/>\n    <path clip-path=\"url(#pc6232f037c)\" d=\"M 283.222188 65.359219 \nL 316.702188 65.359219 \nL 316.702188 92.539219 \nL 283.222188 92.539219 \nL 283.222188 65.359219 \n\" style=\"fill:none;\"/>\n    <path clip-path=\"url(#pc6232f037c)\" d=\"M 316.702188 65.359219 \nL 350.182188 65.359219 \nL 350.182188 92.539219 \nL 316.702188 92.539219 \nL 316.702188 65.359219 \n\" style=\"fill:#f6be9b;\"/>\n    <path clip-path=\"url(#pc6232f037c)\" d=\"M 82.342188 92.539219 \nL 115.822188 92.539219 \nL 115.822188 119.719219 \nL 82.342188 119.719219 \nL 82.342188 92.539219 \n\" style=\"fill:#b51657;\"/>\n    <path clip-path=\"url(#pc6232f037c)\" d=\"M 115.822188 92.539219 \nL 149.302188 92.539219 \nL 149.302188 119.719219 \nL 115.822188 119.719219 \nL 115.822188 92.539219 \n\" style=\"fill:#b51657;\"/>\n    <path clip-path=\"url(#pc6232f037c)\" d=\"M 149.302188 92.539219 \nL 182.782188 92.539219 \nL 182.782188 119.719219 \nL 149.302188 119.719219 \nL 149.302188 92.539219 \n\" style=\"fill:#b41658;\"/>\n    <path clip-path=\"url(#pc6232f037c)\" d=\"M 182.782188 92.539219 \nL 216.262188 92.539219 \nL 216.262188 119.719219 \nL 182.782188 119.719219 \nL 182.782188 92.539219 \n\" style=\"fill:#faebdd;\"/>\n    <path clip-path=\"url(#pc6232f037c)\" d=\"M 216.262188 92.539219 \nL 249.742188 92.539219 \nL 249.742188 119.719219 \nL 216.262188 119.719219 \nL 216.262188 92.539219 \n\" style=\"fill:#d11f4c;\"/>\n    <path clip-path=\"url(#pc6232f037c)\" d=\"M 249.742188 92.539219 \nL 283.222188 92.539219 \nL 283.222188 119.719219 \nL 249.742188 119.719219 \nL 249.742188 92.539219 \n\" style=\"fill:#d2204c;\"/>\n    <path clip-path=\"url(#pc6232f037c)\" d=\"M 283.222188 92.539219 \nL 316.702188 92.539219 \nL 316.702188 119.719219 \nL 283.222188 119.719219 \nL 283.222188 92.539219 \n\" style=\"fill:none;\"/>\n    <path clip-path=\"url(#pc6232f037c)\" d=\"M 316.702188 92.539219 \nL 350.182188 92.539219 \nL 350.182188 119.719219 \nL 316.702188 119.719219 \nL 316.702188 92.539219 \n\" style=\"fill:none;\"/>\n    <path clip-path=\"url(#pc6232f037c)\" d=\"M 82.342188 119.719219 \nL 115.822188 119.719219 \nL 115.822188 146.899219 \nL 82.342188 146.899219 \nL 82.342188 119.719219 \n\" style=\"fill:#34193d;\"/>\n    <path clip-path=\"url(#pc6232f037c)\" d=\"M 115.822188 119.719219 \nL 149.302188 119.719219 \nL 149.302188 146.899219 \nL 115.822188 146.899219 \nL 115.822188 119.719219 \n\" style=\"fill:#d11f4c;\"/>\n    <path clip-path=\"url(#pc6232f037c)\" d=\"M 149.302188 119.719219 \nL 182.782188 119.719219 \nL 182.782188 146.899219 \nL 149.302188 146.899219 \nL 149.302188 119.719219 \n\" style=\"fill:#f6ae87;\"/>\n    <path clip-path=\"url(#pc6232f037c)\" d=\"M 182.782188 119.719219 \nL 216.262188 119.719219 \nL 216.262188 146.899219 \nL 182.782188 146.899219 \nL 182.782188 119.719219 \n\" style=\"fill:#d11f4c;\"/>\n    <path clip-path=\"url(#pc6232f037c)\" d=\"M 216.262188 119.719219 \nL 249.742188 119.719219 \nL 249.742188 146.899219 \nL 216.262188 146.899219 \nL 216.262188 119.719219 \n\" style=\"fill:#faebdd;\"/>\n    <path clip-path=\"url(#pc6232f037c)\" d=\"M 249.742188 119.719219 \nL 283.222188 119.719219 \nL 283.222188 146.899219 \nL 249.742188 146.899219 \nL 249.742188 119.719219 \n\" style=\"fill:#f9ddc9;\"/>\n    <path clip-path=\"url(#pc6232f037c)\" d=\"M 283.222188 119.719219 \nL 316.702188 119.719219 \nL 316.702188 146.899219 \nL 283.222188 146.899219 \nL 283.222188 119.719219 \n\" style=\"fill:none;\"/>\n    <path clip-path=\"url(#pc6232f037c)\" d=\"M 316.702188 119.719219 \nL 350.182188 119.719219 \nL 350.182188 146.899219 \nL 316.702188 146.899219 \nL 316.702188 119.719219 \n\" style=\"fill:#f8d9c3;\"/>\n    <path clip-path=\"url(#pc6232f037c)\" d=\"M 82.342188 146.899219 \nL 115.822188 146.899219 \nL 115.822188 174.079219 \nL 82.342188 174.079219 \nL 82.342188 146.899219 \n\" style=\"fill:#241432;\"/>\n    <path clip-path=\"url(#pc6232f037c)\" d=\"M 115.822188 146.899219 \nL 149.302188 146.899219 \nL 149.302188 174.079219 \nL 115.822188 174.079219 \nL 115.822188 146.899219 \n\" style=\"fill:#d3214b;\"/>\n    <path clip-path=\"url(#pc6232f037c)\" d=\"M 149.302188 146.899219 \nL 182.782188 146.899219 \nL 182.782188 174.079219 \nL 149.302188 174.079219 \nL 149.302188 146.899219 \n\" style=\"fill:#f6be9b;\"/>\n    <path clip-path=\"url(#pc6232f037c)\" d=\"M 182.782188 146.899219 \nL 216.262188 146.899219 \nL 216.262188 174.079219 \nL 182.782188 174.079219 \nL 182.782188 146.899219 \n\" style=\"fill:#d2204c;\"/>\n    <path clip-path=\"url(#pc6232f037c)\" d=\"M 216.262188 146.899219 \nL 249.742188 146.899219 \nL 249.742188 174.079219 \nL 216.262188 174.079219 \nL 216.262188 146.899219 \n\" style=\"fill:#f9ddc9;\"/>\n    <path clip-path=\"url(#pc6232f037c)\" d=\"M 249.742188 146.899219 \nL 283.222188 146.899219 \nL 283.222188 174.079219 \nL 249.742188 174.079219 \nL 249.742188 146.899219 \n\" style=\"fill:#faebdd;\"/>\n    <path clip-path=\"url(#pc6232f037c)\" d=\"M 283.222188 146.899219 \nL 316.702188 146.899219 \nL 316.702188 174.079219 \nL 283.222188 174.079219 \nL 283.222188 146.899219 \n\" style=\"fill:none;\"/>\n    <path clip-path=\"url(#pc6232f037c)\" d=\"M 316.702188 146.899219 \nL 350.182188 146.899219 \nL 350.182188 174.079219 \nL 316.702188 174.079219 \nL 316.702188 146.899219 \n\" style=\"fill:#f7caac;\"/>\n    <path clip-path=\"url(#pc6232f037c)\" d=\"M 82.342188 174.079219 \nL 115.822188 174.079219 \nL 115.822188 201.259219 \nL 82.342188 201.259219 \nL 82.342188 174.079219 \n\" style=\"fill:none;\"/>\n    <path clip-path=\"url(#pc6232f037c)\" d=\"M 115.822188 174.079219 \nL 149.302188 174.079219 \nL 149.302188 201.259219 \nL 115.822188 201.259219 \nL 115.822188 174.079219 \n\" style=\"fill:none;\"/>\n    <path clip-path=\"url(#pc6232f037c)\" d=\"M 149.302188 174.079219 \nL 182.782188 174.079219 \nL 182.782188 201.259219 \nL 149.302188 201.259219 \nL 149.302188 174.079219 \n\" style=\"fill:none;\"/>\n    <path clip-path=\"url(#pc6232f037c)\" d=\"M 182.782188 174.079219 \nL 216.262188 174.079219 \nL 216.262188 201.259219 \nL 182.782188 201.259219 \nL 182.782188 174.079219 \n\" style=\"fill:none;\"/>\n    <path clip-path=\"url(#pc6232f037c)\" d=\"M 216.262188 174.079219 \nL 249.742188 174.079219 \nL 249.742188 201.259219 \nL 216.262188 201.259219 \nL 216.262188 174.079219 \n\" style=\"fill:none;\"/>\n    <path clip-path=\"url(#pc6232f037c)\" d=\"M 249.742188 174.079219 \nL 283.222188 174.079219 \nL 283.222188 201.259219 \nL 249.742188 201.259219 \nL 249.742188 174.079219 \n\" style=\"fill:none;\"/>\n    <path clip-path=\"url(#pc6232f037c)\" d=\"M 283.222188 174.079219 \nL 316.702188 174.079219 \nL 316.702188 201.259219 \nL 283.222188 201.259219 \nL 283.222188 174.079219 \n\" style=\"fill:none;\"/>\n    <path clip-path=\"url(#pc6232f037c)\" d=\"M 316.702188 174.079219 \nL 350.182188 174.079219 \nL 350.182188 201.259219 \nL 316.702188 201.259219 \nL 316.702188 174.079219 \n\" style=\"fill:none;\"/>\n    <path clip-path=\"url(#pc6232f037c)\" d=\"M 82.342188 201.259219 \nL 115.822188 201.259219 \nL 115.822188 228.439219 \nL 82.342188 228.439219 \nL 82.342188 201.259219 \n\" style=\"fill:#271534;\"/>\n    <path clip-path=\"url(#pc6232f037c)\" d=\"M 115.822188 201.259219 \nL 149.302188 201.259219 \nL 149.302188 228.439219 \nL 115.822188 228.439219 \nL 115.822188 201.259219 \n\" style=\"fill:#ca1a50;\"/>\n    <path clip-path=\"url(#pc6232f037c)\" d=\"M 149.302188 201.259219 \nL 182.782188 201.259219 \nL 182.782188 228.439219 \nL 149.302188 228.439219 \nL 149.302188 201.259219 \n\" style=\"fill:#f6be9b;\"/>\n    <path clip-path=\"url(#pc6232f037c)\" d=\"M 182.782188 201.259219 \nL 216.262188 201.259219 \nL 216.262188 228.439219 \nL 182.782188 228.439219 \nL 182.782188 201.259219 \n\" style=\"fill:none;\"/>\n    <path clip-path=\"url(#pc6232f037c)\" d=\"M 216.262188 201.259219 \nL 249.742188 201.259219 \nL 249.742188 228.439219 \nL 216.262188 228.439219 \nL 216.262188 201.259219 \n\" style=\"fill:#f8d9c3;\"/>\n    <path clip-path=\"url(#pc6232f037c)\" d=\"M 249.742188 201.259219 \nL 283.222188 201.259219 \nL 283.222188 228.439219 \nL 249.742188 228.439219 \nL 249.742188 201.259219 \n\" style=\"fill:#f7caac;\"/>\n    <path clip-path=\"url(#pc6232f037c)\" d=\"M 283.222188 201.259219 \nL 316.702188 201.259219 \nL 316.702188 228.439219 \nL 283.222188 228.439219 \nL 283.222188 201.259219 \n\" style=\"fill:none;\"/>\n    <path clip-path=\"url(#pc6232f037c)\" d=\"M 316.702188 201.259219 \nL 350.182188 201.259219 \nL 350.182188 228.439219 \nL 316.702188 228.439219 \nL 316.702188 201.259219 \n\" style=\"fill:#faebdd;\"/>\n   </g>\n   <g id=\"matplotlib.axis_1\">\n    <g id=\"xtick_1\">\n     <g id=\"line2d_1\">\n      <defs>\n       <path d=\"M 0 0 \nL 0 3.5 \n\" id=\"m6a802ece6e\" style=\"stroke:#000000;stroke-width:0.8;\"/>\n      </defs>\n      <g>\n       <use style=\"stroke:#000000;stroke-width:0.8;\" x=\"99.082188\" xlink:href=\"#m6a802ece6e\" y=\"228.439219\"/>\n      </g>\n     </g>\n     <g id=\"text_1\">\n      <!-- Unnamed: 0 -->\n      <g transform=\"translate(101.841563 296.712656)rotate(-90)scale(0.1 -0.1)\">\n       <defs>\n        <path d=\"M 8.6875 72.90625 \nL 18.609375 72.90625 \nL 18.609375 28.609375 \nQ 18.609375 16.890625 22.84375 11.734375 \nQ 27.09375 6.59375 36.625 6.59375 \nQ 46.09375 6.59375 50.34375 11.734375 \nQ 54.59375 16.890625 54.59375 28.609375 \nL 54.59375 72.90625 \nL 64.5 72.90625 \nL 64.5 27.390625 \nQ 64.5 13.140625 57.4375 5.859375 \nQ 50.390625 -1.421875 36.625 -1.421875 \nQ 22.796875 -1.421875 15.734375 5.859375 \nQ 8.6875 13.140625 8.6875 27.390625 \nz\n\" id=\"DejaVuSans-85\"/>\n        <path d=\"M 54.890625 33.015625 \nL 54.890625 0 \nL 45.90625 0 \nL 45.90625 32.71875 \nQ 45.90625 40.484375 42.875 44.328125 \nQ 39.84375 48.1875 33.796875 48.1875 \nQ 26.515625 48.1875 22.3125 43.546875 \nQ 18.109375 38.921875 18.109375 30.90625 \nL 18.109375 0 \nL 9.078125 0 \nL 9.078125 54.6875 \nL 18.109375 54.6875 \nL 18.109375 46.1875 \nQ 21.34375 51.125 25.703125 53.5625 \nQ 30.078125 56 35.796875 56 \nQ 45.21875 56 50.046875 50.171875 \nQ 54.890625 44.34375 54.890625 33.015625 \nz\n\" id=\"DejaVuSans-110\"/>\n        <path d=\"M 34.28125 27.484375 \nQ 23.390625 27.484375 19.1875 25 \nQ 14.984375 22.515625 14.984375 16.5 \nQ 14.984375 11.71875 18.140625 8.90625 \nQ 21.296875 6.109375 26.703125 6.109375 \nQ 34.1875 6.109375 38.703125 11.40625 \nQ 43.21875 16.703125 43.21875 25.484375 \nL 43.21875 27.484375 \nz\nM 52.203125 31.203125 \nL 52.203125 0 \nL 43.21875 0 \nL 43.21875 8.296875 \nQ 40.140625 3.328125 35.546875 0.953125 \nQ 30.953125 -1.421875 24.3125 -1.421875 \nQ 15.921875 -1.421875 10.953125 3.296875 \nQ 6 8.015625 6 15.921875 \nQ 6 25.140625 12.171875 29.828125 \nQ 18.359375 34.515625 30.609375 34.515625 \nL 43.21875 34.515625 \nL 43.21875 35.40625 \nQ 43.21875 41.609375 39.140625 45 \nQ 35.0625 48.390625 27.6875 48.390625 \nQ 23 48.390625 18.546875 47.265625 \nQ 14.109375 46.140625 10.015625 43.890625 \nL 10.015625 52.203125 \nQ 14.9375 54.109375 19.578125 55.046875 \nQ 24.21875 56 28.609375 56 \nQ 40.484375 56 46.34375 49.84375 \nQ 52.203125 43.703125 52.203125 31.203125 \nz\n\" id=\"DejaVuSans-97\"/>\n        <path d=\"M 52 44.1875 \nQ 55.375 50.25 60.0625 53.125 \nQ 64.75 56 71.09375 56 \nQ 79.640625 56 84.28125 50.015625 \nQ 88.921875 44.046875 88.921875 33.015625 \nL 88.921875 0 \nL 79.890625 0 \nL 79.890625 32.71875 \nQ 79.890625 40.578125 77.09375 44.375 \nQ 74.3125 48.1875 68.609375 48.1875 \nQ 61.625 48.1875 57.5625 43.546875 \nQ 53.515625 38.921875 53.515625 30.90625 \nL 53.515625 0 \nL 44.484375 0 \nL 44.484375 32.71875 \nQ 44.484375 40.625 41.703125 44.40625 \nQ 38.921875 48.1875 33.109375 48.1875 \nQ 26.21875 48.1875 22.15625 43.53125 \nQ 18.109375 38.875 18.109375 30.90625 \nL 18.109375 0 \nL 9.078125 0 \nL 9.078125 54.6875 \nL 18.109375 54.6875 \nL 18.109375 46.1875 \nQ 21.1875 51.21875 25.484375 53.609375 \nQ 29.78125 56 35.6875 56 \nQ 41.65625 56 45.828125 52.96875 \nQ 50 49.953125 52 44.1875 \nz\n\" id=\"DejaVuSans-109\"/>\n        <path d=\"M 56.203125 29.59375 \nL 56.203125 25.203125 \nL 14.890625 25.203125 \nQ 15.484375 15.921875 20.484375 11.0625 \nQ 25.484375 6.203125 34.421875 6.203125 \nQ 39.59375 6.203125 44.453125 7.46875 \nQ 49.3125 8.734375 54.109375 11.28125 \nL 54.109375 2.78125 \nQ 49.265625 0.734375 44.1875 -0.34375 \nQ 39.109375 -1.421875 33.890625 -1.421875 \nQ 20.796875 -1.421875 13.15625 6.1875 \nQ 5.515625 13.8125 5.515625 26.8125 \nQ 5.515625 40.234375 12.765625 48.109375 \nQ 20.015625 56 32.328125 56 \nQ 43.359375 56 49.78125 48.890625 \nQ 56.203125 41.796875 56.203125 29.59375 \nz\nM 47.21875 32.234375 \nQ 47.125 39.59375 43.09375 43.984375 \nQ 39.0625 48.390625 32.421875 48.390625 \nQ 24.90625 48.390625 20.390625 44.140625 \nQ 15.875 39.890625 15.1875 32.171875 \nz\n\" id=\"DejaVuSans-101\"/>\n        <path d=\"M 45.40625 46.390625 \nL 45.40625 75.984375 \nL 54.390625 75.984375 \nL 54.390625 0 \nL 45.40625 0 \nL 45.40625 8.203125 \nQ 42.578125 3.328125 38.25 0.953125 \nQ 33.9375 -1.421875 27.875 -1.421875 \nQ 17.96875 -1.421875 11.734375 6.484375 \nQ 5.515625 14.40625 5.515625 27.296875 \nQ 5.515625 40.1875 11.734375 48.09375 \nQ 17.96875 56 27.875 56 \nQ 33.9375 56 38.25 53.625 \nQ 42.578125 51.265625 45.40625 46.390625 \nz\nM 14.796875 27.296875 \nQ 14.796875 17.390625 18.875 11.75 \nQ 22.953125 6.109375 30.078125 6.109375 \nQ 37.203125 6.109375 41.296875 11.75 \nQ 45.40625 17.390625 45.40625 27.296875 \nQ 45.40625 37.203125 41.296875 42.84375 \nQ 37.203125 48.484375 30.078125 48.484375 \nQ 22.953125 48.484375 18.875 42.84375 \nQ 14.796875 37.203125 14.796875 27.296875 \nz\n\" id=\"DejaVuSans-100\"/>\n        <path d=\"M 11.71875 12.40625 \nL 22.015625 12.40625 \nL 22.015625 0 \nL 11.71875 0 \nz\nM 11.71875 51.703125 \nL 22.015625 51.703125 \nL 22.015625 39.3125 \nL 11.71875 39.3125 \nz\n\" id=\"DejaVuSans-58\"/>\n        <path id=\"DejaVuSans-32\"/>\n        <path d=\"M 31.78125 66.40625 \nQ 24.171875 66.40625 20.328125 58.90625 \nQ 16.5 51.421875 16.5 36.375 \nQ 16.5 21.390625 20.328125 13.890625 \nQ 24.171875 6.390625 31.78125 6.390625 \nQ 39.453125 6.390625 43.28125 13.890625 \nQ 47.125 21.390625 47.125 36.375 \nQ 47.125 51.421875 43.28125 58.90625 \nQ 39.453125 66.40625 31.78125 66.40625 \nz\nM 31.78125 74.21875 \nQ 44.046875 74.21875 50.515625 64.515625 \nQ 56.984375 54.828125 56.984375 36.375 \nQ 56.984375 17.96875 50.515625 8.265625 \nQ 44.046875 -1.421875 31.78125 -1.421875 \nQ 19.53125 -1.421875 13.0625 8.265625 \nQ 6.59375 17.96875 6.59375 36.375 \nQ 6.59375 54.828125 13.0625 64.515625 \nQ 19.53125 74.21875 31.78125 74.21875 \nz\n\" id=\"DejaVuSans-48\"/>\n       </defs>\n       <use xlink:href=\"#DejaVuSans-85\"/>\n       <use x=\"73.193359\" xlink:href=\"#DejaVuSans-110\"/>\n       <use x=\"136.572266\" xlink:href=\"#DejaVuSans-110\"/>\n       <use x=\"199.951172\" xlink:href=\"#DejaVuSans-97\"/>\n       <use x=\"261.230469\" xlink:href=\"#DejaVuSans-109\"/>\n       <use x=\"358.642578\" xlink:href=\"#DejaVuSans-101\"/>\n       <use x=\"420.166016\" xlink:href=\"#DejaVuSans-100\"/>\n       <use x=\"483.642578\" xlink:href=\"#DejaVuSans-58\"/>\n       <use x=\"517.333984\" xlink:href=\"#DejaVuSans-32\"/>\n       <use x=\"549.121094\" xlink:href=\"#DejaVuSans-48\"/>\n      </g>\n     </g>\n    </g>\n    <g id=\"xtick_2\">\n     <g id=\"line2d_2\">\n      <g>\n       <use style=\"stroke:#000000;stroke-width:0.8;\" x=\"132.562188\" xlink:href=\"#m6a802ece6e\" y=\"228.439219\"/>\n      </g>\n     </g>\n     <g id=\"text_2\">\n      <!-- day -->\n      <g transform=\"translate(135.321563 253.834531)rotate(-90)scale(0.1 -0.1)\">\n       <defs>\n        <path d=\"M 32.171875 -5.078125 \nQ 28.375 -14.84375 24.75 -17.8125 \nQ 21.140625 -20.796875 15.09375 -20.796875 \nL 7.90625 -20.796875 \nL 7.90625 -13.28125 \nL 13.1875 -13.28125 \nQ 16.890625 -13.28125 18.9375 -11.515625 \nQ 21 -9.765625 23.484375 -3.21875 \nL 25.09375 0.875 \nL 2.984375 54.6875 \nL 12.5 54.6875 \nL 29.59375 11.921875 \nL 46.6875 54.6875 \nL 56.203125 54.6875 \nz\n\" id=\"DejaVuSans-121\"/>\n       </defs>\n       <use xlink:href=\"#DejaVuSans-100\"/>\n       <use x=\"63.476562\" xlink:href=\"#DejaVuSans-97\"/>\n       <use x=\"124.755859\" xlink:href=\"#DejaVuSans-121\"/>\n      </g>\n     </g>\n    </g>\n    <g id=\"xtick_3\">\n     <g id=\"line2d_3\">\n      <g>\n       <use style=\"stroke:#000000;stroke-width:0.8;\" x=\"166.042188\" xlink:href=\"#m6a802ece6e\" y=\"228.439219\"/>\n      </g>\n     </g>\n     <g id=\"text_3\">\n      <!-- month -->\n      <g transform=\"translate(168.801563 267.893906)rotate(-90)scale(0.1 -0.1)\">\n       <defs>\n        <path d=\"M 30.609375 48.390625 \nQ 23.390625 48.390625 19.1875 42.75 \nQ 14.984375 37.109375 14.984375 27.296875 \nQ 14.984375 17.484375 19.15625 11.84375 \nQ 23.34375 6.203125 30.609375 6.203125 \nQ 37.796875 6.203125 41.984375 11.859375 \nQ 46.1875 17.53125 46.1875 27.296875 \nQ 46.1875 37.015625 41.984375 42.703125 \nQ 37.796875 48.390625 30.609375 48.390625 \nz\nM 30.609375 56 \nQ 42.328125 56 49.015625 48.375 \nQ 55.71875 40.765625 55.71875 27.296875 \nQ 55.71875 13.875 49.015625 6.21875 \nQ 42.328125 -1.421875 30.609375 -1.421875 \nQ 18.84375 -1.421875 12.171875 6.21875 \nQ 5.515625 13.875 5.515625 27.296875 \nQ 5.515625 40.765625 12.171875 48.375 \nQ 18.84375 56 30.609375 56 \nz\n\" id=\"DejaVuSans-111\"/>\n        <path d=\"M 18.3125 70.21875 \nL 18.3125 54.6875 \nL 36.8125 54.6875 \nL 36.8125 47.703125 \nL 18.3125 47.703125 \nL 18.3125 18.015625 \nQ 18.3125 11.328125 20.140625 9.421875 \nQ 21.96875 7.515625 27.59375 7.515625 \nL 36.8125 7.515625 \nL 36.8125 0 \nL 27.59375 0 \nQ 17.1875 0 13.234375 3.875 \nQ 9.28125 7.765625 9.28125 18.015625 \nL 9.28125 47.703125 \nL 2.6875 47.703125 \nL 2.6875 54.6875 \nL 9.28125 54.6875 \nL 9.28125 70.21875 \nz\n\" id=\"DejaVuSans-116\"/>\n        <path d=\"M 54.890625 33.015625 \nL 54.890625 0 \nL 45.90625 0 \nL 45.90625 32.71875 \nQ 45.90625 40.484375 42.875 44.328125 \nQ 39.84375 48.1875 33.796875 48.1875 \nQ 26.515625 48.1875 22.3125 43.546875 \nQ 18.109375 38.921875 18.109375 30.90625 \nL 18.109375 0 \nL 9.078125 0 \nL 9.078125 75.984375 \nL 18.109375 75.984375 \nL 18.109375 46.1875 \nQ 21.34375 51.125 25.703125 53.5625 \nQ 30.078125 56 35.796875 56 \nQ 45.21875 56 50.046875 50.171875 \nQ 54.890625 44.34375 54.890625 33.015625 \nz\n\" id=\"DejaVuSans-104\"/>\n       </defs>\n       <use xlink:href=\"#DejaVuSans-109\"/>\n       <use x=\"97.412109\" xlink:href=\"#DejaVuSans-111\"/>\n       <use x=\"158.59375\" xlink:href=\"#DejaVuSans-110\"/>\n       <use x=\"221.972656\" xlink:href=\"#DejaVuSans-116\"/>\n       <use x=\"261.181641\" xlink:href=\"#DejaVuSans-104\"/>\n      </g>\n     </g>\n    </g>\n    <g id=\"xtick_4\">\n     <g id=\"line2d_4\">\n      <g>\n       <use style=\"stroke:#000000;stroke-width:0.8;\" x=\"199.522188\" xlink:href=\"#m6a802ece6e\" y=\"228.439219\"/>\n      </g>\n     </g>\n     <g id=\"text_4\">\n      <!-- year -->\n      <g transform=\"translate(202.281563 257.750156)rotate(-90)scale(0.1 -0.1)\">\n       <defs>\n        <path d=\"M 41.109375 46.296875 \nQ 39.59375 47.171875 37.8125 47.578125 \nQ 36.03125 48 33.890625 48 \nQ 26.265625 48 22.1875 43.046875 \nQ 18.109375 38.09375 18.109375 28.8125 \nL 18.109375 0 \nL 9.078125 0 \nL 9.078125 54.6875 \nL 18.109375 54.6875 \nL 18.109375 46.1875 \nQ 20.953125 51.171875 25.484375 53.578125 \nQ 30.03125 56 36.53125 56 \nQ 37.453125 56 38.578125 55.875 \nQ 39.703125 55.765625 41.0625 55.515625 \nz\n\" id=\"DejaVuSans-114\"/>\n       </defs>\n       <use xlink:href=\"#DejaVuSans-121\"/>\n       <use x=\"59.179688\" xlink:href=\"#DejaVuSans-101\"/>\n       <use x=\"120.703125\" xlink:href=\"#DejaVuSans-97\"/>\n       <use x=\"181.982422\" xlink:href=\"#DejaVuSans-114\"/>\n      </g>\n     </g>\n    </g>\n    <g id=\"xtick_5\">\n     <g id=\"line2d_5\">\n      <g>\n       <use style=\"stroke:#000000;stroke-width:0.8;\" x=\"233.002188\" xlink:href=\"#m6a802ece6e\" y=\"228.439219\"/>\n      </g>\n     </g>\n     <g id=\"text_5\">\n      <!-- cases -->\n      <g transform=\"translate(235.761563 263.637656)rotate(-90)scale(0.1 -0.1)\">\n       <defs>\n        <path d=\"M 48.78125 52.59375 \nL 48.78125 44.1875 \nQ 44.96875 46.296875 41.140625 47.34375 \nQ 37.3125 48.390625 33.40625 48.390625 \nQ 24.65625 48.390625 19.8125 42.84375 \nQ 14.984375 37.3125 14.984375 27.296875 \nQ 14.984375 17.28125 19.8125 11.734375 \nQ 24.65625 6.203125 33.40625 6.203125 \nQ 37.3125 6.203125 41.140625 7.25 \nQ 44.96875 8.296875 48.78125 10.40625 \nL 48.78125 2.09375 \nQ 45.015625 0.34375 40.984375 -0.53125 \nQ 36.96875 -1.421875 32.421875 -1.421875 \nQ 20.0625 -1.421875 12.78125 6.34375 \nQ 5.515625 14.109375 5.515625 27.296875 \nQ 5.515625 40.671875 12.859375 48.328125 \nQ 20.21875 56 33.015625 56 \nQ 37.15625 56 41.109375 55.140625 \nQ 45.0625 54.296875 48.78125 52.59375 \nz\n\" id=\"DejaVuSans-99\"/>\n        <path d=\"M 44.28125 53.078125 \nL 44.28125 44.578125 \nQ 40.484375 46.53125 36.375 47.5 \nQ 32.28125 48.484375 27.875 48.484375 \nQ 21.1875 48.484375 17.84375 46.4375 \nQ 14.5 44.390625 14.5 40.28125 \nQ 14.5 37.15625 16.890625 35.375 \nQ 19.28125 33.59375 26.515625 31.984375 \nL 29.59375 31.296875 \nQ 39.15625 29.25 43.1875 25.515625 \nQ 47.21875 21.78125 47.21875 15.09375 \nQ 47.21875 7.46875 41.1875 3.015625 \nQ 35.15625 -1.421875 24.609375 -1.421875 \nQ 20.21875 -1.421875 15.453125 -0.5625 \nQ 10.6875 0.296875 5.421875 2 \nL 5.421875 11.28125 \nQ 10.40625 8.6875 15.234375 7.390625 \nQ 20.0625 6.109375 24.8125 6.109375 \nQ 31.15625 6.109375 34.5625 8.28125 \nQ 37.984375 10.453125 37.984375 14.40625 \nQ 37.984375 18.0625 35.515625 20.015625 \nQ 33.0625 21.96875 24.703125 23.78125 \nL 21.578125 24.515625 \nQ 13.234375 26.265625 9.515625 29.90625 \nQ 5.8125 33.546875 5.8125 39.890625 \nQ 5.8125 47.609375 11.28125 51.796875 \nQ 16.75 56 26.8125 56 \nQ 31.78125 56 36.171875 55.265625 \nQ 40.578125 54.546875 44.28125 53.078125 \nz\n\" id=\"DejaVuSans-115\"/>\n       </defs>\n       <use xlink:href=\"#DejaVuSans-99\"/>\n       <use x=\"54.980469\" xlink:href=\"#DejaVuSans-97\"/>\n       <use x=\"116.259766\" xlink:href=\"#DejaVuSans-115\"/>\n       <use x=\"168.359375\" xlink:href=\"#DejaVuSans-101\"/>\n       <use x=\"229.882812\" xlink:href=\"#DejaVuSans-115\"/>\n      </g>\n     </g>\n    </g>\n    <g id=\"xtick_6\">\n     <g id=\"line2d_6\">\n      <g>\n       <use style=\"stroke:#000000;stroke-width:0.8;\" x=\"266.482188\" xlink:href=\"#m6a802ece6e\" y=\"228.439219\"/>\n      </g>\n     </g>\n     <g id=\"text_6\">\n      <!-- deaths -->\n      <g transform=\"translate(269.241562 269.536094)rotate(-90)scale(0.1 -0.1)\">\n       <use xlink:href=\"#DejaVuSans-100\"/>\n       <use x=\"63.476562\" xlink:href=\"#DejaVuSans-101\"/>\n       <use x=\"125\" xlink:href=\"#DejaVuSans-97\"/>\n       <use x=\"186.279297\" xlink:href=\"#DejaVuSans-116\"/>\n       <use x=\"225.488281\" xlink:href=\"#DejaVuSans-104\"/>\n       <use x=\"288.867188\" xlink:href=\"#DejaVuSans-115\"/>\n      </g>\n     </g>\n    </g>\n    <g id=\"xtick_7\">\n     <g id=\"line2d_7\">\n      <g>\n       <use style=\"stroke:#000000;stroke-width:0.8;\" x=\"299.962188\" xlink:href=\"#m6a802ece6e\" y=\"228.439219\"/>\n      </g>\n     </g>\n     <g id=\"text_7\">\n      <!-- popData2019 -->\n      <g transform=\"translate(302.721563 303.581406)rotate(-90)scale(0.1 -0.1)\">\n       <defs>\n        <path d=\"M 18.109375 8.203125 \nL 18.109375 -20.796875 \nL 9.078125 -20.796875 \nL 9.078125 54.6875 \nL 18.109375 54.6875 \nL 18.109375 46.390625 \nQ 20.953125 51.265625 25.265625 53.625 \nQ 29.59375 56 35.59375 56 \nQ 45.5625 56 51.78125 48.09375 \nQ 58.015625 40.1875 58.015625 27.296875 \nQ 58.015625 14.40625 51.78125 6.484375 \nQ 45.5625 -1.421875 35.59375 -1.421875 \nQ 29.59375 -1.421875 25.265625 0.953125 \nQ 20.953125 3.328125 18.109375 8.203125 \nz\nM 48.6875 27.296875 \nQ 48.6875 37.203125 44.609375 42.84375 \nQ 40.53125 48.484375 33.40625 48.484375 \nQ 26.265625 48.484375 22.1875 42.84375 \nQ 18.109375 37.203125 18.109375 27.296875 \nQ 18.109375 17.390625 22.1875 11.75 \nQ 26.265625 6.109375 33.40625 6.109375 \nQ 40.53125 6.109375 44.609375 11.75 \nQ 48.6875 17.390625 48.6875 27.296875 \nz\n\" id=\"DejaVuSans-112\"/>\n        <path d=\"M 19.671875 64.796875 \nL 19.671875 8.109375 \nL 31.59375 8.109375 \nQ 46.6875 8.109375 53.6875 14.9375 \nQ 60.6875 21.78125 60.6875 36.53125 \nQ 60.6875 51.171875 53.6875 57.984375 \nQ 46.6875 64.796875 31.59375 64.796875 \nz\nM 9.8125 72.90625 \nL 30.078125 72.90625 \nQ 51.265625 72.90625 61.171875 64.09375 \nQ 71.09375 55.28125 71.09375 36.53125 \nQ 71.09375 17.671875 61.125 8.828125 \nQ 51.171875 0 30.078125 0 \nL 9.8125 0 \nz\n\" id=\"DejaVuSans-68\"/>\n        <path d=\"M 19.1875 8.296875 \nL 53.609375 8.296875 \nL 53.609375 0 \nL 7.328125 0 \nL 7.328125 8.296875 \nQ 12.9375 14.109375 22.625 23.890625 \nQ 32.328125 33.6875 34.8125 36.53125 \nQ 39.546875 41.84375 41.421875 45.53125 \nQ 43.3125 49.21875 43.3125 52.78125 \nQ 43.3125 58.59375 39.234375 62.25 \nQ 35.15625 65.921875 28.609375 65.921875 \nQ 23.96875 65.921875 18.8125 64.3125 \nQ 13.671875 62.703125 7.8125 59.421875 \nL 7.8125 69.390625 \nQ 13.765625 71.78125 18.9375 73 \nQ 24.125 74.21875 28.421875 74.21875 \nQ 39.75 74.21875 46.484375 68.546875 \nQ 53.21875 62.890625 53.21875 53.421875 \nQ 53.21875 48.921875 51.53125 44.890625 \nQ 49.859375 40.875 45.40625 35.40625 \nQ 44.1875 33.984375 37.640625 27.21875 \nQ 31.109375 20.453125 19.1875 8.296875 \nz\n\" id=\"DejaVuSans-50\"/>\n        <path d=\"M 12.40625 8.296875 \nL 28.515625 8.296875 \nL 28.515625 63.921875 \nL 10.984375 60.40625 \nL 10.984375 69.390625 \nL 28.421875 72.90625 \nL 38.28125 72.90625 \nL 38.28125 8.296875 \nL 54.390625 8.296875 \nL 54.390625 0 \nL 12.40625 0 \nz\n\" id=\"DejaVuSans-49\"/>\n        <path d=\"M 10.984375 1.515625 \nL 10.984375 10.5 \nQ 14.703125 8.734375 18.5 7.8125 \nQ 22.3125 6.890625 25.984375 6.890625 \nQ 35.75 6.890625 40.890625 13.453125 \nQ 46.046875 20.015625 46.78125 33.40625 \nQ 43.953125 29.203125 39.59375 26.953125 \nQ 35.25 24.703125 29.984375 24.703125 \nQ 19.046875 24.703125 12.671875 31.3125 \nQ 6.296875 37.9375 6.296875 49.421875 \nQ 6.296875 60.640625 12.9375 67.421875 \nQ 19.578125 74.21875 30.609375 74.21875 \nQ 43.265625 74.21875 49.921875 64.515625 \nQ 56.59375 54.828125 56.59375 36.375 \nQ 56.59375 19.140625 48.40625 8.859375 \nQ 40.234375 -1.421875 26.421875 -1.421875 \nQ 22.703125 -1.421875 18.890625 -0.6875 \nQ 15.09375 0.046875 10.984375 1.515625 \nz\nM 30.609375 32.421875 \nQ 37.25 32.421875 41.125 36.953125 \nQ 45.015625 41.5 45.015625 49.421875 \nQ 45.015625 57.28125 41.125 61.84375 \nQ 37.25 66.40625 30.609375 66.40625 \nQ 23.96875 66.40625 20.09375 61.84375 \nQ 16.21875 57.28125 16.21875 49.421875 \nQ 16.21875 41.5 20.09375 36.953125 \nQ 23.96875 32.421875 30.609375 32.421875 \nz\n\" id=\"DejaVuSans-57\"/>\n       </defs>\n       <use xlink:href=\"#DejaVuSans-112\"/>\n       <use x=\"63.476562\" xlink:href=\"#DejaVuSans-111\"/>\n       <use x=\"124.658203\" xlink:href=\"#DejaVuSans-112\"/>\n       <use x=\"188.134766\" xlink:href=\"#DejaVuSans-68\"/>\n       <use x=\"265.136719\" xlink:href=\"#DejaVuSans-97\"/>\n       <use x=\"326.416016\" xlink:href=\"#DejaVuSans-116\"/>\n       <use x=\"365.625\" xlink:href=\"#DejaVuSans-97\"/>\n       <use x=\"426.904297\" xlink:href=\"#DejaVuSans-50\"/>\n       <use x=\"490.527344\" xlink:href=\"#DejaVuSans-48\"/>\n       <use x=\"554.150391\" xlink:href=\"#DejaVuSans-49\"/>\n       <use x=\"617.773438\" xlink:href=\"#DejaVuSans-57\"/>\n      </g>\n     </g>\n    </g>\n    <g id=\"xtick_8\">\n     <g id=\"line2d_8\">\n      <g>\n       <use style=\"stroke:#000000;stroke-width:0.8;\" x=\"333.442188\" xlink:href=\"#m6a802ece6e\" y=\"228.439219\"/>\n      </g>\n     </g>\n     <g id=\"text_8\">\n      <!-- CNC -->\n      <g transform=\"translate(336.201563 256.886094)rotate(-90)scale(0.1 -0.1)\">\n       <defs>\n        <path d=\"M 64.40625 67.28125 \nL 64.40625 56.890625 \nQ 59.421875 61.53125 53.78125 63.8125 \nQ 48.140625 66.109375 41.796875 66.109375 \nQ 29.296875 66.109375 22.65625 58.46875 \nQ 16.015625 50.828125 16.015625 36.375 \nQ 16.015625 21.96875 22.65625 14.328125 \nQ 29.296875 6.6875 41.796875 6.6875 \nQ 48.140625 6.6875 53.78125 8.984375 \nQ 59.421875 11.28125 64.40625 15.921875 \nL 64.40625 5.609375 \nQ 59.234375 2.09375 53.4375 0.328125 \nQ 47.65625 -1.421875 41.21875 -1.421875 \nQ 24.65625 -1.421875 15.125 8.703125 \nQ 5.609375 18.84375 5.609375 36.375 \nQ 5.609375 53.953125 15.125 64.078125 \nQ 24.65625 74.21875 41.21875 74.21875 \nQ 47.75 74.21875 53.53125 72.484375 \nQ 59.328125 70.75 64.40625 67.28125 \nz\n\" id=\"DejaVuSans-67\"/>\n        <path d=\"M 9.8125 72.90625 \nL 23.09375 72.90625 \nL 55.421875 11.921875 \nL 55.421875 72.90625 \nL 64.984375 72.90625 \nL 64.984375 0 \nL 51.703125 0 \nL 19.390625 60.984375 \nL 19.390625 0 \nL 9.8125 0 \nz\n\" id=\"DejaVuSans-78\"/>\n       </defs>\n       <use xlink:href=\"#DejaVuSans-67\"/>\n       <use x=\"69.824219\" xlink:href=\"#DejaVuSans-78\"/>\n       <use x=\"144.628906\" xlink:href=\"#DejaVuSans-67\"/>\n      </g>\n     </g>\n    </g>\n   </g>\n   <g id=\"matplotlib.axis_2\">\n    <g id=\"ytick_1\">\n     <g id=\"line2d_9\">\n      <defs>\n       <path d=\"M 0 0 \nL -3.5 0 \n\" id=\"m8f9a94f480\" style=\"stroke:#000000;stroke-width:0.8;\"/>\n      </defs>\n      <g>\n       <use style=\"stroke:#000000;stroke-width:0.8;\" x=\"82.342188\" xlink:href=\"#m8f9a94f480\" y=\"24.589219\"/>\n      </g>\n     </g>\n     <g id=\"text_9\">\n      <!-- Unnamed: 0 -->\n      <g transform=\"translate(14.06875 28.388438)scale(0.1 -0.1)\">\n       <use xlink:href=\"#DejaVuSans-85\"/>\n       <use x=\"73.193359\" xlink:href=\"#DejaVuSans-110\"/>\n       <use x=\"136.572266\" xlink:href=\"#DejaVuSans-110\"/>\n       <use x=\"199.951172\" xlink:href=\"#DejaVuSans-97\"/>\n       <use x=\"261.230469\" xlink:href=\"#DejaVuSans-109\"/>\n       <use x=\"358.642578\" xlink:href=\"#DejaVuSans-101\"/>\n       <use x=\"420.166016\" xlink:href=\"#DejaVuSans-100\"/>\n       <use x=\"483.642578\" xlink:href=\"#DejaVuSans-58\"/>\n       <use x=\"517.333984\" xlink:href=\"#DejaVuSans-32\"/>\n       <use x=\"549.121094\" xlink:href=\"#DejaVuSans-48\"/>\n      </g>\n     </g>\n    </g>\n    <g id=\"ytick_2\">\n     <g id=\"line2d_10\">\n      <g>\n       <use style=\"stroke:#000000;stroke-width:0.8;\" x=\"82.342188\" xlink:href=\"#m8f9a94f480\" y=\"51.769219\"/>\n      </g>\n     </g>\n     <g id=\"text_10\">\n      <!-- day -->\n      <g transform=\"translate(56.946875 55.568437)scale(0.1 -0.1)\">\n       <use xlink:href=\"#DejaVuSans-100\"/>\n       <use x=\"63.476562\" xlink:href=\"#DejaVuSans-97\"/>\n       <use x=\"124.755859\" xlink:href=\"#DejaVuSans-121\"/>\n      </g>\n     </g>\n    </g>\n    <g id=\"ytick_3\">\n     <g id=\"line2d_11\">\n      <g>\n       <use style=\"stroke:#000000;stroke-width:0.8;\" x=\"82.342188\" xlink:href=\"#m8f9a94f480\" y=\"78.949219\"/>\n      </g>\n     </g>\n     <g id=\"text_11\">\n      <!-- month -->\n      <g transform=\"translate(42.8875 82.748437)scale(0.1 -0.1)\">\n       <use xlink:href=\"#DejaVuSans-109\"/>\n       <use x=\"97.412109\" xlink:href=\"#DejaVuSans-111\"/>\n       <use x=\"158.59375\" xlink:href=\"#DejaVuSans-110\"/>\n       <use x=\"221.972656\" xlink:href=\"#DejaVuSans-116\"/>\n       <use x=\"261.181641\" xlink:href=\"#DejaVuSans-104\"/>\n      </g>\n     </g>\n    </g>\n    <g id=\"ytick_4\">\n     <g id=\"line2d_12\">\n      <g>\n       <use style=\"stroke:#000000;stroke-width:0.8;\" x=\"82.342188\" xlink:href=\"#m8f9a94f480\" y=\"106.129219\"/>\n      </g>\n     </g>\n     <g id=\"text_12\">\n      <!-- year -->\n      <g transform=\"translate(53.03125 109.928438)scale(0.1 -0.1)\">\n       <use xlink:href=\"#DejaVuSans-121\"/>\n       <use x=\"59.179688\" xlink:href=\"#DejaVuSans-101\"/>\n       <use x=\"120.703125\" xlink:href=\"#DejaVuSans-97\"/>\n       <use x=\"181.982422\" xlink:href=\"#DejaVuSans-114\"/>\n      </g>\n     </g>\n    </g>\n    <g id=\"ytick_5\">\n     <g id=\"line2d_13\">\n      <g>\n       <use style=\"stroke:#000000;stroke-width:0.8;\" x=\"82.342188\" xlink:href=\"#m8f9a94f480\" y=\"133.309219\"/>\n      </g>\n     </g>\n     <g id=\"text_13\">\n      <!-- cases -->\n      <g transform=\"translate(47.14375 137.108438)scale(0.1 -0.1)\">\n       <use xlink:href=\"#DejaVuSans-99\"/>\n       <use x=\"54.980469\" xlink:href=\"#DejaVuSans-97\"/>\n       <use x=\"116.259766\" xlink:href=\"#DejaVuSans-115\"/>\n       <use x=\"168.359375\" xlink:href=\"#DejaVuSans-101\"/>\n       <use x=\"229.882812\" xlink:href=\"#DejaVuSans-115\"/>\n      </g>\n     </g>\n    </g>\n    <g id=\"ytick_6\">\n     <g id=\"line2d_14\">\n      <g>\n       <use style=\"stroke:#000000;stroke-width:0.8;\" x=\"82.342188\" xlink:href=\"#m8f9a94f480\" y=\"160.489219\"/>\n      </g>\n     </g>\n     <g id=\"text_14\">\n      <!-- deaths -->\n      <g transform=\"translate(41.245313 164.288438)scale(0.1 -0.1)\">\n       <use xlink:href=\"#DejaVuSans-100\"/>\n       <use x=\"63.476562\" xlink:href=\"#DejaVuSans-101\"/>\n       <use x=\"125\" xlink:href=\"#DejaVuSans-97\"/>\n       <use x=\"186.279297\" xlink:href=\"#DejaVuSans-116\"/>\n       <use x=\"225.488281\" xlink:href=\"#DejaVuSans-104\"/>\n       <use x=\"288.867188\" xlink:href=\"#DejaVuSans-115\"/>\n      </g>\n     </g>\n    </g>\n    <g id=\"ytick_7\">\n     <g id=\"line2d_15\">\n      <g>\n       <use style=\"stroke:#000000;stroke-width:0.8;\" x=\"82.342188\" xlink:href=\"#m8f9a94f480\" y=\"187.669219\"/>\n      </g>\n     </g>\n     <g id=\"text_15\">\n      <!-- popData2019 -->\n      <g transform=\"translate(7.2 191.468437)scale(0.1 -0.1)\">\n       <use xlink:href=\"#DejaVuSans-112\"/>\n       <use x=\"63.476562\" xlink:href=\"#DejaVuSans-111\"/>\n       <use x=\"124.658203\" xlink:href=\"#DejaVuSans-112\"/>\n       <use x=\"188.134766\" xlink:href=\"#DejaVuSans-68\"/>\n       <use x=\"265.136719\" xlink:href=\"#DejaVuSans-97\"/>\n       <use x=\"326.416016\" xlink:href=\"#DejaVuSans-116\"/>\n       <use x=\"365.625\" xlink:href=\"#DejaVuSans-97\"/>\n       <use x=\"426.904297\" xlink:href=\"#DejaVuSans-50\"/>\n       <use x=\"490.527344\" xlink:href=\"#DejaVuSans-48\"/>\n       <use x=\"554.150391\" xlink:href=\"#DejaVuSans-49\"/>\n       <use x=\"617.773438\" xlink:href=\"#DejaVuSans-57\"/>\n      </g>\n     </g>\n    </g>\n    <g id=\"ytick_8\">\n     <g id=\"line2d_16\">\n      <g>\n       <use style=\"stroke:#000000;stroke-width:0.8;\" x=\"82.342188\" xlink:href=\"#m8f9a94f480\" y=\"214.849219\"/>\n      </g>\n     </g>\n     <g id=\"text_16\">\n      <!-- CNC -->\n      <g transform=\"translate(53.895313 218.648438)scale(0.1 -0.1)\">\n       <use xlink:href=\"#DejaVuSans-67\"/>\n       <use x=\"69.824219\" xlink:href=\"#DejaVuSans-78\"/>\n       <use x=\"144.628906\" xlink:href=\"#DejaVuSans-67\"/>\n      </g>\n     </g>\n    </g>\n   </g>\n   <g id=\"text_17\">\n    <!-- 1 -->\n    <g style=\"fill:#262626;\" transform=\"translate(95.900937 27.348594)scale(0.1 -0.1)\">\n     <use xlink:href=\"#DejaVuSans-49\"/>\n    </g>\n   </g>\n   <g id=\"text_18\">\n    <!-- -0.051 -->\n    <g style=\"fill:#ffffff;\" transform=\"translate(116.444219 27.348594)scale(0.1 -0.1)\">\n     <defs>\n      <path d=\"M 4.890625 31.390625 \nL 31.203125 31.390625 \nL 31.203125 23.390625 \nL 4.890625 23.390625 \nz\n\" id=\"DejaVuSans-45\"/>\n      <path d=\"M 10.6875 12.40625 \nL 21 12.40625 \nL 21 0 \nL 10.6875 0 \nz\n\" id=\"DejaVuSans-46\"/>\n      <path d=\"M 10.796875 72.90625 \nL 49.515625 72.90625 \nL 49.515625 64.59375 \nL 19.828125 64.59375 \nL 19.828125 46.734375 \nQ 21.96875 47.46875 24.109375 47.828125 \nQ 26.265625 48.1875 28.421875 48.1875 \nQ 40.625 48.1875 47.75 41.5 \nQ 54.890625 34.8125 54.890625 23.390625 \nQ 54.890625 11.625 47.5625 5.09375 \nQ 40.234375 -1.421875 26.90625 -1.421875 \nQ 22.3125 -1.421875 17.546875 -0.640625 \nQ 12.796875 0.140625 7.71875 1.703125 \nL 7.71875 11.625 \nQ 12.109375 9.234375 16.796875 8.0625 \nQ 21.484375 6.890625 26.703125 6.890625 \nQ 35.15625 6.890625 40.078125 11.328125 \nQ 45.015625 15.765625 45.015625 23.390625 \nQ 45.015625 31 40.078125 35.4375 \nQ 35.15625 39.890625 26.703125 39.890625 \nQ 22.75 39.890625 18.8125 39.015625 \nQ 14.890625 38.140625 10.796875 36.28125 \nz\n\" id=\"DejaVuSans-53\"/>\n     </defs>\n     <use xlink:href=\"#DejaVuSans-45\"/>\n     <use x=\"36.083984\" xlink:href=\"#DejaVuSans-48\"/>\n     <use x=\"99.707031\" xlink:href=\"#DejaVuSans-46\"/>\n     <use x=\"131.494141\" xlink:href=\"#DejaVuSans-48\"/>\n     <use x=\"195.117188\" xlink:href=\"#DejaVuSans-53\"/>\n     <use x=\"258.740234\" xlink:href=\"#DejaVuSans-49\"/>\n    </g>\n   </g>\n   <g id=\"text_19\">\n    <!-- -0.98 -->\n    <g style=\"fill:#ffffff;\" transform=\"translate(153.105469 27.348594)scale(0.1 -0.1)\">\n     <defs>\n      <path d=\"M 31.78125 34.625 \nQ 24.75 34.625 20.71875 30.859375 \nQ 16.703125 27.09375 16.703125 20.515625 \nQ 16.703125 13.921875 20.71875 10.15625 \nQ 24.75 6.390625 31.78125 6.390625 \nQ 38.8125 6.390625 42.859375 10.171875 \nQ 46.921875 13.96875 46.921875 20.515625 \nQ 46.921875 27.09375 42.890625 30.859375 \nQ 38.875 34.625 31.78125 34.625 \nz\nM 21.921875 38.8125 \nQ 15.578125 40.375 12.03125 44.71875 \nQ 8.5 49.078125 8.5 55.328125 \nQ 8.5 64.0625 14.71875 69.140625 \nQ 20.953125 74.21875 31.78125 74.21875 \nQ 42.671875 74.21875 48.875 69.140625 \nQ 55.078125 64.0625 55.078125 55.328125 \nQ 55.078125 49.078125 51.53125 44.71875 \nQ 48 40.375 41.703125 38.8125 \nQ 48.828125 37.15625 52.796875 32.3125 \nQ 56.78125 27.484375 56.78125 20.515625 \nQ 56.78125 9.90625 50.3125 4.234375 \nQ 43.84375 -1.421875 31.78125 -1.421875 \nQ 19.734375 -1.421875 13.25 4.234375 \nQ 6.78125 9.90625 6.78125 20.515625 \nQ 6.78125 27.484375 10.78125 32.3125 \nQ 14.796875 37.15625 21.921875 38.8125 \nz\nM 18.3125 54.390625 \nQ 18.3125 48.734375 21.84375 45.5625 \nQ 25.390625 42.390625 31.78125 42.390625 \nQ 38.140625 42.390625 41.71875 45.5625 \nQ 45.3125 48.734375 45.3125 54.390625 \nQ 45.3125 60.0625 41.71875 63.234375 \nQ 38.140625 66.40625 31.78125 66.40625 \nQ 25.390625 66.40625 21.84375 63.234375 \nQ 18.3125 60.0625 18.3125 54.390625 \nz\n\" id=\"DejaVuSans-56\"/>\n     </defs>\n     <use xlink:href=\"#DejaVuSans-45\"/>\n     <use x=\"36.083984\" xlink:href=\"#DejaVuSans-48\"/>\n     <use x=\"99.707031\" xlink:href=\"#DejaVuSans-46\"/>\n     <use x=\"131.494141\" xlink:href=\"#DejaVuSans-57\"/>\n     <use x=\"195.117188\" xlink:href=\"#DejaVuSans-56\"/>\n    </g>\n   </g>\n   <g id=\"text_20\">\n    <!-- -0.094 -->\n    <g style=\"fill:#ffffff;\" transform=\"translate(183.404219 27.348594)scale(0.1 -0.1)\">\n     <defs>\n      <path d=\"M 37.796875 64.3125 \nL 12.890625 25.390625 \nL 37.796875 25.390625 \nz\nM 35.203125 72.90625 \nL 47.609375 72.90625 \nL 47.609375 25.390625 \nL 58.015625 25.390625 \nL 58.015625 17.1875 \nL 47.609375 17.1875 \nL 47.609375 0 \nL 37.796875 0 \nL 37.796875 17.1875 \nL 4.890625 17.1875 \nL 4.890625 26.703125 \nz\n\" id=\"DejaVuSans-52\"/>\n     </defs>\n     <use xlink:href=\"#DejaVuSans-45\"/>\n     <use x=\"36.083984\" xlink:href=\"#DejaVuSans-48\"/>\n     <use x=\"99.707031\" xlink:href=\"#DejaVuSans-46\"/>\n     <use x=\"131.494141\" xlink:href=\"#DejaVuSans-48\"/>\n     <use x=\"195.117188\" xlink:href=\"#DejaVuSans-57\"/>\n     <use x=\"258.740234\" xlink:href=\"#DejaVuSans-52\"/>\n    </g>\n   </g>\n   <g id=\"text_21\">\n    <!-- -0.7 -->\n    <g style=\"fill:#ffffff;\" transform=\"translate(223.246719 27.348594)scale(0.1 -0.1)\">\n     <defs>\n      <path d=\"M 8.203125 72.90625 \nL 55.078125 72.90625 \nL 55.078125 68.703125 \nL 28.609375 0 \nL 18.3125 0 \nL 43.21875 64.59375 \nL 8.203125 64.59375 \nz\n\" id=\"DejaVuSans-55\"/>\n     </defs>\n     <use xlink:href=\"#DejaVuSans-45\"/>\n     <use x=\"36.083984\" xlink:href=\"#DejaVuSans-48\"/>\n     <use x=\"99.707031\" xlink:href=\"#DejaVuSans-46\"/>\n     <use x=\"131.494141\" xlink:href=\"#DejaVuSans-55\"/>\n    </g>\n   </g>\n   <g id=\"text_22\">\n    <!-- -0.78 -->\n    <g style=\"fill:#ffffff;\" transform=\"translate(253.545469 27.348594)scale(0.1 -0.1)\">\n     <use xlink:href=\"#DejaVuSans-45\"/>\n     <use x=\"36.083984\" xlink:href=\"#DejaVuSans-48\"/>\n     <use x=\"99.707031\" xlink:href=\"#DejaVuSans-46\"/>\n     <use x=\"131.494141\" xlink:href=\"#DejaVuSans-55\"/>\n     <use x=\"195.117188\" xlink:href=\"#DejaVuSans-56\"/>\n    </g>\n   </g>\n   <g id=\"text_23\">\n    <!-- -0.77 -->\n    <g style=\"fill:#ffffff;\" transform=\"translate(320.505469 27.348594)scale(0.1 -0.1)\">\n     <use xlink:href=\"#DejaVuSans-45\"/>\n     <use x=\"36.083984\" xlink:href=\"#DejaVuSans-48\"/>\n     <use x=\"99.707031\" xlink:href=\"#DejaVuSans-46\"/>\n     <use x=\"131.494141\" xlink:href=\"#DejaVuSans-55\"/>\n     <use x=\"195.117188\" xlink:href=\"#DejaVuSans-55\"/>\n    </g>\n   </g>\n   <g id=\"text_24\">\n    <!-- -0.051 -->\n    <g style=\"fill:#ffffff;\" transform=\"translate(82.964219 54.528594)scale(0.1 -0.1)\">\n     <use xlink:href=\"#DejaVuSans-45\"/>\n     <use x=\"36.083984\" xlink:href=\"#DejaVuSans-48\"/>\n     <use x=\"99.707031\" xlink:href=\"#DejaVuSans-46\"/>\n     <use x=\"131.494141\" xlink:href=\"#DejaVuSans-48\"/>\n     <use x=\"195.117188\" xlink:href=\"#DejaVuSans-53\"/>\n     <use x=\"258.740234\" xlink:href=\"#DejaVuSans-49\"/>\n    </g>\n   </g>\n   <g id=\"text_25\">\n    <!-- 1 -->\n    <g style=\"fill:#262626;\" transform=\"translate(129.380938 54.528594)scale(0.1 -0.1)\">\n     <use xlink:href=\"#DejaVuSans-49\"/>\n    </g>\n   </g>\n   <g id=\"text_26\">\n    <!-- -0.02 -->\n    <g style=\"fill:#ffffff;\" transform=\"translate(153.105469 54.528594)scale(0.1 -0.1)\">\n     <use xlink:href=\"#DejaVuSans-45\"/>\n     <use x=\"36.083984\" xlink:href=\"#DejaVuSans-48\"/>\n     <use x=\"99.707031\" xlink:href=\"#DejaVuSans-46\"/>\n     <use x=\"131.494141\" xlink:href=\"#DejaVuSans-48\"/>\n     <use x=\"195.117188\" xlink:href=\"#DejaVuSans-50\"/>\n    </g>\n   </g>\n   <g id=\"text_27\">\n    <!-- -0.094 -->\n    <g style=\"fill:#ffffff;\" transform=\"translate(183.404219 54.528594)scale(0.1 -0.1)\">\n     <use xlink:href=\"#DejaVuSans-45\"/>\n     <use x=\"36.083984\" xlink:href=\"#DejaVuSans-48\"/>\n     <use x=\"99.707031\" xlink:href=\"#DejaVuSans-46\"/>\n     <use x=\"131.494141\" xlink:href=\"#DejaVuSans-48\"/>\n     <use x=\"195.117188\" xlink:href=\"#DejaVuSans-57\"/>\n     <use x=\"258.740234\" xlink:href=\"#DejaVuSans-52\"/>\n    </g>\n   </g>\n   <g id=\"text_28\">\n    <!-- 0.043 -->\n    <g style=\"fill:#ffffff;\" transform=\"translate(218.688125 54.528594)scale(0.1 -0.1)\">\n     <defs>\n      <path d=\"M 40.578125 39.3125 \nQ 47.65625 37.796875 51.625 33 \nQ 55.609375 28.21875 55.609375 21.1875 \nQ 55.609375 10.40625 48.1875 4.484375 \nQ 40.765625 -1.421875 27.09375 -1.421875 \nQ 22.515625 -1.421875 17.65625 -0.515625 \nQ 12.796875 0.390625 7.625 2.203125 \nL 7.625 11.71875 \nQ 11.71875 9.328125 16.59375 8.109375 \nQ 21.484375 6.890625 26.8125 6.890625 \nQ 36.078125 6.890625 40.9375 10.546875 \nQ 45.796875 14.203125 45.796875 21.1875 \nQ 45.796875 27.640625 41.28125 31.265625 \nQ 36.765625 34.90625 28.71875 34.90625 \nL 20.21875 34.90625 \nL 20.21875 43.015625 \nL 29.109375 43.015625 \nQ 36.375 43.015625 40.234375 45.921875 \nQ 44.09375 48.828125 44.09375 54.296875 \nQ 44.09375 59.90625 40.109375 62.90625 \nQ 36.140625 65.921875 28.71875 65.921875 \nQ 24.65625 65.921875 20.015625 65.03125 \nQ 15.375 64.15625 9.8125 62.3125 \nL 9.8125 71.09375 \nQ 15.4375 72.65625 20.34375 73.4375 \nQ 25.25 74.21875 29.59375 74.21875 \nQ 40.828125 74.21875 47.359375 69.109375 \nQ 53.90625 64.015625 53.90625 55.328125 \nQ 53.90625 49.265625 50.4375 45.09375 \nQ 46.96875 40.921875 40.578125 39.3125 \nz\n\" id=\"DejaVuSans-51\"/>\n     </defs>\n     <use xlink:href=\"#DejaVuSans-48\"/>\n     <use x=\"63.623047\" xlink:href=\"#DejaVuSans-46\"/>\n     <use x=\"95.410156\" xlink:href=\"#DejaVuSans-48\"/>\n     <use x=\"159.033203\" xlink:href=\"#DejaVuSans-52\"/>\n     <use x=\"222.65625\" xlink:href=\"#DejaVuSans-51\"/>\n    </g>\n   </g>\n   <g id=\"text_29\">\n    <!-- 0.06 -->\n    <g style=\"fill:#ffffff;\" transform=\"translate(255.349375 54.528594)scale(0.1 -0.1)\">\n     <defs>\n      <path d=\"M 33.015625 40.375 \nQ 26.375 40.375 22.484375 35.828125 \nQ 18.609375 31.296875 18.609375 23.390625 \nQ 18.609375 15.53125 22.484375 10.953125 \nQ 26.375 6.390625 33.015625 6.390625 \nQ 39.65625 6.390625 43.53125 10.953125 \nQ 47.40625 15.53125 47.40625 23.390625 \nQ 47.40625 31.296875 43.53125 35.828125 \nQ 39.65625 40.375 33.015625 40.375 \nz\nM 52.59375 71.296875 \nL 52.59375 62.3125 \nQ 48.875 64.0625 45.09375 64.984375 \nQ 41.3125 65.921875 37.59375 65.921875 \nQ 27.828125 65.921875 22.671875 59.328125 \nQ 17.53125 52.734375 16.796875 39.40625 \nQ 19.671875 43.65625 24.015625 45.921875 \nQ 28.375 48.1875 33.59375 48.1875 \nQ 44.578125 48.1875 50.953125 41.515625 \nQ 57.328125 34.859375 57.328125 23.390625 \nQ 57.328125 12.15625 50.6875 5.359375 \nQ 44.046875 -1.421875 33.015625 -1.421875 \nQ 20.359375 -1.421875 13.671875 8.265625 \nQ 6.984375 17.96875 6.984375 36.375 \nQ 6.984375 53.65625 15.1875 63.9375 \nQ 23.390625 74.21875 37.203125 74.21875 \nQ 40.921875 74.21875 44.703125 73.484375 \nQ 48.484375 72.75 52.59375 71.296875 \nz\n\" id=\"DejaVuSans-54\"/>\n     </defs>\n     <use xlink:href=\"#DejaVuSans-48\"/>\n     <use x=\"63.623047\" xlink:href=\"#DejaVuSans-46\"/>\n     <use x=\"95.410156\" xlink:href=\"#DejaVuSans-48\"/>\n     <use x=\"159.033203\" xlink:href=\"#DejaVuSans-54\"/>\n    </g>\n   </g>\n   <g id=\"text_30\">\n    <!-- 0.0044 -->\n    <g style=\"fill:#ffffff;\" transform=\"translate(315.946875 54.528594)scale(0.1 -0.1)\">\n     <use xlink:href=\"#DejaVuSans-48\"/>\n     <use x=\"63.623047\" xlink:href=\"#DejaVuSans-46\"/>\n     <use x=\"95.410156\" xlink:href=\"#DejaVuSans-48\"/>\n     <use x=\"159.033203\" xlink:href=\"#DejaVuSans-48\"/>\n     <use x=\"222.65625\" xlink:href=\"#DejaVuSans-52\"/>\n     <use x=\"286.279297\" xlink:href=\"#DejaVuSans-52\"/>\n    </g>\n   </g>\n   <g id=\"text_31\">\n    <!-- -0.98 -->\n    <g style=\"fill:#ffffff;\" transform=\"translate(86.145469 81.708594)scale(0.1 -0.1)\">\n     <use xlink:href=\"#DejaVuSans-45\"/>\n     <use x=\"36.083984\" xlink:href=\"#DejaVuSans-48\"/>\n     <use x=\"99.707031\" xlink:href=\"#DejaVuSans-46\"/>\n     <use x=\"131.494141\" xlink:href=\"#DejaVuSans-57\"/>\n     <use x=\"195.117188\" xlink:href=\"#DejaVuSans-56\"/>\n    </g>\n   </g>\n   <g id=\"text_32\">\n    <!-- -0.02 -->\n    <g style=\"fill:#ffffff;\" transform=\"translate(119.625469 81.708594)scale(0.1 -0.1)\">\n     <use xlink:href=\"#DejaVuSans-45\"/>\n     <use x=\"36.083984\" xlink:href=\"#DejaVuSans-48\"/>\n     <use x=\"99.707031\" xlink:href=\"#DejaVuSans-46\"/>\n     <use x=\"131.494141\" xlink:href=\"#DejaVuSans-48\"/>\n     <use x=\"195.117188\" xlink:href=\"#DejaVuSans-50\"/>\n    </g>\n   </g>\n   <g id=\"text_33\">\n    <!-- 1 -->\n    <g style=\"fill:#262626;\" transform=\"translate(162.860938 81.708594)scale(0.1 -0.1)\">\n     <use xlink:href=\"#DejaVuSans-49\"/>\n    </g>\n   </g>\n   <g id=\"text_34\">\n    <!-- -0.1 -->\n    <g style=\"fill:#ffffff;\" transform=\"translate(189.766719 81.708594)scale(0.1 -0.1)\">\n     <use xlink:href=\"#DejaVuSans-45\"/>\n     <use x=\"36.083984\" xlink:href=\"#DejaVuSans-48\"/>\n     <use x=\"99.707031\" xlink:href=\"#DejaVuSans-46\"/>\n     <use x=\"131.494141\" xlink:href=\"#DejaVuSans-49\"/>\n    </g>\n   </g>\n   <g id=\"text_35\">\n    <!-- 0.69 -->\n    <g style=\"fill:#262626;\" transform=\"translate(221.869375 81.708594)scale(0.1 -0.1)\">\n     <use xlink:href=\"#DejaVuSans-48\"/>\n     <use x=\"63.623047\" xlink:href=\"#DejaVuSans-46\"/>\n     <use x=\"95.410156\" xlink:href=\"#DejaVuSans-54\"/>\n     <use x=\"159.033203\" xlink:href=\"#DejaVuSans-57\"/>\n    </g>\n   </g>\n   <g id=\"text_36\">\n    <!-- 0.77 -->\n    <g style=\"fill:#262626;\" transform=\"translate(255.349375 81.708594)scale(0.1 -0.1)\">\n     <use xlink:href=\"#DejaVuSans-48\"/>\n     <use x=\"63.623047\" xlink:href=\"#DejaVuSans-46\"/>\n     <use x=\"95.410156\" xlink:href=\"#DejaVuSans-55\"/>\n     <use x=\"159.033203\" xlink:href=\"#DejaVuSans-55\"/>\n    </g>\n   </g>\n   <g id=\"text_37\">\n    <!-- 0.77 -->\n    <g style=\"fill:#262626;\" transform=\"translate(322.309375 81.708594)scale(0.1 -0.1)\">\n     <use xlink:href=\"#DejaVuSans-48\"/>\n     <use x=\"63.623047\" xlink:href=\"#DejaVuSans-46\"/>\n     <use x=\"95.410156\" xlink:href=\"#DejaVuSans-55\"/>\n     <use x=\"159.033203\" xlink:href=\"#DejaVuSans-55\"/>\n    </g>\n   </g>\n   <g id=\"text_38\">\n    <!-- -0.094 -->\n    <g style=\"fill:#ffffff;\" transform=\"translate(82.964219 108.888594)scale(0.1 -0.1)\">\n     <use xlink:href=\"#DejaVuSans-45\"/>\n     <use x=\"36.083984\" xlink:href=\"#DejaVuSans-48\"/>\n     <use x=\"99.707031\" xlink:href=\"#DejaVuSans-46\"/>\n     <use x=\"131.494141\" xlink:href=\"#DejaVuSans-48\"/>\n     <use x=\"195.117188\" xlink:href=\"#DejaVuSans-57\"/>\n     <use x=\"258.740234\" xlink:href=\"#DejaVuSans-52\"/>\n    </g>\n   </g>\n   <g id=\"text_39\">\n    <!-- -0.094 -->\n    <g style=\"fill:#ffffff;\" transform=\"translate(116.444219 108.888594)scale(0.1 -0.1)\">\n     <use xlink:href=\"#DejaVuSans-45\"/>\n     <use x=\"36.083984\" xlink:href=\"#DejaVuSans-48\"/>\n     <use x=\"99.707031\" xlink:href=\"#DejaVuSans-46\"/>\n     <use x=\"131.494141\" xlink:href=\"#DejaVuSans-48\"/>\n     <use x=\"195.117188\" xlink:href=\"#DejaVuSans-57\"/>\n     <use x=\"258.740234\" xlink:href=\"#DejaVuSans-52\"/>\n    </g>\n   </g>\n   <g id=\"text_40\">\n    <!-- -0.1 -->\n    <g style=\"fill:#ffffff;\" transform=\"translate(156.286719 108.888594)scale(0.1 -0.1)\">\n     <use xlink:href=\"#DejaVuSans-45\"/>\n     <use x=\"36.083984\" xlink:href=\"#DejaVuSans-48\"/>\n     <use x=\"99.707031\" xlink:href=\"#DejaVuSans-46\"/>\n     <use x=\"131.494141\" xlink:href=\"#DejaVuSans-49\"/>\n    </g>\n   </g>\n   <g id=\"text_41\">\n    <!-- 1 -->\n    <g style=\"fill:#262626;\" transform=\"translate(196.340938 108.888594)scale(0.1 -0.1)\">\n     <use xlink:href=\"#DejaVuSans-49\"/>\n    </g>\n   </g>\n   <g id=\"text_42\">\n    <!-- 0.044 -->\n    <g style=\"fill:#ffffff;\" transform=\"translate(218.688125 108.888594)scale(0.1 -0.1)\">\n     <use xlink:href=\"#DejaVuSans-48\"/>\n     <use x=\"63.623047\" xlink:href=\"#DejaVuSans-46\"/>\n     <use x=\"95.410156\" xlink:href=\"#DejaVuSans-48\"/>\n     <use x=\"159.033203\" xlink:href=\"#DejaVuSans-52\"/>\n     <use x=\"222.65625\" xlink:href=\"#DejaVuSans-52\"/>\n    </g>\n   </g>\n   <g id=\"text_43\">\n    <!-- 0.056 -->\n    <g style=\"fill:#ffffff;\" transform=\"translate(252.168125 108.888594)scale(0.1 -0.1)\">\n     <use xlink:href=\"#DejaVuSans-48\"/>\n     <use x=\"63.623047\" xlink:href=\"#DejaVuSans-46\"/>\n     <use x=\"95.410156\" xlink:href=\"#DejaVuSans-48\"/>\n     <use x=\"159.033203\" xlink:href=\"#DejaVuSans-53\"/>\n     <use x=\"222.65625\" xlink:href=\"#DejaVuSans-54\"/>\n    </g>\n   </g>\n   <g id=\"text_44\">\n    <!-- -0.7 -->\n    <g style=\"fill:#ffffff;\" transform=\"translate(89.326719 136.068594)scale(0.1 -0.1)\">\n     <use xlink:href=\"#DejaVuSans-45\"/>\n     <use x=\"36.083984\" xlink:href=\"#DejaVuSans-48\"/>\n     <use x=\"99.707031\" xlink:href=\"#DejaVuSans-46\"/>\n     <use x=\"131.494141\" xlink:href=\"#DejaVuSans-55\"/>\n    </g>\n   </g>\n   <g id=\"text_45\">\n    <!-- 0.043 -->\n    <g style=\"fill:#ffffff;\" transform=\"translate(118.248125 136.068594)scale(0.1 -0.1)\">\n     <use xlink:href=\"#DejaVuSans-48\"/>\n     <use x=\"63.623047\" xlink:href=\"#DejaVuSans-46\"/>\n     <use x=\"95.410156\" xlink:href=\"#DejaVuSans-48\"/>\n     <use x=\"159.033203\" xlink:href=\"#DejaVuSans-52\"/>\n     <use x=\"222.65625\" xlink:href=\"#DejaVuSans-51\"/>\n    </g>\n   </g>\n   <g id=\"text_46\">\n    <!-- 0.69 -->\n    <g style=\"fill:#262626;\" transform=\"translate(154.909375 136.068594)scale(0.1 -0.1)\">\n     <use xlink:href=\"#DejaVuSans-48\"/>\n     <use x=\"63.623047\" xlink:href=\"#DejaVuSans-46\"/>\n     <use x=\"95.410156\" xlink:href=\"#DejaVuSans-54\"/>\n     <use x=\"159.033203\" xlink:href=\"#DejaVuSans-57\"/>\n    </g>\n   </g>\n   <g id=\"text_47\">\n    <!-- 0.044 -->\n    <g style=\"fill:#ffffff;\" transform=\"translate(185.208125 136.068594)scale(0.1 -0.1)\">\n     <use xlink:href=\"#DejaVuSans-48\"/>\n     <use x=\"63.623047\" xlink:href=\"#DejaVuSans-46\"/>\n     <use x=\"95.410156\" xlink:href=\"#DejaVuSans-48\"/>\n     <use x=\"159.033203\" xlink:href=\"#DejaVuSans-52\"/>\n     <use x=\"222.65625\" xlink:href=\"#DejaVuSans-52\"/>\n    </g>\n   </g>\n   <g id=\"text_48\">\n    <!-- 1 -->\n    <g style=\"fill:#262626;\" transform=\"translate(229.820938 136.068594)scale(0.1 -0.1)\">\n     <use xlink:href=\"#DejaVuSans-49\"/>\n    </g>\n   </g>\n   <g id=\"text_49\">\n    <!-- 0.92 -->\n    <g style=\"fill:#262626;\" transform=\"translate(255.349375 136.068594)scale(0.1 -0.1)\">\n     <use xlink:href=\"#DejaVuSans-48\"/>\n     <use x=\"63.623047\" xlink:href=\"#DejaVuSans-46\"/>\n     <use x=\"95.410156\" xlink:href=\"#DejaVuSans-57\"/>\n     <use x=\"159.033203\" xlink:href=\"#DejaVuSans-50\"/>\n    </g>\n   </g>\n   <g id=\"text_50\">\n    <!-- 0.91 -->\n    <g style=\"fill:#262626;\" transform=\"translate(322.309375 136.068594)scale(0.1 -0.1)\">\n     <use xlink:href=\"#DejaVuSans-48\"/>\n     <use x=\"63.623047\" xlink:href=\"#DejaVuSans-46\"/>\n     <use x=\"95.410156\" xlink:href=\"#DejaVuSans-57\"/>\n     <use x=\"159.033203\" xlink:href=\"#DejaVuSans-49\"/>\n    </g>\n   </g>\n   <g id=\"text_51\">\n    <!-- -0.78 -->\n    <g style=\"fill:#ffffff;\" transform=\"translate(86.145469 163.248594)scale(0.1 -0.1)\">\n     <use xlink:href=\"#DejaVuSans-45\"/>\n     <use x=\"36.083984\" xlink:href=\"#DejaVuSans-48\"/>\n     <use x=\"99.707031\" xlink:href=\"#DejaVuSans-46\"/>\n     <use x=\"131.494141\" xlink:href=\"#DejaVuSans-55\"/>\n     <use x=\"195.117188\" xlink:href=\"#DejaVuSans-56\"/>\n    </g>\n   </g>\n   <g id=\"text_52\">\n    <!-- 0.06 -->\n    <g style=\"fill:#ffffff;\" transform=\"translate(121.429375 163.248594)scale(0.1 -0.1)\">\n     <use xlink:href=\"#DejaVuSans-48\"/>\n     <use x=\"63.623047\" xlink:href=\"#DejaVuSans-46\"/>\n     <use x=\"95.410156\" xlink:href=\"#DejaVuSans-48\"/>\n     <use x=\"159.033203\" xlink:href=\"#DejaVuSans-54\"/>\n    </g>\n   </g>\n   <g id=\"text_53\">\n    <!-- 0.77 -->\n    <g style=\"fill:#262626;\" transform=\"translate(154.909375 163.248594)scale(0.1 -0.1)\">\n     <use xlink:href=\"#DejaVuSans-48\"/>\n     <use x=\"63.623047\" xlink:href=\"#DejaVuSans-46\"/>\n     <use x=\"95.410156\" xlink:href=\"#DejaVuSans-55\"/>\n     <use x=\"159.033203\" xlink:href=\"#DejaVuSans-55\"/>\n    </g>\n   </g>\n   <g id=\"text_54\">\n    <!-- 0.056 -->\n    <g style=\"fill:#ffffff;\" transform=\"translate(185.208125 163.248594)scale(0.1 -0.1)\">\n     <use xlink:href=\"#DejaVuSans-48\"/>\n     <use x=\"63.623047\" xlink:href=\"#DejaVuSans-46\"/>\n     <use x=\"95.410156\" xlink:href=\"#DejaVuSans-48\"/>\n     <use x=\"159.033203\" xlink:href=\"#DejaVuSans-53\"/>\n     <use x=\"222.65625\" xlink:href=\"#DejaVuSans-54\"/>\n    </g>\n   </g>\n   <g id=\"text_55\">\n    <!-- 0.92 -->\n    <g style=\"fill:#262626;\" transform=\"translate(221.869375 163.248594)scale(0.1 -0.1)\">\n     <use xlink:href=\"#DejaVuSans-48\"/>\n     <use x=\"63.623047\" xlink:href=\"#DejaVuSans-46\"/>\n     <use x=\"95.410156\" xlink:href=\"#DejaVuSans-57\"/>\n     <use x=\"159.033203\" xlink:href=\"#DejaVuSans-50\"/>\n    </g>\n   </g>\n   <g id=\"text_56\">\n    <!-- 1 -->\n    <g style=\"fill:#262626;\" transform=\"translate(263.300938 163.248594)scale(0.1 -0.1)\">\n     <use xlink:href=\"#DejaVuSans-49\"/>\n    </g>\n   </g>\n   <g id=\"text_57\">\n    <!-- 0.82 -->\n    <g style=\"fill:#262626;\" transform=\"translate(322.309375 163.248594)scale(0.1 -0.1)\">\n     <use xlink:href=\"#DejaVuSans-48\"/>\n     <use x=\"63.623047\" xlink:href=\"#DejaVuSans-46\"/>\n     <use x=\"95.410156\" xlink:href=\"#DejaVuSans-56\"/>\n     <use x=\"159.033203\" xlink:href=\"#DejaVuSans-50\"/>\n    </g>\n   </g>\n   <g id=\"text_58\">\n    <!-- -0.77 -->\n    <g style=\"fill:#ffffff;\" transform=\"translate(86.145469 217.608594)scale(0.1 -0.1)\">\n     <use xlink:href=\"#DejaVuSans-45\"/>\n     <use x=\"36.083984\" xlink:href=\"#DejaVuSans-48\"/>\n     <use x=\"99.707031\" xlink:href=\"#DejaVuSans-46\"/>\n     <use x=\"131.494141\" xlink:href=\"#DejaVuSans-55\"/>\n     <use x=\"195.117188\" xlink:href=\"#DejaVuSans-55\"/>\n    </g>\n   </g>\n   <g id=\"text_59\">\n    <!-- 0.0044 -->\n    <g style=\"fill:#ffffff;\" transform=\"translate(115.066875 217.608594)scale(0.1 -0.1)\">\n     <use xlink:href=\"#DejaVuSans-48\"/>\n     <use x=\"63.623047\" xlink:href=\"#DejaVuSans-46\"/>\n     <use x=\"95.410156\" xlink:href=\"#DejaVuSans-48\"/>\n     <use x=\"159.033203\" xlink:href=\"#DejaVuSans-48\"/>\n     <use x=\"222.65625\" xlink:href=\"#DejaVuSans-52\"/>\n     <use x=\"286.279297\" xlink:href=\"#DejaVuSans-52\"/>\n    </g>\n   </g>\n   <g id=\"text_60\">\n    <!-- 0.77 -->\n    <g style=\"fill:#262626;\" transform=\"translate(154.909375 217.608594)scale(0.1 -0.1)\">\n     <use xlink:href=\"#DejaVuSans-48\"/>\n     <use x=\"63.623047\" xlink:href=\"#DejaVuSans-46\"/>\n     <use x=\"95.410156\" xlink:href=\"#DejaVuSans-55\"/>\n     <use x=\"159.033203\" xlink:href=\"#DejaVuSans-55\"/>\n    </g>\n   </g>\n   <g id=\"text_61\">\n    <!-- 0.91 -->\n    <g style=\"fill:#262626;\" transform=\"translate(221.869375 217.608594)scale(0.1 -0.1)\">\n     <use xlink:href=\"#DejaVuSans-48\"/>\n     <use x=\"63.623047\" xlink:href=\"#DejaVuSans-46\"/>\n     <use x=\"95.410156\" xlink:href=\"#DejaVuSans-57\"/>\n     <use x=\"159.033203\" xlink:href=\"#DejaVuSans-49\"/>\n    </g>\n   </g>\n   <g id=\"text_62\">\n    <!-- 0.82 -->\n    <g style=\"fill:#262626;\" transform=\"translate(255.349375 217.608594)scale(0.1 -0.1)\">\n     <use xlink:href=\"#DejaVuSans-48\"/>\n     <use x=\"63.623047\" xlink:href=\"#DejaVuSans-46\"/>\n     <use x=\"95.410156\" xlink:href=\"#DejaVuSans-56\"/>\n     <use x=\"159.033203\" xlink:href=\"#DejaVuSans-50\"/>\n    </g>\n   </g>\n   <g id=\"text_63\">\n    <!-- 1 -->\n    <g style=\"fill:#262626;\" transform=\"translate(330.260938 217.608594)scale(0.1 -0.1)\">\n     <use xlink:href=\"#DejaVuSans-49\"/>\n    </g>\n   </g>\n  </g>\n  <g id=\"axes_2\">\n   <g id=\"patch_3\">\n    <path clip-path=\"url(#p443fe4006d)\" d=\"M 366.922188 228.439219 \nL 366.922188 227.589844 \nL 366.922188 11.848594 \nL 366.922188 10.999219 \nL 377.794188 10.999219 \nL 377.794188 11.848594 \nL 377.794188 227.589844 \nL 377.794188 228.439219 \nz\n\" style=\"fill:#ffffff;stroke:#ffffff;stroke-linejoin:miter;stroke-width:0.01;\"/>\n   </g>\n   <image height=\"218\" id=\"image63d017610b\" transform=\"scale(1 -1)translate(0 -218)\" width=\"11\" x=\"367\" xlink:href=\"data:image/png;base64,\niVBORw0KGgoAAAANSUhEUgAAAAsAAADaCAYAAABwzrisAAABZElEQVR4nO2aSYrEQAwEtfUn5v/vHPe1j4qBAA20z0kSSqnK5cLZr58nls/kVhkRU1V7ccbeezKBuIgYYTQpsI4UiJwJcyVJ4wazmUYTsTWi4vB77UYFXmn3ja3Ai24txbNxIw04/Ccw9imrObc2dahAcd8gGCPudQDDc/6f7UbOQDzaIJnRAfE8JzDEvY44z/pjSS6QiDXmIeIkGEfS2B/i1Zwr9tYMg+38D8EgzkfSSOLMhh8xi85A3GDFQmbkTMRskIhz1y/AABxmGhpGt5YGWLFidNUEgzGvtdRZwyhw7mFNAVcFOA3izNpNnIk4jjiDd9tkgcM2LNByDuKc4K0CnVmBGkaD+zqIYTmL0TW4uofMWs7kxpU5g28gEUOMjrWbYJCbQLhSvDT2Wz9cg2w2NDFqCknjCjNy9gr02u05f9P4EGe/JOcradwoMMmvAmYaaPi9UwGK7lvgH53J8JO7vXgDaGwrJWt5Y5YAAAAASUVORK5CYII=\" y=\"-10\"/>\n   <g id=\"matplotlib.axis_3\"/>\n   <g id=\"matplotlib.axis_4\">\n    <g id=\"ytick_9\">\n     <g id=\"line2d_17\">\n      <defs>\n       <path d=\"M 0 0 \nL 3.5 0 \n\" id=\"mc84f95d363\" style=\"stroke:#000000;stroke-width:0.8;\"/>\n      </defs>\n      <g>\n       <use style=\"stroke:#000000;stroke-width:0.8;\" x=\"377.794188\" xlink:href=\"#mc84f95d363\" y=\"203.45275\"/>\n      </g>\n     </g>\n     <g id=\"text_64\">\n      <!-- −0.75 -->\n      <g transform=\"translate(384.794188 207.251968)scale(0.1 -0.1)\">\n       <defs>\n        <path d=\"M 10.59375 35.5 \nL 73.1875 35.5 \nL 73.1875 27.203125 \nL 10.59375 27.203125 \nz\n\" id=\"DejaVuSans-8722\"/>\n       </defs>\n       <use xlink:href=\"#DejaVuSans-8722\"/>\n       <use x=\"83.789062\" xlink:href=\"#DejaVuSans-48\"/>\n       <use x=\"147.412109\" xlink:href=\"#DejaVuSans-46\"/>\n       <use x=\"179.199219\" xlink:href=\"#DejaVuSans-55\"/>\n       <use x=\"242.822266\" xlink:href=\"#DejaVuSans-53\"/>\n      </g>\n     </g>\n    </g>\n    <g id=\"ytick_10\">\n     <g id=\"line2d_18\">\n      <g>\n       <use style=\"stroke:#000000;stroke-width:0.8;\" x=\"377.794188\" xlink:href=\"#mc84f95d363\" y=\"175.959388\"/>\n      </g>\n     </g>\n     <g id=\"text_65\">\n      <!-- −0.50 -->\n      <g transform=\"translate(384.794188 179.758607)scale(0.1 -0.1)\">\n       <use xlink:href=\"#DejaVuSans-8722\"/>\n       <use x=\"83.789062\" xlink:href=\"#DejaVuSans-48\"/>\n       <use x=\"147.412109\" xlink:href=\"#DejaVuSans-46\"/>\n       <use x=\"179.199219\" xlink:href=\"#DejaVuSans-53\"/>\n       <use x=\"242.822266\" xlink:href=\"#DejaVuSans-48\"/>\n      </g>\n     </g>\n    </g>\n    <g id=\"ytick_11\">\n     <g id=\"line2d_19\">\n      <g>\n       <use style=\"stroke:#000000;stroke-width:0.8;\" x=\"377.794188\" xlink:href=\"#mc84f95d363\" y=\"148.466027\"/>\n      </g>\n     </g>\n     <g id=\"text_66\">\n      <!-- −0.25 -->\n      <g transform=\"translate(384.794188 152.265245)scale(0.1 -0.1)\">\n       <use xlink:href=\"#DejaVuSans-8722\"/>\n       <use x=\"83.789062\" xlink:href=\"#DejaVuSans-48\"/>\n       <use x=\"147.412109\" xlink:href=\"#DejaVuSans-46\"/>\n       <use x=\"179.199219\" xlink:href=\"#DejaVuSans-50\"/>\n       <use x=\"242.822266\" xlink:href=\"#DejaVuSans-53\"/>\n      </g>\n     </g>\n    </g>\n    <g id=\"ytick_12\">\n     <g id=\"line2d_20\">\n      <g>\n       <use style=\"stroke:#000000;stroke-width:0.8;\" x=\"377.794188\" xlink:href=\"#mc84f95d363\" y=\"120.972665\"/>\n      </g>\n     </g>\n     <g id=\"text_67\">\n      <!-- 0.00 -->\n      <g transform=\"translate(384.794188 124.771884)scale(0.1 -0.1)\">\n       <use xlink:href=\"#DejaVuSans-48\"/>\n       <use x=\"63.623047\" xlink:href=\"#DejaVuSans-46\"/>\n       <use x=\"95.410156\" xlink:href=\"#DejaVuSans-48\"/>\n       <use x=\"159.033203\" xlink:href=\"#DejaVuSans-48\"/>\n      </g>\n     </g>\n    </g>\n    <g id=\"ytick_13\">\n     <g id=\"line2d_21\">\n      <g>\n       <use style=\"stroke:#000000;stroke-width:0.8;\" x=\"377.794188\" xlink:href=\"#mc84f95d363\" y=\"93.479303\"/>\n      </g>\n     </g>\n     <g id=\"text_68\">\n      <!-- 0.25 -->\n      <g transform=\"translate(384.794188 97.278522)scale(0.1 -0.1)\">\n       <use xlink:href=\"#DejaVuSans-48\"/>\n       <use x=\"63.623047\" xlink:href=\"#DejaVuSans-46\"/>\n       <use x=\"95.410156\" xlink:href=\"#DejaVuSans-50\"/>\n       <use x=\"159.033203\" xlink:href=\"#DejaVuSans-53\"/>\n      </g>\n     </g>\n    </g>\n    <g id=\"ytick_14\">\n     <g id=\"line2d_22\">\n      <g>\n       <use style=\"stroke:#000000;stroke-width:0.8;\" x=\"377.794188\" xlink:href=\"#mc84f95d363\" y=\"65.985942\"/>\n      </g>\n     </g>\n     <g id=\"text_69\">\n      <!-- 0.50 -->\n      <g transform=\"translate(384.794188 69.785161)scale(0.1 -0.1)\">\n       <use xlink:href=\"#DejaVuSans-48\"/>\n       <use x=\"63.623047\" xlink:href=\"#DejaVuSans-46\"/>\n       <use x=\"95.410156\" xlink:href=\"#DejaVuSans-53\"/>\n       <use x=\"159.033203\" xlink:href=\"#DejaVuSans-48\"/>\n      </g>\n     </g>\n    </g>\n    <g id=\"ytick_15\">\n     <g id=\"line2d_23\">\n      <g>\n       <use style=\"stroke:#000000;stroke-width:0.8;\" x=\"377.794188\" xlink:href=\"#mc84f95d363\" y=\"38.49258\"/>\n      </g>\n     </g>\n     <g id=\"text_70\">\n      <!-- 0.75 -->\n      <g transform=\"translate(384.794188 42.291799)scale(0.1 -0.1)\">\n       <use xlink:href=\"#DejaVuSans-48\"/>\n       <use x=\"63.623047\" xlink:href=\"#DejaVuSans-46\"/>\n       <use x=\"95.410156\" xlink:href=\"#DejaVuSans-55\"/>\n       <use x=\"159.033203\" xlink:href=\"#DejaVuSans-53\"/>\n      </g>\n     </g>\n    </g>\n    <g id=\"ytick_16\">\n     <g id=\"line2d_24\">\n      <g>\n       <use style=\"stroke:#000000;stroke-width:0.8;\" x=\"377.794188\" xlink:href=\"#mc84f95d363\" y=\"10.999219\"/>\n      </g>\n     </g>\n     <g id=\"text_71\">\n      <!-- 1.00 -->\n      <g transform=\"translate(384.794188 14.798438)scale(0.1 -0.1)\">\n       <use xlink:href=\"#DejaVuSans-49\"/>\n       <use x=\"63.623047\" xlink:href=\"#DejaVuSans-46\"/>\n       <use x=\"95.410156\" xlink:href=\"#DejaVuSans-48\"/>\n       <use x=\"159.033203\" xlink:href=\"#DejaVuSans-48\"/>\n      </g>\n     </g>\n    </g>\n   </g>\n   <g id=\"patch_4\">\n    <path d=\"M 366.922188 228.439219 \nL 366.922188 227.589844 \nL 366.922188 11.848594 \nL 366.922188 10.999219 \nL 377.794188 10.999219 \nL 377.794188 11.848594 \nL 377.794188 227.589844 \nL 377.794188 228.439219 \nz\n\" style=\"fill:none;\"/>\n   </g>\n  </g>\n </g>\n <defs>\n  <clipPath id=\"pc6232f037c\">\n   <rect height=\"217.44\" width=\"267.84\" x=\"82.342188\" y=\"10.999219\"/>\n  </clipPath>\n  <clipPath id=\"p443fe4006d\">\n   <rect height=\"217.44\" width=\"10.872\" x=\"366.922188\" y=\"10.999219\"/>\n  </clipPath>\n </defs>\n</svg>\n",
      "image/png": "[encoded data removed]"
     },
     "metadata": {
      "needs_background": "light"
     }
    }
   ],
   "source": [
    "correlation = df_ir.corr()\n",
    "\n",
    "sns.heatmap(correlation, annot=True)"
   ]
  },
  {
   "cell_type": "code",
   "execution_count": 18,
   "metadata": {},
   "outputs": [
    {
     "output_type": "execute_result",
     "data": {
      "text/plain": [
       "(0.0, 6000.0)"
      ]
     },
     "metadata": {},
     "execution_count": 18
    },
    {
     "output_type": "display_data",
     "data": {
      "text/plain": "<Figure size 720x360 with 1 Axes>",
      "image/svg+xml": "<?xml version=\"1.0\" encoding=\"utf-8\" standalone=\"no\"?>\n<!DOCTYPE svg PUBLIC \"-//W3C//DTD SVG 1.1//EN\"\n  \"http://www.w3.org/Graphics/SVG/1.1/DTD/svg11.dtd\">\n<!-- Created with matplotlib (https://matplotlib.org/) -->\n<svg height=\"320.355469pt\" version=\"1.1\" viewBox=\"0 0 618.528125 320.355469\" width=\"618.528125pt\" xmlns=\"http://www.w3.org/2000/svg\" xmlns:xlink=\"http://www.w3.org/1999/xlink\">\n <metadata>\n  <rdf:RDF xmlns:cc=\"http://creativecommons.org/ns#\" xmlns:dc=\"http://purl.org/dc/elements/1.1/\" xmlns:rdf=\"http://www.w3.org/1999/02/22-rdf-syntax-ns#\">\n   <cc:Work>\n    <dc:type rdf:resource=\"http://purl.org/dc/dcmitype/StillImage\"/>\n    <dc:date>2020-12-26T12:09:16.963617</dc:date>\n    <dc:format>image/svg+xml</dc:format>\n    <dc:creator>\n     <cc:Agent>\n      <dc:title>Matplotlib v3.3.2, https://matplotlib.org/</dc:title>\n     </cc:Agent>\n    </dc:creator>\n   </cc:Work>\n  </rdf:RDF>\n </metadata>\n <defs>\n  <style type=\"text/css\">*{stroke-linecap:butt;stroke-linejoin:round;}</style>\n </defs>\n <g id=\"figure_1\">\n  <g id=\"patch_1\">\n   <path d=\"M 0 320.355469 \nL 618.528125 320.355469 \nL 618.528125 0 \nL 0 0 \nz\n\" style=\"fill:none;\"/>\n  </g>\n  <g id=\"axes_1\">\n   <g id=\"patch_2\">\n    <path d=\"M 53.328125 282.799219 \nL 611.328125 282.799219 \nL 611.328125 10.999219 \nL 53.328125 10.999219 \nz\n\" style=\"fill:#ffffff;\"/>\n   </g>\n   <g id=\"PolyCollection_1\">\n    <path clip-path=\"url(#p5ec8079b5a)\" d=\"M 102.35856 380.364818 \nL 97.29769 380.364818 \nL 86.050755 333.650207 \nL 71.475896 286.935597 \nL 76.327772 240.220987 \nL 90.137297 193.506377 \nL 96.37065 146.791767 \nL 98.19558 100.077157 \nL 99.049918 53.362547 \nL 99.515413 6.647937 \nL 99.699048 -40.066673 \nL 99.751071 -86.781283 \nL 99.762735 -133.495893 \nL 99.76675 -180.210503 \nL 99.76935 -226.925113 \nL 99.771929 -273.639724 \nL 99.775032 -320.354334 \nL 99.787877 -367.068944 \nL 99.804587 -413.783554 \nL 99.814322 -460.498164 \nL 99.815078 -507.212774 \nL 99.810602 -553.927384 \nL 99.810877 -600.641994 \nL 99.817036 -647.356604 \nL 99.819425 -694.071214 \nL 99.818242 -740.785824 \nL 99.818235 -787.500434 \nL 99.81794 -834.215044 \nL 99.817507 -880.929655 \nL 99.815545 -927.644265 \nL 99.813127 -974.358875 \nL 99.812162 -1021.073485 \nL 99.815677 -1067.788095 \nL 99.819912 -1114.502705 \nL 99.82261 -1161.217315 \nL 99.823816 -1207.931925 \nL 99.822256 -1254.646535 \nL 99.81735 -1301.361145 \nL 99.812327 -1348.075755 \nL 99.807902 -1394.790365 \nL 99.806237 -1441.504975 \nL 99.811574 -1488.219586 \nL 99.816948 -1534.934196 \nL 99.817179 -1581.648806 \nL 99.817352 -1628.363416 \nL 99.811542 -1675.078026 \nL 99.797664 -1721.792636 \nL 99.78947 -1768.507246 \nL 99.794309 -1815.221856 \nL 99.8003 -1861.936466 \nL 99.800382 -1908.651076 \nL 99.80229 -1955.365686 \nL 99.808961 -2002.080296 \nL 99.813964 -2048.794906 \nL 99.811764 -2095.509517 \nL 99.808273 -2142.224127 \nL 99.805697 -2188.938737 \nL 99.807396 -2235.653347 \nL 99.814401 -2282.367957 \nL 99.820584 -2329.082567 \nL 99.824151 -2375.797177 \nL 99.822018 -2422.511787 \nL 99.811731 -2469.226397 \nL 99.804489 -2515.941007 \nL 99.806228 -2562.655617 \nL 99.808962 -2609.370227 \nL 99.813297 -2656.084837 \nL 99.817321 -2702.799448 \nL 99.816364 -2749.514058 \nL 99.815615 -2796.228668 \nL 99.812825 -2842.943278 \nL 99.811345 -2889.657888 \nL 99.816702 -2936.372498 \nL 99.821108 -2983.087108 \nL 99.820486 -3029.801718 \nL 99.816463 -3076.516328 \nL 99.812523 -3123.230938 \nL 99.812981 -3169.945548 \nL 99.814881 -3216.660158 \nL 99.813455 -3263.374768 \nL 99.815206 -3310.089378 \nL 99.819144 -3356.803989 \nL 99.819764 -3403.518599 \nL 99.817609 -3450.233209 \nL 99.815406 -3496.947819 \nL 99.816674 -3543.662429 \nL 99.81546 -3590.377039 \nL 99.813278 -3637.091649 \nL 99.817488 -3683.806259 \nL 99.8203 -3730.520869 \nL 99.817959 -3777.235479 \nL 99.816729 -3823.950089 \nL 99.81828 -3870.664699 \nL 99.819281 -3917.379309 \nL 99.820623 -3964.09392 \nL 99.821101 -4010.80853 \nL 99.818984 -4057.52314 \nL 99.817722 -4104.23775 \nL 99.820392 -4150.95236 \nL 99.824975 -4197.66697 \nL 99.827557 -4244.38158 \nL 99.828693 -4244.38158 \nL 99.828693 -4244.38158 \nL 99.831275 -4197.66697 \nL 99.835858 -4150.95236 \nL 99.838528 -4104.23775 \nL 99.837266 -4057.52314 \nL 99.835149 -4010.80853 \nL 99.835627 -3964.09392 \nL 99.836969 -3917.379309 \nL 99.83797 -3870.664699 \nL 99.839521 -3823.950089 \nL 99.838291 -3777.235479 \nL 99.83595 -3730.520869 \nL 99.838762 -3683.806259 \nL 99.842972 -3637.091649 \nL 99.84079 -3590.377039 \nL 99.839576 -3543.662429 \nL 99.840844 -3496.947819 \nL 99.838641 -3450.233209 \nL 99.836486 -3403.518599 \nL 99.837106 -3356.803989 \nL 99.841044 -3310.089378 \nL 99.842795 -3263.374768 \nL 99.841369 -3216.660158 \nL 99.843269 -3169.945548 \nL 99.843727 -3123.230938 \nL 99.839787 -3076.516328 \nL 99.835764 -3029.801718 \nL 99.835142 -2983.087108 \nL 99.839548 -2936.372498 \nL 99.844905 -2889.657888 \nL 99.843425 -2842.943278 \nL 99.840635 -2796.228668 \nL 99.839886 -2749.514058 \nL 99.838929 -2702.799448 \nL 99.842953 -2656.084837 \nL 99.847288 -2609.370227 \nL 99.850022 -2562.655617 \nL 99.851761 -2515.941007 \nL 99.844519 -2469.226397 \nL 99.834232 -2422.511787 \nL 99.832099 -2375.797177 \nL 99.835666 -2329.082567 \nL 99.841849 -2282.367957 \nL 99.848854 -2235.653347 \nL 99.850553 -2188.938737 \nL 99.847977 -2142.224127 \nL 99.844486 -2095.509517 \nL 99.842286 -2048.794906 \nL 99.847289 -2002.080296 \nL 99.85396 -1955.365686 \nL 99.855868 -1908.651076 \nL 99.85595 -1861.936466 \nL 99.861941 -1815.221856 \nL 99.86678 -1768.507246 \nL 99.858586 -1721.792636 \nL 99.844708 -1675.078026 \nL 99.838898 -1628.363416 \nL 99.839071 -1581.648806 \nL 99.839302 -1534.934196 \nL 99.844676 -1488.219586 \nL 99.850013 -1441.504975 \nL 99.848348 -1394.790365 \nL 99.843923 -1348.075755 \nL 99.8389 -1301.361145 \nL 99.833994 -1254.646535 \nL 99.832434 -1207.931925 \nL 99.83364 -1161.217315 \nL 99.836338 -1114.502705 \nL 99.840573 -1067.788095 \nL 99.844088 -1021.073485 \nL 99.843123 -974.358875 \nL 99.840705 -927.644265 \nL 99.838743 -880.929655 \nL 99.83831 -834.215044 \nL 99.838015 -787.500434 \nL 99.838008 -740.785824 \nL 99.836825 -694.071214 \nL 99.839214 -647.356604 \nL 99.845373 -600.641994 \nL 99.845648 -553.927384 \nL 99.841172 -507.212774 \nL 99.841928 -460.498164 \nL 99.851663 -413.783554 \nL 99.868373 -367.068944 \nL 99.881218 -320.354334 \nL 99.884321 -273.639724 \nL 99.8869 -226.925113 \nL 99.8895 -180.210503 \nL 99.893515 -133.495893 \nL 99.905179 -86.781283 \nL 99.957202 -40.066673 \nL 100.140837 6.647937 \nL 100.606332 53.362547 \nL 101.46067 100.077157 \nL 103.2856 146.791767 \nL 109.518953 193.506377 \nL 123.328478 240.220987 \nL 128.180354 286.935597 \nL 113.605495 333.650207 \nL 102.35856 380.364818 \nz\n\" style=\"fill:#3274a1;stroke:#3d3d3d;stroke-width:1.5;\"/>\n   </g>\n   <g id=\"PolyCollection_2\">\n    <path clip-path=\"url(#p5ec8079b5a)\" d=\"M 192.829422 394.882303 \nL 192.826828 394.882303 \nL 192.356083 353.510371 \nL 176.928373 312.138439 \nL 155.628125 270.766507 \nL 182.754322 229.394575 \nL 190.486626 188.022643 \nL 191.654938 146.650711 \nL 191.888675 105.278779 \nL 191.987699 63.906847 \nL 192.183703 22.534915 \nL 192.354723 -18.837017 \nL 192.501865 -60.208949 \nL 192.526554 -101.580881 \nL 192.567912 -142.952813 \nL 192.627501 -184.324745 \nL 192.674851 -225.696677 \nL 192.698718 -267.068609 \nL 192.709282 -308.440541 \nL 192.727433 -349.812473 \nL 192.730853 -391.184405 \nL 192.724932 -432.556337 \nL 192.743429 -473.928269 \nL 192.752944 -515.300201 \nL 192.753238 -556.672133 \nL 192.741686 -598.044065 \nL 192.745108 -639.415997 \nL 192.751452 -680.787929 \nL 192.742643 -722.159861 \nL 192.742503 -763.531793 \nL 192.768202 -804.903725 \nL 192.769881 -846.275657 \nL 192.785416 -887.647589 \nL 192.778577 -929.019521 \nL 192.788527 -970.391453 \nL 192.805761 -1011.763385 \nL 192.814322 -1053.135317 \nL 192.81625 -1094.507249 \nL 192.813328 -1135.879181 \nL 192.805585 -1177.251113 \nL 192.807637 -1218.623045 \nL 192.814138 -1259.994977 \nL 192.817422 -1301.366909 \nL 192.817115 -1342.738841 \nL 192.816113 -1384.110773 \nL 192.813113 -1425.482705 \nL 192.818814 -1466.854637 \nL 192.823939 -1508.226569 \nL 192.821427 -1549.598501 \nL 192.821114 -1590.970433 \nL 192.823951 -1632.342365 \nL 192.827771 -1673.714297 \nL 192.827471 -1715.086229 \nL 192.821272 -1756.458161 \nL 192.822883 -1797.830093 \nL 192.826843 -1839.202025 \nL 192.825154 -1880.573957 \nL 192.824366 -1921.945889 \nL 192.823298 -1963.317821 \nL 192.827599 -2004.689753 \nL 192.824546 -2046.061685 \nL 192.81724 -2087.433617 \nL 192.825351 -2128.805549 \nL 192.827259 -2170.177481 \nL 192.825231 -2211.549413 \nL 192.827503 -2252.921345 \nL 192.827812 -2294.293277 \nL 192.825497 -2335.665209 \nL 192.826748 -2377.037141 \nL 192.82724 -2418.409073 \nL 192.825237 -2459.781006 \nL 192.82753 -2501.152938 \nL 192.828118 -2542.52487 \nL 192.828125 -2583.896802 \nL 192.828125 -2625.268734 \nL 192.828125 -2666.640666 \nL 192.828125 -2708.012598 \nL 192.828125 -2749.38453 \nL 192.828125 -2790.756462 \nL 192.828125 -2832.128394 \nL 192.828125 -2873.500326 \nL 192.828125 -2914.872258 \nL 192.828125 -2956.24419 \nL 192.828125 -2997.616122 \nL 192.828125 -3038.988054 \nL 192.828125 -3080.359986 \nL 192.828125 -3121.731918 \nL 192.828125 -3163.10385 \nL 192.828125 -3204.475782 \nL 192.828125 -3245.847714 \nL 192.828125 -3287.219646 \nL 192.828125 -3328.591578 \nL 192.828125 -3369.96351 \nL 192.828125 -3411.335442 \nL 192.828125 -3452.707374 \nL 192.828125 -3494.079306 \nL 192.828125 -3535.451238 \nL 192.828096 -3576.82317 \nL 192.826964 -3618.195102 \nL 192.825369 -3659.567034 \nL 192.827732 -3700.938966 \nL 192.828518 -3700.938966 \nL 192.828518 -3700.938966 \nL 192.830881 -3659.567034 \nL 192.829286 -3618.195102 \nL 192.828154 -3576.82317 \nL 192.828125 -3535.451238 \nL 192.828125 -3494.079306 \nL 192.828125 -3452.707374 \nL 192.828125 -3411.335442 \nL 192.828125 -3369.96351 \nL 192.828125 -3328.591578 \nL 192.828125 -3287.219646 \nL 192.828125 -3245.847714 \nL 192.828125 -3204.475782 \nL 192.828125 -3163.10385 \nL 192.828125 -3121.731918 \nL 192.828125 -3080.359986 \nL 192.828125 -3038.988054 \nL 192.828125 -2997.616122 \nL 192.828125 -2956.24419 \nL 192.828125 -2914.872258 \nL 192.828125 -2873.500326 \nL 192.828125 -2832.128394 \nL 192.828125 -2790.756462 \nL 192.828125 -2749.38453 \nL 192.828125 -2708.012598 \nL 192.828125 -2666.640666 \nL 192.828125 -2625.268734 \nL 192.828125 -2583.896802 \nL 192.828132 -2542.52487 \nL 192.82872 -2501.152938 \nL 192.831013 -2459.781006 \nL 192.82901 -2418.409073 \nL 192.829502 -2377.037141 \nL 192.830753 -2335.665209 \nL 192.828438 -2294.293277 \nL 192.828747 -2252.921345 \nL 192.831019 -2211.549413 \nL 192.828991 -2170.177481 \nL 192.830899 -2128.805549 \nL 192.83901 -2087.433617 \nL 192.831704 -2046.061685 \nL 192.828651 -2004.689753 \nL 192.832952 -1963.317821 \nL 192.831884 -1921.945889 \nL 192.831096 -1880.573957 \nL 192.829407 -1839.202025 \nL 192.833367 -1797.830093 \nL 192.834978 -1756.458161 \nL 192.828779 -1715.086229 \nL 192.828479 -1673.714297 \nL 192.832299 -1632.342365 \nL 192.835136 -1590.970433 \nL 192.834823 -1549.598501 \nL 192.832311 -1508.226569 \nL 192.837436 -1466.854637 \nL 192.843137 -1425.482705 \nL 192.840137 -1384.110773 \nL 192.839135 -1342.738841 \nL 192.838828 -1301.366909 \nL 192.842112 -1259.994977 \nL 192.848613 -1218.623045 \nL 192.850665 -1177.251113 \nL 192.842922 -1135.879181 \nL 192.84 -1094.507249 \nL 192.841928 -1053.135317 \nL 192.850489 -1011.763385 \nL 192.867723 -970.391453 \nL 192.877673 -929.019521 \nL 192.870834 -887.647589 \nL 192.886369 -846.275657 \nL 192.888048 -804.903725 \nL 192.913747 -763.531793 \nL 192.913607 -722.159861 \nL 192.904798 -680.787929 \nL 192.911142 -639.415997 \nL 192.914564 -598.044065 \nL 192.903012 -556.672133 \nL 192.903306 -515.300201 \nL 192.912821 -473.928269 \nL 192.931318 -432.556337 \nL 192.925397 -391.184405 \nL 192.928817 -349.812473 \nL 192.946968 -308.440541 \nL 192.957532 -267.068609 \nL 192.981399 -225.696677 \nL 193.028749 -184.324745 \nL 193.088338 -142.952813 \nL 193.129696 -101.580881 \nL 193.154385 -60.208949 \nL 193.301527 -18.837017 \nL 193.472547 22.534915 \nL 193.668551 63.906847 \nL 193.767575 105.278779 \nL 194.001312 146.650711 \nL 195.169624 188.022643 \nL 202.901928 229.394575 \nL 230.028125 270.766507 \nL 208.727877 312.138439 \nL 193.300167 353.510371 \nL 192.829422 394.882303 \nz\n\" style=\"fill:#e1812c;stroke:#3d3d3d;stroke-width:1.5;\"/>\n   </g>\n   <g id=\"PolyCollection_3\">\n    <path clip-path=\"url(#p5ec8079b5a)\" d=\"M 285.835832 301.68293 \nL 285.820418 301.68293 \nL 284.983642 295.016637 \nL 272.309624 288.350345 \nL 253.915558 281.684053 \nL 272.024167 275.017761 \nL 282.98125 268.351469 \nL 284.626894 261.685177 \nL 285.020866 255.018885 \nL 285.301727 248.352592 \nL 285.44355 241.6863 \nL 285.521922 235.020008 \nL 285.582674 228.353716 \nL 285.615804 221.687424 \nL 285.640116 215.021132 \nL 285.670302 208.35484 \nL 285.70488 201.688547 \nL 285.734063 195.022255 \nL 285.749738 188.355963 \nL 285.757147 181.689671 \nL 285.756429 175.023379 \nL 285.757957 168.357087 \nL 285.783356 161.690795 \nL 285.803539 155.024503 \nL 285.810339 148.35821 \nL 285.800345 141.691918 \nL 285.794149 135.025626 \nL 285.794652 128.359334 \nL 285.801356 121.693042 \nL 285.802005 115.02675 \nL 285.802252 108.360458 \nL 285.804222 101.694165 \nL 285.807186 95.027873 \nL 285.806879 88.361581 \nL 285.801949 81.695289 \nL 285.805147 75.028997 \nL 285.817167 68.362705 \nL 285.821059 61.696413 \nL 285.820668 55.03012 \nL 285.823242 48.363828 \nL 285.816637 41.697536 \nL 285.813551 35.031244 \nL 285.816964 28.364952 \nL 285.815659 21.69866 \nL 285.821225 15.032368 \nL 285.822763 8.366076 \nL 285.817359 1.699783 \nL 285.820652 -4.966509 \nL 285.822149 -11.632801 \nL 285.821316 -18.299093 \nL 285.825291 -24.965385 \nL 285.824326 -31.631677 \nL 285.821673 -38.297969 \nL 285.81943 -44.964262 \nL 285.824616 -51.630554 \nL 285.827289 -58.296846 \nL 285.825602 -64.963138 \nL 285.826576 -71.62943 \nL 285.826396 -78.295722 \nL 285.820555 -84.962014 \nL 285.820688 -91.628307 \nL 285.82498 -98.294599 \nL 285.824116 -104.960891 \nL 285.820615 -111.627183 \nL 285.820624 -118.293475 \nL 285.822475 -124.959767 \nL 285.824662 -131.626059 \nL 285.825221 -138.292352 \nL 285.827083 -144.958644 \nL 285.828071 -151.624936 \nL 285.828118 -158.291228 \nL 285.827708 -164.95752 \nL 285.824438 -171.623812 \nL 285.823562 -178.290104 \nL 285.82665 -184.956396 \nL 285.8255 -191.622689 \nL 285.826597 -198.288981 \nL 285.825907 -204.955273 \nL 285.822977 -211.621565 \nL 285.822003 -218.287857 \nL 285.823367 -224.954149 \nL 285.823659 -231.620441 \nL 285.824605 -238.286734 \nL 285.826327 -244.953026 \nL 285.827836 -251.619318 \nL 285.826534 -258.28561 \nL 285.823979 -264.951902 \nL 285.823479 -271.618194 \nL 285.82503 -278.284486 \nL 285.827299 -284.950779 \nL 285.826077 -291.617071 \nL 285.825894 -298.283363 \nL 285.825484 -304.949655 \nL 285.819602 -311.615947 \nL 285.819166 -318.282239 \nL 285.819543 -324.948531 \nL 285.822397 -331.614823 \nL 285.824951 -338.281116 \nL 285.825669 -344.947408 \nL 285.825859 -351.6137 \nL 285.827764 -358.279992 \nL 285.828486 -358.279992 \nL 285.828486 -358.279992 \nL 285.830391 -351.6137 \nL 285.830581 -344.947408 \nL 285.831299 -338.281116 \nL 285.833853 -331.614823 \nL 285.836707 -324.948531 \nL 285.837084 -318.282239 \nL 285.836648 -311.615947 \nL 285.830766 -304.949655 \nL 285.830356 -298.283363 \nL 285.830173 -291.617071 \nL 285.828951 -284.950779 \nL 285.83122 -278.284486 \nL 285.832771 -271.618194 \nL 285.832271 -264.951902 \nL 285.829716 -258.28561 \nL 285.828414 -251.619318 \nL 285.829923 -244.953026 \nL 285.831645 -238.286734 \nL 285.832591 -231.620441 \nL 285.832883 -224.954149 \nL 285.834247 -218.287857 \nL 285.833273 -211.621565 \nL 285.830343 -204.955273 \nL 285.829653 -198.288981 \nL 285.83075 -191.622689 \nL 285.8296 -184.956396 \nL 285.832688 -178.290104 \nL 285.831812 -171.623812 \nL 285.828542 -164.95752 \nL 285.828132 -158.291228 \nL 285.828179 -151.624936 \nL 285.829167 -144.958644 \nL 285.831029 -138.292352 \nL 285.831588 -131.626059 \nL 285.833775 -124.959767 \nL 285.835626 -118.293475 \nL 285.835635 -111.627183 \nL 285.832134 -104.960891 \nL 285.83127 -98.294599 \nL 285.835562 -91.628307 \nL 285.835695 -84.962014 \nL 285.829854 -78.295722 \nL 285.829674 -71.62943 \nL 285.830648 -64.963138 \nL 285.828961 -58.296846 \nL 285.831634 -51.630554 \nL 285.83682 -44.964262 \nL 285.834577 -38.297969 \nL 285.831924 -31.631677 \nL 285.830959 -24.965385 \nL 285.834934 -18.299093 \nL 285.834101 -11.632801 \nL 285.835598 -4.966509 \nL 285.838891 1.699783 \nL 285.833487 8.366076 \nL 285.835025 15.032368 \nL 285.840591 21.69866 \nL 285.839286 28.364952 \nL 285.842699 35.031244 \nL 285.839613 41.697536 \nL 285.833008 48.363828 \nL 285.835582 55.03012 \nL 285.835191 61.696413 \nL 285.839083 68.362705 \nL 285.851103 75.028997 \nL 285.854301 81.695289 \nL 285.849371 88.361581 \nL 285.849064 95.027873 \nL 285.852028 101.694165 \nL 285.853998 108.360458 \nL 285.854245 115.02675 \nL 285.854894 121.693042 \nL 285.861598 128.359334 \nL 285.862101 135.025626 \nL 285.855905 141.691918 \nL 285.845911 148.35821 \nL 285.852711 155.024503 \nL 285.872894 161.690795 \nL 285.898293 168.357087 \nL 285.899821 175.023379 \nL 285.899103 181.689671 \nL 285.906512 188.355963 \nL 285.922187 195.022255 \nL 285.95137 201.688547 \nL 285.985948 208.35484 \nL 286.016134 215.021132 \nL 286.040446 221.687424 \nL 286.073576 228.353716 \nL 286.134328 235.020008 \nL 286.2127 241.6863 \nL 286.354523 248.352592 \nL 286.635384 255.018885 \nL 287.029356 261.685177 \nL 288.675 268.351469 \nL 299.632083 275.017761 \nL 317.740692 281.684053 \nL 299.346626 288.350345 \nL 286.672608 295.016637 \nL 285.835832 301.68293 \nz\n\" style=\"fill:#3a923a;stroke:#3d3d3d;stroke-width:1.5;\"/>\n   </g>\n   <g id=\"PolyCollection_4\">\n    <path clip-path=\"url(#p5ec8079b5a)\" d=\"M 378.828465 799.458136 \nL 378.827785 799.458136 \nL 378.825935 694.537594 \nL 378.824211 589.617052 \nL 378.377846 484.696511 \nL 368.352042 379.775969 \nL 349.522787 274.855427 \nL 367.724109 169.934885 \nL 377.207645 65.014344 \nL 377.933544 -39.906198 \nL 378.298342 -144.82674 \nL 378.552443 -249.747282 \nL 378.683074 -354.667823 \nL 378.724037 -459.588365 \nL 378.726397 -564.508907 \nL 378.713319 -669.429449 \nL 378.708221 -774.34999 \nL 378.706315 -879.270532 \nL 378.730016 -984.191074 \nL 378.740403 -1089.111616 \nL 378.728834 -1194.032157 \nL 378.735769 -1298.952699 \nL 378.761335 -1403.873241 \nL 378.763954 -1508.793783 \nL 378.752007 -1613.714325 \nL 378.742768 -1718.634866 \nL 378.753537 -1823.555408 \nL 378.758858 -1928.47595 \nL 378.764171 -2033.396492 \nL 378.78346 -2138.317033 \nL 378.782263 -2243.237575 \nL 378.78095 -2348.158117 \nL 378.798214 -2453.078659 \nL 378.805104 -2557.9992 \nL 378.809512 -2662.919742 \nL 378.806195 -2767.840284 \nL 378.809597 -2872.760826 \nL 378.817076 -2977.681367 \nL 378.820392 -3082.601909 \nL 378.818963 -3187.522451 \nL 378.818337 -3292.442993 \nL 378.821751 -3397.363535 \nL 378.821179 -3502.284076 \nL 378.823204 -3607.204618 \nL 378.825022 -3712.12516 \nL 378.82639 -3817.045702 \nL 378.825585 -3921.966243 \nL 378.827342 -4026.886785 \nL 378.827952 -4131.807327 \nL 378.825982 -4236.727869 \nL 378.823402 -4341.64841 \nL 378.825149 -4446.568952 \nL 378.825624 -4551.489494 \nL 378.826248 -4656.410036 \nL 378.825811 -4761.330577 \nL 378.827704 -4866.251119 \nL 378.828109 -4971.171661 \nL 378.827693 -5076.092203 \nL 378.824631 -5181.012744 \nL 378.824154 -5285.933286 \nL 378.82748 -5390.853828 \nL 378.827699 -5495.77437 \nL 378.825008 -5600.694912 \nL 378.824042 -5705.615453 \nL 378.826147 -5810.535995 \nL 378.824538 -5915.456537 \nL 378.824835 -6020.377079 \nL 378.826168 -6125.29762 \nL 378.825489 -6230.218162 \nL 378.825707 -6335.138704 \nL 378.826161 -6440.059246 \nL 378.827204 -6544.979787 \nL 378.82267 -6649.900329 \nL 378.82059 -6754.820871 \nL 378.822261 -6859.741413 \nL 378.826357 -6964.661954 \nL 378.827631 -7069.582496 \nL 378.825675 -7174.503038 \nL 378.824447 -7279.42358 \nL 378.821543 -7384.344121 \nL 378.823542 -7489.264663 \nL 378.823814 -7594.185205 \nL 378.824868 -7699.105747 \nL 378.826483 -7804.026289 \nL 378.825583 -7908.94683 \nL 378.825881 -8013.867372 \nL 378.823185 -8118.787914 \nL 378.823331 -8223.708456 \nL 378.826856 -8328.628997 \nL 378.827915 -8433.549539 \nL 378.826421 -8538.470081 \nL 378.826013 -8643.390623 \nL 378.827719 -8748.311164 \nL 378.826653 -8853.231706 \nL 378.825725 -8958.152248 \nL 378.826222 -9063.07279 \nL 378.825848 -9167.993331 \nL 378.827598 -9272.913873 \nL 378.826511 -9377.834415 \nL 378.825937 -9482.754957 \nL 378.827785 -9587.675499 \nL 378.828465 -9587.675499 \nL 378.828465 -9587.675499 \nL 378.830313 -9482.754957 \nL 378.829739 -9377.834415 \nL 378.828652 -9272.913873 \nL 378.830402 -9167.993331 \nL 378.830028 -9063.07279 \nL 378.830525 -8958.152248 \nL 378.829597 -8853.231706 \nL 378.828531 -8748.311164 \nL 378.830237 -8643.390623 \nL 378.829829 -8538.470081 \nL 378.828335 -8433.549539 \nL 378.829394 -8328.628997 \nL 378.832919 -8223.708456 \nL 378.833065 -8118.787914 \nL 378.830369 -8013.867372 \nL 378.830667 -7908.94683 \nL 378.829767 -7804.026289 \nL 378.831382 -7699.105747 \nL 378.832436 -7594.185205 \nL 378.832708 -7489.264663 \nL 378.834707 -7384.344121 \nL 378.831803 -7279.42358 \nL 378.830575 -7174.503038 \nL 378.828619 -7069.582496 \nL 378.829893 -6964.661954 \nL 378.833989 -6859.741413 \nL 378.83566 -6754.820871 \nL 378.83358 -6649.900329 \nL 378.829046 -6544.979787 \nL 378.830089 -6440.059246 \nL 378.830543 -6335.138704 \nL 378.830761 -6230.218162 \nL 378.830082 -6125.29762 \nL 378.831415 -6020.377079 \nL 378.831712 -5915.456537 \nL 378.830103 -5810.535995 \nL 378.832208 -5705.615453 \nL 378.831242 -5600.694912 \nL 378.828551 -5495.77437 \nL 378.82877 -5390.853828 \nL 378.832096 -5285.933286 \nL 378.831619 -5181.012744 \nL 378.828557 -5076.092203 \nL 378.828141 -4971.171661 \nL 378.828546 -4866.251119 \nL 378.830439 -4761.330577 \nL 378.830002 -4656.410036 \nL 378.830626 -4551.489494 \nL 378.831101 -4446.568952 \nL 378.832848 -4341.64841 \nL 378.830268 -4236.727869 \nL 378.828298 -4131.807327 \nL 378.828908 -4026.886785 \nL 378.830665 -3921.966243 \nL 378.82986 -3817.045702 \nL 378.831228 -3712.12516 \nL 378.833046 -3607.204618 \nL 378.835071 -3502.284076 \nL 378.834499 -3397.363535 \nL 378.837913 -3292.442993 \nL 378.837287 -3187.522451 \nL 378.835858 -3082.601909 \nL 378.839174 -2977.681367 \nL 378.846653 -2872.760826 \nL 378.850055 -2767.840284 \nL 378.846738 -2662.919742 \nL 378.851146 -2557.9992 \nL 378.858036 -2453.078659 \nL 378.8753 -2348.158117 \nL 378.873987 -2243.237575 \nL 378.87279 -2138.317033 \nL 378.892079 -2033.396492 \nL 378.897392 -1928.47595 \nL 378.902713 -1823.555408 \nL 378.913482 -1718.634866 \nL 378.904243 -1613.714325 \nL 378.892296 -1508.793783 \nL 378.894915 -1403.873241 \nL 378.920481 -1298.952699 \nL 378.927416 -1194.032157 \nL 378.915847 -1089.111616 \nL 378.926234 -984.191074 \nL 378.949935 -879.270532 \nL 378.948029 -774.34999 \nL 378.942931 -669.429449 \nL 378.929853 -564.508907 \nL 378.932213 -459.588365 \nL 378.973176 -354.667823 \nL 379.103807 -249.747282 \nL 379.357908 -144.82674 \nL 379.722706 -39.906198 \nL 380.448605 65.014344 \nL 389.932141 169.934885 \nL 408.133463 274.855427 \nL 389.304208 379.775969 \nL 379.278404 484.696511 \nL 378.832039 589.617052 \nL 378.830315 694.537594 \nL 378.828465 799.458136 \nz\n\" style=\"fill:#c03d3e;stroke:#3d3d3d;stroke-width:1.5;\"/>\n   </g>\n   <g id=\"PolyCollection_5\">\n    <defs>\n     <path d=\"M 472.504035 -36.004013 \nL 471.152215 -36.004013 \nL 469.130081 -36.668656 \nL 466.565017 -37.3333 \nL 466.7176 -37.997943 \nL 469.213136 -38.662586 \nL 470.953154 -39.327229 \nL 471.48323 -39.991872 \nL 471.603199 -40.656515 \nL 471.645468 -41.321159 \nL 471.676222 -41.985802 \nL 471.710713 -42.650445 \nL 471.745035 -43.315088 \nL 471.767546 -43.979731 \nL 471.777075 -44.644374 \nL 471.783479 -45.309018 \nL 471.790994 -45.973661 \nL 471.794087 -46.638304 \nL 471.791879 -47.302947 \nL 471.790225 -47.96759 \nL 471.790852 -48.632233 \nL 471.792053 -49.296877 \nL 471.793408 -49.96152 \nL 471.794821 -50.626163 \nL 471.795593 -51.290806 \nL 471.798392 -51.955449 \nL 471.803561 -52.620092 \nL 471.805619 -53.284736 \nL 471.803875 -53.949379 \nL 471.802723 -54.614022 \nL 471.801363 -55.278665 \nL 471.797609 -55.943308 \nL 471.798653 -56.607951 \nL 471.807022 -57.272595 \nL 471.812116 -57.937238 \nL 471.812329 -58.601881 \nL 471.814856 -59.266524 \nL 471.819315 -59.931167 \nL 471.822844 -60.59581 \nL 471.824415 -61.260454 \nL 471.825301 -61.925097 \nL 471.826652 -62.58974 \nL 471.82688 -63.254383 \nL 471.824402 -63.919026 \nL 471.820463 -64.583669 \nL 471.818965 -65.248313 \nL 471.819938 -65.912956 \nL 471.821673 -66.577599 \nL 471.824008 -67.242242 \nL 471.824412 -67.906885 \nL 471.822293 -68.571528 \nL 471.820299 -69.236172 \nL 471.820071 -69.900815 \nL 471.821579 -70.565458 \nL 471.822733 -71.230101 \nL 471.822927 -71.894744 \nL 471.824136 -72.559387 \nL 471.826272 -73.224031 \nL 471.827661 -73.888674 \nL 471.828066 -74.553317 \nL 471.828121 -75.21796 \nL 471.828125 -75.882603 \nL 471.828125 -76.547246 \nL 471.828125 -77.21189 \nL 471.828125 -77.876533 \nL 471.828125 -78.541176 \nL 471.828125 -79.205819 \nL 471.828125 -79.870462 \nL 471.828125 -80.535105 \nL 471.828125 -81.199749 \nL 471.828125 -81.864392 \nL 471.828125 -82.529035 \nL 471.828125 -83.193678 \nL 471.828125 -83.858321 \nL 471.828125 -84.522964 \nL 471.828125 -85.187608 \nL 471.828125 -85.852251 \nL 471.828125 -86.516894 \nL 471.828125 -87.181537 \nL 471.828125 -87.84618 \nL 471.828125 -88.510823 \nL 471.828125 -89.175467 \nL 471.828125 -89.84011 \nL 471.828125 -90.504753 \nL 471.828125 -91.169396 \nL 471.828125 -91.834039 \nL 471.828125 -92.498682 \nL 471.828125 -93.163326 \nL 471.828125 -93.827969 \nL 471.828125 -94.492612 \nL 471.828125 -95.157255 \nL 471.828125 -95.821898 \nL 471.828125 -96.486541 \nL 471.828124 -97.151185 \nL 471.828105 -97.815828 \nL 471.82792 -98.480471 \nL 471.827122 -99.145114 \nL 471.825768 -99.809757 \nL 471.825466 -100.4744 \nL 471.826684 -101.139044 \nL 471.82775 -101.803687 \nL 471.8285 -101.803687 \nL 471.8285 -101.803687 \nL 471.829566 -101.139044 \nL 471.830784 -100.4744 \nL 471.830482 -99.809757 \nL 471.829128 -99.145114 \nL 471.82833 -98.480471 \nL 471.828145 -97.815828 \nL 471.828126 -97.151185 \nL 471.828125 -96.486541 \nL 471.828125 -95.821898 \nL 471.828125 -95.157255 \nL 471.828125 -94.492612 \nL 471.828125 -93.827969 \nL 471.828125 -93.163326 \nL 471.828125 -92.498682 \nL 471.828125 -91.834039 \nL 471.828125 -91.169396 \nL 471.828125 -90.504753 \nL 471.828125 -89.84011 \nL 471.828125 -89.175467 \nL 471.828125 -88.510823 \nL 471.828125 -87.84618 \nL 471.828125 -87.181537 \nL 471.828125 -86.516894 \nL 471.828125 -85.852251 \nL 471.828125 -85.187608 \nL 471.828125 -84.522964 \nL 471.828125 -83.858321 \nL 471.828125 -83.193678 \nL 471.828125 -82.529035 \nL 471.828125 -81.864392 \nL 471.828125 -81.199749 \nL 471.828125 -80.535105 \nL 471.828125 -79.870462 \nL 471.828125 -79.205819 \nL 471.828125 -78.541176 \nL 471.828125 -77.876533 \nL 471.828125 -77.21189 \nL 471.828125 -76.547246 \nL 471.828125 -75.882603 \nL 471.828129 -75.21796 \nL 471.828184 -74.553317 \nL 471.828589 -73.888674 \nL 471.829978 -73.224031 \nL 471.832114 -72.559387 \nL 471.833323 -71.894744 \nL 471.833517 -71.230101 \nL 471.834671 -70.565458 \nL 471.836179 -69.900815 \nL 471.835951 -69.236172 \nL 471.833957 -68.571528 \nL 471.831838 -67.906885 \nL 471.832242 -67.242242 \nL 471.834577 -66.577599 \nL 471.836312 -65.912956 \nL 471.837285 -65.248313 \nL 471.835787 -64.583669 \nL 471.831848 -63.919026 \nL 471.82937 -63.254383 \nL 471.829598 -62.58974 \nL 471.830949 -61.925097 \nL 471.831835 -61.260454 \nL 471.833406 -60.59581 \nL 471.836935 -59.931167 \nL 471.841394 -59.266524 \nL 471.843921 -58.601881 \nL 471.844134 -57.937238 \nL 471.849228 -57.272595 \nL 471.857597 -56.607951 \nL 471.858641 -55.943308 \nL 471.854887 -55.278665 \nL 471.853527 -54.614022 \nL 471.852375 -53.949379 \nL 471.850631 -53.284736 \nL 471.852689 -52.620092 \nL 471.857858 -51.955449 \nL 471.860657 -51.290806 \nL 471.861429 -50.626163 \nL 471.862842 -49.96152 \nL 471.864197 -49.296877 \nL 471.865398 -48.632233 \nL 471.866025 -47.96759 \nL 471.864371 -47.302947 \nL 471.862163 -46.638304 \nL 471.865256 -45.973661 \nL 471.872771 -45.309018 \nL 471.879175 -44.644374 \nL 471.888704 -43.979731 \nL 471.911215 -43.315088 \nL 471.945537 -42.650445 \nL 471.980028 -41.985802 \nL 472.010782 -41.321159 \nL 472.053051 -40.656515 \nL 472.17302 -39.991872 \nL 472.703096 -39.327229 \nL 474.443114 -38.662586 \nL 476.93865 -37.997943 \nL 477.091233 -37.3333 \nL 474.526169 -36.668656 \nL 472.504035 -36.004013 \nz\n\" id=\"m5e92c033db\" style=\"stroke:#3d3d3d;stroke-width:1.5;\"/>\n    </defs>\n    <g clip-path=\"url(#p5ec8079b5a)\">\n     <use style=\"fill:#9372b2;stroke:#3d3d3d;stroke-width:1.5;\" x=\"0\" xlink:href=\"#m5e92c033db\" y=\"320.355469\"/>\n    </g>\n   </g>\n   <g id=\"PolyCollection_6\">\n    <defs>\n     <path d=\"M 564.831452 -36.062864 \nL 564.824798 -36.062864 \nL 564.823069 -36.150231 \nL 564.820626 -36.237597 \nL 564.817272 -36.324964 \nL 564.812802 -36.41233 \nL 564.807018 -36.499696 \nL 564.799763 -36.587063 \nL 564.790949 -36.674429 \nL 564.780595 -36.761795 \nL 564.768853 -36.849162 \nL 564.756031 -36.936528 \nL 564.742595 -37.023895 \nL 564.729152 -37.111261 \nL 564.716413 -37.198627 \nL 564.705129 -37.285994 \nL 564.69602 -37.37336 \nL 564.689698 -37.460726 \nL 564.686596 -37.548093 \nL 564.686919 -37.635459 \nL 564.69062 -37.722826 \nL 564.697405 -37.810192 \nL 564.706774 -37.897558 \nL 564.718077 -37.984925 \nL 564.730587 -38.072291 \nL 564.743575 -38.159657 \nL 564.756373 -38.247024 \nL 564.768428 -38.33439 \nL 564.779326 -38.421757 \nL 564.788805 -38.509123 \nL 564.796745 -38.596489 \nL 564.803148 -38.683856 \nL 564.808109 -38.771222 \nL 564.811788 -38.858588 \nL 564.814382 -38.945955 \nL 564.8161 -39.033321 \nL 564.817148 -39.120688 \nL 564.817713 -39.208054 \nL 564.817957 -39.29542 \nL 564.81801 -39.382787 \nL 564.817975 -39.470153 \nL 564.817925 -39.557519 \nL 564.817905 -39.644886 \nL 564.817943 -39.732252 \nL 564.818046 -39.819619 \nL 564.818213 -39.906985 \nL 564.818433 -39.994351 \nL 564.818692 -40.081718 \nL 564.818975 -40.169084 \nL 564.819268 -40.25645 \nL 564.819556 -40.343817 \nL 564.819827 -40.431183 \nL 564.820073 -40.51855 \nL 564.820286 -40.605916 \nL 564.820462 -40.693282 \nL 564.820598 -40.780649 \nL 564.820697 -40.868015 \nL 564.820764 -40.955381 \nL 564.820806 -41.042748 \nL 564.820834 -41.130114 \nL 564.820861 -41.217481 \nL 564.820899 -41.304847 \nL 564.820963 -41.392213 \nL 564.821064 -41.47958 \nL 564.821212 -41.566946 \nL 564.821413 -41.654312 \nL 564.821671 -41.741679 \nL 564.821986 -41.829045 \nL 564.822353 -41.916412 \nL 564.822766 -42.003778 \nL 564.823211 -42.091144 \nL 564.823676 -42.178511 \nL 564.824143 -42.265877 \nL 564.824595 -42.353243 \nL 564.825013 -42.44061 \nL 564.825381 -42.527976 \nL 564.825685 -42.615343 \nL 564.825915 -42.702709 \nL 564.826065 -42.790075 \nL 564.826136 -42.877442 \nL 564.826133 -42.964808 \nL 564.826069 -43.052174 \nL 564.825958 -43.139541 \nL 564.825821 -43.226907 \nL 564.825679 -43.314274 \nL 564.825553 -43.40164 \nL 564.82546 -43.489006 \nL 564.825417 -43.576373 \nL 564.825431 -43.663739 \nL 564.825507 -43.751105 \nL 564.825641 -43.838472 \nL 564.825827 -43.925838 \nL 564.826051 -44.013205 \nL 564.826301 -44.100571 \nL 564.826561 -44.187937 \nL 564.826818 -44.275304 \nL 564.827061 -44.36267 \nL 564.827281 -44.450036 \nL 564.827472 -44.537403 \nL 564.827633 -44.624769 \nL 564.827764 -44.712136 \nL 564.828486 -44.712136 \nL 564.828486 -44.712136 \nL 564.828617 -44.624769 \nL 564.828778 -44.537403 \nL 564.828969 -44.450036 \nL 564.829189 -44.36267 \nL 564.829432 -44.275304 \nL 564.829689 -44.187937 \nL 564.829949 -44.100571 \nL 564.830199 -44.013205 \nL 564.830423 -43.925838 \nL 564.830609 -43.838472 \nL 564.830743 -43.751105 \nL 564.830819 -43.663739 \nL 564.830833 -43.576373 \nL 564.83079 -43.489006 \nL 564.830697 -43.40164 \nL 564.830571 -43.314274 \nL 564.830429 -43.226907 \nL 564.830292 -43.139541 \nL 564.830181 -43.052174 \nL 564.830117 -42.964808 \nL 564.830114 -42.877442 \nL 564.830185 -42.790075 \nL 564.830335 -42.702709 \nL 564.830565 -42.615343 \nL 564.830869 -42.527976 \nL 564.831237 -42.44061 \nL 564.831655 -42.353243 \nL 564.832107 -42.265877 \nL 564.832574 -42.178511 \nL 564.833039 -42.091144 \nL 564.833484 -42.003778 \nL 564.833897 -41.916412 \nL 564.834264 -41.829045 \nL 564.834579 -41.741679 \nL 564.834837 -41.654312 \nL 564.835038 -41.566946 \nL 564.835186 -41.47958 \nL 564.835287 -41.392213 \nL 564.835351 -41.304847 \nL 564.835389 -41.217481 \nL 564.835416 -41.130114 \nL 564.835444 -41.042748 \nL 564.835486 -40.955381 \nL 564.835553 -40.868015 \nL 564.835652 -40.780649 \nL 564.835788 -40.693282 \nL 564.835964 -40.605916 \nL 564.836177 -40.51855 \nL 564.836423 -40.431183 \nL 564.836694 -40.343817 \nL 564.836982 -40.25645 \nL 564.837275 -40.169084 \nL 564.837558 -40.081718 \nL 564.837817 -39.994351 \nL 564.838037 -39.906985 \nL 564.838204 -39.819619 \nL 564.838307 -39.732252 \nL 564.838345 -39.644886 \nL 564.838325 -39.557519 \nL 564.838275 -39.470153 \nL 564.83824 -39.382787 \nL 564.838293 -39.29542 \nL 564.838537 -39.208054 \nL 564.839102 -39.120688 \nL 564.84015 -39.033321 \nL 564.841868 -38.945955 \nL 564.844462 -38.858588 \nL 564.848141 -38.771222 \nL 564.853102 -38.683856 \nL 564.859505 -38.596489 \nL 564.867445 -38.509123 \nL 564.876924 -38.421757 \nL 564.887822 -38.33439 \nL 564.899877 -38.247024 \nL 564.912675 -38.159657 \nL 564.925663 -38.072291 \nL 564.938173 -37.984925 \nL 564.949476 -37.897558 \nL 564.958845 -37.810192 \nL 564.96563 -37.722826 \nL 564.969331 -37.635459 \nL 564.969654 -37.548093 \nL 564.966552 -37.460726 \nL 564.96023 -37.37336 \nL 564.951121 -37.285994 \nL 564.939837 -37.198627 \nL 564.927098 -37.111261 \nL 564.913655 -37.023895 \nL 564.900219 -36.936528 \nL 564.887397 -36.849162 \nL 564.875655 -36.761795 \nL 564.865301 -36.674429 \nL 564.856487 -36.587063 \nL 564.849232 -36.499696 \nL 564.843448 -36.41233 \nL 564.838978 -36.324964 \nL 564.835624 -36.237597 \nL 564.833181 -36.150231 \nL 564.831452 -36.062864 \nz\n\" id=\"mf5c19d30d3\" style=\"stroke:#3d3d3d;stroke-width:1.5;\"/>\n    </defs>\n    <g clip-path=\"url(#p5ec8079b5a)\">\n     <use style=\"fill:#845b53;stroke:#3d3d3d;stroke-width:1.5;\" x=\"0\" xlink:href=\"#mf5c19d30d3\" y=\"320.355469\"/>\n    </g>\n   </g>\n   <g id=\"matplotlib.axis_1\">\n    <g id=\"xtick_1\">\n     <g id=\"line2d_1\">\n      <defs>\n       <path d=\"M 0 0 \nL 0 3.5 \n\" id=\"mae8cf90bd3\" style=\"stroke:#000000;stroke-width:0.8;\"/>\n      </defs>\n      <g>\n       <use style=\"stroke:#000000;stroke-width:0.8;\" x=\"99.828125\" xlink:href=\"#mae8cf90bd3\" y=\"282.799219\"/>\n      </g>\n     </g>\n     <g id=\"text_1\">\n      <!-- Asia -->\n      <g transform=\"translate(89.35 297.397656)scale(0.1 -0.1)\">\n       <defs>\n        <path d=\"M 34.1875 63.1875 \nL 20.796875 26.90625 \nL 47.609375 26.90625 \nz\nM 28.609375 72.90625 \nL 39.796875 72.90625 \nL 67.578125 0 \nL 57.328125 0 \nL 50.6875 18.703125 \nL 17.828125 18.703125 \nL 11.1875 0 \nL 0.78125 0 \nz\n\" id=\"DejaVuSans-65\"/>\n        <path d=\"M 44.28125 53.078125 \nL 44.28125 44.578125 \nQ 40.484375 46.53125 36.375 47.5 \nQ 32.28125 48.484375 27.875 48.484375 \nQ 21.1875 48.484375 17.84375 46.4375 \nQ 14.5 44.390625 14.5 40.28125 \nQ 14.5 37.15625 16.890625 35.375 \nQ 19.28125 33.59375 26.515625 31.984375 \nL 29.59375 31.296875 \nQ 39.15625 29.25 43.1875 25.515625 \nQ 47.21875 21.78125 47.21875 15.09375 \nQ 47.21875 7.46875 41.1875 3.015625 \nQ 35.15625 -1.421875 24.609375 -1.421875 \nQ 20.21875 -1.421875 15.453125 -0.5625 \nQ 10.6875 0.296875 5.421875 2 \nL 5.421875 11.28125 \nQ 10.40625 8.6875 15.234375 7.390625 \nQ 20.0625 6.109375 24.8125 6.109375 \nQ 31.15625 6.109375 34.5625 8.28125 \nQ 37.984375 10.453125 37.984375 14.40625 \nQ 37.984375 18.0625 35.515625 20.015625 \nQ 33.0625 21.96875 24.703125 23.78125 \nL 21.578125 24.515625 \nQ 13.234375 26.265625 9.515625 29.90625 \nQ 5.8125 33.546875 5.8125 39.890625 \nQ 5.8125 47.609375 11.28125 51.796875 \nQ 16.75 56 26.8125 56 \nQ 31.78125 56 36.171875 55.265625 \nQ 40.578125 54.546875 44.28125 53.078125 \nz\n\" id=\"DejaVuSans-115\"/>\n        <path d=\"M 9.421875 54.6875 \nL 18.40625 54.6875 \nL 18.40625 0 \nL 9.421875 0 \nz\nM 9.421875 75.984375 \nL 18.40625 75.984375 \nL 18.40625 64.59375 \nL 9.421875 64.59375 \nz\n\" id=\"DejaVuSans-105\"/>\n        <path d=\"M 34.28125 27.484375 \nQ 23.390625 27.484375 19.1875 25 \nQ 14.984375 22.515625 14.984375 16.5 \nQ 14.984375 11.71875 18.140625 8.90625 \nQ 21.296875 6.109375 26.703125 6.109375 \nQ 34.1875 6.109375 38.703125 11.40625 \nQ 43.21875 16.703125 43.21875 25.484375 \nL 43.21875 27.484375 \nz\nM 52.203125 31.203125 \nL 52.203125 0 \nL 43.21875 0 \nL 43.21875 8.296875 \nQ 40.140625 3.328125 35.546875 0.953125 \nQ 30.953125 -1.421875 24.3125 -1.421875 \nQ 15.921875 -1.421875 10.953125 3.296875 \nQ 6 8.015625 6 15.921875 \nQ 6 25.140625 12.171875 29.828125 \nQ 18.359375 34.515625 30.609375 34.515625 \nL 43.21875 34.515625 \nL 43.21875 35.40625 \nQ 43.21875 41.609375 39.140625 45 \nQ 35.0625 48.390625 27.6875 48.390625 \nQ 23 48.390625 18.546875 47.265625 \nQ 14.109375 46.140625 10.015625 43.890625 \nL 10.015625 52.203125 \nQ 14.9375 54.109375 19.578125 55.046875 \nQ 24.21875 56 28.609375 56 \nQ 40.484375 56 46.34375 49.84375 \nQ 52.203125 43.703125 52.203125 31.203125 \nz\n\" id=\"DejaVuSans-97\"/>\n       </defs>\n       <use xlink:href=\"#DejaVuSans-65\"/>\n       <use x=\"68.408203\" xlink:href=\"#DejaVuSans-115\"/>\n       <use x=\"120.507812\" xlink:href=\"#DejaVuSans-105\"/>\n       <use x=\"148.291016\" xlink:href=\"#DejaVuSans-97\"/>\n      </g>\n     </g>\n    </g>\n    <g id=\"xtick_2\">\n     <g id=\"line2d_2\">\n      <g>\n       <use style=\"stroke:#000000;stroke-width:0.8;\" x=\"192.828125\" xlink:href=\"#mae8cf90bd3\" y=\"282.799219\"/>\n      </g>\n     </g>\n     <g id=\"text_2\">\n      <!-- Europe -->\n      <g transform=\"translate(175.246875 297.397656)scale(0.1 -0.1)\">\n       <defs>\n        <path d=\"M 9.8125 72.90625 \nL 55.90625 72.90625 \nL 55.90625 64.59375 \nL 19.671875 64.59375 \nL 19.671875 43.015625 \nL 54.390625 43.015625 \nL 54.390625 34.71875 \nL 19.671875 34.71875 \nL 19.671875 8.296875 \nL 56.78125 8.296875 \nL 56.78125 0 \nL 9.8125 0 \nz\n\" id=\"DejaVuSans-69\"/>\n        <path d=\"M 8.5 21.578125 \nL 8.5 54.6875 \nL 17.484375 54.6875 \nL 17.484375 21.921875 \nQ 17.484375 14.15625 20.5 10.265625 \nQ 23.53125 6.390625 29.59375 6.390625 \nQ 36.859375 6.390625 41.078125 11.03125 \nQ 45.3125 15.671875 45.3125 23.6875 \nL 45.3125 54.6875 \nL 54.296875 54.6875 \nL 54.296875 0 \nL 45.3125 0 \nL 45.3125 8.40625 \nQ 42.046875 3.421875 37.71875 1 \nQ 33.40625 -1.421875 27.6875 -1.421875 \nQ 18.265625 -1.421875 13.375 4.4375 \nQ 8.5 10.296875 8.5 21.578125 \nz\nM 31.109375 56 \nz\n\" id=\"DejaVuSans-117\"/>\n        <path d=\"M 41.109375 46.296875 \nQ 39.59375 47.171875 37.8125 47.578125 \nQ 36.03125 48 33.890625 48 \nQ 26.265625 48 22.1875 43.046875 \nQ 18.109375 38.09375 18.109375 28.8125 \nL 18.109375 0 \nL 9.078125 0 \nL 9.078125 54.6875 \nL 18.109375 54.6875 \nL 18.109375 46.1875 \nQ 20.953125 51.171875 25.484375 53.578125 \nQ 30.03125 56 36.53125 56 \nQ 37.453125 56 38.578125 55.875 \nQ 39.703125 55.765625 41.0625 55.515625 \nz\n\" id=\"DejaVuSans-114\"/>\n        <path d=\"M 30.609375 48.390625 \nQ 23.390625 48.390625 19.1875 42.75 \nQ 14.984375 37.109375 14.984375 27.296875 \nQ 14.984375 17.484375 19.15625 11.84375 \nQ 23.34375 6.203125 30.609375 6.203125 \nQ 37.796875 6.203125 41.984375 11.859375 \nQ 46.1875 17.53125 46.1875 27.296875 \nQ 46.1875 37.015625 41.984375 42.703125 \nQ 37.796875 48.390625 30.609375 48.390625 \nz\nM 30.609375 56 \nQ 42.328125 56 49.015625 48.375 \nQ 55.71875 40.765625 55.71875 27.296875 \nQ 55.71875 13.875 49.015625 6.21875 \nQ 42.328125 -1.421875 30.609375 -1.421875 \nQ 18.84375 -1.421875 12.171875 6.21875 \nQ 5.515625 13.875 5.515625 27.296875 \nQ 5.515625 40.765625 12.171875 48.375 \nQ 18.84375 56 30.609375 56 \nz\n\" id=\"DejaVuSans-111\"/>\n        <path d=\"M 18.109375 8.203125 \nL 18.109375 -20.796875 \nL 9.078125 -20.796875 \nL 9.078125 54.6875 \nL 18.109375 54.6875 \nL 18.109375 46.390625 \nQ 20.953125 51.265625 25.265625 53.625 \nQ 29.59375 56 35.59375 56 \nQ 45.5625 56 51.78125 48.09375 \nQ 58.015625 40.1875 58.015625 27.296875 \nQ 58.015625 14.40625 51.78125 6.484375 \nQ 45.5625 -1.421875 35.59375 -1.421875 \nQ 29.59375 -1.421875 25.265625 0.953125 \nQ 20.953125 3.328125 18.109375 8.203125 \nz\nM 48.6875 27.296875 \nQ 48.6875 37.203125 44.609375 42.84375 \nQ 40.53125 48.484375 33.40625 48.484375 \nQ 26.265625 48.484375 22.1875 42.84375 \nQ 18.109375 37.203125 18.109375 27.296875 \nQ 18.109375 17.390625 22.1875 11.75 \nQ 26.265625 6.109375 33.40625 6.109375 \nQ 40.53125 6.109375 44.609375 11.75 \nQ 48.6875 17.390625 48.6875 27.296875 \nz\n\" id=\"DejaVuSans-112\"/>\n        <path d=\"M 56.203125 29.59375 \nL 56.203125 25.203125 \nL 14.890625 25.203125 \nQ 15.484375 15.921875 20.484375 11.0625 \nQ 25.484375 6.203125 34.421875 6.203125 \nQ 39.59375 6.203125 44.453125 7.46875 \nQ 49.3125 8.734375 54.109375 11.28125 \nL 54.109375 2.78125 \nQ 49.265625 0.734375 44.1875 -0.34375 \nQ 39.109375 -1.421875 33.890625 -1.421875 \nQ 20.796875 -1.421875 13.15625 6.1875 \nQ 5.515625 13.8125 5.515625 26.8125 \nQ 5.515625 40.234375 12.765625 48.109375 \nQ 20.015625 56 32.328125 56 \nQ 43.359375 56 49.78125 48.890625 \nQ 56.203125 41.796875 56.203125 29.59375 \nz\nM 47.21875 32.234375 \nQ 47.125 39.59375 43.09375 43.984375 \nQ 39.0625 48.390625 32.421875 48.390625 \nQ 24.90625 48.390625 20.390625 44.140625 \nQ 15.875 39.890625 15.1875 32.171875 \nz\n\" id=\"DejaVuSans-101\"/>\n       </defs>\n       <use xlink:href=\"#DejaVuSans-69\"/>\n       <use x=\"63.183594\" xlink:href=\"#DejaVuSans-117\"/>\n       <use x=\"126.5625\" xlink:href=\"#DejaVuSans-114\"/>\n       <use x=\"165.425781\" xlink:href=\"#DejaVuSans-111\"/>\n       <use x=\"226.607422\" xlink:href=\"#DejaVuSans-112\"/>\n       <use x=\"290.083984\" xlink:href=\"#DejaVuSans-101\"/>\n      </g>\n     </g>\n    </g>\n    <g id=\"xtick_3\">\n     <g id=\"line2d_3\">\n      <g>\n       <use style=\"stroke:#000000;stroke-width:0.8;\" x=\"285.828125\" xlink:href=\"#mae8cf90bd3\" y=\"282.799219\"/>\n      </g>\n     </g>\n     <g id=\"text_3\">\n      <!-- Africa -->\n      <g transform=\"translate(271.571094 297.397656)scale(0.1 -0.1)\">\n       <defs>\n        <path d=\"M 37.109375 75.984375 \nL 37.109375 68.5 \nL 28.515625 68.5 \nQ 23.6875 68.5 21.796875 66.546875 \nQ 19.921875 64.59375 19.921875 59.515625 \nL 19.921875 54.6875 \nL 34.71875 54.6875 \nL 34.71875 47.703125 \nL 19.921875 47.703125 \nL 19.921875 0 \nL 10.890625 0 \nL 10.890625 47.703125 \nL 2.296875 47.703125 \nL 2.296875 54.6875 \nL 10.890625 54.6875 \nL 10.890625 58.5 \nQ 10.890625 67.625 15.140625 71.796875 \nQ 19.390625 75.984375 28.609375 75.984375 \nz\n\" id=\"DejaVuSans-102\"/>\n        <path d=\"M 48.78125 52.59375 \nL 48.78125 44.1875 \nQ 44.96875 46.296875 41.140625 47.34375 \nQ 37.3125 48.390625 33.40625 48.390625 \nQ 24.65625 48.390625 19.8125 42.84375 \nQ 14.984375 37.3125 14.984375 27.296875 \nQ 14.984375 17.28125 19.8125 11.734375 \nQ 24.65625 6.203125 33.40625 6.203125 \nQ 37.3125 6.203125 41.140625 7.25 \nQ 44.96875 8.296875 48.78125 10.40625 \nL 48.78125 2.09375 \nQ 45.015625 0.34375 40.984375 -0.53125 \nQ 36.96875 -1.421875 32.421875 -1.421875 \nQ 20.0625 -1.421875 12.78125 6.34375 \nQ 5.515625 14.109375 5.515625 27.296875 \nQ 5.515625 40.671875 12.859375 48.328125 \nQ 20.21875 56 33.015625 56 \nQ 37.15625 56 41.109375 55.140625 \nQ 45.0625 54.296875 48.78125 52.59375 \nz\n\" id=\"DejaVuSans-99\"/>\n       </defs>\n       <use xlink:href=\"#DejaVuSans-65\"/>\n       <use x=\"64.783203\" xlink:href=\"#DejaVuSans-102\"/>\n       <use x=\"99.988281\" xlink:href=\"#DejaVuSans-114\"/>\n       <use x=\"141.101562\" xlink:href=\"#DejaVuSans-105\"/>\n       <use x=\"168.884766\" xlink:href=\"#DejaVuSans-99\"/>\n       <use x=\"223.865234\" xlink:href=\"#DejaVuSans-97\"/>\n      </g>\n     </g>\n    </g>\n    <g id=\"xtick_4\">\n     <g id=\"line2d_4\">\n      <g>\n       <use style=\"stroke:#000000;stroke-width:0.8;\" x=\"378.828125\" xlink:href=\"#mae8cf90bd3\" y=\"282.799219\"/>\n      </g>\n     </g>\n     <g id=\"text_4\">\n      <!-- America -->\n      <g transform=\"translate(358.203125 297.397656)scale(0.1 -0.1)\">\n       <defs>\n        <path d=\"M 52 44.1875 \nQ 55.375 50.25 60.0625 53.125 \nQ 64.75 56 71.09375 56 \nQ 79.640625 56 84.28125 50.015625 \nQ 88.921875 44.046875 88.921875 33.015625 \nL 88.921875 0 \nL 79.890625 0 \nL 79.890625 32.71875 \nQ 79.890625 40.578125 77.09375 44.375 \nQ 74.3125 48.1875 68.609375 48.1875 \nQ 61.625 48.1875 57.5625 43.546875 \nQ 53.515625 38.921875 53.515625 30.90625 \nL 53.515625 0 \nL 44.484375 0 \nL 44.484375 32.71875 \nQ 44.484375 40.625 41.703125 44.40625 \nQ 38.921875 48.1875 33.109375 48.1875 \nQ 26.21875 48.1875 22.15625 43.53125 \nQ 18.109375 38.875 18.109375 30.90625 \nL 18.109375 0 \nL 9.078125 0 \nL 9.078125 54.6875 \nL 18.109375 54.6875 \nL 18.109375 46.1875 \nQ 21.1875 51.21875 25.484375 53.609375 \nQ 29.78125 56 35.6875 56 \nQ 41.65625 56 45.828125 52.96875 \nQ 50 49.953125 52 44.1875 \nz\n\" id=\"DejaVuSans-109\"/>\n       </defs>\n       <use xlink:href=\"#DejaVuSans-65\"/>\n       <use x=\"68.408203\" xlink:href=\"#DejaVuSans-109\"/>\n       <use x=\"165.820312\" xlink:href=\"#DejaVuSans-101\"/>\n       <use x=\"227.34375\" xlink:href=\"#DejaVuSans-114\"/>\n       <use x=\"268.457031\" xlink:href=\"#DejaVuSans-105\"/>\n       <use x=\"296.240234\" xlink:href=\"#DejaVuSans-99\"/>\n       <use x=\"351.220703\" xlink:href=\"#DejaVuSans-97\"/>\n      </g>\n     </g>\n    </g>\n    <g id=\"xtick_5\">\n     <g id=\"line2d_5\">\n      <g>\n       <use style=\"stroke:#000000;stroke-width:0.8;\" x=\"471.828125\" xlink:href=\"#mae8cf90bd3\" y=\"282.799219\"/>\n      </g>\n     </g>\n     <g id=\"text_5\">\n      <!-- Oceania -->\n      <g transform=\"translate(451.380469 297.397656)scale(0.1 -0.1)\">\n       <defs>\n        <path d=\"M 39.40625 66.21875 \nQ 28.65625 66.21875 22.328125 58.203125 \nQ 16.015625 50.203125 16.015625 36.375 \nQ 16.015625 22.609375 22.328125 14.59375 \nQ 28.65625 6.59375 39.40625 6.59375 \nQ 50.140625 6.59375 56.421875 14.59375 \nQ 62.703125 22.609375 62.703125 36.375 \nQ 62.703125 50.203125 56.421875 58.203125 \nQ 50.140625 66.21875 39.40625 66.21875 \nz\nM 39.40625 74.21875 \nQ 54.734375 74.21875 63.90625 63.9375 \nQ 73.09375 53.65625 73.09375 36.375 \nQ 73.09375 19.140625 63.90625 8.859375 \nQ 54.734375 -1.421875 39.40625 -1.421875 \nQ 24.03125 -1.421875 14.8125 8.828125 \nQ 5.609375 19.09375 5.609375 36.375 \nQ 5.609375 53.65625 14.8125 63.9375 \nQ 24.03125 74.21875 39.40625 74.21875 \nz\n\" id=\"DejaVuSans-79\"/>\n        <path d=\"M 54.890625 33.015625 \nL 54.890625 0 \nL 45.90625 0 \nL 45.90625 32.71875 \nQ 45.90625 40.484375 42.875 44.328125 \nQ 39.84375 48.1875 33.796875 48.1875 \nQ 26.515625 48.1875 22.3125 43.546875 \nQ 18.109375 38.921875 18.109375 30.90625 \nL 18.109375 0 \nL 9.078125 0 \nL 9.078125 54.6875 \nL 18.109375 54.6875 \nL 18.109375 46.1875 \nQ 21.34375 51.125 25.703125 53.5625 \nQ 30.078125 56 35.796875 56 \nQ 45.21875 56 50.046875 50.171875 \nQ 54.890625 44.34375 54.890625 33.015625 \nz\n\" id=\"DejaVuSans-110\"/>\n       </defs>\n       <use xlink:href=\"#DejaVuSans-79\"/>\n       <use x=\"78.710938\" xlink:href=\"#DejaVuSans-99\"/>\n       <use x=\"133.691406\" xlink:href=\"#DejaVuSans-101\"/>\n       <use x=\"195.214844\" xlink:href=\"#DejaVuSans-97\"/>\n       <use x=\"256.494141\" xlink:href=\"#DejaVuSans-110\"/>\n       <use x=\"319.873047\" xlink:href=\"#DejaVuSans-105\"/>\n       <use x=\"347.65625\" xlink:href=\"#DejaVuSans-97\"/>\n      </g>\n     </g>\n    </g>\n    <g id=\"xtick_6\">\n     <g id=\"line2d_6\">\n      <g>\n       <use style=\"stroke:#000000;stroke-width:0.8;\" x=\"564.828125\" xlink:href=\"#mae8cf90bd3\" y=\"282.799219\"/>\n      </g>\n     </g>\n     <g id=\"text_6\">\n      <!-- Other -->\n      <g transform=\"translate(550.63125 297.397656)scale(0.1 -0.1)\">\n       <defs>\n        <path d=\"M 18.3125 70.21875 \nL 18.3125 54.6875 \nL 36.8125 54.6875 \nL 36.8125 47.703125 \nL 18.3125 47.703125 \nL 18.3125 18.015625 \nQ 18.3125 11.328125 20.140625 9.421875 \nQ 21.96875 7.515625 27.59375 7.515625 \nL 36.8125 7.515625 \nL 36.8125 0 \nL 27.59375 0 \nQ 17.1875 0 13.234375 3.875 \nQ 9.28125 7.765625 9.28125 18.015625 \nL 9.28125 47.703125 \nL 2.6875 47.703125 \nL 2.6875 54.6875 \nL 9.28125 54.6875 \nL 9.28125 70.21875 \nz\n\" id=\"DejaVuSans-116\"/>\n        <path d=\"M 54.890625 33.015625 \nL 54.890625 0 \nL 45.90625 0 \nL 45.90625 32.71875 \nQ 45.90625 40.484375 42.875 44.328125 \nQ 39.84375 48.1875 33.796875 48.1875 \nQ 26.515625 48.1875 22.3125 43.546875 \nQ 18.109375 38.921875 18.109375 30.90625 \nL 18.109375 0 \nL 9.078125 0 \nL 9.078125 75.984375 \nL 18.109375 75.984375 \nL 18.109375 46.1875 \nQ 21.34375 51.125 25.703125 53.5625 \nQ 30.078125 56 35.796875 56 \nQ 45.21875 56 50.046875 50.171875 \nQ 54.890625 44.34375 54.890625 33.015625 \nz\n\" id=\"DejaVuSans-104\"/>\n       </defs>\n       <use xlink:href=\"#DejaVuSans-79\"/>\n       <use x=\"78.710938\" xlink:href=\"#DejaVuSans-116\"/>\n       <use x=\"117.919922\" xlink:href=\"#DejaVuSans-104\"/>\n       <use x=\"181.298828\" xlink:href=\"#DejaVuSans-101\"/>\n       <use x=\"242.822266\" xlink:href=\"#DejaVuSans-114\"/>\n      </g>\n     </g>\n    </g>\n    <g id=\"text_7\">\n     <!-- continentExp -->\n     <g transform=\"translate(299.334375 311.075781)scale(0.1 -0.1)\">\n      <defs>\n       <path d=\"M 54.890625 54.6875 \nL 35.109375 28.078125 \nL 55.90625 0 \nL 45.3125 0 \nL 29.390625 21.484375 \nL 13.484375 0 \nL 2.875 0 \nL 24.125 28.609375 \nL 4.6875 54.6875 \nL 15.28125 54.6875 \nL 29.78125 35.203125 \nL 44.28125 54.6875 \nz\n\" id=\"DejaVuSans-120\"/>\n      </defs>\n      <use xlink:href=\"#DejaVuSans-99\"/>\n      <use x=\"54.980469\" xlink:href=\"#DejaVuSans-111\"/>\n      <use x=\"116.162109\" xlink:href=\"#DejaVuSans-110\"/>\n      <use x=\"179.541016\" xlink:href=\"#DejaVuSans-116\"/>\n      <use x=\"218.75\" xlink:href=\"#DejaVuSans-105\"/>\n      <use x=\"246.533203\" xlink:href=\"#DejaVuSans-110\"/>\n      <use x=\"309.912109\" xlink:href=\"#DejaVuSans-101\"/>\n      <use x=\"371.435547\" xlink:href=\"#DejaVuSans-110\"/>\n      <use x=\"434.814453\" xlink:href=\"#DejaVuSans-116\"/>\n      <use x=\"474.023438\" xlink:href=\"#DejaVuSans-69\"/>\n      <use x=\"537.207031\" xlink:href=\"#DejaVuSans-120\"/>\n      <use x=\"596.386719\" xlink:href=\"#DejaVuSans-112\"/>\n     </g>\n    </g>\n   </g>\n   <g id=\"matplotlib.axis_2\">\n    <g id=\"ytick_1\">\n     <g id=\"line2d_7\">\n      <defs>\n       <path d=\"M 0 0 \nL -3.5 0 \n\" id=\"m2ad3a8b053\" style=\"stroke:#000000;stroke-width:0.8;\"/>\n      </defs>\n      <g>\n       <use style=\"stroke:#000000;stroke-width:0.8;\" x=\"53.328125\" xlink:href=\"#m2ad3a8b053\" y=\"282.799219\"/>\n      </g>\n     </g>\n     <g id=\"text_8\">\n      <!-- 0 -->\n      <g transform=\"translate(39.965625 286.598437)scale(0.1 -0.1)\">\n       <defs>\n        <path d=\"M 31.78125 66.40625 \nQ 24.171875 66.40625 20.328125 58.90625 \nQ 16.5 51.421875 16.5 36.375 \nQ 16.5 21.390625 20.328125 13.890625 \nQ 24.171875 6.390625 31.78125 6.390625 \nQ 39.453125 6.390625 43.28125 13.890625 \nQ 47.125 21.390625 47.125 36.375 \nQ 47.125 51.421875 43.28125 58.90625 \nQ 39.453125 66.40625 31.78125 66.40625 \nz\nM 31.78125 74.21875 \nQ 44.046875 74.21875 50.515625 64.515625 \nQ 56.984375 54.828125 56.984375 36.375 \nQ 56.984375 17.96875 50.515625 8.265625 \nQ 44.046875 -1.421875 31.78125 -1.421875 \nQ 19.53125 -1.421875 13.0625 8.265625 \nQ 6.59375 17.96875 6.59375 36.375 \nQ 6.59375 54.828125 13.0625 64.515625 \nQ 19.53125 74.21875 31.78125 74.21875 \nz\n\" id=\"DejaVuSans-48\"/>\n       </defs>\n       <use xlink:href=\"#DejaVuSans-48\"/>\n      </g>\n     </g>\n    </g>\n    <g id=\"ytick_2\">\n     <g id=\"line2d_8\">\n      <g>\n       <use style=\"stroke:#000000;stroke-width:0.8;\" x=\"53.328125\" xlink:href=\"#m2ad3a8b053\" y=\"237.499219\"/>\n      </g>\n     </g>\n     <g id=\"text_9\">\n      <!-- 1000 -->\n      <g transform=\"translate(20.878125 241.298437)scale(0.1 -0.1)\">\n       <defs>\n        <path d=\"M 12.40625 8.296875 \nL 28.515625 8.296875 \nL 28.515625 63.921875 \nL 10.984375 60.40625 \nL 10.984375 69.390625 \nL 28.421875 72.90625 \nL 38.28125 72.90625 \nL 38.28125 8.296875 \nL 54.390625 8.296875 \nL 54.390625 0 \nL 12.40625 0 \nz\n\" id=\"DejaVuSans-49\"/>\n       </defs>\n       <use xlink:href=\"#DejaVuSans-49\"/>\n       <use x=\"63.623047\" xlink:href=\"#DejaVuSans-48\"/>\n       <use x=\"127.246094\" xlink:href=\"#DejaVuSans-48\"/>\n       <use x=\"190.869141\" xlink:href=\"#DejaVuSans-48\"/>\n      </g>\n     </g>\n    </g>\n    <g id=\"ytick_3\">\n     <g id=\"line2d_9\">\n      <g>\n       <use style=\"stroke:#000000;stroke-width:0.8;\" x=\"53.328125\" xlink:href=\"#m2ad3a8b053\" y=\"192.199219\"/>\n      </g>\n     </g>\n     <g id=\"text_10\">\n      <!-- 2000 -->\n      <g transform=\"translate(20.878125 195.998437)scale(0.1 -0.1)\">\n       <defs>\n        <path d=\"M 19.1875 8.296875 \nL 53.609375 8.296875 \nL 53.609375 0 \nL 7.328125 0 \nL 7.328125 8.296875 \nQ 12.9375 14.109375 22.625 23.890625 \nQ 32.328125 33.6875 34.8125 36.53125 \nQ 39.546875 41.84375 41.421875 45.53125 \nQ 43.3125 49.21875 43.3125 52.78125 \nQ 43.3125 58.59375 39.234375 62.25 \nQ 35.15625 65.921875 28.609375 65.921875 \nQ 23.96875 65.921875 18.8125 64.3125 \nQ 13.671875 62.703125 7.8125 59.421875 \nL 7.8125 69.390625 \nQ 13.765625 71.78125 18.9375 73 \nQ 24.125 74.21875 28.421875 74.21875 \nQ 39.75 74.21875 46.484375 68.546875 \nQ 53.21875 62.890625 53.21875 53.421875 \nQ 53.21875 48.921875 51.53125 44.890625 \nQ 49.859375 40.875 45.40625 35.40625 \nQ 44.1875 33.984375 37.640625 27.21875 \nQ 31.109375 20.453125 19.1875 8.296875 \nz\n\" id=\"DejaVuSans-50\"/>\n       </defs>\n       <use xlink:href=\"#DejaVuSans-50\"/>\n       <use x=\"63.623047\" xlink:href=\"#DejaVuSans-48\"/>\n       <use x=\"127.246094\" xlink:href=\"#DejaVuSans-48\"/>\n       <use x=\"190.869141\" xlink:href=\"#DejaVuSans-48\"/>\n      </g>\n     </g>\n    </g>\n    <g id=\"ytick_4\">\n     <g id=\"line2d_10\">\n      <g>\n       <use style=\"stroke:#000000;stroke-width:0.8;\" x=\"53.328125\" xlink:href=\"#m2ad3a8b053\" y=\"146.899219\"/>\n      </g>\n     </g>\n     <g id=\"text_11\">\n      <!-- 3000 -->\n      <g transform=\"translate(20.878125 150.698437)scale(0.1 -0.1)\">\n       <defs>\n        <path d=\"M 40.578125 39.3125 \nQ 47.65625 37.796875 51.625 33 \nQ 55.609375 28.21875 55.609375 21.1875 \nQ 55.609375 10.40625 48.1875 4.484375 \nQ 40.765625 -1.421875 27.09375 -1.421875 \nQ 22.515625 -1.421875 17.65625 -0.515625 \nQ 12.796875 0.390625 7.625 2.203125 \nL 7.625 11.71875 \nQ 11.71875 9.328125 16.59375 8.109375 \nQ 21.484375 6.890625 26.8125 6.890625 \nQ 36.078125 6.890625 40.9375 10.546875 \nQ 45.796875 14.203125 45.796875 21.1875 \nQ 45.796875 27.640625 41.28125 31.265625 \nQ 36.765625 34.90625 28.71875 34.90625 \nL 20.21875 34.90625 \nL 20.21875 43.015625 \nL 29.109375 43.015625 \nQ 36.375 43.015625 40.234375 45.921875 \nQ 44.09375 48.828125 44.09375 54.296875 \nQ 44.09375 59.90625 40.109375 62.90625 \nQ 36.140625 65.921875 28.71875 65.921875 \nQ 24.65625 65.921875 20.015625 65.03125 \nQ 15.375 64.15625 9.8125 62.3125 \nL 9.8125 71.09375 \nQ 15.4375 72.65625 20.34375 73.4375 \nQ 25.25 74.21875 29.59375 74.21875 \nQ 40.828125 74.21875 47.359375 69.109375 \nQ 53.90625 64.015625 53.90625 55.328125 \nQ 53.90625 49.265625 50.4375 45.09375 \nQ 46.96875 40.921875 40.578125 39.3125 \nz\n\" id=\"DejaVuSans-51\"/>\n       </defs>\n       <use xlink:href=\"#DejaVuSans-51\"/>\n       <use x=\"63.623047\" xlink:href=\"#DejaVuSans-48\"/>\n       <use x=\"127.246094\" xlink:href=\"#DejaVuSans-48\"/>\n       <use x=\"190.869141\" xlink:href=\"#DejaVuSans-48\"/>\n      </g>\n     </g>\n    </g>\n    <g id=\"ytick_5\">\n     <g id=\"line2d_11\">\n      <g>\n       <use style=\"stroke:#000000;stroke-width:0.8;\" x=\"53.328125\" xlink:href=\"#m2ad3a8b053\" y=\"101.599219\"/>\n      </g>\n     </g>\n     <g id=\"text_12\">\n      <!-- 4000 -->\n      <g transform=\"translate(20.878125 105.398437)scale(0.1 -0.1)\">\n       <defs>\n        <path d=\"M 37.796875 64.3125 \nL 12.890625 25.390625 \nL 37.796875 25.390625 \nz\nM 35.203125 72.90625 \nL 47.609375 72.90625 \nL 47.609375 25.390625 \nL 58.015625 25.390625 \nL 58.015625 17.1875 \nL 47.609375 17.1875 \nL 47.609375 0 \nL 37.796875 0 \nL 37.796875 17.1875 \nL 4.890625 17.1875 \nL 4.890625 26.703125 \nz\n\" id=\"DejaVuSans-52\"/>\n       </defs>\n       <use xlink:href=\"#DejaVuSans-52\"/>\n       <use x=\"63.623047\" xlink:href=\"#DejaVuSans-48\"/>\n       <use x=\"127.246094\" xlink:href=\"#DejaVuSans-48\"/>\n       <use x=\"190.869141\" xlink:href=\"#DejaVuSans-48\"/>\n      </g>\n     </g>\n    </g>\n    <g id=\"ytick_6\">\n     <g id=\"line2d_12\">\n      <g>\n       <use style=\"stroke:#000000;stroke-width:0.8;\" x=\"53.328125\" xlink:href=\"#m2ad3a8b053\" y=\"56.299219\"/>\n      </g>\n     </g>\n     <g id=\"text_13\">\n      <!-- 5000 -->\n      <g transform=\"translate(20.878125 60.098437)scale(0.1 -0.1)\">\n       <defs>\n        <path d=\"M 10.796875 72.90625 \nL 49.515625 72.90625 \nL 49.515625 64.59375 \nL 19.828125 64.59375 \nL 19.828125 46.734375 \nQ 21.96875 47.46875 24.109375 47.828125 \nQ 26.265625 48.1875 28.421875 48.1875 \nQ 40.625 48.1875 47.75 41.5 \nQ 54.890625 34.8125 54.890625 23.390625 \nQ 54.890625 11.625 47.5625 5.09375 \nQ 40.234375 -1.421875 26.90625 -1.421875 \nQ 22.3125 -1.421875 17.546875 -0.640625 \nQ 12.796875 0.140625 7.71875 1.703125 \nL 7.71875 11.625 \nQ 12.109375 9.234375 16.796875 8.0625 \nQ 21.484375 6.890625 26.703125 6.890625 \nQ 35.15625 6.890625 40.078125 11.328125 \nQ 45.015625 15.765625 45.015625 23.390625 \nQ 45.015625 31 40.078125 35.4375 \nQ 35.15625 39.890625 26.703125 39.890625 \nQ 22.75 39.890625 18.8125 39.015625 \nQ 14.890625 38.140625 10.796875 36.28125 \nz\n\" id=\"DejaVuSans-53\"/>\n       </defs>\n       <use xlink:href=\"#DejaVuSans-53\"/>\n       <use x=\"63.623047\" xlink:href=\"#DejaVuSans-48\"/>\n       <use x=\"127.246094\" xlink:href=\"#DejaVuSans-48\"/>\n       <use x=\"190.869141\" xlink:href=\"#DejaVuSans-48\"/>\n      </g>\n     </g>\n    </g>\n    <g id=\"ytick_7\">\n     <g id=\"line2d_13\">\n      <g>\n       <use style=\"stroke:#000000;stroke-width:0.8;\" x=\"53.328125\" xlink:href=\"#m2ad3a8b053\" y=\"10.999219\"/>\n      </g>\n     </g>\n     <g id=\"text_14\">\n      <!-- 6000 -->\n      <g transform=\"translate(20.878125 14.798438)scale(0.1 -0.1)\">\n       <defs>\n        <path d=\"M 33.015625 40.375 \nQ 26.375 40.375 22.484375 35.828125 \nQ 18.609375 31.296875 18.609375 23.390625 \nQ 18.609375 15.53125 22.484375 10.953125 \nQ 26.375 6.390625 33.015625 6.390625 \nQ 39.65625 6.390625 43.53125 10.953125 \nQ 47.40625 15.53125 47.40625 23.390625 \nQ 47.40625 31.296875 43.53125 35.828125 \nQ 39.65625 40.375 33.015625 40.375 \nz\nM 52.59375 71.296875 \nL 52.59375 62.3125 \nQ 48.875 64.0625 45.09375 64.984375 \nQ 41.3125 65.921875 37.59375 65.921875 \nQ 27.828125 65.921875 22.671875 59.328125 \nQ 17.53125 52.734375 16.796875 39.40625 \nQ 19.671875 43.65625 24.015625 45.921875 \nQ 28.375 48.1875 33.59375 48.1875 \nQ 44.578125 48.1875 50.953125 41.515625 \nQ 57.328125 34.859375 57.328125 23.390625 \nQ 57.328125 12.15625 50.6875 5.359375 \nQ 44.046875 -1.421875 33.015625 -1.421875 \nQ 20.359375 -1.421875 13.671875 8.265625 \nQ 6.984375 17.96875 6.984375 36.375 \nQ 6.984375 53.65625 15.1875 63.9375 \nQ 23.390625 74.21875 37.203125 74.21875 \nQ 40.921875 74.21875 44.703125 73.484375 \nQ 48.484375 72.75 52.59375 71.296875 \nz\n\" id=\"DejaVuSans-54\"/>\n       </defs>\n       <use xlink:href=\"#DejaVuSans-54\"/>\n       <use x=\"63.623047\" xlink:href=\"#DejaVuSans-48\"/>\n       <use x=\"127.246094\" xlink:href=\"#DejaVuSans-48\"/>\n       <use x=\"190.869141\" xlink:href=\"#DejaVuSans-48\"/>\n      </g>\n     </g>\n    </g>\n    <g id=\"text_15\">\n     <!-- cases -->\n     <g transform=\"translate(14.798438 160.998437)rotate(-90)scale(0.1 -0.1)\">\n      <use xlink:href=\"#DejaVuSans-99\"/>\n      <use x=\"54.980469\" xlink:href=\"#DejaVuSans-97\"/>\n      <use x=\"116.259766\" xlink:href=\"#DejaVuSans-115\"/>\n      <use x=\"168.359375\" xlink:href=\"#DejaVuSans-101\"/>\n      <use x=\"229.882812\" xlink:href=\"#DejaVuSans-115\"/>\n     </g>\n    </g>\n   </g>\n   <g id=\"line2d_14\">\n    <path clip-path=\"url(#p5ec8079b5a)\" d=\"M 99.828125 287.782219 \nL 99.828125 221.870719 \n\" style=\"fill:none;stroke:#3d3d3d;stroke-linecap:square;stroke-width:1.5;\"/>\n   </g>\n   <g id=\"line2d_15\">\n    <path clip-path=\"url(#p5ec8079b5a)\" d=\"M 99.828125 282.799219 \nL 99.828125 258.382519 \n\" style=\"fill:none;stroke:#3d3d3d;stroke-linecap:square;stroke-width:4.5;\"/>\n   </g>\n   <g id=\"line2d_16\">\n    <path clip-path=\"url(#p5ec8079b5a)\" d=\"M 192.828125 299.650819 \nL 192.828125 231.927319 \n\" style=\"fill:none;stroke:#3d3d3d;stroke-linecap:square;stroke-width:1.5;\"/>\n   </g>\n   <g id=\"line2d_17\">\n    <path clip-path=\"url(#p5ec8079b5a)\" d=\"M 192.828125 282.753919 \nL 192.828125 262.414219 \n\" style=\"fill:none;stroke:#3d3d3d;stroke-linecap:square;stroke-width:4.5;\"/>\n   </g>\n   <g id=\"line2d_18\">\n    <path clip-path=\"url(#p5ec8079b5a)\" d=\"M 285.828125 282.844519 \nL 285.828125 275.777719 \n\" style=\"fill:none;stroke:#3d3d3d;stroke-linecap:square;stroke-width:1.5;\"/>\n   </g>\n   <g id=\"line2d_19\">\n    <path clip-path=\"url(#p5ec8079b5a)\" d=\"M 285.828125 282.799219 \nL 285.828125 279.990619 \n\" style=\"fill:none;stroke:#3d3d3d;stroke-linecap:square;stroke-width:4.5;\"/>\n   </g>\n   <g id=\"line2d_20\">\n    <path clip-path=\"url(#p5ec8079b5a)\" d=\"M 378.828125 285.064219 \nL 378.828125 242.255719 \n\" style=\"fill:none;stroke:#3d3d3d;stroke-linecap:square;stroke-width:1.5;\"/>\n   </g>\n   <g id=\"line2d_21\">\n    <path clip-path=\"url(#p5ec8079b5a)\" d=\"M 378.828125 282.799219 \nL 378.828125 266.570494 \n\" style=\"fill:none;stroke:#3d3d3d;stroke-linecap:square;stroke-width:4.5;\"/>\n   </g>\n   <g id=\"line2d_22\">\n    <path clip-path=\"url(#p5ec8079b5a)\" d=\"M 471.828125 282.799219 \nL 471.828125 282.346219 \n\" style=\"fill:none;stroke:#3d3d3d;stroke-linecap:square;stroke-width:1.5;\"/>\n   </g>\n   <g id=\"line2d_23\">\n    <path clip-path=\"url(#p5ec8079b5a)\" d=\"M 471.828125 282.799219 \nL 471.828125 282.618019 \n\" style=\"fill:none;stroke:#3d3d3d;stroke-linecap:square;stroke-width:4.5;\"/>\n   </g>\n   <g id=\"line2d_24\">\n    <path clip-path=\"url(#p5ec8079b5a)\" d=\"M 564.828125 282.799219 \nL 564.828125 282.799219 \n\" style=\"fill:none;stroke:#3d3d3d;stroke-linecap:square;stroke-width:1.5;\"/>\n   </g>\n   <g id=\"line2d_25\">\n    <path clip-path=\"url(#p5ec8079b5a)\" d=\"M 564.828125 282.799219 \nL 564.828125 282.799219 \n\" style=\"fill:none;stroke:#3d3d3d;stroke-linecap:square;stroke-width:4.5;\"/>\n   </g>\n   <g id=\"patch_3\">\n    <path d=\"M 53.328125 282.799219 \nL 53.328125 10.999219 \n\" style=\"fill:none;stroke:#000000;stroke-linecap:square;stroke-linejoin:miter;stroke-width:0.8;\"/>\n   </g>\n   <g id=\"patch_4\">\n    <path d=\"M 611.328125 282.799219 \nL 611.328125 10.999219 \n\" style=\"fill:none;stroke:#000000;stroke-linecap:square;stroke-linejoin:miter;stroke-width:0.8;\"/>\n   </g>\n   <g id=\"patch_5\">\n    <path d=\"M 53.328125 282.799219 \nL 611.328125 282.799219 \n\" style=\"fill:none;stroke:#000000;stroke-linecap:square;stroke-linejoin:miter;stroke-width:0.8;\"/>\n   </g>\n   <g id=\"patch_6\">\n    <path d=\"M 53.328125 10.999219 \nL 611.328125 10.999219 \n\" style=\"fill:none;stroke:#000000;stroke-linecap:square;stroke-linejoin:miter;stroke-width:0.8;\"/>\n   </g>\n   <g id=\"PathCollection_1\">\n    <defs>\n     <path d=\"M 0 1.5 \nC 0.397805 1.5 0.77937 1.341951 1.06066 1.06066 \nC 1.341951 0.77937 1.5 0.397805 1.5 0 \nC 1.5 -0.397805 1.341951 -0.77937 1.06066 -1.06066 \nC 0.77937 -1.341951 0.397805 -1.5 0 -1.5 \nC -0.397805 -1.5 -0.77937 -1.341951 -1.06066 -1.06066 \nC -1.341951 -0.77937 -1.5 -0.397805 -1.5 0 \nC -1.5 0.397805 -1.341951 0.77937 -1.06066 1.06066 \nC -0.77937 1.341951 -0.397805 1.5 0 1.5 \nz\n\" id=\"md1ba660c4e\" style=\"stroke:#3d3d3d;\"/>\n    </defs>\n    <g clip-path=\"url(#p5ec8079b5a)\">\n     <use style=\"fill:#ffffff;stroke:#3d3d3d;\" x=\"99.828125\" xlink:href=\"#md1ba660c4e\" y=\"281.077819\"/>\n    </g>\n   </g>\n   <g id=\"PathCollection_2\">\n    <g clip-path=\"url(#p5ec8079b5a)\">\n     <use style=\"fill:#ffffff;stroke:#3d3d3d;\" x=\"192.828125\" xlink:href=\"#md1ba660c4e\" y=\"280.443619\"/>\n    </g>\n   </g>\n   <g id=\"PathCollection_3\">\n    <g clip-path=\"url(#p5ec8079b5a)\">\n     <use style=\"fill:#ffffff;stroke:#3d3d3d;\" x=\"285.828125\" xlink:href=\"#md1ba660c4e\" y=\"282.482119\"/>\n    </g>\n   </g>\n   <g id=\"PathCollection_4\">\n    <g clip-path=\"url(#p5ec8079b5a)\">\n     <use style=\"fill:#ffffff;stroke:#3d3d3d;\" x=\"378.828125\" xlink:href=\"#md1ba660c4e\" y=\"282.527419\"/>\n    </g>\n   </g>\n   <g id=\"PathCollection_5\">\n    <g clip-path=\"url(#p5ec8079b5a)\">\n     <use style=\"fill:#ffffff;stroke:#3d3d3d;\" x=\"471.828125\" xlink:href=\"#md1ba660c4e\" y=\"282.799219\"/>\n    </g>\n   </g>\n   <g id=\"PathCollection_6\">\n    <g clip-path=\"url(#p5ec8079b5a)\">\n     <use style=\"fill:#ffffff;stroke:#3d3d3d;\" x=\"564.828125\" xlink:href=\"#md1ba660c4e\" y=\"282.799219\"/>\n    </g>\n   </g>\n  </g>\n </g>\n <defs>\n  <clipPath id=\"p5ec8079b5a\">\n   <rect height=\"271.8\" width=\"558\" x=\"53.328125\" y=\"10.999219\"/>\n  </clipPath>\n </defs>\n</svg>\n",
      "image/png": "[encoded data removed]"
     },
     "metadata": {
      "needs_background": "light"
     }
    }
   ],
   "source": [
    "# Violing plot: box plot, pdf data, kernel density estimator, scale: width of each diagram\n",
    "fig, ax = plt.subplots(figsize=(10, 5))\n",
    "\n",
    "sns.violinplot(ax=ax, x=df.continentExp, y=df.cases, scale='count')\n",
    "plt.ylim(0, 6000)"
   ]
  },
  {
   "source": [
    "# plotly: web based turky"
   ],
   "cell_type": "markdown",
   "metadata": {}
  },
  {
   "cell_type": "code",
   "execution_count": 23,
   "metadata": {},
   "outputs": [
    {
     "output_type": "execute_result",
     "data": {
      "text/plain": [
       "  countriesAndTerritories        day     month         year       cases  \\\n",
       "0             Afghanistan  15.845455  6.187879  2019.996970  141.930303   \n",
       "1                 Albania  15.918819  7.184502  2020.000000  149.450185   \n",
       "2                 Algeria  15.740299  6.140299  2019.997015  256.498507   \n",
       "3                 Andorra  15.966165  7.263158  2020.000000   25.954887   \n",
       "4                  Angola  15.965116  7.395349  2020.000000   59.538760   \n",
       "\n",
       "     deaths  popData2019     cum_cov  \n",
       "0  5.593939   38041757.0    5.291952  \n",
       "1  3.143911    2862427.0   68.032201  \n",
       "2  7.402985   43053054.0    8.031013  \n",
       "3  0.289474      76177.0  469.937369  \n",
       "4  1.364341   31825299.0    2.665727  "
      ],
      "text/html": "<div>\n<style scoped>\n    .dataframe tbody tr th:only-of-type {\n        vertical-align: middle;\n    }\n\n    .dataframe tbody tr th {\n        vertical-align: top;\n    }\n\n    .dataframe thead th {\n        text-align: right;\n    }\n</style>\n<table border=\"1\" class=\"dataframe\">\n  <thead>\n    <tr style=\"text-align: right;\">\n      <th></th>\n      <th>countriesAndTerritories</th>\n      <th>day</th>\n      <th>month</th>\n      <th>year</th>\n      <th>cases</th>\n      <th>deaths</th>\n      <th>popData2019</th>\n      <th>cum_cov</th>\n    </tr>\n  </thead>\n  <tbody>\n    <tr>\n      <th>0</th>\n      <td>Afghanistan</td>\n      <td>15.845455</td>\n      <td>6.187879</td>\n      <td>2019.996970</td>\n      <td>141.930303</td>\n      <td>5.593939</td>\n      <td>38041757.0</td>\n      <td>5.291952</td>\n    </tr>\n    <tr>\n      <th>1</th>\n      <td>Albania</td>\n      <td>15.918819</td>\n      <td>7.184502</td>\n      <td>2020.000000</td>\n      <td>149.450185</td>\n      <td>3.143911</td>\n      <td>2862427.0</td>\n      <td>68.032201</td>\n    </tr>\n    <tr>\n      <th>2</th>\n      <td>Algeria</td>\n      <td>15.740299</td>\n      <td>6.140299</td>\n      <td>2019.997015</td>\n      <td>256.498507</td>\n      <td>7.402985</td>\n      <td>43053054.0</td>\n      <td>8.031013</td>\n    </tr>\n    <tr>\n      <th>3</th>\n      <td>Andorra</td>\n      <td>15.966165</td>\n      <td>7.263158</td>\n      <td>2020.000000</td>\n      <td>25.954887</td>\n      <td>0.289474</td>\n      <td>76177.0</td>\n      <td>469.937369</td>\n    </tr>\n    <tr>\n      <th>4</th>\n      <td>Angola</td>\n      <td>15.965116</td>\n      <td>7.395349</td>\n      <td>2020.000000</td>\n      <td>59.538760</td>\n      <td>1.364341</td>\n      <td>31825299.0</td>\n      <td>2.665727</td>\n    </tr>\n  </tbody>\n</table>\n</div>"
     },
     "metadata": {},
     "execution_count": 23
    }
   ],
   "source": [
    "df_plot = df.groupby(by=['countriesAndTerritories']).mean().reset_index()\n",
    "df_plot.rename(columns={'Cumulative_number_for_14_days_of_COVID-19_cases_per_100000': 'cum_cov'}, inplace=True)\n",
    "df_plot.fillna(0, inplace=True)\n",
    "df_plot.head()"
   ]
  },
  {
   "cell_type": "code",
   "execution_count": 27,
   "metadata": {},
   "outputs": [
    {
     "output_type": "display_data",
     "data": {
      "application/vnd.plotly.v1+json": {
       "config": {
        "plotlyServerURL": "https://plot.ly"
       },
       "data": [
        {
         "customdata": [
          [
           "Afghanistan"
          ],
          [
           "Albania"
          ],
          [
           "Algeria"
          ],
          [
           "Andorra"
          ],
          [
           "Angola"
          ],
          [
           "Anguilla"
          ],
          [
           "Antigua_and_Barbuda"
          ],
          [
           "Argentina"
          ],
          [
           "Armenia"
          ],
          [
           "Aruba"
          ],
          [
           "Australia"
          ],
          [
           "Austria"
          ],
          [
           "Azerbaijan"
          ],
          [
           "Bahamas"
          ],
          [
           "Bahrain"
          ],
          [
           "Bangladesh"
          ],
          [
           "Barbados"
          ],
          [
           "Belarus"
          ],
          [
           "Belgium"
          ],
          [
           "Belize"
          ],
          [
           "Benin"
          ],
          [
           "Bermuda"
          ],
          [
           "Bhutan"
          ],
          [
           "Bolivia"
          ],
          [
           "Bonaire, Saint Eustatius and Saba"
          ],
          [
           "Bosnia_and_Herzegovina"
          ],
          [
           "Botswana"
          ],
          [
           "Brazil"
          ],
          [
           "British_Virgin_Islands"
          ],
          [
           "Brunei_Darussalam"
          ],
          [
           "Bulgaria"
          ],
          [
           "Burkina_Faso"
          ],
          [
           "Burundi"
          ],
          [
           "Cambodia"
          ],
          [
           "Cameroon"
          ],
          [
           "Canada"
          ],
          [
           "Cape_Verde"
          ],
          [
           "Cases_on_an_international_conveyance_Japan"
          ],
          [
           "Cayman_Islands"
          ],
          [
           "Central_African_Republic"
          ],
          [
           "Chad"
          ],
          [
           "Chile"
          ],
          [
           "China"
          ],
          [
           "Colombia"
          ],
          [
           "Comoros"
          ],
          [
           "Congo"
          ],
          [
           "Costa_Rica"
          ],
          [
           "Cote_dIvoire"
          ],
          [
           "Croatia"
          ],
          [
           "Cuba"
          ],
          [
           "CuraÃ§ao"
          ],
          [
           "Cyprus"
          ],
          [
           "Czechia"
          ],
          [
           "Democratic_Republic_of_the_Congo"
          ],
          [
           "Denmark"
          ],
          [
           "Djibouti"
          ],
          [
           "Dominica"
          ],
          [
           "Dominican_Republic"
          ],
          [
           "Ecuador"
          ],
          [
           "Egypt"
          ],
          [
           "El_Salvador"
          ],
          [
           "Equatorial_Guinea"
          ],
          [
           "Eritrea"
          ],
          [
           "Estonia"
          ],
          [
           "Eswatini"
          ],
          [
           "Ethiopia"
          ],
          [
           "Falkland_Islands_(Malvinas)"
          ],
          [
           "Faroe_Islands"
          ],
          [
           "Fiji"
          ],
          [
           "Finland"
          ],
          [
           "France"
          ],
          [
           "French_Polynesia"
          ],
          [
           "Gabon"
          ],
          [
           "Gambia"
          ],
          [
           "Georgia"
          ],
          [
           "Germany"
          ],
          [
           "Ghana"
          ],
          [
           "Gibraltar"
          ],
          [
           "Greece"
          ],
          [
           "Greenland"
          ],
          [
           "Grenada"
          ],
          [
           "Guam"
          ],
          [
           "Guatemala"
          ],
          [
           "Guernsey"
          ],
          [
           "Guinea"
          ],
          [
           "Guinea_Bissau"
          ],
          [
           "Guyana"
          ],
          [
           "Haiti"
          ],
          [
           "Holy_See"
          ],
          [
           "Honduras"
          ],
          [
           "Hungary"
          ],
          [
           "Iceland"
          ],
          [
           "India"
          ],
          [
           "Indonesia"
          ],
          [
           "Iran"
          ],
          [
           "Iraq"
          ],
          [
           "Ireland"
          ],
          [
           "Isle_of_Man"
          ],
          [
           "Israel"
          ],
          [
           "Italy"
          ],
          [
           "Jamaica"
          ],
          [
           "Japan"
          ],
          [
           "Jersey"
          ],
          [
           "Jordan"
          ],
          [
           "Kazakhstan"
          ],
          [
           "Kenya"
          ],
          [
           "Kosovo"
          ],
          [
           "Kuwait"
          ],
          [
           "Kyrgyzstan"
          ],
          [
           "Laos"
          ],
          [
           "Latvia"
          ],
          [
           "Lebanon"
          ],
          [
           "Lesotho"
          ],
          [
           "Liberia"
          ],
          [
           "Libya"
          ],
          [
           "Liechtenstein"
          ],
          [
           "Lithuania"
          ],
          [
           "Luxembourg"
          ],
          [
           "Madagascar"
          ],
          [
           "Malawi"
          ],
          [
           "Malaysia"
          ],
          [
           "Maldives"
          ],
          [
           "Mali"
          ],
          [
           "Malta"
          ],
          [
           "Marshall_Islands"
          ],
          [
           "Mauritania"
          ],
          [
           "Mauritius"
          ],
          [
           "Mexico"
          ],
          [
           "Moldova"
          ],
          [
           "Monaco"
          ],
          [
           "Mongolia"
          ],
          [
           "Montenegro"
          ],
          [
           "Montserrat"
          ],
          [
           "Morocco"
          ],
          [
           "Mozambique"
          ],
          [
           "Myanmar"
          ],
          [
           "Namibia"
          ],
          [
           "Nepal"
          ],
          [
           "Netherlands"
          ],
          [
           "New_Caledonia"
          ],
          [
           "New_Zealand"
          ],
          [
           "Nicaragua"
          ],
          [
           "Niger"
          ],
          [
           "Nigeria"
          ],
          [
           "North_Macedonia"
          ],
          [
           "Northern_Mariana_Islands"
          ],
          [
           "Norway"
          ],
          [
           "Oman"
          ],
          [
           "Pakistan"
          ],
          [
           "Palestine"
          ],
          [
           "Panama"
          ],
          [
           "Papua_New_Guinea"
          ],
          [
           "Paraguay"
          ],
          [
           "Peru"
          ],
          [
           "Philippines"
          ],
          [
           "Poland"
          ],
          [
           "Portugal"
          ],
          [
           "Puerto_Rico"
          ],
          [
           "Qatar"
          ],
          [
           "Romania"
          ],
          [
           "Russia"
          ],
          [
           "Rwanda"
          ],
          [
           "Saint_Kitts_and_Nevis"
          ],
          [
           "Saint_Lucia"
          ],
          [
           "Saint_Vincent_and_the_Grenadines"
          ],
          [
           "San_Marino"
          ],
          [
           "Sao_Tome_and_Principe"
          ],
          [
           "Saudi_Arabia"
          ],
          [
           "Senegal"
          ],
          [
           "Serbia"
          ],
          [
           "Seychelles"
          ],
          [
           "Sierra_Leone"
          ],
          [
           "Singapore"
          ],
          [
           "Sint_Maarten"
          ],
          [
           "Slovakia"
          ],
          [
           "Slovenia"
          ],
          [
           "Solomon_Islands"
          ],
          [
           "Somalia"
          ],
          [
           "South_Africa"
          ],
          [
           "South_Korea"
          ],
          [
           "South_Sudan"
          ],
          [
           "Spain"
          ],
          [
           "Sri_Lanka"
          ],
          [
           "Sudan"
          ],
          [
           "Suriname"
          ],
          [
           "Sweden"
          ],
          [
           "Switzerland"
          ],
          [
           "Syria"
          ],
          [
           "Taiwan"
          ],
          [
           "Tajikistan"
          ],
          [
           "Thailand"
          ],
          [
           "Timor_Leste"
          ],
          [
           "Togo"
          ],
          [
           "Trinidad_and_Tobago"
          ],
          [
           "Tunisia"
          ],
          [
           "Turkey"
          ],
          [
           "Turks_and_Caicos_islands"
          ],
          [
           "Uganda"
          ],
          [
           "Ukraine"
          ],
          [
           "United_Arab_Emirates"
          ],
          [
           "United_Kingdom"
          ],
          [
           "United_Republic_of_Tanzania"
          ],
          [
           "United_States_Virgin_Islands"
          ],
          [
           "United_States_of_America"
          ],
          [
           "Uruguay"
          ],
          [
           "Uzbekistan"
          ],
          [
           "Vanuatu"
          ],
          [
           "Venezuela"
          ],
          [
           "Vietnam"
          ],
          [
           "Wallis_and_Futuna"
          ],
          [
           "Western_Sahara"
          ],
          [
           "Yemen"
          ],
          [
           "Zambia"
          ],
          [
           "Zimbabwe"
          ]
         ],
         "hovertemplate": "cases=%{x}<br>deaths=%{y}<br>popData2019=%{marker.size}<br>countriesAndTerritories=%{customdata[0]}<br>cum_cov=%{marker.color}<extra></extra>",
         "legendgroup": "",
         "marker": {
          "color": [
           5.291951734889587,
           68.03220110143396,
           8.03101279052795,
           469.93736918466374,
           2.6657267544897953,
           0.8405056485416665,
           7.995862830161943,
           168.55921409442297,
           196.95542187713832,
           257.56332778696776,
           4.734011253211009,
           128.20215743996917,
           47.428301886156234,
           107.81277443935751,
           226.14859484815946,
           15.584201687738105,
           4.961645265100396,
           60.84017385366773,
           213.56288617792072,
           82.8778210615639,
           1.4082016236399986,
           21.160044550202393,
           2.853993888735177,
           69.13024337905517,
           36.61170962807687,
           141.16358406196855,
           25.531142778553217,
           126.36896015293583,
           13.568408085374989,
           1.2882720464062503,
           106.14265488132298,
           0.7578030635826773,
           0.3474203805106393,
           0.08388774672955965,
           5.11088279456693,
           40.86595016911318,
           108.72366404569104,
           0,
           23.25123879898786,
           5.7722665988446265,
           0.5909040346558704,
           154.11243567259538,
           0.27394166299694184,
           139.73689267375013,
           4.836913628480391,
           5.909042256414337,
           145.2230112173746,
           4.564568808300396,
           124.63083089842591,
           3.962377295714285,
           74.49173342395059,
           61.20053818529407,
           205.69555426042803,
           0.7979113708267714,
           56.267327402048956,
           32.85383459314516,
           5.775875923770503,
           57.910446865880544,
           47.40140284133542,
           4.950990727399376,
           33.49669261778227,
           21.06041207178575,
           0.911421304571429,
           36.604527360621,
           30.63220138305554,
           5.337824026047429,
           21.47502761068966,
           54.70417751731802,
           0.2233657037246967,
           18.460935050154816,
           139.6740284583487,
           277.0034309963706,
           23.373808869130432,
           8.938781754297178,
           136.06122180592615,
           52.151882683241524,
           9.324016200948613,
           161.902480871174,
           40.073795263969245,
           1.2575902002024275,
           1.785682399098361,
           226.2157151407258,
           38.158578209246016,
           22.86543818364373,
           5.647887101626985,
           7.338075166666673,
           37.40761525571423,
           4.653627133562754,
           168.9551076054365,
           60.56350589747033,
           110.95808424172415,
           64.07874475324158,
           29.297707673772972,
           8.419585131156246,
           47.20438573981648,
           59.754072961353835,
           62.88097332415386,
           23.119921702520326,
           169.36866302429007,
           107.55909335103962,
           19.71230072169292,
           4.76206365859327,
           47.12755522736839,
           111.1458220659449,
           51.535993339484115,
           8.506336562252967,
           114.52522721695658,
           145.40519800283946,
           63.10900671967745,
           0.023054644338842988,
           43.237699795000026,
           77.77721555213623,
           7.252799825183252,
           1.7922887751600003,
           68.8997586606199,
           174.64025613566412,
           87.90597601949683,
           232.07691392968746,
           3.654968030040652,
           1.9393394483690984,
           8.22484957858896,
           131.9282899126071,
           1.325000381120331,
           103.40670050065388,
           3.047518610833333,
           10.270975512182535,
           1.9604061106477715,
           36.339046563425114,
           139.3422082029571,
           80.59087823352391,
           1.2539581244223148,
           302.5896979564655,
           11.530959809387761,
           51.12150148428014,
           2.9136298674590155,
           9.103734335655735,
           31.50615393714285,
           35.49681112442674,
           125.21768345207941,
           0.43991923703252045,
           1.5557387650943395,
           4.978054546088702,
           0.3561116887804876,
           1.4787661058227848,
           124.76140753188692,
           10.05756958758475,
           27.43580624211007,
           107.6798174810281,
           7.839979759254656,
           100.45884628472866,
           206.5946601843969,
           0.4121031938617886,
           62.34327725717649,
           159.17436197389958,
           17.061581495417965,
           132.4230674622607,
           145.03733882625005,
           176.0907083663178,
           211.43220691563468,
           99.92313658498455,
           65.46926218492358,
           2.5545662145634926,
           1.6492586112033185,
           7.200797842380932,
           4.30898166979424,
           190.8530497401537,
           28.165005923524234,
           55.788327186245226,
           5.339880309805445,
           119.1517055973541,
           9.49626669571429,
           1.833011992382979,
           42.924517701834866,
           141.58531107248965,
           101.00484328073358,
           184.17671000915698,
           0.7585729754054054,
           1.6143593701599999,
           72.03865977405408,
           2.768144343486242,
           1.6937559799999995,
           147.70467102374246,
           4.6178502943396245,
           2.177432295533597,
           51.68156382093115,
           98.63262193339446,
           156.5009156966669,
           2.5508556482377016,
           0.1166057511009176,
           8.595204363268293,
           0.2490957670312502,
           0.1290976663265306,
           1.9923350100395252,
           25.816903119685065,
           43.211539567441875,
           32.175277122371526,
           112.55067106252054,
           2.503612187673472,
           86.0573219363241,
           73.4629168957009,
           101.38169599492358,
           0.04842302684000003,
           83.4159221168182,
           169.11341554198788,
           8.37891666194444,
           12.237300920119518,
           0.030314954545454544,
           19.770483023745026,
           0.059812702972136166,
           0,
           8.703672727238093,
           0.45640800030973466,
           5.543604928427425,
           3.763975615609758
          ],
          "coloraxis": "coloraxis",
          "size": [
           38041757,
           2862427,
           43053054,
           76177,
           31825299,
           14872,
           97115,
           44780675,
           2957728,
           106310,
           25203200,
           8858775,
           10047719,
           389486,
           1641164,
           163046173,
           287021,
           9452409,
           11455519,
           390351,
           11801151,
           62508,
           763094,
           11513102,
           25983,
           3300998,
           2303703,
           211049519,
           30033,
           433296,
           7000039,
           20321383,
           11530577,
           16486542,
           25876387,
           37411038,
           549936,
           0,
           64948,
           4745179,
           15946882,
           18952035,
           1433783692,
           50339443,
           850891,
           5380504,
           5047561,
           25716554,
           4076246,
           11333484,
           163423,
           875899,
           10649800,
           86790568,
           5806081,
           973557,
           71808,
           10738957,
           17373657,
           100388076,
           6453550,
           1355982,
           3497117,
           1324820,
           1148133,
           112078727,
           3372,
           48677,
           889955,
           5517919,
           67012883,
           279285,
           2172578,
           2347696,
           3996762,
           83019213,
           30417858,
           33706,
           10724599,
           56660,
           112002,
           167295,
           17581476,
           64468,
           12771246,
           1920917,
           782775,
           11263079,
           815,
           9746115,
           9772756,
           356991,
           1366417756,
           270625567,
           82913893,
           39309789,
           4904240,
           84589,
           8519373,
           60359546,
           2948277,
           126860299,
           107796,
           10101697,
           18551428,
           52573967,
           1798506,
           4207077,
           6415851,
           7169456,
           1919968,
           6855709,
           2125267,
           4937374,
           6777453,
           38378,
           2794184,
           613894,
           26969306,
           18628749,
           31949789,
           530957,
           19658023,
           493559,
           58791,
           4525698,
           1269670,
           127575529,
           4043258,
           33085,
           3225166,
           622182,
           4991,
           36471766,
           30366043,
           54045422,
           2494524,
           28608715,
           17282163,
           282757,
           4783062,
           6545503,
           23310719,
           200963603,
           2077132,
           57213,
           5328212,
           4974992,
           216565317,
           4981422,
           4246440,
           8776119,
           7044639,
           32510462,
           108116622,
           37972812,
           10276617,
           2933404,
           2832071,
           19414458,
           145872260,
           12626938,
           52834,
           182795,
           110593,
           34453,
           215048,
           34268529,
           16296362,
           6963764,
           97741,
           7813207,
           5804343,
           42389,
           5450421,
           2080908,
           669821,
           15442906,
           58558267,
           51225321,
           11062114,
           46937060,
           21323734,
           42813237,
           581363,
           10230185,
           8544527,
           17070132,
           23773881,
           9321023,
           69625581,
           1293120,
           8082359,
           1394969,
           11694721,
           82003882,
           38194,
           44269587,
           43993643,
           9770526,
           66647112,
           58005461,
           104579,
           329064917,
           3461731,
           32981715,
           299882,
           28515829,
           96462108,
           0,
           582458,
           29161922,
           17861034,
           14645473
          ],
          "sizemode": "area",
          "sizeref": 3584459.23,
          "symbol": "circle"
         },
         "mode": "markers",
         "name": "",
         "orientation": "v",
         "showlegend": false,
         "type": "scatter",
         "x": [
          141.93030303030304,
          149.45018450184503,
          256.4985074626866,
          25.954887218045112,
          59.53875968992248,
          0.023715415019762844,
          0.5538461538461539,
          5302.985347985348,
          422.03021148036254,
          19.155642023346303,
          82.1735294117647,
          857.1676470588235,
          401.6006006006006,
          28.874045801526716,
          257.91150442477874,
          1780.1471698113207,
          1.0725190839694656,
          426.5331325301205,
          1719.8647058823528,
          28.265625,
          11.615969581749049,
          1.0461538461538462,
          1.5714285714285714,
          543.7677902621723,
          0.6639676113360324,
          342.8426966292135,
          40.36290322580645,
          19079.65882352941,
          0.2885375494071146,
          0.5613382899628253,
          574.7888888888889,
          11.46816479400749,
          2.7903225806451615,
          1,
          91.71161048689139,
          1165.5,
          42.23166023166023,
          10.875,
          1.1076923076923078,
          18.62878787878788,
          6.569230769230769,
          2019.658181818182,
          270.2,
          4993.762081784386,
          2.834101382488479,
          21.87121212121212,
          523.9154411764706,
          80.40977443609023,
          413.69436201780417,
          32.19245283018868,
          10.703125,
          42.99626865671642,
          1581.3617647058823,
          49.741573033707866,
          250.41176470588235,
          21.796934865900383,
          0.33073929961089493,
          441.11480362537765,
          584.7283582089552,
          348.67857142857144,
          152.17624521072796,
          19.467924528301886,
          2.302325581395349,
          40.20597014925373,
          24.430188679245283,
          419.46992481203006,
          0.06938775510204082,
          1.8430656934306568,
          0.16923076923076924,
          78.69642857142857,
          6639.208823529411,
          56.383141762452105,
          34.733082706766915,
          14.377862595419847,
          453.12759643916917,
          3324.2264705882353,
          194.23684210526315,
          3.9923076923076923,
          329.99112426035504,
          0.06923076923076923,
          0.15953307392996108,
          26.597701149425287,
          468.1245283018868,
          1.1076923076923078,
          49.758490566037736,
          9.652173913043478,
          20.860377358490567,
          35.81923076923077,
          0.09811320754716982,
          412.63157894736844,
          868.8175182481751,
          16.023529411764706,
          28234.68731563422,
          1675.3063063063064,
          2951.4529411764706,
          1653.1568047337278,
          216.6508875739645,
          1.4247104247104247,
          1013.4836795252226,
          4896.555882352941,
          40.86516853932584,
          456.56470588235294,
          4.5,
          866.056179775281,
          678.5811320754717,
          324.7481203007519,
          155.2593984962406,
          426.03560830860533,
          284.95402298850576,
          0.15294117647058825,
          70.72161172161172,
          395.2886904761905,
          10.514705882352942,
          6.32319391634981,
          332.74117647058824,
          5.144981412639405,
          210.21752265861028,
          107.51351351351352,
          67.61776061776062,
          24.565040650406505,
          203.82005899705015,
          48.54074074074074,
          19.212598425196852,
          37.35164835164835,
          0.10810810810810811,
          32.867924528301884,
          1.9423076923076923,
          3366.5970588235296,
          415.95185185185187,
          1.920731707317073,
          3.147727272727273,
          140.9618320610687,
          0.050387596899224806,
          1365.2740740740742,
          61.93774319066148,
          369.7198443579766,
          55.09056603773585,
          726.571865443425,
          1580.5794117647058,
          0.13513513513513514,
          5.175226586102719,
          22.367816091954023,
          6.332046332046332,
          207.6079027355623,
          197.0725075528701,
          0.42570281124497994,
          108.72941176470589,
          372.24251497005986,
          1224.0955223880596,
          392.2952029520295,
          634.1444444444444,
          2.583011583011583,
          318.9440298507463,
          3561.9338235294117,
          1295.8720238095239,
          3754.0510948905107,
          1110.5342960288808,
          372.82142857142856,
          415.11011904761904,
          1456.2455621301774,
          7067.497058823529,
          22.683018867924527,
          0.08661417322834646,
          0.9886792452830189,
          0.33984375,
          5.056047197640118,
          4.154166666666667,
          1306.941605839416,
          60.06296296296296,
          737.6222222222223,
          0.690566037735849,
          9.741935483870968,
          171.29117647058823,
          4.350393700787402,
          408.8529411764706,
          296.8941605839416,
          0.34,
          17.20532319391635,
          2944.3823529411766,
          106.85882352941177,
          12.979423868312757,
          4943.66371681416,
          78.66465256797584,
          68.99624060150376,
          20.46923076923077,
          801.8911764705882,
          996.2676470588235,
          31.700389105058367,
          2.0294117647058822,
          56.45871559633027,
          12.12912912912913,
          0.12015503875968993,
          11.424812030075188,
          25.187265917602996,
          366.3468634686347,
          1955.515037593985,
          2.9450980392156865,
          83.76744186046511,
          2905.1127819548874,
          517.2185628742515,
          4923.923529411764,
          1.935361216730038,
          6.325490196078431,
          41587.361764705885,
          24.358490566037737,
          278.75757575757575,
          0.041666666666666664,
          390.405303030303,
          4.050595238095238,
          0.061224489795918366,
          3.4349775784753365,
          9.368200836820083,
          67.93103448275862,
          40.24710424710425
         ],
         "xaxis": "x",
         "y": [
          5.593939393939394,
          3.143911439114391,
          7.402985074626866,
          0.2894736842105263,
          1.3643410852713178,
          0,
          0.015384615384615385,
          143.97435897435898,
          6.879154078549849,
          0.17509727626459143,
          2.6705882352941175,
          10.138235294117647,
          4.534534534534535,
          0.6221374045801527,
          1.0058997050147493,
          25.464150943396227,
          0.026717557251908396,
          3.5572289156626504,
          50.09705882352941,
          0.640625,
          0.16730038022813687,
          0.03461538461538462,
          0,
          33.640449438202246,
          0.012145748987854251,
          10.53183520599251,
          0.13709677419354838,
          515.5,
          0.003952569169960474,
          0.011152416356877323,
          16.677777777777777,
          0.2546816479400749,
          0.004032258064516129,
          0,
          1.651685393258427,
          36.491176470588236,
          0.41312741312741313,
          0.109375,
          0.007692307692307693,
          0.23863636363636365,
          0.3923076923076923,
          56.43272727272727,
          13.938235294117646,
          138.68029739776952,
          0.03225806451612903,
          0.3560606060606061,
          6.459558823529412,
          0.49624060150375937,
          5.827893175074184,
          0.5132075471698113,
          0.02734375,
          0.20149253731343283,
          25.41470588235294,
          1.2621722846441947,
          2.523529411764706,
          0.23371647509578544,
          0,
          7.054380664652568,
          40.63283582089552,
          19.979166666666668,
          4.375478927203065,
          0.32075471698113206,
          0,
          0.36716417910447763,
          0.46037735849056605,
          6.481203007518797,
          0,
          0,
          0.007692307692307693,
          1.2142857142857142,
          159.23529411764707,
          0.2950191570881226,
          0.22556390977443608,
          0.46946564885496184,
          4.228486646884273,
          53.04117647058823,
          1.2142857142857142,
          0.019230769230769232,
          8.005917159763314,
          0,
          0,
          0.42911877394636017,
          15.883018867924529,
          0.05,
          0.28679245283018867,
          0.17391304347826086,
          0.569811320754717,
          0.8961538461538462,
          0,
          11.045112781954888,
          20.12043795620438,
          0.07941176470588235,
          410.5840707964602,
          52.11711711711712,
          145.14117647058825,
          36.571005917159766,
          6.153846153846154,
          0.09652509652509653,
          8.578635014836795,
          170.7,
          0.9700374531835206,
          6.588235294117647,
          0.12307692307692308,
          10.895131086142323,
          9.2,
          5.639097744360902,
          3.992481203007519,
          2.623145400593472,
          4.923371647509579,
          0,
          0.8608058608058609,
          3.175595238095238,
          0.21568627450980393,
          0.3155893536121673,
          4.752941176470588,
          0.05947955390334572,
          1.7824773413897281,
          1.003003003003003,
          0.9845559845559846,
          0.7520325203252033,
          1.1091445427728615,
          0.17407407407407408,
          0.6377952755905512,
          0.5421245421245421,
          0,
          0.6679245283018868,
          0.038461538461538464,
          318.15588235294115,
          8.751851851851852,
          0.006097560975609756,
          0,
          1.9694656488549618,
          0.003875968992248062,
          22.455555555555556,
          0.5136186770428015,
          7.891050583657588,
          0.569811320754717,
          4.743119266055046,
          28.094117647058823,
          0,
          0.0755287009063444,
          0.6168582375478927,
          0.29343629343629346,
          3.5835866261398177,
          5.580060422960725,
          0.008032128514056224,
          1.0382352941176471,
          4.296407185628743,
          24.65671641791045,
          3.2214022140221403,
          11.633333333333333,
          0.02702702702702703,
          6.701492537313433,
          132.73529411764707,
          25.136904761904763,
          68.71532846715328,
          17.054151624548737,
          4.583333333333333,
          0.7113095238095238,
          35.13609467455621,
          124.04705882352941,
          0.18867924528301888,
          0,
          0.007547169811320755,
          0,
          0.13569321533923304,
          0.07083333333333333,
          21.642335766423358,
          1.2407407407407407,
          6.537037037037037,
          0,
          0.29838709677419356,
          0.08529411764705883,
          0.0984251968503937,
          3.4191176470588234,
          4,
          0,
          0.4600760456273764,
          80.15808823529412,
          1.576470588235294,
          0.2551440329218107,
          135.8053097345133,
          0.38972809667673713,
          4.7781954887218046,
          0.45,
          20.608823529411765,
          13.91764705882353,
          1.6809338521400778,
          0.020588235294117647,
          0.39908256880733944,
          0.18018018018018017,
          0,
          0.24436090225563908,
          0.45318352059925093,
          12.394833948339484,
          53.81954887218045,
          0.023529411764705882,
          0.7984496124031008,
          48.721804511278194,
          1.751497005988024,
          176.8029411764706,
          0.07984790874524715,
          0.09019607843137255,
          812.6941176470589,
          0.3018867924528302,
          2.3143939393939394,
          0,
          3.428030303030303,
          0.10416666666666667,
          0,
          0.004484304932735426,
          2.6108786610878663,
          1.367816091954023,
          1.0810810810810811
         ],
         "yaxis": "y"
        }
       ],
       "layout": {
        "coloraxis": {
         "colorbar": {
          "title": {
           "text": "cum_cov"
          }
         },
         "colorscale": [
          [
           0,
           "#0d0887"
          ],
          [
           0.1111111111111111,
           "#46039f"
          ],
          [
           0.2222222222222222,
           "#7201a8"
          ],
          [
           0.3333333333333333,
           "#9c179e"
          ],
          [
           0.4444444444444444,
           "#bd3786"
          ],
          [
           0.5555555555555556,
           "#d8576b"
          ],
          [
           0.6666666666666666,
           "#ed7953"
          ],
          [
           0.7777777777777778,
           "#fb9f3a"
          ],
          [
           0.8888888888888888,
           "#fdca26"
          ],
          [
           1,
           "#f0f921"
          ]
         ]
        },
        "legend": {
         "itemsizing": "constant",
         "tracegroupgap": 0
        },
        "margin": {
         "t": 60
        },
        "template": {
         "data": {
          "bar": [
           {
            "error_x": {
             "color": "#2a3f5f"
            },
            "error_y": {
             "color": "#2a3f5f"
            },
            "marker": {
             "line": {
              "color": "#E5ECF6",
              "width": 0.5
             }
            },
            "type": "bar"
           }
          ],
          "barpolar": [
           {
            "marker": {
             "line": {
              "color": "#E5ECF6",
              "width": 0.5
             }
            },
            "type": "barpolar"
           }
          ],
          "carpet": [
           {
            "aaxis": {
             "endlinecolor": "#2a3f5f",
             "gridcolor": "white",
             "linecolor": "white",
             "minorgridcolor": "white",
             "startlinecolor": "#2a3f5f"
            },
            "baxis": {
             "endlinecolor": "#2a3f5f",
             "gridcolor": "white",
             "linecolor": "white",
             "minorgridcolor": "white",
             "startlinecolor": "#2a3f5f"
            },
            "type": "carpet"
           }
          ],
          "choropleth": [
           {
            "colorbar": {
             "outlinewidth": 0,
             "ticks": ""
            },
            "type": "choropleth"
           }
          ],
          "contour": [
           {
            "colorbar": {
             "outlinewidth": 0,
             "ticks": ""
            },
            "colorscale": [
             [
              0,
              "#0d0887"
             ],
             [
              0.1111111111111111,
              "#46039f"
             ],
             [
              0.2222222222222222,
              "#7201a8"
             ],
             [
              0.3333333333333333,
              "#9c179e"
             ],
             [
              0.4444444444444444,
              "#bd3786"
             ],
             [
              0.5555555555555556,
              "#d8576b"
             ],
             [
              0.6666666666666666,
              "#ed7953"
             ],
             [
              0.7777777777777778,
              "#fb9f3a"
             ],
             [
              0.8888888888888888,
              "#fdca26"
             ],
             [
              1,
              "#f0f921"
             ]
            ],
            "type": "contour"
           }
          ],
          "contourcarpet": [
           {
            "colorbar": {
             "outlinewidth": 0,
             "ticks": ""
            },
            "type": "contourcarpet"
           }
          ],
          "heatmap": [
           {
            "colorbar": {
             "outlinewidth": 0,
             "ticks": ""
            },
            "colorscale": [
             [
              0,
              "#0d0887"
             ],
             [
              0.1111111111111111,
              "#46039f"
             ],
             [
              0.2222222222222222,
              "#7201a8"
             ],
             [
              0.3333333333333333,
              "#9c179e"
             ],
             [
              0.4444444444444444,
              "#bd3786"
             ],
             [
              0.5555555555555556,
              "#d8576b"
             ],
             [
              0.6666666666666666,
              "#ed7953"
             ],
             [
              0.7777777777777778,
              "#fb9f3a"
             ],
             [
              0.8888888888888888,
              "#fdca26"
             ],
             [
              1,
              "#f0f921"
             ]
            ],
            "type": "heatmap"
           }
          ],
          "heatmapgl": [
           {
            "colorbar": {
             "outlinewidth": 0,
             "ticks": ""
            },
            "colorscale": [
             [
              0,
              "#0d0887"
             ],
             [
              0.1111111111111111,
              "#46039f"
             ],
             [
              0.2222222222222222,
              "#7201a8"
             ],
             [
              0.3333333333333333,
              "#9c179e"
             ],
             [
              0.4444444444444444,
              "#bd3786"
             ],
             [
              0.5555555555555556,
              "#d8576b"
             ],
             [
              0.6666666666666666,
              "#ed7953"
             ],
             [
              0.7777777777777778,
              "#fb9f3a"
             ],
             [
              0.8888888888888888,
              "#fdca26"
             ],
             [
              1,
              "#f0f921"
             ]
            ],
            "type": "heatmapgl"
           }
          ],
          "histogram": [
           {
            "marker": {
             "colorbar": {
              "outlinewidth": 0,
              "ticks": ""
             }
            },
            "type": "histogram"
           }
          ],
          "histogram2d": [
           {
            "colorbar": {
             "outlinewidth": 0,
             "ticks": ""
            },
            "colorscale": [
             [
              0,
              "#0d0887"
             ],
             [
              0.1111111111111111,
              "#46039f"
             ],
             [
              0.2222222222222222,
              "#7201a8"
             ],
             [
              0.3333333333333333,
              "#9c179e"
             ],
             [
              0.4444444444444444,
              "#bd3786"
             ],
             [
              0.5555555555555556,
              "#d8576b"
             ],
             [
              0.6666666666666666,
              "#ed7953"
             ],
             [
              0.7777777777777778,
              "#fb9f3a"
             ],
             [
              0.8888888888888888,
              "#fdca26"
             ],
             [
              1,
              "#f0f921"
             ]
            ],
            "type": "histogram2d"
           }
          ],
          "histogram2dcontour": [
           {
            "colorbar": {
             "outlinewidth": 0,
             "ticks": ""
            },
            "colorscale": [
             [
              0,
              "#0d0887"
             ],
             [
              0.1111111111111111,
              "#46039f"
             ],
             [
              0.2222222222222222,
              "#7201a8"
             ],
             [
              0.3333333333333333,
              "#9c179e"
             ],
             [
              0.4444444444444444,
              "#bd3786"
             ],
             [
              0.5555555555555556,
              "#d8576b"
             ],
             [
              0.6666666666666666,
              "#ed7953"
             ],
             [
              0.7777777777777778,
              "#fb9f3a"
             ],
             [
              0.8888888888888888,
              "#fdca26"
             ],
             [
              1,
              "#f0f921"
             ]
            ],
            "type": "histogram2dcontour"
           }
          ],
          "mesh3d": [
           {
            "colorbar": {
             "outlinewidth": 0,
             "ticks": ""
            },
            "type": "mesh3d"
           }
          ],
          "parcoords": [
           {
            "line": {
             "colorbar": {
              "outlinewidth": 0,
              "ticks": ""
             }
            },
            "type": "parcoords"
           }
          ],
          "pie": [
           {
            "automargin": true,
            "type": "pie"
           }
          ],
          "scatter": [
           {
            "marker": {
             "colorbar": {
              "outlinewidth": 0,
              "ticks": ""
             }
            },
            "type": "scatter"
           }
          ],
          "scatter3d": [
           {
            "line": {
             "colorbar": {
              "outlinewidth": 0,
              "ticks": ""
             }
            },
            "marker": {
             "colorbar": {
              "outlinewidth": 0,
              "ticks": ""
             }
            },
            "type": "scatter3d"
           }
          ],
          "scattercarpet": [
           {
            "marker": {
             "colorbar": {
              "outlinewidth": 0,
              "ticks": ""
             }
            },
            "type": "scattercarpet"
           }
          ],
          "scattergeo": [
           {
            "marker": {
             "colorbar": {
              "outlinewidth": 0,
              "ticks": ""
             }
            },
            "type": "scattergeo"
           }
          ],
          "scattergl": [
           {
            "marker": {
             "colorbar": {
              "outlinewidth": 0,
              "ticks": ""
             }
            },
            "type": "scattergl"
           }
          ],
          "scattermapbox": [
           {
            "marker": {
             "colorbar": {
              "outlinewidth": 0,
              "ticks": ""
             }
            },
            "type": "scattermapbox"
           }
          ],
          "scatterpolar": [
           {
            "marker": {
             "colorbar": {
              "outlinewidth": 0,
              "ticks": ""
             }
            },
            "type": "scatterpolar"
           }
          ],
          "scatterpolargl": [
           {
            "marker": {
             "colorbar": {
              "outlinewidth": 0,
              "ticks": ""
             }
            },
            "type": "scatterpolargl"
           }
          ],
          "scatterternary": [
           {
            "marker": {
             "colorbar": {
              "outlinewidth": 0,
              "ticks": ""
             }
            },
            "type": "scatterternary"
           }
          ],
          "surface": [
           {
            "colorbar": {
             "outlinewidth": 0,
             "ticks": ""
            },
            "colorscale": [
             [
              0,
              "#0d0887"
             ],
             [
              0.1111111111111111,
              "#46039f"
             ],
             [
              0.2222222222222222,
              "#7201a8"
             ],
             [
              0.3333333333333333,
              "#9c179e"
             ],
             [
              0.4444444444444444,
              "#bd3786"
             ],
             [
              0.5555555555555556,
              "#d8576b"
             ],
             [
              0.6666666666666666,
              "#ed7953"
             ],
             [
              0.7777777777777778,
              "#fb9f3a"
             ],
             [
              0.8888888888888888,
              "#fdca26"
             ],
             [
              1,
              "#f0f921"
             ]
            ],
            "type": "surface"
           }
          ],
          "table": [
           {
            "cells": {
             "fill": {
              "color": "#EBF0F8"
             },
             "line": {
              "color": "white"
             }
            },
            "header": {
             "fill": {
              "color": "#C8D4E3"
             },
             "line": {
              "color": "white"
             }
            },
            "type": "table"
           }
          ]
         },
         "layout": {
          "annotationdefaults": {
           "arrowcolor": "#2a3f5f",
           "arrowhead": 0,
           "arrowwidth": 1
          },
          "autotypenumbers": "strict",
          "coloraxis": {
           "colorbar": {
            "outlinewidth": 0,
            "ticks": ""
           }
          },
          "colorscale": {
           "diverging": [
            [
             0,
             "#8e0152"
            ],
            [
             0.1,
             "#c51b7d"
            ],
            [
             0.2,
             "#de77ae"
            ],
            [
             0.3,
             "#f1b6da"
            ],
            [
             0.4,
             "#fde0ef"
            ],
            [
             0.5,
             "#f7f7f7"
            ],
            [
             0.6,
             "#e6f5d0"
            ],
            [
             0.7,
             "#b8e186"
            ],
            [
             0.8,
             "#7fbc41"
            ],
            [
             0.9,
             "#4d9221"
            ],
            [
             1,
             "#276419"
            ]
           ],
           "sequential": [
            [
             0,
             "#0d0887"
            ],
            [
             0.1111111111111111,
             "#46039f"
            ],
            [
             0.2222222222222222,
             "#7201a8"
            ],
            [
             0.3333333333333333,
             "#9c179e"
            ],
            [
             0.4444444444444444,
             "#bd3786"
            ],
            [
             0.5555555555555556,
             "#d8576b"
            ],
            [
             0.6666666666666666,
             "#ed7953"
            ],
            [
             0.7777777777777778,
             "#fb9f3a"
            ],
            [
             0.8888888888888888,
             "#fdca26"
            ],
            [
             1,
             "#f0f921"
            ]
           ],
           "sequentialminus": [
            [
             0,
             "#0d0887"
            ],
            [
             0.1111111111111111,
             "#46039f"
            ],
            [
             0.2222222222222222,
             "#7201a8"
            ],
            [
             0.3333333333333333,
             "#9c179e"
            ],
            [
             0.4444444444444444,
             "#bd3786"
            ],
            [
             0.5555555555555556,
             "#d8576b"
            ],
            [
             0.6666666666666666,
             "#ed7953"
            ],
            [
             0.7777777777777778,
             "#fb9f3a"
            ],
            [
             0.8888888888888888,
             "#fdca26"
            ],
            [
             1,
             "#f0f921"
            ]
           ]
          },
          "colorway": [
           "#636efa",
           "#EF553B",
           "#00cc96",
           "#ab63fa",
           "#FFA15A",
           "#19d3f3",
           "#FF6692",
           "#B6E880",
           "#FF97FF",
           "#FECB52"
          ],
          "font": {
           "color": "#2a3f5f"
          },
          "geo": {
           "bgcolor": "white",
           "lakecolor": "white",
           "landcolor": "#E5ECF6",
           "showlakes": true,
           "showland": true,
           "subunitcolor": "white"
          },
          "hoverlabel": {
           "align": "left"
          },
          "hovermode": "closest",
          "mapbox": {
           "style": "light"
          },
          "paper_bgcolor": "white",
          "plot_bgcolor": "#E5ECF6",
          "polar": {
           "angularaxis": {
            "gridcolor": "white",
            "linecolor": "white",
            "ticks": ""
           },
           "bgcolor": "#E5ECF6",
           "radialaxis": {
            "gridcolor": "white",
            "linecolor": "white",
            "ticks": ""
           }
          },
          "scene": {
           "xaxis": {
            "backgroundcolor": "#E5ECF6",
            "gridcolor": "white",
            "gridwidth": 2,
            "linecolor": "white",
            "showbackground": true,
            "ticks": "",
            "zerolinecolor": "white"
           },
           "yaxis": {
            "backgroundcolor": "#E5ECF6",
            "gridcolor": "white",
            "gridwidth": 2,
            "linecolor": "white",
            "showbackground": true,
            "ticks": "",
            "zerolinecolor": "white"
           },
           "zaxis": {
            "backgroundcolor": "#E5ECF6",
            "gridcolor": "white",
            "gridwidth": 2,
            "linecolor": "white",
            "showbackground": true,
            "ticks": "",
            "zerolinecolor": "white"
           }
          },
          "shapedefaults": {
           "line": {
            "color": "#2a3f5f"
           }
          },
          "ternary": {
           "aaxis": {
            "gridcolor": "white",
            "linecolor": "white",
            "ticks": ""
           },
           "baxis": {
            "gridcolor": "white",
            "linecolor": "white",
            "ticks": ""
           },
           "bgcolor": "#E5ECF6",
           "caxis": {
            "gridcolor": "white",
            "linecolor": "white",
            "ticks": ""
           }
          },
          "title": {
           "x": 0.05
          },
          "xaxis": {
           "automargin": true,
           "gridcolor": "white",
           "linecolor": "white",
           "ticks": "",
           "title": {
            "standoff": 15
           },
           "zerolinecolor": "white",
           "zerolinewidth": 2
          },
          "yaxis": {
           "automargin": true,
           "gridcolor": "white",
           "linecolor": "white",
           "ticks": "",
           "title": {
            "standoff": 15
           },
           "zerolinecolor": "white",
           "zerolinewidth": 2
          }
         }
        },
        "xaxis": {
         "anchor": "y",
         "domain": [
          0,
          1
         ],
         "title": {
          "text": "cases"
         }
        },
        "yaxis": {
         "anchor": "x",
         "domain": [
          0,
          1
         ],
         "title": {
          "text": "deaths"
         }
        }
       }
      }
     },
     "metadata": {}
    }
   ],
   "source": [
    "fig = px.scatter(df_plot,\n",
    "                x='cases',\n",
    "                y='deaths',\n",
    "                size='popData2019',\n",
    "                color='cum_cov',\n",
    "                hover_data=['countriesAndTerritories'])\n",
    "fig.show()"
   ]
  },
  {
   "source": [
    "# Bokeh: much complex, high resolution"
   ],
   "cell_type": "markdown",
   "metadata": {}
  },
  {
   "cell_type": "code",
   "execution_count": 34,
   "metadata": {},
   "outputs": [
    {
     "output_type": "display_data",
     "data": {
      "text/html": "\n\n\n\n\n\n  <div class=\"bk-root\" id=\"91d05a66-fe51-4ee0-bf1e-de87c3967ab8\" data-root-id=\"1194\"></div>\n"
     },
     "metadata": {}
    },
    {
     "output_type": "display_data",
     "data": {
      "application/javascript": "(function(root) {\n  function embed_document(root) {\n    \n  var docs_json = {\"4f53336c-bd54-4583-9f9f-5e7f9970d809\":{\"roots\":{\"references\":[{\"attributes\":{\"below\":[{\"id\":\"1205\"}],\"center\":[{\"id\":\"1208\"},{\"id\":\"1212\"}],\"left\":[{\"id\":\"1209\"}],\"plot_height\":350,\"plot_width\":800,\"renderers\":[{\"id\":\"1230\"}],\"title\":{\"id\":\"1195\"},\"toolbar\":{\"id\":\"1220\"},\"x_range\":{\"id\":\"1197\"},\"x_scale\":{\"id\":\"1201\"},\"y_range\":{\"id\":\"1199\"},\"y_scale\":{\"id\":\"1203\"}},\"id\":\"1194\",\"subtype\":\"Figure\",\"type\":\"Plot\"},{\"attributes\":{},\"id\":\"1216\",\"type\":\"SaveTool\"},{\"attributes\":{\"base\":60,\"mantissas\":[1,2,5,10,15,20,30],\"max_interval\":1800000.0,\"min_interval\":1000.0,\"num_minor_ticks\":0},\"id\":\"1258\",\"type\":\"AdaptiveTicker\"},{\"attributes\":{\"months\":[0,2,4,6,8,10]},\"id\":\"1265\",\"type\":\"MonthsTicker\"},{\"attributes\":{\"axis_label\":\"Date\",\"formatter\":{\"id\":\"1254\"},\"ticker\":{\"id\":\"1206\"}},\"id\":\"1205\",\"type\":\"DatetimeAxis\"},{\"attributes\":{\"axis\":{\"id\":\"1209\"},\"dimension\":1,\"ticker\":null},\"id\":\"1212\",\"type\":\"Grid\"},{\"attributes\":{\"active_drag\":\"auto\",\"active_inspect\":\"auto\",\"active_multi\":null,\"active_scroll\":\"auto\",\"active_tap\":\"auto\",\"tools\":[{\"id\":\"1213\"},{\"id\":\"1214\"},{\"id\":\"1215\"},{\"id\":\"1216\"},{\"id\":\"1217\"},{\"id\":\"1218\"}]},\"id\":\"1220\",\"type\":\"Toolbar\"},{\"attributes\":{\"days\":[1,8,15,22]},\"id\":\"1262\",\"type\":\"DaysTicker\"},{\"attributes\":{},\"id\":\"1214\",\"type\":\"WheelZoomTool\"},{\"attributes\":{\"months\":[0,4,8]},\"id\":\"1266\",\"type\":\"MonthsTicker\"},{\"attributes\":{\"mantissas\":[1,2,5],\"max_interval\":500.0,\"num_minor_ticks\":0},\"id\":\"1257\",\"type\":\"AdaptiveTicker\"},{\"attributes\":{},\"id\":\"1210\",\"type\":\"BasicTicker\"},{\"attributes\":{},\"id\":\"1218\",\"type\":\"HelpTool\"},{\"attributes\":{},\"id\":\"1217\",\"type\":\"ResetTool\"},{\"attributes\":{\"months\":[0,6]},\"id\":\"1267\",\"type\":\"MonthsTicker\"},{\"attributes\":{\"axis\":{\"id\":\"1205\"},\"ticker\":null},\"id\":\"1208\",\"type\":\"Grid\"},{\"attributes\":{},\"id\":\"1199\",\"type\":\"DataRange1d\"},{\"attributes\":{},\"id\":\"1254\",\"type\":\"DatetimeTickFormatter\"},{\"attributes\":{},\"id\":\"1270\",\"type\":\"UnionRenderers\"},{\"attributes\":{},\"id\":\"1197\",\"type\":\"DataRange1d\"},{\"attributes\":{\"text\":\"Cases in Iran\"},\"id\":\"1195\",\"type\":\"Title\"},{\"attributes\":{\"months\":[0,1,2,3,4,5,6,7,8,9,10,11]},\"id\":\"1264\",\"type\":\"MonthsTicker\"},{\"attributes\":{},\"id\":\"1269\",\"type\":\"Selection\"},{\"attributes\":{\"num_minor_ticks\":5,\"tickers\":[{\"id\":\"1257\"},{\"id\":\"1258\"},{\"id\":\"1259\"},{\"id\":\"1260\"},{\"id\":\"1261\"},{\"id\":\"1262\"},{\"id\":\"1263\"},{\"id\":\"1264\"},{\"id\":\"1265\"},{\"id\":\"1266\"},{\"id\":\"1267\"},{\"id\":\"1268\"}]},\"id\":\"1206\",\"type\":\"DatetimeTicker\"},{\"attributes\":{\"overlay\":{\"id\":\"1219\"}},\"id\":\"1215\",\"type\":\"BoxZoomTool\"},{\"attributes\":{\"days\":[1,4,7,10,13,16,19,22,25,28]},\"id\":\"1261\",\"type\":\"DaysTicker\"},{\"attributes\":{},\"id\":\"1203\",\"type\":\"LinearScale\"},{\"attributes\":{\"data\":{\"x\":{\"__ndarray__\":\"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\",\"dtype\":\"float64\",\"order\":\"little\",\"shape\":[340]},\"y\":[13922,13621,13881,13321,12950,13402,14051,13961,27564,0,12460,13053,12931,26483,0,13421,13352,13053,12543,11203,11737,11517,11780,10339,10463,9236,9450,8864,8772,8452,8932,8289,7719,7820,8011,8293,6824,6968,5960,6191,5814,6134,5471,5616,5039,4251,3890,4103,4552,4616,4830,4108,4206,3822,3875,4142,4392,4019,4151,3902,3653,3523,3552,3825,3582,3677,3512,3362,3204,3563,3521,3605,3712,3341,3097,2845,3049,2815,2981,2705,2619,2089,2139,2313,2063,2313,2302,2152,1992,1894,2026,1994,1858,1682,1642,1754,1905,2115,4433,2213,2245,0,2113,2028,2206,4723,0,2385,2247,2133,2245,2501,2625,2510,2345,2132,2020,2125,2450,2634,2697,2751,2598,2685,2548,2674,2621,2636,2667,2434,2333,2316,2489,2621,2586,2625,2414,2182,2166,2379,2500,2388,2521,2349,2186,2397,2262,2079,2691,2637,2613,2560,2449,2566,2652,2549,2457,2536,2489,2456,2628,2595,2531,2445,2573,2368,2322,2615,2596,2612,2563,2449,2472,2410,2369,2238,2011,2095,2043,2364,2269,2886,3574,3134,3117,2979,2516,2282,2819,2258,2080,1787,2023,2180,1869,2311,2392,2346,2111,2294,1806,1757,2102,1808,1958,1481,1683,1383,1529,1556,1485,1680,1323,1223,976,802,1006,983,1073,1112,991,1153,1134,1168,1030,1194,1297,1294,1343,1374,1499,1606,1512,1574,1617,1657,1837,1972,1634,1997,2089,2274,2483,5275,0,2875,2987,3111,3186,2901,3076,2926,2389,2206,1762,1411,1028,966,1237,1046,1192,1178,1053,1209,1365,1289,1075,958,881,595,743,1076,1234,591,586,835,523,385,205,143,106,44,34,18,15,10,13,3,2,0,0,0,0,0,0,0,0,0,0,0,0,0,0,0,0,0,0,0,0,0,0,0,0,0,0,0,0,0,0,0,0,0,0,0,0,0,0,0,0,0,0,0,0,0,0,0,0,0,0,0]},\"selected\":{\"id\":\"1269\"},\"selection_policy\":{\"id\":\"1270\"}},\"id\":\"1227\",\"type\":\"ColumnDataSource\"},{\"attributes\":{\"days\":[1,2,3,4,5,6,7,8,9,10,11,12,13,14,15,16,17,18,19,20,21,22,23,24,25,26,27,28,29,30,31]},\"id\":\"1260\",\"type\":\"DaysTicker\"},{\"attributes\":{\"line_color\":\"#1f77b4\",\"x\":{\"field\":\"x\"},\"y\":{\"field\":\"y\"}},\"id\":\"1228\",\"type\":\"Line\"},{\"attributes\":{\"line_alpha\":0.1,\"line_color\":\"#1f77b4\",\"x\":{\"field\":\"x\"},\"y\":{\"field\":\"y\"}},\"id\":\"1229\",\"type\":\"Line\"},{\"attributes\":{},\"id\":\"1201\",\"type\":\"LinearScale\"},{\"attributes\":{},\"id\":\"1256\",\"type\":\"BasicTickFormatter\"},{\"attributes\":{\"days\":[1,15]},\"id\":\"1263\",\"type\":\"DaysTicker\"},{\"attributes\":{\"data_source\":{\"id\":\"1227\"},\"glyph\":{\"id\":\"1228\"},\"hover_glyph\":null,\"muted_glyph\":null,\"nonselection_glyph\":{\"id\":\"1229\"},\"selection_glyph\":null,\"view\":{\"id\":\"1231\"}},\"id\":\"1230\",\"type\":\"GlyphRenderer\"},{\"attributes\":{\"source\":{\"id\":\"1227\"}},\"id\":\"1231\",\"type\":\"CDSView\"},{\"attributes\":{\"base\":24,\"mantissas\":[1,2,4,6,8,12],\"max_interval\":43200000.0,\"min_interval\":3600000.0,\"num_minor_ticks\":0},\"id\":\"1259\",\"type\":\"AdaptiveTicker\"},{\"attributes\":{\"axis_label\":\"Number of cases\",\"formatter\":{\"id\":\"1256\"},\"ticker\":{\"id\":\"1210\"}},\"id\":\"1209\",\"type\":\"LinearAxis\"},{\"attributes\":{\"bottom_units\":\"screen\",\"fill_alpha\":0.5,\"fill_color\":\"lightgrey\",\"left_units\":\"screen\",\"level\":\"overlay\",\"line_alpha\":1.0,\"line_color\":\"black\",\"line_dash\":[4,4],\"line_width\":2,\"right_units\":\"screen\",\"top_units\":\"screen\"},\"id\":\"1219\",\"type\":\"BoxAnnotation\"},{\"attributes\":{},\"id\":\"1213\",\"type\":\"PanTool\"},{\"attributes\":{},\"id\":\"1268\",\"type\":\"YearsTicker\"}],\"root_ids\":[\"1194\"]},\"title\":\"Bokeh Application\",\"version\":\"2.2.3\"}};\n  var render_items = [{\"docid\":\"4f53336c-bd54-4583-9f9f-5e7f9970d809\",\"root_ids\":[\"1194\"],\"roots\":{\"1194\":\"91d05a66-fe51-4ee0-bf1e-de87c3967ab8\"}}];\n  root.Bokeh.embed.embed_items_notebook(docs_json, render_items);\n\n  }\n  if (root.Bokeh !== undefined) {\n    embed_document(root);\n  } else {\n    var attempts = 0;\n    var timer = setInterval(function(root) {\n      if (root.Bokeh !== undefined) {\n        clearInterval(timer);\n        embed_document(root);\n      } else {\n        attempts++;\n        if (attempts > 100) {\n          clearInterval(timer);\n          console.log(\"Bokeh: ERROR: Unable to run BokehJS code because BokehJS library is missing\");\n        }\n      }\n    }, 10, root)\n  }\n})(window);",
      "application/vnd.bokehjs_exec.v0+json": ""
     },
     "metadata": {
      "application/vnd.bokehjs_exec.v0+json": {
       "id": "1194"
      }
     }
    }
   ],
   "source": [
    "fig = figure(x_axis_type='datetime', title='Cases in Iran', plot_height=350, plot_width=800)\n",
    "fig.xaxis.axis_label = 'Date'\n",
    "fig.yaxis.axis_label = 'Number of cases'\n",
    "\n",
    "fig.line(df_ir.dateRep, df_ir.cases)\n",
    "# corralation between difference plots\n",
    "\n",
    "show(fig)"
   ]
  },
  {
   "source": [
    "# Altair: Interactive, statistics, unable to handle large data (5000), not work for simple **"
   ],
   "cell_type": "markdown",
   "metadata": {}
  }
 ]
}