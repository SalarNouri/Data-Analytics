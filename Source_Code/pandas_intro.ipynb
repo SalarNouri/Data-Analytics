{
 "metadata": {
  "language_info": {
   "codemirror_mode": {
    "name": "ipython",
    "version": 3
   },
   "file_extension": ".py",
   "mimetype": "text/x-python",
   "name": "python",
   "nbconvert_exporter": "python",
   "pygments_lexer": "ipython3",
   "version": "3.8.5-final"
  },
  "orig_nbformat": 2,
  "kernelspec": {
   "name": "python36964bitbb266a4b60a840e796710ca9f145cf8c",
   "display_name": "Python 3.6.9 64-bit",
   "language": "python"
  }
 },
 "nbformat": 4,
 "nbformat_minor": 2,
 "cells": [
  {
   "source": [
    "# First Part"
   ],
   "cell_type": "markdown",
   "metadata": {}
  },
  {
   "cell_type": "code",
   "execution_count": null,
   "metadata": {},
   "outputs": [],
   "source": [
    "import pandas as pd\n",
    "\n",
    "!ls -1\n",
    "oil = pd.read_csv('oil_consumption_per_cap.csv', index_col='country')\n",
    "oil.columns = [int(s) for s in oil.columns] #electricity['2014': '2020'] is not true for ranging for type of string\n",
    "oil = oil.loc[oil.index, :]\n",
    "oil = oil[range(1971, 2015)]\n",
    "oil = oil.fillna(method='bfill', axis=1) \n",
    "display(oil)\n",
    "print(oil.index)\n",
    "print(oil.columns)"
   ]
  },
  {
   "cell_type": "code",
   "execution_count": null,
   "metadata": {},
   "outputs": [],
   "source": [
    "import pandas as pd\n",
    "\n",
    "!ls -1\n",
    "electricity = pd.read_csv('electricity_use_per_person.csv', index_col='country')\n",
    "electricity.columns = [int(s) for s in electricity.columns] #electricity['2014': '2020'] is not true for ranging for type of string\n",
    "electricity = electricity.loc[oil.index, :]\n",
    "electricity = electricity[range(1971, 2015)]\n",
    "electricity = electricity.fillna(method='bfill', axis=1) \n",
    "display(electricity)\n",
    "print(electricity.index)\n",
    "print(electricity.columns)\n"
   ]
  },
  {
   "cell_type": "code",
   "execution_count": null,
   "metadata": {},
   "outputs": [],
   "source": [
    "# electricity = electricity.loc[oil.index, :]\n",
    "electricity.isna().sum(axis=0) # finding nan in dataset\n",
    "# electricity[range(1971, 2015)]\n",
    "# electricity.fillna(value=0) #method='ffill , # 'bfill'"
   ]
  },
  {
   "cell_type": "code",
   "execution_count": null,
   "metadata": {},
   "outputs": [],
   "source": [
    "import matplotlib.pyplot as plt\n",
    "%matplotlib inline\n",
    " \n",
    "plt.figure(figsize=(15, 10))\n",
    "plt.subplot(1,2,1)\n",
    "plt.imshow(electricity)\n",
    "plt.subplot(1,2,2)\n",
    "plt.imshow(oil)\n",
    "\n",
    "plt.plot(oil.loc['Iran', :])"
   ]
  },
  {
   "cell_type": "code",
   "execution_count": null,
   "metadata": {},
   "outputs": [],
   "source": [
    "electricity.loc[:, 2014].sort_values(ascending=False).head(10)\n",
    "electricity.loc[:, 2014].sort_values(ascending=False).tail(10)\n",
    "electricity.loc[:, 2014].sort_values(ascending=False).sample(10)\n",
    "electricity.sort_values(by=2014).head(10)\n",
    "electricity.loc[:,'Iran'].sort_values(ascending=False).head(10)\n",
    "electricity.sort_values(by=2014).tail(10)\n",
    "electricity.mean(axis=1).sort_values().index\n",
    "electricity.loc[electricity.mean(axis=1).sort_values().index]\n",
    "electricity['mean_usage'] = electricity.mean(axis=1)\n",
    "electricity.sort_values(by='mean_usage')\n",
    "electricity = electricity.drop(['mean_usage'], axis=1)"
   ]
  },
  {
   "cell_type": "code",
   "execution_count": null,
   "metadata": {},
   "outputs": [],
   "source": [
    "plt.plot(electricity.mean())\n",
    "plt.plot(electricity.loc['Iran', :], 'r*')\n",
    "plt.legend(['World', 'Iran'])\n",
    "plt.xlabel('year')\n",
    "plt.ylabel('Electricity consumption per capita (KWh/year)')\n",
    "plt.title('Electricity consumption, Iran vs the World');\n",
    "plt.grid()"
   ]
  },
  {
   "cell_type": "code",
   "execution_count": null,
   "metadata": {},
   "outputs": [],
   "source": [
    "plt.plot(oil.mean())\n",
    "plt.plot(oil.loc['Iran', :], 'r')\n",
    "plt.legend(['World', 'Iran'])\n",
    "plt.xlabel('year')\n",
    "plt.ylabel('Annual oil consumption per capita (Bl/year)')\n",
    "plt.title('Annual oil consumption, Iran vs the World');\n",
    "plt.grid()"
   ]
  },
  {
   "cell_type": "code",
   "execution_count": null,
   "metadata": {},
   "outputs": [],
   "source": [
    "plt.figure(figsize=(6, 6))\n",
    "plt.subplot(2,1,1)\n",
    "plt.hist(electricity.loc[:, 2014], bins=np.arange(0, 25000, 1000.0), alpha=0.5);\n",
    "plt.ylim((0,12))\n",
    "plt.ylabel('count')\n",
    "plt.legend(['2014'])\n",
    "\n",
    "plt.subplot(2,1,2)\n",
    "plt.hist(electricity.loc[:, 1994], bins=np.arange(0, 25000, 1000.0), alpha=0.5);\n",
    "plt.ylim((0,12))\n",
    "plt.ylabel('count')\n",
    "plt.xlabel('KWh/person')\n",
    "plt.legend(['1994'])"
   ]
  },
  {
   "cell_type": "code",
   "execution_count": null,
   "metadata": {},
   "outputs": [],
   "source": [
    "# plt.plot(electricity.loc['Iran', :], oil.loc['Iran', :]);\n",
    "plt.figure(figsize=(10, 10))\n",
    "for country in electricity.index:\n",
    "    plt.plot(electricity.loc[country, :], oil.loc[country, :], '.', color='gray')\n",
    "plt.plot(electricity.loc['Iran', :], oil.loc['Iran', :], '.', color='red');\n",
    "plt.xscale('log')\n",
    "plt.yscale('log')\n",
    "plt.grid()\n",
    "plt.xlabel('Annual electricity consusmption (kWh) per capita')\n",
    "plt.ylabel('Annual oil consumption (BBl) per capita')\n",
    "plt.title('Oil consumption vs Electricity consumption across countries and Iran')\n",
    "plt.savefig('oil_vs_electricity.pdf', dpi=300)"
   ]
  }
 ]
}