{
 "metadata": {
  "language_info": {
   "codemirror_mode": {
    "name": "ipython",
    "version": 3
   },
   "file_extension": ".py",
   "mimetype": "text/x-python",
   "name": "python",
   "nbconvert_exporter": "python",
   "pygments_lexer": "ipython3",
   "version": "3.8.5-final"
  },
  "orig_nbformat": 2,
  "kernelspec": {
   "name": "python36964bitbb266a4b60a840e796710ca9f145cf8c",
   "display_name": "Python 3.6.9 64-bit",
   "language": "python"
  }
 },
 "nbformat": 4,
 "nbformat_minor": 2,
 "cells": [
  {
   "cell_type": "code",
   "execution_count": 1,
   "metadata": {},
   "outputs": [],
   "source": [
    "import pandas as pd\n",
    "import numpy as np\n",
    "import matplotlib.pyplot as plt\n",
    "\n",
    "from persiantools.jdatetime import JalaliDate"
   ]
  },
  {
   "source": [
    "# Create DataFrame"
   ],
   "cell_type": "markdown",
   "metadata": {}
  },
  {
   "cell_type": "code",
   "execution_count": 59,
   "metadata": {},
   "outputs": [
    {
     "output_type": "execute_result",
     "data": {
      "text/plain": [
       "{'color': ['red', 'blue', 'black'], 'density': [2, 8, 9]}"
      ]
     },
     "metadata": {},
     "execution_count": 59
    }
   ],
   "source": [
    "my_dict = {'color': ['red', 'blue', 'black'], 'density': [2, 8, 9]}\n",
    "my_dict"
   ]
  },
  {
   "cell_type": "code",
   "execution_count": 60,
   "metadata": {},
   "outputs": [
    {
     "output_type": "execute_result",
     "data": {
      "text/plain": [
       "   color  density\n",
       "0    red        2\n",
       "1   blue        8\n",
       "2  black        9"
      ],
      "text/html": "<div>\n<style scoped>\n    .dataframe tbody tr th:only-of-type {\n        vertical-align: middle;\n    }\n\n    .dataframe tbody tr th {\n        vertical-align: top;\n    }\n\n    .dataframe thead th {\n        text-align: right;\n    }\n</style>\n<table border=\"1\" class=\"dataframe\">\n  <thead>\n    <tr style=\"text-align: right;\">\n      <th></th>\n      <th>color</th>\n      <th>density</th>\n    </tr>\n  </thead>\n  <tbody>\n    <tr>\n      <th>0</th>\n      <td>red</td>\n      <td>2</td>\n    </tr>\n    <tr>\n      <th>1</th>\n      <td>blue</td>\n      <td>8</td>\n    </tr>\n    <tr>\n      <th>2</th>\n      <td>black</td>\n      <td>9</td>\n    </tr>\n  </tbody>\n</table>\n</div>"
     },
     "metadata": {},
     "execution_count": 60
    }
   ],
   "source": [
    "pd.DataFrame(my_dict)"
   ]
  },
  {
   "cell_type": "code",
   "execution_count": 61,
   "metadata": {},
   "outputs": [
    {
     "output_type": "execute_result",
     "data": {
      "text/plain": [
       "[('Tom', 25), ('Krish', 36), ('Nick', 8)]"
      ]
     },
     "metadata": {},
     "execution_count": 61
    }
   ],
   "source": [
    "Name = ['Tom', 'Krish', 'Nick']\n",
    "age = [25, 36, 8]\n",
    "New = list(zip(Name, age))\n",
    "New"
   ]
  },
  {
   "cell_type": "code",
   "execution_count": 62,
   "metadata": {},
   "outputs": [
    {
     "output_type": "execute_result",
     "data": {
      "text/plain": [
       "       name  age\n",
       "row1    Tom   25\n",
       "row2  Krish   36\n",
       "row3   Nick    8"
      ],
      "text/html": "<div>\n<style scoped>\n    .dataframe tbody tr th:only-of-type {\n        vertical-align: middle;\n    }\n\n    .dataframe tbody tr th {\n        vertical-align: top;\n    }\n\n    .dataframe thead th {\n        text-align: right;\n    }\n</style>\n<table border=\"1\" class=\"dataframe\">\n  <thead>\n    <tr style=\"text-align: right;\">\n      <th></th>\n      <th>name</th>\n      <th>age</th>\n    </tr>\n  </thead>\n  <tbody>\n    <tr>\n      <th>row1</th>\n      <td>Tom</td>\n      <td>25</td>\n    </tr>\n    <tr>\n      <th>row2</th>\n      <td>Krish</td>\n      <td>36</td>\n    </tr>\n    <tr>\n      <th>row3</th>\n      <td>Nick</td>\n      <td>8</td>\n    </tr>\n  </tbody>\n</table>\n</div>"
     },
     "metadata": {},
     "execution_count": 62
    }
   ],
   "source": [
    "df = pd.DataFrame(New, columns=['name', 'age'], index=['row1', 'row2', 'row3'])\n",
    "df"
   ]
  },
  {
   "source": [
    "# Pandas versus Numpy"
   ],
   "cell_type": "markdown",
   "metadata": {}
  },
  {
   "cell_type": "code",
   "execution_count": 63,
   "metadata": {},
   "outputs": [
    {
     "output_type": "stream",
     "name": "stdout",
     "text": [
      "[ 1  5  9 87]\n"
     ]
    }
   ],
   "source": [
    "a = np.array([1, 5, 9, 87]) # Modify type --> all\n",
    "print(a)"
   ]
  },
  {
   "cell_type": "code",
   "execution_count": 64,
   "metadata": {},
   "outputs": [
    {
     "output_type": "execute_result",
     "data": {
      "text/plain": [
       "row1      Tom\n",
       "row2    Krish\n",
       "row3     Nick\n",
       "Name: name, dtype: object"
      ]
     },
     "metadata": {},
     "execution_count": 64
    }
   ],
   "source": [
    "df.name"
   ]
  },
  {
   "source": [
    "# Read a local file"
   ],
   "cell_type": "markdown",
   "metadata": {}
  },
  {
   "cell_type": "code",
   "execution_count": 4,
   "metadata": {},
   "outputs": [
    {
     "output_type": "execute_result",
     "data": {
      "text/plain": [
       "     dateRep  day  month  year  cases  deaths countriesAndTerritories geoId  \\\n",
       "0 2020-12-04    4     12  2020    119       5             Afghanistan    AF   \n",
       "1 2020-12-03    3     12  2020    202      19             Afghanistan    AF   \n",
       "2 2020-12-02    2     12  2020    400      48             Afghanistan    AF   \n",
       "3 2020-12-01    1     12  2020    272      11             Afghanistan    AF   \n",
       "4 2020-11-30   30     11  2020      0       0             Afghanistan    AF   \n",
       "5 2020-11-29   29     11  2020    228      11             Afghanistan    AF   \n",
       "6 2020-11-28   28     11  2020    214      15             Afghanistan    AF   \n",
       "7 2020-11-27   27     11  2020      0       0             Afghanistan    AF   \n",
       "8 2020-11-26   26     11  2020    200      12             Afghanistan    AF   \n",
       "9 2020-11-25   25     11  2020    185      13             Afghanistan    AF   \n",
       "\n",
       "  countryterritoryCode  popData2019 continentExp  \\\n",
       "0                  AFG   38041757.0         Asia   \n",
       "1                  AFG   38041757.0         Asia   \n",
       "2                  AFG   38041757.0         Asia   \n",
       "3                  AFG   38041757.0         Asia   \n",
       "4                  AFG   38041757.0         Asia   \n",
       "5                  AFG   38041757.0         Asia   \n",
       "6                  AFG   38041757.0         Asia   \n",
       "7                  AFG   38041757.0         Asia   \n",
       "8                  AFG   38041757.0         Asia   \n",
       "9                  AFG   38041757.0         Asia   \n",
       "\n",
       "   Cumulative_number_for_14_days_of_COVID-19_cases_per_100000  \n",
       "0                                           7.107979           \n",
       "1                                           7.536455           \n",
       "2                                           7.005460           \n",
       "3                                           6.960772           \n",
       "4                                           6.416633           \n",
       "5                                           6.845110           \n",
       "6                                           6.784650           \n",
       "7                                           6.395604           \n",
       "8                                           7.341932           \n",
       "9                                           7.199983           "
      ],
      "text/html": "<div>\n<style scoped>\n    .dataframe tbody tr th:only-of-type {\n        vertical-align: middle;\n    }\n\n    .dataframe tbody tr th {\n        vertical-align: top;\n    }\n\n    .dataframe thead th {\n        text-align: right;\n    }\n</style>\n<table border=\"1\" class=\"dataframe\">\n  <thead>\n    <tr style=\"text-align: right;\">\n      <th></th>\n      <th>dateRep</th>\n      <th>day</th>\n      <th>month</th>\n      <th>year</th>\n      <th>cases</th>\n      <th>deaths</th>\n      <th>countriesAndTerritories</th>\n      <th>geoId</th>\n      <th>countryterritoryCode</th>\n      <th>popData2019</th>\n      <th>continentExp</th>\n      <th>Cumulative_number_for_14_days_of_COVID-19_cases_per_100000</th>\n    </tr>\n  </thead>\n  <tbody>\n    <tr>\n      <th>0</th>\n      <td>2020-12-04</td>\n      <td>4</td>\n      <td>12</td>\n      <td>2020</td>\n      <td>119</td>\n      <td>5</td>\n      <td>Afghanistan</td>\n      <td>AF</td>\n      <td>AFG</td>\n      <td>38041757.0</td>\n      <td>Asia</td>\n      <td>7.107979</td>\n    </tr>\n    <tr>\n      <th>1</th>\n      <td>2020-12-03</td>\n      <td>3</td>\n      <td>12</td>\n      <td>2020</td>\n      <td>202</td>\n      <td>19</td>\n      <td>Afghanistan</td>\n      <td>AF</td>\n      <td>AFG</td>\n      <td>38041757.0</td>\n      <td>Asia</td>\n      <td>7.536455</td>\n    </tr>\n    <tr>\n      <th>2</th>\n      <td>2020-12-02</td>\n      <td>2</td>\n      <td>12</td>\n      <td>2020</td>\n      <td>400</td>\n      <td>48</td>\n      <td>Afghanistan</td>\n      <td>AF</td>\n      <td>AFG</td>\n      <td>38041757.0</td>\n      <td>Asia</td>\n      <td>7.005460</td>\n    </tr>\n    <tr>\n      <th>3</th>\n      <td>2020-12-01</td>\n      <td>1</td>\n      <td>12</td>\n      <td>2020</td>\n      <td>272</td>\n      <td>11</td>\n      <td>Afghanistan</td>\n      <td>AF</td>\n      <td>AFG</td>\n      <td>38041757.0</td>\n      <td>Asia</td>\n      <td>6.960772</td>\n    </tr>\n    <tr>\n      <th>4</th>\n      <td>2020-11-30</td>\n      <td>30</td>\n      <td>11</td>\n      <td>2020</td>\n      <td>0</td>\n      <td>0</td>\n      <td>Afghanistan</td>\n      <td>AF</td>\n      <td>AFG</td>\n      <td>38041757.0</td>\n      <td>Asia</td>\n      <td>6.416633</td>\n    </tr>\n    <tr>\n      <th>5</th>\n      <td>2020-11-29</td>\n      <td>29</td>\n      <td>11</td>\n      <td>2020</td>\n      <td>228</td>\n      <td>11</td>\n      <td>Afghanistan</td>\n      <td>AF</td>\n      <td>AFG</td>\n      <td>38041757.0</td>\n      <td>Asia</td>\n      <td>6.845110</td>\n    </tr>\n    <tr>\n      <th>6</th>\n      <td>2020-11-28</td>\n      <td>28</td>\n      <td>11</td>\n      <td>2020</td>\n      <td>214</td>\n      <td>15</td>\n      <td>Afghanistan</td>\n      <td>AF</td>\n      <td>AFG</td>\n      <td>38041757.0</td>\n      <td>Asia</td>\n      <td>6.784650</td>\n    </tr>\n    <tr>\n      <th>7</th>\n      <td>2020-11-27</td>\n      <td>27</td>\n      <td>11</td>\n      <td>2020</td>\n      <td>0</td>\n      <td>0</td>\n      <td>Afghanistan</td>\n      <td>AF</td>\n      <td>AFG</td>\n      <td>38041757.0</td>\n      <td>Asia</td>\n      <td>6.395604</td>\n    </tr>\n    <tr>\n      <th>8</th>\n      <td>2020-11-26</td>\n      <td>26</td>\n      <td>11</td>\n      <td>2020</td>\n      <td>200</td>\n      <td>12</td>\n      <td>Afghanistan</td>\n      <td>AF</td>\n      <td>AFG</td>\n      <td>38041757.0</td>\n      <td>Asia</td>\n      <td>7.341932</td>\n    </tr>\n    <tr>\n      <th>9</th>\n      <td>2020-11-25</td>\n      <td>25</td>\n      <td>11</td>\n      <td>2020</td>\n      <td>185</td>\n      <td>13</td>\n      <td>Afghanistan</td>\n      <td>AF</td>\n      <td>AFG</td>\n      <td>38041757.0</td>\n      <td>Asia</td>\n      <td>7.199983</td>\n    </tr>\n  </tbody>\n</table>\n</div>"
     },
     "metadata": {},
     "execution_count": 4
    }
   ],
   "source": [
    "df = pd.read_excel('COVID-19-geographic-disbtribution-worldwide.xlsx')\n",
    "df.head(10)"
   ]
  },
  {
   "cell_type": "code",
   "execution_count": 66,
   "metadata": {},
   "outputs": [
    {
     "output_type": "execute_result",
     "data": {
      "text/plain": [
       "59770"
      ]
     },
     "metadata": {},
     "execution_count": 66
    }
   ],
   "source": [
    "df.shape[0]"
   ]
  },
  {
   "cell_type": "code",
   "execution_count": 67,
   "metadata": {},
   "outputs": [
    {
     "output_type": "stream",
     "name": "stdout",
     "text": [
      "<class 'pandas.core.frame.DataFrame'>\nRangeIndex: 59770 entries, 0 to 59769\nData columns (total 12 columns):\n #   Column                                                      Non-Null Count  Dtype         \n---  ------                                                      --------------  -----         \n 0   dateRep                                                     59770 non-null  datetime64[ns]\n 1   day                                                         59770 non-null  int64         \n 2   month                                                       59770 non-null  int64         \n 3   year                                                        59770 non-null  int64         \n 4   cases                                                       59770 non-null  int64         \n 5   deaths                                                      59770 non-null  int64         \n 6   countriesAndTerritories                                     59770 non-null  object        \n 7   geoId                                                       59505 non-null  object        \n 8   countryterritoryCode                                        59657 non-null  object        \n 9   popData2019                                                 59657 non-null  float64       \n 10  continentExp                                                59770 non-null  object        \n 11  Cumulative_number_for_14_days_of_COVID-19_cases_per_100000  56901 non-null  float64       \ndtypes: datetime64[ns](1), float64(2), int64(5), object(4)\nmemory usage: 5.5+ MB\n"
     ]
    }
   ],
   "source": [
    "df.info()"
   ]
  },
  {
   "source": [
    "# Select an index or column"
   ],
   "cell_type": "markdown",
   "metadata": {}
  },
  {
   "cell_type": "code",
   "execution_count": 68,
   "metadata": {},
   "outputs": [
    {
     "output_type": "execute_result",
     "data": {
      "text/plain": [
       "0        Afghanistan\n",
       "1        Afghanistan\n",
       "2        Afghanistan\n",
       "3        Afghanistan\n",
       "4        Afghanistan\n",
       "            ...     \n",
       "59765       Zimbabwe\n",
       "59766       Zimbabwe\n",
       "59767       Zimbabwe\n",
       "59768       Zimbabwe\n",
       "59769       Zimbabwe\n",
       "Name: countriesAndTerritories, Length: 59770, dtype: object"
      ]
     },
     "metadata": {},
     "execution_count": 68
    }
   ],
   "source": [
    "df['countriesAndTerritories']"
   ]
  },
  {
   "cell_type": "code",
   "execution_count": 5,
   "metadata": {},
   "outputs": [
    {
     "output_type": "execute_result",
     "data": {
      "text/plain": [
       "         dateRep  day  month  year  cases  deaths countriesAndTerritories  \\\n",
       "26843 2020-01-03    3      1  2020      0       0                    Iran   \n",
       "26844 2020-01-02    2      1  2020      0       0                    Iran   \n",
       "26845 2020-01-01    1      1  2020      0       0                    Iran   \n",
       "26846 2019-12-31   31     12  2019      0       0                    Iran   \n",
       "\n",
       "      geoId countryterritoryCode  popData2019 continentExp  \\\n",
       "26843    IR                  IRN   82913893.0         Asia   \n",
       "26844    IR                  IRN   82913893.0         Asia   \n",
       "26845    IR                  IRN   82913893.0         Asia   \n",
       "26846    IR                  IRN   82913893.0         Asia   \n",
       "\n",
       "       Cumulative_number_for_14_days_of_COVID-19_cases_per_100000  \n",
       "26843                                                NaN           \n",
       "26844                                                NaN           \n",
       "26845                                                NaN           \n",
       "26846                                                NaN           "
      ],
      "text/html": "<div>\n<style scoped>\n    .dataframe tbody tr th:only-of-type {\n        vertical-align: middle;\n    }\n\n    .dataframe tbody tr th {\n        vertical-align: top;\n    }\n\n    .dataframe thead th {\n        text-align: right;\n    }\n</style>\n<table border=\"1\" class=\"dataframe\">\n  <thead>\n    <tr style=\"text-align: right;\">\n      <th></th>\n      <th>dateRep</th>\n      <th>day</th>\n      <th>month</th>\n      <th>year</th>\n      <th>cases</th>\n      <th>deaths</th>\n      <th>countriesAndTerritories</th>\n      <th>geoId</th>\n      <th>countryterritoryCode</th>\n      <th>popData2019</th>\n      <th>continentExp</th>\n      <th>Cumulative_number_for_14_days_of_COVID-19_cases_per_100000</th>\n    </tr>\n  </thead>\n  <tbody>\n    <tr>\n      <th>26843</th>\n      <td>2020-01-03</td>\n      <td>3</td>\n      <td>1</td>\n      <td>2020</td>\n      <td>0</td>\n      <td>0</td>\n      <td>Iran</td>\n      <td>IR</td>\n      <td>IRN</td>\n      <td>82913893.0</td>\n      <td>Asia</td>\n      <td>NaN</td>\n    </tr>\n    <tr>\n      <th>26844</th>\n      <td>2020-01-02</td>\n      <td>2</td>\n      <td>1</td>\n      <td>2020</td>\n      <td>0</td>\n      <td>0</td>\n      <td>Iran</td>\n      <td>IR</td>\n      <td>IRN</td>\n      <td>82913893.0</td>\n      <td>Asia</td>\n      <td>NaN</td>\n    </tr>\n    <tr>\n      <th>26845</th>\n      <td>2020-01-01</td>\n      <td>1</td>\n      <td>1</td>\n      <td>2020</td>\n      <td>0</td>\n      <td>0</td>\n      <td>Iran</td>\n      <td>IR</td>\n      <td>IRN</td>\n      <td>82913893.0</td>\n      <td>Asia</td>\n      <td>NaN</td>\n    </tr>\n    <tr>\n      <th>26846</th>\n      <td>2019-12-31</td>\n      <td>31</td>\n      <td>12</td>\n      <td>2019</td>\n      <td>0</td>\n      <td>0</td>\n      <td>Iran</td>\n      <td>IR</td>\n      <td>IRN</td>\n      <td>82913893.0</td>\n      <td>Asia</td>\n      <td>NaN</td>\n    </tr>\n  </tbody>\n</table>\n</div>"
     },
     "metadata": {},
     "execution_count": 5
    }
   ],
   "source": [
    "df_ir = df[df['countriesAndTerritories'] == 'Iran']\n",
    "df_ir.tail(4)"
   ]
  },
  {
   "source": [
    "# Selection by label"
   ],
   "cell_type": "markdown",
   "metadata": {}
  },
  {
   "cell_type": "code",
   "execution_count": 70,
   "metadata": {},
   "outputs": [
    {
     "output_type": "execute_result",
     "data": {
      "text/plain": [
       "Empty DataFrame\n",
       "Columns: [dateRep, day, month, year, cases, deaths]\n",
       "Index: []"
      ],
      "text/html": "<div>\n<style scoped>\n    .dataframe tbody tr th:only-of-type {\n        vertical-align: middle;\n    }\n\n    .dataframe tbody tr th {\n        vertical-align: top;\n    }\n\n    .dataframe thead th {\n        text-align: right;\n    }\n</style>\n<table border=\"1\" class=\"dataframe\">\n  <thead>\n    <tr style=\"text-align: right;\">\n      <th></th>\n      <th>dateRep</th>\n      <th>day</th>\n      <th>month</th>\n      <th>year</th>\n      <th>cases</th>\n      <th>deaths</th>\n    </tr>\n  </thead>\n  <tbody>\n  </tbody>\n</table>\n</div>"
     },
     "metadata": {},
     "execution_count": 70
    }
   ],
   "source": [
    "df_ir.loc[24554:24558, 'dateRep': 'deaths']"
   ]
  },
  {
   "source": [
    "# Selection by position"
   ],
   "cell_type": "markdown",
   "metadata": {}
  },
  {
   "cell_type": "code",
   "execution_count": 71,
   "metadata": {},
   "outputs": [
    {
     "output_type": "execute_result",
     "data": {
      "text/plain": [
       "       day  month  year\n",
       "26507    4     12  2020\n",
       "26508    3     12  2020\n",
       "26509    2     12  2020\n",
       "26510    1     12  2020\n",
       "26511   30     11  2020"
      ],
      "text/html": "<div>\n<style scoped>\n    .dataframe tbody tr th:only-of-type {\n        vertical-align: middle;\n    }\n\n    .dataframe tbody tr th {\n        vertical-align: top;\n    }\n\n    .dataframe thead th {\n        text-align: right;\n    }\n</style>\n<table border=\"1\" class=\"dataframe\">\n  <thead>\n    <tr style=\"text-align: right;\">\n      <th></th>\n      <th>day</th>\n      <th>month</th>\n      <th>year</th>\n    </tr>\n  </thead>\n  <tbody>\n    <tr>\n      <th>26507</th>\n      <td>4</td>\n      <td>12</td>\n      <td>2020</td>\n    </tr>\n    <tr>\n      <th>26508</th>\n      <td>3</td>\n      <td>12</td>\n      <td>2020</td>\n    </tr>\n    <tr>\n      <th>26509</th>\n      <td>2</td>\n      <td>12</td>\n      <td>2020</td>\n    </tr>\n    <tr>\n      <th>26510</th>\n      <td>1</td>\n      <td>12</td>\n      <td>2020</td>\n    </tr>\n    <tr>\n      <th>26511</th>\n      <td>30</td>\n      <td>11</td>\n      <td>2020</td>\n    </tr>\n  </tbody>\n</table>\n</div>"
     },
     "metadata": {},
     "execution_count": 71
    }
   ],
   "source": [
    "df_ir.iloc[:5, 1:4]"
   ]
  },
  {
   "cell_type": "code",
   "execution_count": 72,
   "metadata": {},
   "outputs": [
    {
     "output_type": "execute_result",
     "data": {
      "text/plain": [
       "         dateRep  day  month  year  cases  deaths countriesAndTerritories  \\\n",
       "26507 2020-12-04    4     12  2020  13922     358                    Iran   \n",
       "26508 2020-12-03    3     12  2020  13621     362                    Iran   \n",
       "26509 2020-12-02    2     12  2020  13881     382                    Iran   \n",
       "26510 2020-12-01    1     12  2020  13321     371                    Iran   \n",
       "26511 2020-11-30   30     11  2020  12950     389                    Iran   \n",
       "...          ...  ...    ...   ...    ...     ...                     ...   \n",
       "26691 2020-06-03    3      6  2020   3117      64                    Iran   \n",
       "26750 2020-04-05    5      4  2020   5275     292                    Iran   \n",
       "26754 2020-04-01    1      4  2020   3111     141                    Iran   \n",
       "26755 2020-03-31   31      3  2020   3186     117                    Iran   \n",
       "26757 2020-03-29   29      3  2020   3076     139                    Iran   \n",
       "\n",
       "      geoId countryterritoryCode  popData2019 continentExp  \\\n",
       "26507    IR                  IRN   82913893.0         Asia   \n",
       "26508    IR                  IRN   82913893.0         Asia   \n",
       "26509    IR                  IRN   82913893.0         Asia   \n",
       "26510    IR                  IRN   82913893.0         Asia   \n",
       "26511    IR                  IRN   82913893.0         Asia   \n",
       "...     ...                  ...          ...          ...   \n",
       "26691    IR                  IRN   82913893.0         Asia   \n",
       "26750    IR                  IRN   82913893.0         Asia   \n",
       "26754    IR                  IRN   82913893.0         Asia   \n",
       "26755    IR                  IRN   82913893.0         Asia   \n",
       "26757    IR                  IRN   82913893.0         Asia   \n",
       "\n",
       "       Cumulative_number_for_14_days_of_COVID-19_cases_per_100000  \n",
       "26507                                         243.143812           \n",
       "26508                                         226.352898           \n",
       "26509                                         226.111684           \n",
       "26510                                         225.473673           \n",
       "26511                                         225.150446           \n",
       "...                                                  ...           \n",
       "26691                                          39.750877           \n",
       "26750                                          42.372875           \n",
       "26754                                          34.297027           \n",
       "26755                                          31.965692           \n",
       "26757                                          27.352473           \n",
       "\n",
       "[83 rows x 12 columns]"
      ],
      "text/html": "<div>\n<style scoped>\n    .dataframe tbody tr th:only-of-type {\n        vertical-align: middle;\n    }\n\n    .dataframe tbody tr th {\n        vertical-align: top;\n    }\n\n    .dataframe thead th {\n        text-align: right;\n    }\n</style>\n<table border=\"1\" class=\"dataframe\">\n  <thead>\n    <tr style=\"text-align: right;\">\n      <th></th>\n      <th>dateRep</th>\n      <th>day</th>\n      <th>month</th>\n      <th>year</th>\n      <th>cases</th>\n      <th>deaths</th>\n      <th>countriesAndTerritories</th>\n      <th>geoId</th>\n      <th>countryterritoryCode</th>\n      <th>popData2019</th>\n      <th>continentExp</th>\n      <th>Cumulative_number_for_14_days_of_COVID-19_cases_per_100000</th>\n    </tr>\n  </thead>\n  <tbody>\n    <tr>\n      <th>26507</th>\n      <td>2020-12-04</td>\n      <td>4</td>\n      <td>12</td>\n      <td>2020</td>\n      <td>13922</td>\n      <td>358</td>\n      <td>Iran</td>\n      <td>IR</td>\n      <td>IRN</td>\n      <td>82913893.0</td>\n      <td>Asia</td>\n      <td>243.143812</td>\n    </tr>\n    <tr>\n      <th>26508</th>\n      <td>2020-12-03</td>\n      <td>3</td>\n      <td>12</td>\n      <td>2020</td>\n      <td>13621</td>\n      <td>362</td>\n      <td>Iran</td>\n      <td>IR</td>\n      <td>IRN</td>\n      <td>82913893.0</td>\n      <td>Asia</td>\n      <td>226.352898</td>\n    </tr>\n    <tr>\n      <th>26509</th>\n      <td>2020-12-02</td>\n      <td>2</td>\n      <td>12</td>\n      <td>2020</td>\n      <td>13881</td>\n      <td>382</td>\n      <td>Iran</td>\n      <td>IR</td>\n      <td>IRN</td>\n      <td>82913893.0</td>\n      <td>Asia</td>\n      <td>226.111684</td>\n    </tr>\n    <tr>\n      <th>26510</th>\n      <td>2020-12-01</td>\n      <td>1</td>\n      <td>12</td>\n      <td>2020</td>\n      <td>13321</td>\n      <td>371</td>\n      <td>Iran</td>\n      <td>IR</td>\n      <td>IRN</td>\n      <td>82913893.0</td>\n      <td>Asia</td>\n      <td>225.473673</td>\n    </tr>\n    <tr>\n      <th>26511</th>\n      <td>2020-11-30</td>\n      <td>30</td>\n      <td>11</td>\n      <td>2020</td>\n      <td>12950</td>\n      <td>389</td>\n      <td>Iran</td>\n      <td>IR</td>\n      <td>IRN</td>\n      <td>82913893.0</td>\n      <td>Asia</td>\n      <td>225.150446</td>\n    </tr>\n    <tr>\n      <th>...</th>\n      <td>...</td>\n      <td>...</td>\n      <td>...</td>\n      <td>...</td>\n      <td>...</td>\n      <td>...</td>\n      <td>...</td>\n      <td>...</td>\n      <td>...</td>\n      <td>...</td>\n      <td>...</td>\n      <td>...</td>\n    </tr>\n    <tr>\n      <th>26691</th>\n      <td>2020-06-03</td>\n      <td>3</td>\n      <td>6</td>\n      <td>2020</td>\n      <td>3117</td>\n      <td>64</td>\n      <td>Iran</td>\n      <td>IR</td>\n      <td>IRN</td>\n      <td>82913893.0</td>\n      <td>Asia</td>\n      <td>39.750877</td>\n    </tr>\n    <tr>\n      <th>26750</th>\n      <td>2020-04-05</td>\n      <td>5</td>\n      <td>4</td>\n      <td>2020</td>\n      <td>5275</td>\n      <td>292</td>\n      <td>Iran</td>\n      <td>IR</td>\n      <td>IRN</td>\n      <td>82913893.0</td>\n      <td>Asia</td>\n      <td>42.372875</td>\n    </tr>\n    <tr>\n      <th>26754</th>\n      <td>2020-04-01</td>\n      <td>1</td>\n      <td>4</td>\n      <td>2020</td>\n      <td>3111</td>\n      <td>141</td>\n      <td>Iran</td>\n      <td>IR</td>\n      <td>IRN</td>\n      <td>82913893.0</td>\n      <td>Asia</td>\n      <td>34.297027</td>\n    </tr>\n    <tr>\n      <th>26755</th>\n      <td>2020-03-31</td>\n      <td>31</td>\n      <td>3</td>\n      <td>2020</td>\n      <td>3186</td>\n      <td>117</td>\n      <td>Iran</td>\n      <td>IR</td>\n      <td>IRN</td>\n      <td>82913893.0</td>\n      <td>Asia</td>\n      <td>31.965692</td>\n    </tr>\n    <tr>\n      <th>26757</th>\n      <td>2020-03-29</td>\n      <td>29</td>\n      <td>3</td>\n      <td>2020</td>\n      <td>3076</td>\n      <td>139</td>\n      <td>Iran</td>\n      <td>IR</td>\n      <td>IRN</td>\n      <td>82913893.0</td>\n      <td>Asia</td>\n      <td>27.352473</td>\n    </tr>\n  </tbody>\n</table>\n<p>83 rows × 12 columns</p>\n</div>"
     },
     "metadata": {},
     "execution_count": 72
    }
   ],
   "source": [
    "df_ir[df_ir.cases > 3000] # Boolian"
   ]
  },
  {
   "source": [
    "# Where method"
   ],
   "cell_type": "markdown",
   "metadata": {}
  },
  {
   "cell_type": "code",
   "execution_count": 9,
   "metadata": {},
   "outputs": [
    {
     "output_type": "execute_result",
     "data": {
      "text/plain": [
       "         dateRep   day  month    year    cases  deaths  \\\n",
       "26507 2020-12-04   4.0   12.0  2020.0  13922.0   358.0   \n",
       "26508 2020-12-03   3.0   12.0  2020.0  13621.0   362.0   \n",
       "26509 2020-12-02   2.0   12.0  2020.0  13881.0   382.0   \n",
       "26510 2020-12-01   1.0   12.0  2020.0  13321.0   371.0   \n",
       "26511 2020-11-30  30.0   11.0  2020.0  12950.0   389.0   \n",
       "...          ...   ...    ...     ...      ...     ...   \n",
       "26842        NaT   NaN    NaN     NaN      NaN     NaN   \n",
       "26843        NaT   NaN    NaN     NaN      NaN     NaN   \n",
       "26844        NaT   NaN    NaN     NaN      NaN     NaN   \n",
       "26845        NaT   NaN    NaN     NaN      NaN     NaN   \n",
       "26846        NaT   NaN    NaN     NaN      NaN     NaN   \n",
       "\n",
       "      countriesAndTerritories geoId countryterritoryCode  popData2019  \\\n",
       "26507                    Iran    IR                  IRN   82913893.0   \n",
       "26508                    Iran    IR                  IRN   82913893.0   \n",
       "26509                    Iran    IR                  IRN   82913893.0   \n",
       "26510                    Iran    IR                  IRN   82913893.0   \n",
       "26511                    Iran    IR                  IRN   82913893.0   \n",
       "...                       ...   ...                  ...          ...   \n",
       "26842                     NaN   NaN                  NaN          NaN   \n",
       "26843                     NaN   NaN                  NaN          NaN   \n",
       "26844                     NaN   NaN                  NaN          NaN   \n",
       "26845                     NaN   NaN                  NaN          NaN   \n",
       "26846                     NaN   NaN                  NaN          NaN   \n",
       "\n",
       "      continentExp  Cumulative_number_for_14_days_of_COVID-19_cases_per_100000  \n",
       "26507         Asia                                         243.143812           \n",
       "26508         Asia                                         226.352898           \n",
       "26509         Asia                                         226.111684           \n",
       "26510         Asia                                         225.473673           \n",
       "26511         Asia                                         225.150446           \n",
       "...            ...                                                ...           \n",
       "26842          NaN                                                NaN           \n",
       "26843          NaN                                                NaN           \n",
       "26844          NaN                                                NaN           \n",
       "26845          NaN                                                NaN           \n",
       "26846          NaN                                                NaN           \n",
       "\n",
       "[340 rows x 12 columns]"
      ],
      "text/html": "<div>\n<style scoped>\n    .dataframe tbody tr th:only-of-type {\n        vertical-align: middle;\n    }\n\n    .dataframe tbody tr th {\n        vertical-align: top;\n    }\n\n    .dataframe thead th {\n        text-align: right;\n    }\n</style>\n<table border=\"1\" class=\"dataframe\">\n  <thead>\n    <tr style=\"text-align: right;\">\n      <th></th>\n      <th>dateRep</th>\n      <th>day</th>\n      <th>month</th>\n      <th>year</th>\n      <th>cases</th>\n      <th>deaths</th>\n      <th>countriesAndTerritories</th>\n      <th>geoId</th>\n      <th>countryterritoryCode</th>\n      <th>popData2019</th>\n      <th>continentExp</th>\n      <th>Cumulative_number_for_14_days_of_COVID-19_cases_per_100000</th>\n    </tr>\n  </thead>\n  <tbody>\n    <tr>\n      <th>26507</th>\n      <td>2020-12-04</td>\n      <td>4.0</td>\n      <td>12.0</td>\n      <td>2020.0</td>\n      <td>13922.0</td>\n      <td>358.0</td>\n      <td>Iran</td>\n      <td>IR</td>\n      <td>IRN</td>\n      <td>82913893.0</td>\n      <td>Asia</td>\n      <td>243.143812</td>\n    </tr>\n    <tr>\n      <th>26508</th>\n      <td>2020-12-03</td>\n      <td>3.0</td>\n      <td>12.0</td>\n      <td>2020.0</td>\n      <td>13621.0</td>\n      <td>362.0</td>\n      <td>Iran</td>\n      <td>IR</td>\n      <td>IRN</td>\n      <td>82913893.0</td>\n      <td>Asia</td>\n      <td>226.352898</td>\n    </tr>\n    <tr>\n      <th>26509</th>\n      <td>2020-12-02</td>\n      <td>2.0</td>\n      <td>12.0</td>\n      <td>2020.0</td>\n      <td>13881.0</td>\n      <td>382.0</td>\n      <td>Iran</td>\n      <td>IR</td>\n      <td>IRN</td>\n      <td>82913893.0</td>\n      <td>Asia</td>\n      <td>226.111684</td>\n    </tr>\n    <tr>\n      <th>26510</th>\n      <td>2020-12-01</td>\n      <td>1.0</td>\n      <td>12.0</td>\n      <td>2020.0</td>\n      <td>13321.0</td>\n      <td>371.0</td>\n      <td>Iran</td>\n      <td>IR</td>\n      <td>IRN</td>\n      <td>82913893.0</td>\n      <td>Asia</td>\n      <td>225.473673</td>\n    </tr>\n    <tr>\n      <th>26511</th>\n      <td>2020-11-30</td>\n      <td>30.0</td>\n      <td>11.0</td>\n      <td>2020.0</td>\n      <td>12950.0</td>\n      <td>389.0</td>\n      <td>Iran</td>\n      <td>IR</td>\n      <td>IRN</td>\n      <td>82913893.0</td>\n      <td>Asia</td>\n      <td>225.150446</td>\n    </tr>\n    <tr>\n      <th>...</th>\n      <td>...</td>\n      <td>...</td>\n      <td>...</td>\n      <td>...</td>\n      <td>...</td>\n      <td>...</td>\n      <td>...</td>\n      <td>...</td>\n      <td>...</td>\n      <td>...</td>\n      <td>...</td>\n      <td>...</td>\n    </tr>\n    <tr>\n      <th>26842</th>\n      <td>NaT</td>\n      <td>NaN</td>\n      <td>NaN</td>\n      <td>NaN</td>\n      <td>NaN</td>\n      <td>NaN</td>\n      <td>NaN</td>\n      <td>NaN</td>\n      <td>NaN</td>\n      <td>NaN</td>\n      <td>NaN</td>\n      <td>NaN</td>\n    </tr>\n    <tr>\n      <th>26843</th>\n      <td>NaT</td>\n      <td>NaN</td>\n      <td>NaN</td>\n      <td>NaN</td>\n      <td>NaN</td>\n      <td>NaN</td>\n      <td>NaN</td>\n      <td>NaN</td>\n      <td>NaN</td>\n      <td>NaN</td>\n      <td>NaN</td>\n      <td>NaN</td>\n    </tr>\n    <tr>\n      <th>26844</th>\n      <td>NaT</td>\n      <td>NaN</td>\n      <td>NaN</td>\n      <td>NaN</td>\n      <td>NaN</td>\n      <td>NaN</td>\n      <td>NaN</td>\n      <td>NaN</td>\n      <td>NaN</td>\n      <td>NaN</td>\n      <td>NaN</td>\n      <td>NaN</td>\n    </tr>\n    <tr>\n      <th>26845</th>\n      <td>NaT</td>\n      <td>NaN</td>\n      <td>NaN</td>\n      <td>NaN</td>\n      <td>NaN</td>\n      <td>NaN</td>\n      <td>NaN</td>\n      <td>NaN</td>\n      <td>NaN</td>\n      <td>NaN</td>\n      <td>NaN</td>\n      <td>NaN</td>\n    </tr>\n    <tr>\n      <th>26846</th>\n      <td>NaT</td>\n      <td>NaN</td>\n      <td>NaN</td>\n      <td>NaN</td>\n      <td>NaN</td>\n      <td>NaN</td>\n      <td>NaN</td>\n      <td>NaN</td>\n      <td>NaN</td>\n      <td>NaN</td>\n      <td>NaN</td>\n      <td>NaN</td>\n    </tr>\n  </tbody>\n</table>\n<p>340 rows × 12 columns</p>\n</div>"
     },
     "metadata": {},
     "execution_count": 9
    }
   ],
   "source": [
    "df_ir.where(df_ir.cases > 3000) # Return Nan other values or zero"
   ]
  },
  {
   "source": [
    "# Add an new column"
   ],
   "cell_type": "markdown",
   "metadata": {}
  },
  {
   "cell_type": "code",
   "execution_count": null,
   "metadata": {},
   "outputs": [],
   "source": [
    "df_ir['ratio'] = df_ir['deaths']/df_ir['cases']\n",
    "df_ir.insert(1, 'ratio_percent', df_ir.ratio*100)\n",
    "df_ir"
   ]
  },
  {
   "source": [
    "# Delete a Column"
   ],
   "cell_type": "markdown",
   "metadata": {}
  },
  {
   "cell_type": "code",
   "execution_count": null,
   "metadata": {},
   "outputs": [],
   "source": [
    "df_ir.drop(['ratio_percent', 'ratio'], axis=1, inplace=True) # inplace for getting on dataframe"
   ]
  },
  {
   "cell_type": "code",
   "execution_count": null,
   "metadata": {},
   "outputs": [],
   "source": [
    "df_ir.rename(columns={'Cumulative_number_for_14_days_of_COVID-19_cases_per_100000': 'CNC'}, inplace=True)"
   ]
  },
  {
   "source": [
    "# Save DataFrame"
   ],
   "cell_type": "markdown",
   "metadata": {}
  },
  {
   "cell_type": "code",
   "execution_count": null,
   "metadata": {},
   "outputs": [],
   "source": [
    "df_ir.to_csv('Iran_COVID.csv')"
   ]
  },
  {
   "cell_type": "code",
   "execution_count": 74,
   "metadata": {},
   "outputs": [
    {
     "output_type": "execute_result",
     "data": {
      "text/plain": [
       "   Unnamed: 0     dateRep  day  month  year  cases  deaths  \\\n",
       "0       26507  2020-12-04    4     12  2020  13922     358   \n",
       "1       26508  2020-12-03    3     12  2020  13621     362   \n",
       "2       26509  2020-12-02    2     12  2020  13881     382   \n",
       "\n",
       "  countriesAndTerritories geoId countryterritoryCode  popData2019  \\\n",
       "0                    Iran    IR                  IRN   82913893.0   \n",
       "1                    Iran    IR                  IRN   82913893.0   \n",
       "2                    Iran    IR                  IRN   82913893.0   \n",
       "\n",
       "  continentExp         CNC  \n",
       "0         Asia  243.143812  \n",
       "1         Asia  226.352898  \n",
       "2         Asia  226.111684  "
      ],
      "text/html": "<div>\n<style scoped>\n    .dataframe tbody tr th:only-of-type {\n        vertical-align: middle;\n    }\n\n    .dataframe tbody tr th {\n        vertical-align: top;\n    }\n\n    .dataframe thead th {\n        text-align: right;\n    }\n</style>\n<table border=\"1\" class=\"dataframe\">\n  <thead>\n    <tr style=\"text-align: right;\">\n      <th></th>\n      <th>Unnamed: 0</th>\n      <th>dateRep</th>\n      <th>day</th>\n      <th>month</th>\n      <th>year</th>\n      <th>cases</th>\n      <th>deaths</th>\n      <th>countriesAndTerritories</th>\n      <th>geoId</th>\n      <th>countryterritoryCode</th>\n      <th>popData2019</th>\n      <th>continentExp</th>\n      <th>CNC</th>\n    </tr>\n  </thead>\n  <tbody>\n    <tr>\n      <th>0</th>\n      <td>26507</td>\n      <td>2020-12-04</td>\n      <td>4</td>\n      <td>12</td>\n      <td>2020</td>\n      <td>13922</td>\n      <td>358</td>\n      <td>Iran</td>\n      <td>IR</td>\n      <td>IRN</td>\n      <td>82913893.0</td>\n      <td>Asia</td>\n      <td>243.143812</td>\n    </tr>\n    <tr>\n      <th>1</th>\n      <td>26508</td>\n      <td>2020-12-03</td>\n      <td>3</td>\n      <td>12</td>\n      <td>2020</td>\n      <td>13621</td>\n      <td>362</td>\n      <td>Iran</td>\n      <td>IR</td>\n      <td>IRN</td>\n      <td>82913893.0</td>\n      <td>Asia</td>\n      <td>226.352898</td>\n    </tr>\n    <tr>\n      <th>2</th>\n      <td>26509</td>\n      <td>2020-12-02</td>\n      <td>2</td>\n      <td>12</td>\n      <td>2020</td>\n      <td>13881</td>\n      <td>382</td>\n      <td>Iran</td>\n      <td>IR</td>\n      <td>IRN</td>\n      <td>82913893.0</td>\n      <td>Asia</td>\n      <td>226.111684</td>\n    </tr>\n  </tbody>\n</table>\n</div>"
     },
     "metadata": {},
     "execution_count": 74
    }
   ],
   "source": [
    "df = pd.read_csv('Iran_COVID.csv')\n",
    "df.head(3)"
   ]
  },
  {
   "cell_type": "code",
   "execution_count": null,
   "metadata": {},
   "outputs": [],
   "source": [
    "df.drop(['Unnamed: 0', 'countriesAndTerritories', 'geoId', 'countryterritoryCode', 'popData2019', 'continentExp', 'CNC'], axis=1, inplace=True)\n",
    "df.head()"
   ]
  },
  {
   "cell_type": "code",
   "execution_count": null,
   "metadata": {},
   "outputs": [],
   "source": [
    "# Repeated Data\n",
    "df.loc[df.duplicated(subset=['deaths', 'cases'], keep=False)] # first: Keep first values, 'last': keep last\n",
    "df.loc[df.duplicated(keep=False)] # Totally\n",
    "\n",
    "# Drop using index\n",
    "df.drop(df.loc[df.duplicated(keep='first')].index)\n",
    "\n",
    "# \n",
    "df.drop_duplicates(keep='first', inplace=True, ignore_index=True)"
   ]
  },
  {
   "cell_type": "code",
   "execution_count": 75,
   "metadata": {},
   "outputs": [
    {
     "output_type": "execute_result",
     "data": {
      "text/plain": [
       "(340, 13)"
      ]
     },
     "metadata": {},
     "execution_count": 75
    }
   ],
   "source": [
    "df.cases.sum()\n",
    "df.sum(axis=0)\n",
    "df.count() # Non NAN counts\n",
    "df.shape"
   ]
  },
  {
   "cell_type": "code",
   "execution_count": null,
   "metadata": {},
   "outputs": [],
   "source": [
    "df.cumsum()"
   ]
  },
  {
   "cell_type": "code",
   "execution_count": null,
   "metadata": {},
   "outputs": [],
   "source": [
    "plt.plot(df.cases.cumsum(skipna=True)) # jumping from nan values ---- return all of vlues in nan form after nan valeus\n",
    "df.cases.max()\n",
    "df.cases.idxmax()\n",
    "df.deaths.mean()\n",
    "df.deaths.median()\n",
    "df.describe()"
   ]
  },
  {
   "cell_type": "code",
   "execution_count": null,
   "metadata": {},
   "outputs": [],
   "source": [
    "# Percent Change : Change\n",
    "df.deaths.pct_change()\n",
    "plt.plot(df.deaths.pct_change(periods=30))"
   ]
  },
  {
   "cell_type": "code",
   "execution_count": null,
   "metadata": {},
   "outputs": [],
   "source": [
    "df.corr()\n",
    "plt.scatter(df.cases, df.deaths)"
   ]
  },
  {
   "cell_type": "code",
   "execution_count": null,
   "metadata": {},
   "outputs": [],
   "source": [
    "df.dateRep[0]\n",
    "JalaliDate.to_jalali(2020, 11, 13)\n",
    "\n",
    "def my_function(in_str):\n",
    "    year = int(in_str[:4])\n",
    "    month = int(in_str[5:7])\n",
    "    day = int(in_str[7:])\n",
    "    return JalaliDate.to_jalali(year, month, day)\n",
    "\n",
    "df.dateRep.apply(my_function)\n",
    "df.dateRep.apply(lambda in_str: JalaliDate.to_jalali(int(in_str[:4]), int(in_str[5:7]), int(in_str[7:]))) # It is done just in one line"
   ]
  },
  {
   "source": [
    "# Missing values:\n",
    "1) user error\n",
    "2) coding error\n",
    "3) Trasferring data\n",
    "\n",
    "NaN: Type float \n",
    "missing values: None  Type Nonetype"
   ],
   "cell_type": "markdown",
   "metadata": {}
  },
  {
   "cell_type": "code",
   "execution_count": 7,
   "metadata": {},
   "outputs": [
    {
     "output_type": "stream",
     "name": "stdout",
     "text": [
      "<class 'float'>\n"
     ]
    },
    {
     "output_type": "execute_result",
     "data": {
      "text/plain": [
       "NoneType"
      ]
     },
     "metadata": {},
     "execution_count": 7
    }
   ],
   "source": [
    "print(type(np.nan))\n",
    "type(None)"
   ]
  },
  {
   "source": [
    "# Missing Data casting rules\n"
   ],
   "cell_type": "markdown",
   "metadata": {}
  },
  {
   "cell_type": "code",
   "execution_count": 87,
   "metadata": {},
   "outputs": [
    {
     "output_type": "display_data",
     "data": {
      "text/plain": "        date  name  age  graduated  height\n0 1995-01-18   Tom   25       True    1.80\n1 1984-05-12  Nick   36       True    1.62\n2 2012-07-23     ?    8      False    1.02",
      "text/html": "<div>\n<style scoped>\n    .dataframe tbody tr th:only-of-type {\n        vertical-align: middle;\n    }\n\n    .dataframe tbody tr th {\n        vertical-align: top;\n    }\n\n    .dataframe thead th {\n        text-align: right;\n    }\n</style>\n<table border=\"1\" class=\"dataframe\">\n  <thead>\n    <tr style=\"text-align: right;\">\n      <th></th>\n      <th>date</th>\n      <th>name</th>\n      <th>age</th>\n      <th>graduated</th>\n      <th>height</th>\n    </tr>\n  </thead>\n  <tbody>\n    <tr>\n      <th>0</th>\n      <td>1995-01-18</td>\n      <td>Tom</td>\n      <td>25</td>\n      <td>True</td>\n      <td>1.80</td>\n    </tr>\n    <tr>\n      <th>1</th>\n      <td>1984-05-12</td>\n      <td>Nick</td>\n      <td>36</td>\n      <td>True</td>\n      <td>1.62</td>\n    </tr>\n    <tr>\n      <th>2</th>\n      <td>2012-07-23</td>\n      <td>?</td>\n      <td>8</td>\n      <td>False</td>\n      <td>1.02</td>\n    </tr>\n  </tbody>\n</table>\n</div>"
     },
     "metadata": {}
    },
    {
     "output_type": "display_data",
     "data": {
      "text/plain": "date         datetime64[ns]\nname                 object\nage                   int64\ngraduated              bool\nheight              float64\ndtype: object"
     },
     "metadata": {}
    },
    {
     "output_type": "display_data",
     "data": {
      "text/plain": "        date  name   age  graduated  height\n0 1995-01-18   Tom  25.0        1.0    1.80\n1 1984-05-12  Nick  36.0        1.0    1.62\n2        NaT   NaN   NaN        NaN     NaN",
      "text/html": "<div>\n<style scoped>\n    .dataframe tbody tr th:only-of-type {\n        vertical-align: middle;\n    }\n\n    .dataframe tbody tr th {\n        vertical-align: top;\n    }\n\n    .dataframe thead th {\n        text-align: right;\n    }\n</style>\n<table border=\"1\" class=\"dataframe\">\n  <thead>\n    <tr style=\"text-align: right;\">\n      <th></th>\n      <th>date</th>\n      <th>name</th>\n      <th>age</th>\n      <th>graduated</th>\n      <th>height</th>\n    </tr>\n  </thead>\n  <tbody>\n    <tr>\n      <th>0</th>\n      <td>1995-01-18</td>\n      <td>Tom</td>\n      <td>25.0</td>\n      <td>1.0</td>\n      <td>1.80</td>\n    </tr>\n    <tr>\n      <th>1</th>\n      <td>1984-05-12</td>\n      <td>Nick</td>\n      <td>36.0</td>\n      <td>1.0</td>\n      <td>1.62</td>\n    </tr>\n    <tr>\n      <th>2</th>\n      <td>NaT</td>\n      <td>NaN</td>\n      <td>NaN</td>\n      <td>NaN</td>\n      <td>NaN</td>\n    </tr>\n  </tbody>\n</table>\n</div>"
     },
     "metadata": {}
    },
    {
     "output_type": "display_data",
     "data": {
      "text/plain": "date         datetime64[ns]\nname                 object\nage                 float64\ngraduated           float64\nheight              float64\ndtype: object"
     },
     "metadata": {}
    }
   ],
   "source": [
    "Name = ['Tom', 'Nick', '?']\n",
    "Graduated = [True, True, False]\n",
    "Height = [1.8, 1.62, 1.02]\n",
    "age = [25, 36, 8]\n",
    "\n",
    "s = pd.Series(['1/18/1995', '5/12/1984', '7/23/2012'])\n",
    "date = pd.to_datetime(s)\n",
    "\n",
    "New = list(zip(date, Name, age, Graduated, Height))\n",
    "\n",
    "df = pd.DataFrame(New, columns=['date', 'name', 'age', 'graduated', 'height'])\n",
    "display(df)\n",
    "display(df.dtypes)\n",
    "df.loc[2] = np.nan\n",
    "display(df)\n",
    "display(df.dtypes)"
   ]
  },
  {
   "source": [
    "# NA"
   ],
   "cell_type": "markdown",
   "metadata": {}
  },
  {
   "cell_type": "code",
   "execution_count": 10,
   "metadata": {},
   "outputs": [
    {
     "output_type": "execute_result",
     "data": {
      "text/plain": [
       "0       1\n",
       "1       2\n",
       "2    <NA>\n",
       "3       4\n",
       "dtype: Int64"
      ]
     },
     "metadata": {},
     "execution_count": 10
    }
   ],
   "source": [
    "pd.Series([1, 2, np.nan, 4], dtype=pd.Int64Dtype())"
   ]
  },
  {
   "source": [
    "# Detecting Missing values"
   ],
   "cell_type": "markdown",
   "metadata": {}
  },
  {
   "cell_type": "code",
   "execution_count": 76,
   "metadata": {},
   "outputs": [
    {
     "output_type": "execute_result",
     "data": {
      "text/plain": [
       "     Unnamed: 0  dateRep   day  month  year  cases  deaths  \\\n",
       "0          True     True  True   True  True   True    True   \n",
       "1          True     True  True   True  True   True    True   \n",
       "2          True     True  True   True  True   True    True   \n",
       "3          True     True  True   True  True   True    True   \n",
       "4          True     True  True   True  True   True    True   \n",
       "..          ...      ...   ...    ...   ...    ...     ...   \n",
       "335        True     True  True   True  True   True    True   \n",
       "336        True     True  True   True  True   True    True   \n",
       "337        True     True  True   True  True   True    True   \n",
       "338        True     True  True   True  True   True    True   \n",
       "339        True     True  True   True  True   True    True   \n",
       "\n",
       "     countriesAndTerritories  geoId  countryterritoryCode  popData2019  \\\n",
       "0                       True   True                  True         True   \n",
       "1                       True   True                  True         True   \n",
       "2                       True   True                  True         True   \n",
       "3                       True   True                  True         True   \n",
       "4                       True   True                  True         True   \n",
       "..                       ...    ...                   ...          ...   \n",
       "335                     True   True                  True         True   \n",
       "336                     True   True                  True         True   \n",
       "337                     True   True                  True         True   \n",
       "338                     True   True                  True         True   \n",
       "339                     True   True                  True         True   \n",
       "\n",
       "     continentExp    CNC  \n",
       "0            True   True  \n",
       "1            True   True  \n",
       "2            True   True  \n",
       "3            True   True  \n",
       "4            True   True  \n",
       "..            ...    ...  \n",
       "335          True  False  \n",
       "336          True  False  \n",
       "337          True  False  \n",
       "338          True  False  \n",
       "339          True  False  \n",
       "\n",
       "[340 rows x 13 columns]"
      ],
      "text/html": "<div>\n<style scoped>\n    .dataframe tbody tr th:only-of-type {\n        vertical-align: middle;\n    }\n\n    .dataframe tbody tr th {\n        vertical-align: top;\n    }\n\n    .dataframe thead th {\n        text-align: right;\n    }\n</style>\n<table border=\"1\" class=\"dataframe\">\n  <thead>\n    <tr style=\"text-align: right;\">\n      <th></th>\n      <th>Unnamed: 0</th>\n      <th>dateRep</th>\n      <th>day</th>\n      <th>month</th>\n      <th>year</th>\n      <th>cases</th>\n      <th>deaths</th>\n      <th>countriesAndTerritories</th>\n      <th>geoId</th>\n      <th>countryterritoryCode</th>\n      <th>popData2019</th>\n      <th>continentExp</th>\n      <th>CNC</th>\n    </tr>\n  </thead>\n  <tbody>\n    <tr>\n      <th>0</th>\n      <td>True</td>\n      <td>True</td>\n      <td>True</td>\n      <td>True</td>\n      <td>True</td>\n      <td>True</td>\n      <td>True</td>\n      <td>True</td>\n      <td>True</td>\n      <td>True</td>\n      <td>True</td>\n      <td>True</td>\n      <td>True</td>\n    </tr>\n    <tr>\n      <th>1</th>\n      <td>True</td>\n      <td>True</td>\n      <td>True</td>\n      <td>True</td>\n      <td>True</td>\n      <td>True</td>\n      <td>True</td>\n      <td>True</td>\n      <td>True</td>\n      <td>True</td>\n      <td>True</td>\n      <td>True</td>\n      <td>True</td>\n    </tr>\n    <tr>\n      <th>2</th>\n      <td>True</td>\n      <td>True</td>\n      <td>True</td>\n      <td>True</td>\n      <td>True</td>\n      <td>True</td>\n      <td>True</td>\n      <td>True</td>\n      <td>True</td>\n      <td>True</td>\n      <td>True</td>\n      <td>True</td>\n      <td>True</td>\n    </tr>\n    <tr>\n      <th>3</th>\n      <td>True</td>\n      <td>True</td>\n      <td>True</td>\n      <td>True</td>\n      <td>True</td>\n      <td>True</td>\n      <td>True</td>\n      <td>True</td>\n      <td>True</td>\n      <td>True</td>\n      <td>True</td>\n      <td>True</td>\n      <td>True</td>\n    </tr>\n    <tr>\n      <th>4</th>\n      <td>True</td>\n      <td>True</td>\n      <td>True</td>\n      <td>True</td>\n      <td>True</td>\n      <td>True</td>\n      <td>True</td>\n      <td>True</td>\n      <td>True</td>\n      <td>True</td>\n      <td>True</td>\n      <td>True</td>\n      <td>True</td>\n    </tr>\n    <tr>\n      <th>...</th>\n      <td>...</td>\n      <td>...</td>\n      <td>...</td>\n      <td>...</td>\n      <td>...</td>\n      <td>...</td>\n      <td>...</td>\n      <td>...</td>\n      <td>...</td>\n      <td>...</td>\n      <td>...</td>\n      <td>...</td>\n      <td>...</td>\n    </tr>\n    <tr>\n      <th>335</th>\n      <td>True</td>\n      <td>True</td>\n      <td>True</td>\n      <td>True</td>\n      <td>True</td>\n      <td>True</td>\n      <td>True</td>\n      <td>True</td>\n      <td>True</td>\n      <td>True</td>\n      <td>True</td>\n      <td>True</td>\n      <td>False</td>\n    </tr>\n    <tr>\n      <th>336</th>\n      <td>True</td>\n      <td>True</td>\n      <td>True</td>\n      <td>True</td>\n      <td>True</td>\n      <td>True</td>\n      <td>True</td>\n      <td>True</td>\n      <td>True</td>\n      <td>True</td>\n      <td>True</td>\n      <td>True</td>\n      <td>False</td>\n    </tr>\n    <tr>\n      <th>337</th>\n      <td>True</td>\n      <td>True</td>\n      <td>True</td>\n      <td>True</td>\n      <td>True</td>\n      <td>True</td>\n      <td>True</td>\n      <td>True</td>\n      <td>True</td>\n      <td>True</td>\n      <td>True</td>\n      <td>True</td>\n      <td>False</td>\n    </tr>\n    <tr>\n      <th>338</th>\n      <td>True</td>\n      <td>True</td>\n      <td>True</td>\n      <td>True</td>\n      <td>True</td>\n      <td>True</td>\n      <td>True</td>\n      <td>True</td>\n      <td>True</td>\n      <td>True</td>\n      <td>True</td>\n      <td>True</td>\n      <td>False</td>\n    </tr>\n    <tr>\n      <th>339</th>\n      <td>True</td>\n      <td>True</td>\n      <td>True</td>\n      <td>True</td>\n      <td>True</td>\n      <td>True</td>\n      <td>True</td>\n      <td>True</td>\n      <td>True</td>\n      <td>True</td>\n      <td>True</td>\n      <td>True</td>\n      <td>False</td>\n    </tr>\n  </tbody>\n</table>\n<p>340 rows × 13 columns</p>\n</div>"
     },
     "metadata": {},
     "execution_count": 76
    }
   ],
   "source": [
    "df.isnull()\n",
    "df.isna()\n",
    "df.notna()\n",
    "df.notnull()"
   ]
  },
  {
   "cell_type": "code",
   "execution_count": 86,
   "metadata": {},
   "outputs": [
    {
     "output_type": "error",
     "ename": "AttributeError",
     "evalue": "'DataFrame' object has no attribute 'type'",
     "traceback": [
      "\u001b[0;31m---------------------------------------------------------------------------\u001b[0m",
      "\u001b[0;31mAttributeError\u001b[0m                            Traceback (most recent call last)",
      "\u001b[0;32m<ipython-input-86-b1a68fcb0857>\u001b[0m in \u001b[0;36m<module>\u001b[0;34m\u001b[0m\n\u001b[0;32m----> 1\u001b[0;31m \u001b[0mdf\u001b[0m\u001b[0;34m.\u001b[0m\u001b[0mtype\u001b[0m\u001b[0;34m(\u001b[0m\u001b[0;34m)\u001b[0m\u001b[0;34m\u001b[0m\u001b[0;34m\u001b[0m\u001b[0m\n\u001b[0m",
      "\u001b[0;32m~/.local/lib/python3.8/site-packages/pandas/core/generic.py\u001b[0m in \u001b[0;36m__getattr__\u001b[0;34m(self, name)\u001b[0m\n\u001b[1;32m   5137\u001b[0m             \u001b[0;32mif\u001b[0m \u001b[0mself\u001b[0m\u001b[0;34m.\u001b[0m\u001b[0m_info_axis\u001b[0m\u001b[0;34m.\u001b[0m\u001b[0m_can_hold_identifiers_and_holds_name\u001b[0m\u001b[0;34m(\u001b[0m\u001b[0mname\u001b[0m\u001b[0;34m)\u001b[0m\u001b[0;34m:\u001b[0m\u001b[0;34m\u001b[0m\u001b[0;34m\u001b[0m\u001b[0m\n\u001b[1;32m   5138\u001b[0m                 \u001b[0;32mreturn\u001b[0m \u001b[0mself\u001b[0m\u001b[0;34m[\u001b[0m\u001b[0mname\u001b[0m\u001b[0;34m]\u001b[0m\u001b[0;34m\u001b[0m\u001b[0;34m\u001b[0m\u001b[0m\n\u001b[0;32m-> 5139\u001b[0;31m             \u001b[0;32mreturn\u001b[0m \u001b[0mobject\u001b[0m\u001b[0;34m.\u001b[0m\u001b[0m__getattribute__\u001b[0m\u001b[0;34m(\u001b[0m\u001b[0mself\u001b[0m\u001b[0;34m,\u001b[0m \u001b[0mname\u001b[0m\u001b[0;34m)\u001b[0m\u001b[0;34m\u001b[0m\u001b[0;34m\u001b[0m\u001b[0m\n\u001b[0m\u001b[1;32m   5140\u001b[0m \u001b[0;34m\u001b[0m\u001b[0m\n\u001b[1;32m   5141\u001b[0m     \u001b[0;32mdef\u001b[0m \u001b[0m__setattr__\u001b[0m\u001b[0;34m(\u001b[0m\u001b[0mself\u001b[0m\u001b[0;34m,\u001b[0m \u001b[0mname\u001b[0m\u001b[0;34m:\u001b[0m \u001b[0mstr\u001b[0m\u001b[0;34m,\u001b[0m \u001b[0mvalue\u001b[0m\u001b[0;34m)\u001b[0m \u001b[0;34m->\u001b[0m \u001b[0;32mNone\u001b[0m\u001b[0;34m:\u001b[0m\u001b[0;34m\u001b[0m\u001b[0;34m\u001b[0m\u001b[0m\n",
      "\u001b[0;31mAttributeError\u001b[0m: 'DataFrame' object has no attribute 'type'"
     ]
    }
   ],
   "source": [
    "df.type()"
   ]
  },
  {
   "source": [
    "# Replace unrelated values"
   ],
   "cell_type": "markdown",
   "metadata": {}
  },
  {
   "cell_type": "code",
   "execution_count": 77,
   "metadata": {},
   "outputs": [
    {
     "output_type": "display_data",
     "data": {
      "text/plain": "           name  gender start_date    salary   bonus senior_management team\n0        Thomas    Male  3/31/1996   61933.0    4.17              TRUE    ?\n1        Louise  Female  8/12/1980   63241.0       _              TRUE  NaN\n2             ?    Male  6/14/2012  125792.0   5.042               NaN  NaN\n3             ?    Male  8/21/1998  122340.0   6.417               NaN  NaN\n4         James     NaN  1/26/2005  128771.0   8.309             FALSE  NaN\n5           NaN     NaN        NaN       NaN     NaN                 _  NaN\n6   Christopher    Male  4/22/2000   37919.0     NaN             FALSE  NaN\n7           NaN  Female  10/3/1990  132373.0  11.449               NaN  NaN\n8      Jonathan    Male  7/17/2009  130581.0     NaN              TRUE  NaN\n9       Michael    Male  1/24/2002   43586.0  12.659             FALSE  NaN\n10       Jeremy    Male  6/14/1988  129460.0  13.657              TRUE  NaN",
      "text/html": "<div>\n<style scoped>\n    .dataframe tbody tr th:only-of-type {\n        vertical-align: middle;\n    }\n\n    .dataframe tbody tr th {\n        vertical-align: top;\n    }\n\n    .dataframe thead th {\n        text-align: right;\n    }\n</style>\n<table border=\"1\" class=\"dataframe\">\n  <thead>\n    <tr style=\"text-align: right;\">\n      <th></th>\n      <th>name</th>\n      <th>gender</th>\n      <th>start_date</th>\n      <th>salary</th>\n      <th>bonus</th>\n      <th>senior_management</th>\n      <th>team</th>\n    </tr>\n  </thead>\n  <tbody>\n    <tr>\n      <th>0</th>\n      <td>Thomas</td>\n      <td>Male</td>\n      <td>3/31/1996</td>\n      <td>61933.0</td>\n      <td>4.17</td>\n      <td>TRUE</td>\n      <td>?</td>\n    </tr>\n    <tr>\n      <th>1</th>\n      <td>Louise</td>\n      <td>Female</td>\n      <td>8/12/1980</td>\n      <td>63241.0</td>\n      <td>_</td>\n      <td>TRUE</td>\n      <td>NaN</td>\n    </tr>\n    <tr>\n      <th>2</th>\n      <td>?</td>\n      <td>Male</td>\n      <td>6/14/2012</td>\n      <td>125792.0</td>\n      <td>5.042</td>\n      <td>NaN</td>\n      <td>NaN</td>\n    </tr>\n    <tr>\n      <th>3</th>\n      <td>?</td>\n      <td>Male</td>\n      <td>8/21/1998</td>\n      <td>122340.0</td>\n      <td>6.417</td>\n      <td>NaN</td>\n      <td>NaN</td>\n    </tr>\n    <tr>\n      <th>4</th>\n      <td>James</td>\n      <td>NaN</td>\n      <td>1/26/2005</td>\n      <td>128771.0</td>\n      <td>8.309</td>\n      <td>FALSE</td>\n      <td>NaN</td>\n    </tr>\n    <tr>\n      <th>5</th>\n      <td>NaN</td>\n      <td>NaN</td>\n      <td>NaN</td>\n      <td>NaN</td>\n      <td>NaN</td>\n      <td>_</td>\n      <td>NaN</td>\n    </tr>\n    <tr>\n      <th>6</th>\n      <td>Christopher</td>\n      <td>Male</td>\n      <td>4/22/2000</td>\n      <td>37919.0</td>\n      <td>NaN</td>\n      <td>FALSE</td>\n      <td>NaN</td>\n    </tr>\n    <tr>\n      <th>7</th>\n      <td>NaN</td>\n      <td>Female</td>\n      <td>10/3/1990</td>\n      <td>132373.0</td>\n      <td>11.449</td>\n      <td>NaN</td>\n      <td>NaN</td>\n    </tr>\n    <tr>\n      <th>8</th>\n      <td>Jonathan</td>\n      <td>Male</td>\n      <td>7/17/2009</td>\n      <td>130581.0</td>\n      <td>NaN</td>\n      <td>TRUE</td>\n      <td>NaN</td>\n    </tr>\n    <tr>\n      <th>9</th>\n      <td>Michael</td>\n      <td>Male</td>\n      <td>1/24/2002</td>\n      <td>43586.0</td>\n      <td>12.659</td>\n      <td>FALSE</td>\n      <td>NaN</td>\n    </tr>\n    <tr>\n      <th>10</th>\n      <td>Jeremy</td>\n      <td>Male</td>\n      <td>6/14/1988</td>\n      <td>129460.0</td>\n      <td>13.657</td>\n      <td>TRUE</td>\n      <td>NaN</td>\n    </tr>\n  </tbody>\n</table>\n</div>"
     },
     "metadata": {}
    },
    {
     "output_type": "display_data",
     "data": {
      "text/plain": "           name  gender start_date    salary   bonus senior_management  team\n0        Thomas    Male  3/31/1996   61933.0    4.17              TRUE   NaN\n1        Louise  Female  8/12/1980   63241.0     NaN              TRUE   NaN\n2           NaN    Male  6/14/2012  125792.0   5.042               NaN   NaN\n3           NaN    Male  8/21/1998  122340.0   6.417               NaN   NaN\n4         James     NaN  1/26/2005  128771.0   8.309             FALSE   NaN\n5           NaN     NaN        NaN       NaN     NaN               NaN   NaN\n6   Christopher    Male  4/22/2000   37919.0     NaN             FALSE   NaN\n7           NaN  Female  10/3/1990  132373.0  11.449               NaN   NaN\n8      Jonathan    Male  7/17/2009  130581.0     NaN              TRUE   NaN\n9       Michael    Male  1/24/2002   43586.0  12.659             FALSE   NaN\n10       Jeremy    Male  6/14/1988  129460.0  13.657              TRUE   NaN",
      "text/html": "<div>\n<style scoped>\n    .dataframe tbody tr th:only-of-type {\n        vertical-align: middle;\n    }\n\n    .dataframe tbody tr th {\n        vertical-align: top;\n    }\n\n    .dataframe thead th {\n        text-align: right;\n    }\n</style>\n<table border=\"1\" class=\"dataframe\">\n  <thead>\n    <tr style=\"text-align: right;\">\n      <th></th>\n      <th>name</th>\n      <th>gender</th>\n      <th>start_date</th>\n      <th>salary</th>\n      <th>bonus</th>\n      <th>senior_management</th>\n      <th>team</th>\n    </tr>\n  </thead>\n  <tbody>\n    <tr>\n      <th>0</th>\n      <td>Thomas</td>\n      <td>Male</td>\n      <td>3/31/1996</td>\n      <td>61933.0</td>\n      <td>4.17</td>\n      <td>TRUE</td>\n      <td>NaN</td>\n    </tr>\n    <tr>\n      <th>1</th>\n      <td>Louise</td>\n      <td>Female</td>\n      <td>8/12/1980</td>\n      <td>63241.0</td>\n      <td>NaN</td>\n      <td>TRUE</td>\n      <td>NaN</td>\n    </tr>\n    <tr>\n      <th>2</th>\n      <td>NaN</td>\n      <td>Male</td>\n      <td>6/14/2012</td>\n      <td>125792.0</td>\n      <td>5.042</td>\n      <td>NaN</td>\n      <td>NaN</td>\n    </tr>\n    <tr>\n      <th>3</th>\n      <td>NaN</td>\n      <td>Male</td>\n      <td>8/21/1998</td>\n      <td>122340.0</td>\n      <td>6.417</td>\n      <td>NaN</td>\n      <td>NaN</td>\n    </tr>\n    <tr>\n      <th>4</th>\n      <td>James</td>\n      <td>NaN</td>\n      <td>1/26/2005</td>\n      <td>128771.0</td>\n      <td>8.309</td>\n      <td>FALSE</td>\n      <td>NaN</td>\n    </tr>\n    <tr>\n      <th>5</th>\n      <td>NaN</td>\n      <td>NaN</td>\n      <td>NaN</td>\n      <td>NaN</td>\n      <td>NaN</td>\n      <td>NaN</td>\n      <td>NaN</td>\n    </tr>\n    <tr>\n      <th>6</th>\n      <td>Christopher</td>\n      <td>Male</td>\n      <td>4/22/2000</td>\n      <td>37919.0</td>\n      <td>NaN</td>\n      <td>FALSE</td>\n      <td>NaN</td>\n    </tr>\n    <tr>\n      <th>7</th>\n      <td>NaN</td>\n      <td>Female</td>\n      <td>10/3/1990</td>\n      <td>132373.0</td>\n      <td>11.449</td>\n      <td>NaN</td>\n      <td>NaN</td>\n    </tr>\n    <tr>\n      <th>8</th>\n      <td>Jonathan</td>\n      <td>Male</td>\n      <td>7/17/2009</td>\n      <td>130581.0</td>\n      <td>NaN</td>\n      <td>TRUE</td>\n      <td>NaN</td>\n    </tr>\n    <tr>\n      <th>9</th>\n      <td>Michael</td>\n      <td>Male</td>\n      <td>1/24/2002</td>\n      <td>43586.0</td>\n      <td>12.659</td>\n      <td>FALSE</td>\n      <td>NaN</td>\n    </tr>\n    <tr>\n      <th>10</th>\n      <td>Jeremy</td>\n      <td>Male</td>\n      <td>6/14/1988</td>\n      <td>129460.0</td>\n      <td>13.657</td>\n      <td>TRUE</td>\n      <td>NaN</td>\n    </tr>\n  </tbody>\n</table>\n</div>"
     },
     "metadata": {}
    }
   ],
   "source": [
    "df = pd.read_csv('team.csv')\n",
    "display(df)\n",
    "df.replace({'?': np.nan, '_': np.nan}, inplace=True)\n",
    "display(df)"
   ]
  },
  {
   "cell_type": "code",
   "execution_count": 19,
   "metadata": {},
   "outputs": [
    {
     "output_type": "execute_result",
     "data": {
      "text/plain": [
       "           name  gender start_date    salary   bonus senior_management  team\n",
       "0        Thomas    Male  3/31/1996   61933.0   4.170              True   NaN\n",
       "1        Louise  Female  8/12/1980   63241.0     NaN              True   NaN\n",
       "2           NaN    Male  6/14/2012  125792.0   5.042               NaN   NaN\n",
       "3           NaN    Male  8/21/1998  122340.0   6.417               NaN   NaN\n",
       "4         James     NaN  1/26/2005  128771.0   8.309             False   NaN\n",
       "5           NaN     NaN        NaN       NaN     NaN               NaN   NaN\n",
       "6   Christopher    Male  4/22/2000   37919.0     NaN             False   NaN\n",
       "7           NaN  Female  10/3/1990  132373.0  11.449               NaN   NaN\n",
       "8      Jonathan    Male  7/17/2009  130581.0     NaN              True   NaN\n",
       "9       Michael    Male  1/24/2002   43586.0  12.659             False   NaN\n",
       "10       Jeremy    Male  6/14/1988  129460.0  13.657              True   NaN"
      ],
      "text/html": "<div>\n<style scoped>\n    .dataframe tbody tr th:only-of-type {\n        vertical-align: middle;\n    }\n\n    .dataframe tbody tr th {\n        vertical-align: top;\n    }\n\n    .dataframe thead th {\n        text-align: right;\n    }\n</style>\n<table border=\"1\" class=\"dataframe\">\n  <thead>\n    <tr style=\"text-align: right;\">\n      <th></th>\n      <th>name</th>\n      <th>gender</th>\n      <th>start_date</th>\n      <th>salary</th>\n      <th>bonus</th>\n      <th>senior_management</th>\n      <th>team</th>\n    </tr>\n  </thead>\n  <tbody>\n    <tr>\n      <th>0</th>\n      <td>Thomas</td>\n      <td>Male</td>\n      <td>3/31/1996</td>\n      <td>61933.0</td>\n      <td>4.170</td>\n      <td>True</td>\n      <td>NaN</td>\n    </tr>\n    <tr>\n      <th>1</th>\n      <td>Louise</td>\n      <td>Female</td>\n      <td>8/12/1980</td>\n      <td>63241.0</td>\n      <td>NaN</td>\n      <td>True</td>\n      <td>NaN</td>\n    </tr>\n    <tr>\n      <th>2</th>\n      <td>NaN</td>\n      <td>Male</td>\n      <td>6/14/2012</td>\n      <td>125792.0</td>\n      <td>5.042</td>\n      <td>NaN</td>\n      <td>NaN</td>\n    </tr>\n    <tr>\n      <th>3</th>\n      <td>NaN</td>\n      <td>Male</td>\n      <td>8/21/1998</td>\n      <td>122340.0</td>\n      <td>6.417</td>\n      <td>NaN</td>\n      <td>NaN</td>\n    </tr>\n    <tr>\n      <th>4</th>\n      <td>James</td>\n      <td>NaN</td>\n      <td>1/26/2005</td>\n      <td>128771.0</td>\n      <td>8.309</td>\n      <td>False</td>\n      <td>NaN</td>\n    </tr>\n    <tr>\n      <th>5</th>\n      <td>NaN</td>\n      <td>NaN</td>\n      <td>NaN</td>\n      <td>NaN</td>\n      <td>NaN</td>\n      <td>NaN</td>\n      <td>NaN</td>\n    </tr>\n    <tr>\n      <th>6</th>\n      <td>Christopher</td>\n      <td>Male</td>\n      <td>4/22/2000</td>\n      <td>37919.0</td>\n      <td>NaN</td>\n      <td>False</td>\n      <td>NaN</td>\n    </tr>\n    <tr>\n      <th>7</th>\n      <td>NaN</td>\n      <td>Female</td>\n      <td>10/3/1990</td>\n      <td>132373.0</td>\n      <td>11.449</td>\n      <td>NaN</td>\n      <td>NaN</td>\n    </tr>\n    <tr>\n      <th>8</th>\n      <td>Jonathan</td>\n      <td>Male</td>\n      <td>7/17/2009</td>\n      <td>130581.0</td>\n      <td>NaN</td>\n      <td>True</td>\n      <td>NaN</td>\n    </tr>\n    <tr>\n      <th>9</th>\n      <td>Michael</td>\n      <td>Male</td>\n      <td>1/24/2002</td>\n      <td>43586.0</td>\n      <td>12.659</td>\n      <td>False</td>\n      <td>NaN</td>\n    </tr>\n    <tr>\n      <th>10</th>\n      <td>Jeremy</td>\n      <td>Male</td>\n      <td>6/14/1988</td>\n      <td>129460.0</td>\n      <td>13.657</td>\n      <td>True</td>\n      <td>NaN</td>\n    </tr>\n  </tbody>\n</table>\n</div>"
     },
     "metadata": {},
     "execution_count": 19
    }
   ],
   "source": [
    "missing_values = ['?', '_']\n",
    "df = pd.read_csv('team.csv', na_values=missing_values)\n",
    "df"
   ]
  },
  {
   "source": [
    "# Handling missing values"
   ],
   "cell_type": "markdown",
   "metadata": {}
  },
  {
   "source": [
    "#1 Removing :\n",
    " Num of data is enough high to nan's count"
   ],
   "cell_type": "markdown",
   "metadata": {}
  },
  {
   "cell_type": "code",
   "execution_count": 23,
   "metadata": {},
   "outputs": [
    {
     "output_type": "execute_result",
     "data": {
      "text/plain": [
       "name                 0.0\n",
       "gender               0.0\n",
       "start_date           0.0\n",
       "salary               0.0\n",
       "bonus                0.0\n",
       "senior_management    0.0\n",
       "dtype: float64"
      ]
     },
     "metadata": {},
     "execution_count": 23
    }
   ],
   "source": [
    "df.dropna(axis=1, how='all', inplace=True)\n",
    "df.dropna(axis=0, how='any', inplace=True)\n",
    "df.dropna(axis=0, thresh=2, inplace=True) # Mostly for rows, thresh: interesting\n",
    "\n",
    "# For columns: count of null values are 60 to 70 percent of whole data\n",
    "df.isnull().sum()*100/df.shape[0]\n",
    "\n"
   ]
  },
  {
   "source": [
    "# Data Imputation"
   ],
   "cell_type": "markdown",
   "metadata": {}
  },
  {
   "cell_type": "code",
   "execution_count": 26,
   "metadata": {},
   "outputs": [
    {
     "output_type": "display_data",
     "data": {
      "text/plain": "  name         id  year\n0    x  810195120  95.0\n1    y  810198112  98.0\n2    z  810199302   NaN",
      "text/html": "<div>\n<style scoped>\n    .dataframe tbody tr th:only-of-type {\n        vertical-align: middle;\n    }\n\n    .dataframe tbody tr th {\n        vertical-align: top;\n    }\n\n    .dataframe thead th {\n        text-align: right;\n    }\n</style>\n<table border=\"1\" class=\"dataframe\">\n  <thead>\n    <tr style=\"text-align: right;\">\n      <th></th>\n      <th>name</th>\n      <th>id</th>\n      <th>year</th>\n    </tr>\n  </thead>\n  <tbody>\n    <tr>\n      <th>0</th>\n      <td>x</td>\n      <td>810195120</td>\n      <td>95.0</td>\n    </tr>\n    <tr>\n      <th>1</th>\n      <td>y</td>\n      <td>810198112</td>\n      <td>98.0</td>\n    </tr>\n    <tr>\n      <th>2</th>\n      <td>z</td>\n      <td>810199302</td>\n      <td>NaN</td>\n    </tr>\n  </tbody>\n</table>\n</div>"
     },
     "metadata": {}
    },
    {
     "output_type": "execute_result",
     "data": {
      "text/plain": [
       "0      61933.0\n",
       "9      43586.0\n",
       "10    129460.0\n",
       "Name: salary, dtype: float64"
      ]
     },
     "metadata": {},
     "execution_count": 26
    }
   ],
   "source": [
    "# 1) logical rules\n",
    "data = {'name': ['x', 'y', 'z'], 'id': [810195120, 810198112, 810199302], 'year': [95, 98, np.nan]}\n",
    "data = pd.DataFrame(data)\n",
    "display(data)\n",
    "\n",
    "# 2) Imputation using a constant value: bias\n",
    "df.fillna(0)\n",
    "\n",
    "# 3) impuation using mean/median values: small dataset, low accuracy, not take to categorical \n",
    "df.salary.fillna(df.salary.mean)\n",
    "df.salary.fillna(df.salary.median)\n",
    "\n",
    "# 4) Interpolation\n",
    "df.salary.interpolate(method='linear', axis=0) # polynomial\n",
    "\n",
    "## 5) OTHERS LIKE:\n",
    "# clustering, KNN, Hot-Deck imputation"
   ]
  },
  {
   "cell_type": "code",
   "execution_count": 32,
   "metadata": {},
   "outputs": [
    {
     "output_type": "display_data",
     "data": {
      "text/plain": "   age workclass  fnlwgt education  educational-num      marital-status  \\\n0   25   Private  226802      11th                7       Never-married   \n1   38   Private   89814   HS-grad                9  Married-civ-spouse   \n\n          occupation relationship   race gender  capital-gain  capital-loss  \\\n0  Machine-op-inspct    Own-child  Black   Male             0             0   \n1    Farming-fishing      Husband  White   Male             0             0   \n\n   hours native-country income  \n0     40  United-States  <=50K  \n1     50  United-States  <=50K  ",
      "text/html": "<div>\n<style scoped>\n    .dataframe tbody tr th:only-of-type {\n        vertical-align: middle;\n    }\n\n    .dataframe tbody tr th {\n        vertical-align: top;\n    }\n\n    .dataframe thead th {\n        text-align: right;\n    }\n</style>\n<table border=\"1\" class=\"dataframe\">\n  <thead>\n    <tr style=\"text-align: right;\">\n      <th></th>\n      <th>age</th>\n      <th>workclass</th>\n      <th>fnlwgt</th>\n      <th>education</th>\n      <th>educational-num</th>\n      <th>marital-status</th>\n      <th>occupation</th>\n      <th>relationship</th>\n      <th>race</th>\n      <th>gender</th>\n      <th>capital-gain</th>\n      <th>capital-loss</th>\n      <th>hours</th>\n      <th>native-country</th>\n      <th>income</th>\n    </tr>\n  </thead>\n  <tbody>\n    <tr>\n      <th>0</th>\n      <td>25</td>\n      <td>Private</td>\n      <td>226802</td>\n      <td>11th</td>\n      <td>7</td>\n      <td>Never-married</td>\n      <td>Machine-op-inspct</td>\n      <td>Own-child</td>\n      <td>Black</td>\n      <td>Male</td>\n      <td>0</td>\n      <td>0</td>\n      <td>40</td>\n      <td>United-States</td>\n      <td>&lt;=50K</td>\n    </tr>\n    <tr>\n      <th>1</th>\n      <td>38</td>\n      <td>Private</td>\n      <td>89814</td>\n      <td>HS-grad</td>\n      <td>9</td>\n      <td>Married-civ-spouse</td>\n      <td>Farming-fishing</td>\n      <td>Husband</td>\n      <td>White</td>\n      <td>Male</td>\n      <td>0</td>\n      <td>0</td>\n      <td>50</td>\n      <td>United-States</td>\n      <td>&lt;=50K</td>\n    </tr>\n  </tbody>\n</table>\n</div>"
     },
     "metadata": {}
    },
    {
     "output_type": "execute_result",
     "data": {
      "text/plain": [
       "40.66016953211053"
      ]
     },
     "metadata": {},
     "execution_count": 32
    }
   ],
   "source": [
    "df = pd.read_csv('income.csv')\n",
    "df.rename(columns={'hours-per-week': 'hours'}, inplace=True)\n",
    "display(df.head(2))\n",
    "df.income.unique()\n",
    "df.race.value_counts() # Category counts\n",
    "df.hours[df.race == 'White'].mean()\n",
    "df.hours[(df.race == 'White') & (df.income == '>50k')].mean()\n"
   ]
  },
  {
   "source": [
    "# Pivot table"
   ],
   "cell_type": "markdown",
   "metadata": {}
  },
  {
   "cell_type": "code",
   "execution_count": 38,
   "metadata": {},
   "outputs": [
    {
     "output_type": "execute_result",
     "data": {
      "text/plain": [
       "                               hours           \n",
       "income                         <=50K       >50K\n",
       "race               gender                      \n",
       "Amer-Indian-Eskimo Female  36.682353  41.933333\n",
       "                   Male    41.991837  44.375000\n",
       "Asian-Pac-Islander Female  36.540179  41.797101\n",
       "                   Male    39.009063  45.608824\n",
       "Black              Female  36.795496  42.363636\n",
       "                   Male    38.977869  44.788018\n",
       "Other              Female  35.472222  42.727273\n",
       "                   Male    40.537736  44.717949\n",
       "White              Female  35.668960  40.457847\n",
       "                   Male    40.936604  46.418423"
      ],
      "text/html": "<div>\n<style scoped>\n    .dataframe tbody tr th:only-of-type {\n        vertical-align: middle;\n    }\n\n    .dataframe tbody tr th {\n        vertical-align: top;\n    }\n\n    .dataframe thead tr th {\n        text-align: left;\n    }\n\n    .dataframe thead tr:last-of-type th {\n        text-align: right;\n    }\n</style>\n<table border=\"1\" class=\"dataframe\">\n  <thead>\n    <tr>\n      <th></th>\n      <th></th>\n      <th colspan=\"2\" halign=\"left\">hours</th>\n    </tr>\n    <tr>\n      <th></th>\n      <th>income</th>\n      <th>&lt;=50K</th>\n      <th>&gt;50K</th>\n    </tr>\n    <tr>\n      <th>race</th>\n      <th>gender</th>\n      <th></th>\n      <th></th>\n    </tr>\n  </thead>\n  <tbody>\n    <tr>\n      <th rowspan=\"2\" valign=\"top\">Amer-Indian-Eskimo</th>\n      <th>Female</th>\n      <td>36.682353</td>\n      <td>41.933333</td>\n    </tr>\n    <tr>\n      <th>Male</th>\n      <td>41.991837</td>\n      <td>44.375000</td>\n    </tr>\n    <tr>\n      <th rowspan=\"2\" valign=\"top\">Asian-Pac-Islander</th>\n      <th>Female</th>\n      <td>36.540179</td>\n      <td>41.797101</td>\n    </tr>\n    <tr>\n      <th>Male</th>\n      <td>39.009063</td>\n      <td>45.608824</td>\n    </tr>\n    <tr>\n      <th rowspan=\"2\" valign=\"top\">Black</th>\n      <th>Female</th>\n      <td>36.795496</td>\n      <td>42.363636</td>\n    </tr>\n    <tr>\n      <th>Male</th>\n      <td>38.977869</td>\n      <td>44.788018</td>\n    </tr>\n    <tr>\n      <th rowspan=\"2\" valign=\"top\">Other</th>\n      <th>Female</th>\n      <td>35.472222</td>\n      <td>42.727273</td>\n    </tr>\n    <tr>\n      <th>Male</th>\n      <td>40.537736</td>\n      <td>44.717949</td>\n    </tr>\n    <tr>\n      <th rowspan=\"2\" valign=\"top\">White</th>\n      <th>Female</th>\n      <td>35.668960</td>\n      <td>40.457847</td>\n    </tr>\n    <tr>\n      <th>Male</th>\n      <td>40.936604</td>\n      <td>46.418423</td>\n    </tr>\n  </tbody>\n</table>\n</div>"
     },
     "metadata": {},
     "execution_count": 38
    }
   ],
   "source": [
    "pd.pivot_table(df, index=['race', 'gender'], columns=['income'], values=['hours'], aggfunc='mean')\n",
    "\n"
   ]
  },
  {
   "source": [
    "# Groupby"
   ],
   "cell_type": "markdown",
   "metadata": {}
  },
  {
   "cell_type": "code",
   "execution_count": 41,
   "metadata": {},
   "outputs": [
    {
     "output_type": "execute_result",
     "data": {
      "text/plain": [
       "                    mean  count\n",
       "gender income                  \n",
       "Female <=50K   36.278999  14423\n",
       "       >50K    42.219333   1769\n",
       "Male   <=50K   37.248548  22732\n",
       "       >50K    44.641863   9918"
      ],
      "text/html": "<div>\n<style scoped>\n    .dataframe tbody tr th:only-of-type {\n        vertical-align: middle;\n    }\n\n    .dataframe tbody tr th {\n        vertical-align: top;\n    }\n\n    .dataframe thead th {\n        text-align: right;\n    }\n</style>\n<table border=\"1\" class=\"dataframe\">\n  <thead>\n    <tr style=\"text-align: right;\">\n      <th></th>\n      <th></th>\n      <th>mean</th>\n      <th>count</th>\n    </tr>\n    <tr>\n      <th>gender</th>\n      <th>income</th>\n      <th></th>\n      <th></th>\n    </tr>\n  </thead>\n  <tbody>\n    <tr>\n      <th rowspan=\"2\" valign=\"top\">Female</th>\n      <th>&lt;=50K</th>\n      <td>36.278999</td>\n      <td>14423</td>\n    </tr>\n    <tr>\n      <th>&gt;50K</th>\n      <td>42.219333</td>\n      <td>1769</td>\n    </tr>\n    <tr>\n      <th rowspan=\"2\" valign=\"top\">Male</th>\n      <th>&lt;=50K</th>\n      <td>37.248548</td>\n      <td>22732</td>\n    </tr>\n    <tr>\n      <th>&gt;50K</th>\n      <td>44.641863</td>\n      <td>9918</td>\n    </tr>\n  </tbody>\n</table>\n</div>"
     },
     "metadata": {},
     "execution_count": 41
    }
   ],
   "source": [
    "df.groupby(by=['gender', 'income']).agg(['mean', 'count'])\n",
    "# Analyze dataframe categorically"
   ]
  },
  {
   "source": [
    "# Joining tables"
   ],
   "cell_type": "markdown",
   "metadata": {}
  },
  {
   "cell_type": "code",
   "execution_count": 47,
   "metadata": {},
   "outputs": [
    {
     "output_type": "display_data",
     "data": {
      "text/plain": "     A    B    C    D\n0  A11  B11  C11  D11\n1  A12  B12  C12  D12",
      "text/html": "<div>\n<style scoped>\n    .dataframe tbody tr th:only-of-type {\n        vertical-align: middle;\n    }\n\n    .dataframe tbody tr th {\n        vertical-align: top;\n    }\n\n    .dataframe thead th {\n        text-align: right;\n    }\n</style>\n<table border=\"1\" class=\"dataframe\">\n  <thead>\n    <tr style=\"text-align: right;\">\n      <th></th>\n      <th>A</th>\n      <th>B</th>\n      <th>C</th>\n      <th>D</th>\n    </tr>\n  </thead>\n  <tbody>\n    <tr>\n      <th>0</th>\n      <td>A11</td>\n      <td>B11</td>\n      <td>C11</td>\n      <td>D11</td>\n    </tr>\n    <tr>\n      <th>1</th>\n      <td>A12</td>\n      <td>B12</td>\n      <td>C12</td>\n      <td>D12</td>\n    </tr>\n  </tbody>\n</table>\n</div>"
     },
     "metadata": {}
    },
    {
     "output_type": "display_data",
     "data": {
      "text/plain": "    A   B   C   D\n1  A1  B1  C1  D1\n2  A2  B2  C2  D2\n3  A3  B3  C3  D3",
      "text/html": "<div>\n<style scoped>\n    .dataframe tbody tr th:only-of-type {\n        vertical-align: middle;\n    }\n\n    .dataframe tbody tr th {\n        vertical-align: top;\n    }\n\n    .dataframe thead th {\n        text-align: right;\n    }\n</style>\n<table border=\"1\" class=\"dataframe\">\n  <thead>\n    <tr style=\"text-align: right;\">\n      <th></th>\n      <th>A</th>\n      <th>B</th>\n      <th>C</th>\n      <th>D</th>\n    </tr>\n  </thead>\n  <tbody>\n    <tr>\n      <th>1</th>\n      <td>A1</td>\n      <td>B1</td>\n      <td>C1</td>\n      <td>D1</td>\n    </tr>\n    <tr>\n      <th>2</th>\n      <td>A2</td>\n      <td>B2</td>\n      <td>C2</td>\n      <td>D2</td>\n    </tr>\n    <tr>\n      <th>3</th>\n      <td>A3</td>\n      <td>B3</td>\n      <td>C3</td>\n      <td>D3</td>\n    </tr>\n  </tbody>\n</table>\n</div>"
     },
     "metadata": {}
    },
    {
     "output_type": "execute_result",
     "data": {
      "text/plain": [
       "     A    B    C    D   A   B   C   D\n",
       "1  A12  B12  C12  D12  A1  B1  C1  D1"
      ],
      "text/html": "<div>\n<style scoped>\n    .dataframe tbody tr th:only-of-type {\n        vertical-align: middle;\n    }\n\n    .dataframe tbody tr th {\n        vertical-align: top;\n    }\n\n    .dataframe thead th {\n        text-align: right;\n    }\n</style>\n<table border=\"1\" class=\"dataframe\">\n  <thead>\n    <tr style=\"text-align: right;\">\n      <th></th>\n      <th>A</th>\n      <th>B</th>\n      <th>C</th>\n      <th>D</th>\n      <th>A</th>\n      <th>B</th>\n      <th>C</th>\n      <th>D</th>\n    </tr>\n  </thead>\n  <tbody>\n    <tr>\n      <th>1</th>\n      <td>A12</td>\n      <td>B12</td>\n      <td>C12</td>\n      <td>D12</td>\n      <td>A1</td>\n      <td>B1</td>\n      <td>C1</td>\n      <td>D1</td>\n    </tr>\n  </tbody>\n</table>\n</div>"
     },
     "metadata": {},
     "execution_count": 47
    }
   ],
   "source": [
    "df1 = pd.DataFrame({'A': ['A11', 'A12'],\n",
    "                    'B': ['B11', 'B12'],\n",
    "                    'C': ['C11', 'C12'],\n",
    "                    'D': ['D11', 'D12']},\n",
    "                    index=[0, 1])\n",
    "\n",
    "df2 = pd.DataFrame({'A': ['A1', 'A2', 'A3'],\n",
    "                    'B': ['B1', 'B2', 'B3'],\n",
    "                    'C': ['C1', 'C2', 'C3'],\n",
    "                    'D': ['D1', 'D2', 'D3']},\n",
    "                    index=[1, 2, 3])\n",
    "\n",
    "display(df1)\n",
    "display(df2)\n",
    "\n",
    "pd.concat([df1, df2])\n",
    "pd.concat([df1, df2], axis=1, join='inner') #inner: commun, outer: all "
   ]
  },
  {
   "source": [
    "# Merge"
   ],
   "cell_type": "markdown",
   "metadata": {}
  },
  {
   "cell_type": "code",
   "execution_count": 53,
   "metadata": {},
   "outputs": [
    {
     "output_type": "display_data",
     "data": {
      "text/plain": "      id     DA  SI  IL\n0  81010  20.00  16  17\n1  81011  15.00  17  13\n2  81012  18.75  20  14\n3  81013  10.00  13  11",
      "text/html": "<div>\n<style scoped>\n    .dataframe tbody tr th:only-of-type {\n        vertical-align: middle;\n    }\n\n    .dataframe tbody tr th {\n        vertical-align: top;\n    }\n\n    .dataframe thead th {\n        text-align: right;\n    }\n</style>\n<table border=\"1\" class=\"dataframe\">\n  <thead>\n    <tr style=\"text-align: right;\">\n      <th></th>\n      <th>id</th>\n      <th>DA</th>\n      <th>SI</th>\n      <th>IL</th>\n    </tr>\n  </thead>\n  <tbody>\n    <tr>\n      <th>0</th>\n      <td>81010</td>\n      <td>20.00</td>\n      <td>16</td>\n      <td>17</td>\n    </tr>\n    <tr>\n      <th>1</th>\n      <td>81011</td>\n      <td>15.00</td>\n      <td>17</td>\n      <td>13</td>\n    </tr>\n    <tr>\n      <th>2</th>\n      <td>81012</td>\n      <td>18.75</td>\n      <td>20</td>\n      <td>14</td>\n    </tr>\n    <tr>\n      <th>3</th>\n      <td>81013</td>\n      <td>10.00</td>\n      <td>13</td>\n      <td>11</td>\n    </tr>\n  </tbody>\n</table>\n</div>"
     },
     "metadata": {}
    },
    {
     "output_type": "display_data",
     "data": {
      "text/plain": "      id   GPA uni\n0  81011  16.5  A0\n1  81012  18.0  A1\n2  81013  15.0  A2\n3  81014  19.3  A3\n4  81015  17.7  A5",
      "text/html": "<div>\n<style scoped>\n    .dataframe tbody tr th:only-of-type {\n        vertical-align: middle;\n    }\n\n    .dataframe tbody tr th {\n        vertical-align: top;\n    }\n\n    .dataframe thead th {\n        text-align: right;\n    }\n</style>\n<table border=\"1\" class=\"dataframe\">\n  <thead>\n    <tr style=\"text-align: right;\">\n      <th></th>\n      <th>id</th>\n      <th>GPA</th>\n      <th>uni</th>\n    </tr>\n  </thead>\n  <tbody>\n    <tr>\n      <th>0</th>\n      <td>81011</td>\n      <td>16.5</td>\n      <td>A0</td>\n    </tr>\n    <tr>\n      <th>1</th>\n      <td>81012</td>\n      <td>18.0</td>\n      <td>A1</td>\n    </tr>\n    <tr>\n      <th>2</th>\n      <td>81013</td>\n      <td>15.0</td>\n      <td>A2</td>\n    </tr>\n    <tr>\n      <th>3</th>\n      <td>81014</td>\n      <td>19.3</td>\n      <td>A3</td>\n    </tr>\n    <tr>\n      <th>4</th>\n      <td>81015</td>\n      <td>17.7</td>\n      <td>A5</td>\n    </tr>\n  </tbody>\n</table>\n</div>"
     },
     "metadata": {}
    },
    {
     "output_type": "execute_result",
     "data": {
      "text/plain": [
       "      id     DA    SI    IL   GPA  uni\n",
       "0  81010  20.00  16.0  17.0   NaN  NaN\n",
       "1  81011  15.00  17.0  13.0  16.5   A0\n",
       "2  81012  18.75  20.0  14.0  18.0   A1\n",
       "3  81013  10.00  13.0  11.0  15.0   A2\n",
       "4  81014    NaN   NaN   NaN  19.3   A3\n",
       "5  81015    NaN   NaN   NaN  17.7   A5"
      ],
      "text/html": "<div>\n<style scoped>\n    .dataframe tbody tr th:only-of-type {\n        vertical-align: middle;\n    }\n\n    .dataframe tbody tr th {\n        vertical-align: top;\n    }\n\n    .dataframe thead th {\n        text-align: right;\n    }\n</style>\n<table border=\"1\" class=\"dataframe\">\n  <thead>\n    <tr style=\"text-align: right;\">\n      <th></th>\n      <th>id</th>\n      <th>DA</th>\n      <th>SI</th>\n      <th>IL</th>\n      <th>GPA</th>\n      <th>uni</th>\n    </tr>\n  </thead>\n  <tbody>\n    <tr>\n      <th>0</th>\n      <td>81010</td>\n      <td>20.00</td>\n      <td>16.0</td>\n      <td>17.0</td>\n      <td>NaN</td>\n      <td>NaN</td>\n    </tr>\n    <tr>\n      <th>1</th>\n      <td>81011</td>\n      <td>15.00</td>\n      <td>17.0</td>\n      <td>13.0</td>\n      <td>16.5</td>\n      <td>A0</td>\n    </tr>\n    <tr>\n      <th>2</th>\n      <td>81012</td>\n      <td>18.75</td>\n      <td>20.0</td>\n      <td>14.0</td>\n      <td>18.0</td>\n      <td>A1</td>\n    </tr>\n    <tr>\n      <th>3</th>\n      <td>81013</td>\n      <td>10.00</td>\n      <td>13.0</td>\n      <td>11.0</td>\n      <td>15.0</td>\n      <td>A2</td>\n    </tr>\n    <tr>\n      <th>4</th>\n      <td>81014</td>\n      <td>NaN</td>\n      <td>NaN</td>\n      <td>NaN</td>\n      <td>19.3</td>\n      <td>A3</td>\n    </tr>\n    <tr>\n      <th>5</th>\n      <td>81015</td>\n      <td>NaN</td>\n      <td>NaN</td>\n      <td>NaN</td>\n      <td>17.7</td>\n      <td>A5</td>\n    </tr>\n  </tbody>\n</table>\n</div>"
     },
     "metadata": {},
     "execution_count": 53
    }
   ],
   "source": [
    "df1 = pd.DataFrame({'id': [81010, 81011, 81012, 81013],\n",
    "                    'DA': [20, 15, 18.75, 10],\n",
    "                    'SI': [16, 17, 20, 13],\n",
    "                    'IL': [17, 13, 14, 11]})\n",
    "\n",
    "df2 = pd.DataFrame({'id': [81011, 81012, 81013, 81014, 81015],\n",
    "                    'GPA': [16.5, 18, 15, 19.3, 17.7],\n",
    "                    'uni': ['A0', 'A1', 'A2', 'A3', 'A5']})\n",
    "\n",
    "display(df1)\n",
    "display(df2)\n",
    "\n",
    "pd.merge(df1, df2, on='id', how='outer') # how: inner- common, outer, right-left: df position\n"
   ]
  },
  {
   "source": [
    "# Join"
   ],
   "cell_type": "markdown",
   "metadata": {}
  },
  {
   "cell_type": "code",
   "execution_count": 57,
   "metadata": {},
   "outputs": [
    {
     "output_type": "execute_result",
     "data": {
      "text/plain": [
       "          DA  SI  IL  id  GPA  uni\n",
       "id                                \n",
       "81010  20.00  16  17 NaN  NaN  NaN\n",
       "81011  15.00  17  13 NaN  NaN  NaN\n",
       "81012  18.75  20  14 NaN  NaN  NaN\n",
       "81013  10.00  13  11 NaN  NaN  NaN"
      ],
      "text/html": "<div>\n<style scoped>\n    .dataframe tbody tr th:only-of-type {\n        vertical-align: middle;\n    }\n\n    .dataframe tbody tr th {\n        vertical-align: top;\n    }\n\n    .dataframe thead th {\n        text-align: right;\n    }\n</style>\n<table border=\"1\" class=\"dataframe\">\n  <thead>\n    <tr style=\"text-align: right;\">\n      <th></th>\n      <th>DA</th>\n      <th>SI</th>\n      <th>IL</th>\n      <th>id</th>\n      <th>GPA</th>\n      <th>uni</th>\n    </tr>\n    <tr>\n      <th>id</th>\n      <th></th>\n      <th></th>\n      <th></th>\n      <th></th>\n      <th></th>\n      <th></th>\n    </tr>\n  </thead>\n  <tbody>\n    <tr>\n      <th>81010</th>\n      <td>20.00</td>\n      <td>16</td>\n      <td>17</td>\n      <td>NaN</td>\n      <td>NaN</td>\n      <td>NaN</td>\n    </tr>\n    <tr>\n      <th>81011</th>\n      <td>15.00</td>\n      <td>17</td>\n      <td>13</td>\n      <td>NaN</td>\n      <td>NaN</td>\n      <td>NaN</td>\n    </tr>\n    <tr>\n      <th>81012</th>\n      <td>18.75</td>\n      <td>20</td>\n      <td>14</td>\n      <td>NaN</td>\n      <td>NaN</td>\n      <td>NaN</td>\n    </tr>\n    <tr>\n      <th>81013</th>\n      <td>10.00</td>\n      <td>13</td>\n      <td>11</td>\n      <td>NaN</td>\n      <td>NaN</td>\n      <td>NaN</td>\n    </tr>\n  </tbody>\n</table>\n</div>"
     },
     "metadata": {},
     "execution_count": 57
    }
   ],
   "source": [
    "df1.set_index('id').join(df2, lsuffix='_left', rsuffix='_right') # Based on index"
   ]
  }
 ]
}