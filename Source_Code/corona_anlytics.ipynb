{
 "metadata": {
  "language_info": {
   "codemirror_mode": {
    "name": "ipython",
    "version": 3
   },
   "file_extension": ".py",
   "mimetype": "text/x-python",
   "name": "python",
   "nbconvert_exporter": "python",
   "pygments_lexer": "ipython3",
   "version": "3.8.5-final"
  },
  "orig_nbformat": 2,
  "kernelspec": {
   "name": "python36964bitbb266a4b60a840e796710ca9f145cf8c",
   "display_name": "Python 3.6.9 64-bit",
   "language": "python"
  }
 },
 "nbformat": 4,
 "nbformat_minor": 2,
 "cells": [
  {
   "cell_type": "code",
   "execution_count": 1,
   "metadata": {},
   "outputs": [],
   "source": [
    "import pandas as pd\n",
    "import numpy as np\n",
    "import matplotlib.pyplot as plt\n",
    "%matplotlib inline\n",
    "\n",
    "df = pd.read_excel('COVID-19-geographic-disbtribution-worldwide.xlsx')"
   ]
  },
  {
   "cell_type": "code",
   "execution_count": null,
   "metadata": {},
   "outputs": [],
   "source": [
    "select = df['countriesAndTerritories'] == 'Iran'\n",
    "# df_Iran = df.loc[select, :].sort_values(by='dateRep').reset_index(drop=True)\n",
    "df_Iran = df.loc[select, :].sort_values(by='dateRep').set_index('dateRep')\n",
    "plt.figure(figsize=(16, 8))\n",
    "plt.plot(df_Iran.loc[:, 'cases'], '.')"
   ]
  },
  {
   "cell_type": "code",
   "execution_count": null,
   "metadata": {},
   "outputs": [],
   "source": [
    "df_Iran['expected_cases'] = (df_Iran['cases'].shift(-1) + df_Iran['cases'].shift(1) )/2\n",
    "plt.figure(figsize=(16, 6))\n",
    "plt.plot(df_Iran.loc[:, 'expected_cases'], '.')\n"
   ]
  },
  {
   "cell_type": "code",
   "execution_count": null,
   "metadata": {},
   "outputs": [],
   "source": [
    "plt.plot(np.abs(df_Iran.loc[:, 'expected_cases'] - df_Iran.loc[:, 'cases']/df_Iran.loc[:, 'expected_cases']), '.')"
   ]
  },
  {
   "cell_type": "code",
   "execution_count": null,
   "metadata": {},
   "outputs": [],
   "source": [
    "isoutlier = np.abs( (df_Iran.loc[:, 'expected_cases'] - df_Iran.loc[:, 'cases'])/df_Iran.loc[:, 'expected_cases']) > 0.7\n",
    "plt.plot(isoutlier, '.') "
   ]
  },
  {
   "cell_type": "code",
   "execution_count": null,
   "metadata": {},
   "outputs": [],
   "source": [
    "plt.plot(df_Iran.loc[:, 'cases'], '.')\n",
    "plt.plot(df_Iran.loc[isoutlier, 'cases'], '.r')"
   ]
  },
  {
   "cell_type": "code",
   "execution_count": null,
   "metadata": {},
   "outputs": [],
   "source": [
    "df_Iran.loc[isoutlier, 'cases'] = np.nan\n",
    "df_Iran = df_Iran.loc[:, 'cases'].interpolate(method='linear')"
   ]
  },
  {
   "cell_type": "code",
   "execution_count": null,
   "metadata": {},
   "outputs": [],
   "source": [
    "plt.plot(df_Iran.loc[:, 'cases'].interpolate(method='linear'))"
   ]
  }
 ]
}